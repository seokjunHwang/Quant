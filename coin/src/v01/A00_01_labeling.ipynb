{
 "cells": [
  {
   "cell_type": "markdown",
   "id": "f1262743",
   "metadata": {},
   "source": [
    "# Labeling\n",
    "# 제거할 코인 리스트\n",
    "coins_to_remove = ['WLFI-USD', 'AETH-USD']\n",
    "# 추가할 코인 리스트\n",
    "coins_to_add = ['ALGO-USD', 'SEI-USD']"
   ]
  },
  {
   "cell_type": "code",
   "execution_count": 16,
   "id": "2382b7d6",
   "metadata": {},
   "outputs": [],
   "source": [
    "import pandas as pd\n",
    "import numpy as np\n",
    "import os\n",
    "from tqdm import tqdm\n",
    "import warnings\n",
    "warnings.filterwarnings('ignore')\n",
    "\n",
    "class CryptoLabeler:\n",
    "    def __init__(self):\n",
    "        \"\"\"A00_00에서 생성된 데이터에 맞는 라벨링 클래스\"\"\"\n",
    "        self.future_periods = [1, 3, 7, 14, 30, 90]\n",
    "        \n",
    "    def create_composite_score(self, df):\n",
    "        \"\"\"A00_00 데이터 구조에 맞는 복합 점수 생성\"\"\"\n",
    "        try:\n",
    "            if not isinstance(df, pd.DataFrame) or df.empty:\n",
    "                return pd.Series(0.0, index=range(1)), {}\n",
    "            \n",
    "            # A00_00에서 이미 계산된 Future_Return 컬럼들 사용\n",
    "            available_returns = {}\n",
    "            \n",
    "            # 가중치 설정 (단기에 더 큰 가중치)\n",
    "            weights = {\n",
    "                'Future_Return_1d': 0.30,\n",
    "                'Future_Return_3d': 0.30, \n",
    "                'Future_Return_7d': 0.20,\n",
    "                'Future_Return_14d': 0.10,\n",
    "                'Future_Return_30d': 0.07,\n",
    "                'Future_Return_90d': 0.03\n",
    "            }\n",
    "            \n",
    "            # 실제 존재하는 Future_Return 컬럼들 확인\n",
    "            for col in df.columns:\n",
    "                if col.startswith('Future_Return_') and col in weights:\n",
    "                    future_return = pd.to_numeric(df[col], errors='coerce')\n",
    "                    if not future_return.isna().all():\n",
    "                        available_returns[col] = future_return\n",
    "            \n",
    "            if not available_returns:\n",
    "                print(\"⚠️ Future_Return 컬럼을 찾을 수 없습니다.\")\n",
    "                return pd.Series(0.0, index=df.index), {}\n",
    "            \n",
    "            # 실제 존재하는 컬럼들의 가중치 정규화\n",
    "            total_weight = sum(weights.get(key, 0) for key in available_returns.keys())\n",
    "            if total_weight > 0:\n",
    "                normalized_weights = {key: weights.get(key, 0)/total_weight for key in available_returns.keys()}\n",
    "            else:\n",
    "                normalized_weights = {}\n",
    "            \n",
    "            # 수익률 기반 점수 계산\n",
    "            return_score = pd.Series(0.0, index=df.index)\n",
    "            \n",
    "            for key, future_return in available_returns.items():\n",
    "                if key in normalized_weights and normalized_weights[key] > 0:\n",
    "                    clean_return = future_return.fillna(0)\n",
    "                    return_score += normalized_weights[key] * clean_return\n",
    "            \n",
    "            # 최종 복합 점수 (-2.5 ~ +2.5 범위로 스케일링)\n",
    "            composite_score = np.clip(return_score, -0.25, 0.25) * 10\n",
    "            \n",
    "            return composite_score, available_returns\n",
    "        \n",
    "        except Exception as e:\n",
    "            print(f\"⚠️ create_composite_score 오류: {e}\")\n",
    "            return pd.Series(0.0, index=df.index if isinstance(df, pd.DataFrame) else range(1)), {}\n",
    "\n",
    "    def score_to_label(self, composite_score):\n",
    "        \"\"\"점수를 3단계 라벨로 변환 (0: 강매도, 1: 홀드, 2: 강매수)\"\"\"\n",
    "        try:\n",
    "            # 유효한 점수만 추출 (NaN 제외)\n",
    "            valid_scores = composite_score.dropna()\n",
    "            \n",
    "            if len(valid_scores) == 0:\n",
    "                return pd.Series([1] * len(composite_score), index=composite_score.index)\n",
    "            \n",
    "            # 백분위수 기준으로 라벨 생성\n",
    "            labels = pd.Series(1, index=composite_score.index)  # 기본값: 홀드\n",
    "            \n",
    "            # 동적 임계값 설정 (데이터 분포에 따라 조정)\n",
    "            if len(valid_scores) >= 50:\n",
    "                # 충분한 데이터가 있을 때: 3분할\n",
    "                buy_threshold = np.percentile(valid_scores, 55)   # 상위 45%\n",
    "                sell_threshold = np.percentile(valid_scores, 45)  # 하위 45%\n",
    "            else:\n",
    "                # 적은 데이터일 때: 더 보수적인 기준\n",
    "                buy_threshold = np.percentile(valid_scores, 55)   # 상위 \n",
    "                sell_threshold = np.percentile(valid_scores, 45)  # 하위 \n",
    "            \n",
    "            labels[composite_score >= buy_threshold] = 2  # 강매수\n",
    "            labels[composite_score <= sell_threshold] = 0  # 강매도\n",
    "            \n",
    "            return labels\n",
    "        \n",
    "        except Exception as e:\n",
    "            print(f\"⚠️ score_to_label 오류: {e}\")\n",
    "            return pd.Series([1] * len(composite_score), index=composite_score.index)\n",
    "\n",
    "    def calculate_technical_score(self, df):\n",
    "        \"\"\"A00_00 데이터의 기술적 지표를 활용한 기술적 점수 계산\"\"\"\n",
    "        try:\n",
    "            score = pd.Series(0.0, index=df.index)\n",
    "            weight_sum = 0\n",
    "            \n",
    "            # RSI 관련 점수 (과매수/과매도 상태 활용)\n",
    "            if 'RSI_14_overbought' in df.columns and 'RSI_14_oversold' in df.columns:\n",
    "                rsi_score = pd.Series(0.0, index=df.index)\n",
    "                rsi_score[df['RSI_14_oversold'] == 1] = 1.0  # 과매도 → 매수 신호\n",
    "                rsi_score[df['RSI_14_overbought'] == 1] = -1.0  # 과매수 → 매도 신호\n",
    "                score += rsi_score * 0.2\n",
    "                weight_sum += 0.2\n",
    "            \n",
    "            # Stochastic 관련 점수\n",
    "            stoch_cols = [col for col in df.columns if 'Stoch_' in col and '_K_above_D' in col]\n",
    "            if stoch_cols:\n",
    "                stoch_score = pd.Series(0.0, index=df.index)\n",
    "                for col in stoch_cols[:3]:  # 상위 3개만 사용\n",
    "                    stoch_score += (df[col] * 2 - 1) * 0.1  # 0,1 → -1,1 변환\n",
    "                score += stoch_score\n",
    "                weight_sum += 0.3\n",
    "            \n",
    "            # CCI 관련 점수\n",
    "            if 'CCI_3_overbought' in df.columns and 'CCI_3_oversold' in df.columns:\n",
    "                cci_score = pd.Series(0.0, index=df.index)\n",
    "                cci_score[df['CCI_3_oversold'] == 1] = 1.0  # 과매도\n",
    "                cci_score[df['CCI_3_overbought'] == 1] = -1.0  # 과매수\n",
    "                score += cci_score * 0.15\n",
    "                weight_sum += 0.15\n",
    "            \n",
    "            # SMI 관련 점수\n",
    "            if 'SMI_normalized' in df.columns:\n",
    "                smi_score = pd.to_numeric(df['SMI_normalized'], errors='coerce').fillna(0)\n",
    "                score += smi_score * 0.2\n",
    "                weight_sum += 0.2\n",
    "            \n",
    "            # 모멘텀 관련 점수\n",
    "            if 'Momentum_Signal' in df.columns:\n",
    "                momentum_score = (df['Momentum_Signal'] - 1)  # 0,1,2 → -1,0,1\n",
    "                score += momentum_score * 0.15\n",
    "                weight_sum += 0.15\n",
    "            \n",
    "            # 가중치 정규화\n",
    "            if weight_sum > 0:\n",
    "                score = score / weight_sum\n",
    "            \n",
    "            return score\n",
    "            \n",
    "        except Exception as e:\n",
    "            print(f\"⚠️ calculate_technical_score 오류: {e}\")\n",
    "            return pd.Series(0.0, index=df.index)\n",
    "\n",
    "    def create_enhanced_labels(self, df):\n",
    "        \"\"\"복합적인 라벨 생성 (기술적 점수 + 미래 수익률)\"\"\"\n",
    "        try:\n",
    "            # 1. 기술적 점수 계산\n",
    "            technical_score = self.calculate_technical_score(df)\n",
    "            \n",
    "            # 2. 복합 점수 생성 (미래 수익률 기반)\n",
    "            composite_score, future_returns_dict = self.create_composite_score(df)\n",
    "            \n",
    "            # 3. 가중 평균으로 최종 점수 계산\n",
    "            # final_score = 0.4 * technical_score + 0.6 * composite_score\n",
    "            final_score = composite_score\n",
    "            # 4. 라벨 생성\n",
    "            labels = self.score_to_label(final_score)\n",
    "            \n",
    "            # 5. 라벨 정보 추가\n",
    "            label_names = {0: 'Strong_Sell', 1: 'Hold', 2: 'Strong_Buy'}\n",
    "            label_name_series = labels.map(label_names)\n",
    "            \n",
    "            return {\n",
    "                'Label': labels,\n",
    "                'Label_Name': label_name_series,\n",
    "                'Technical_Score': technical_score,\n",
    "                'Composite_Score': composite_score,\n",
    "                'Final_Score': final_score,\n",
    "                'Future_Returns': future_returns_dict\n",
    "            }\n",
    "            \n",
    "        except Exception as e:\n",
    "            print(f\"⚠️ create_enhanced_labels 오류: {e}\")\n",
    "            return None\n",
    "\n",
    "    def process_crypto_csv(self, file_path, symbol_name):\n",
    "        \"\"\"개별 CSV 파일 처리\"\"\"\n",
    "        try:\n",
    "            # CSV 파일 읽기\n",
    "            df = pd.read_csv(file_path)\n",
    "            \n",
    "            if df.empty:\n",
    "                print(f\"❌ {symbol_name}: 빈 데이터\")\n",
    "                return None\n",
    "            \n",
    "            # Date 컬럼을 datetime으로 변환\n",
    "            if 'Date' in df.columns:\n",
    "                df['Date'] = pd.to_datetime(df['Date'])\n",
    "                df = df.sort_values('Date').reset_index(drop=True)\n",
    "            \n",
    "            # 최소 데이터 길이 확인\n",
    "            if len(df) < 30:\n",
    "                print(f\"❌ {symbol_name}: 데이터 부족 ({len(df)}일)\")\n",
    "                return None\n",
    "            \n",
    "            # 라벨 생성\n",
    "            label_results = self.create_enhanced_labels(df)\n",
    "            \n",
    "            if label_results is None:\n",
    "                print(f\"❌ {symbol_name}: 라벨 생성 실패\")\n",
    "                return None\n",
    "            \n",
    "            # 결과를 DataFrame에 추가\n",
    "            for key, value in label_results.items():\n",
    "                if key != 'Future_Returns':\n",
    "                    df[key] = value\n",
    "            \n",
    "            # 라벨 분포 확인\n",
    "            label_dist = df['Label'].value_counts().sort_index()\n",
    "            label_percentages = (label_dist / len(df) * 100).round(1)\n",
    "            \n",
    "            print(f\"✅ {symbol_name}: 라벨링 완료\")\n",
    "            print(f\"   데이터 포인트: {len(df)}\")\n",
    "            print(f\"   라벨 분포: Sell({label_percentages.get(0, 0)}%) Hold({label_percentages.get(1, 0)}%) Buy({label_percentages.get(2, 0)}%)\")\n",
    "            \n",
    "            return df\n",
    "            \n",
    "        except Exception as e:\n",
    "            print(f\"❌ {symbol_name}: 처리 중 오류 - {e}\")\n",
    "            return None\n",
    "\n",
    "    def process_all_csv_files(self, input_dir, output_dir=None):\n",
    "        \"\"\"디렉토리 내 모든 CSV 파일 처리\"\"\"\n",
    "        if output_dir is None:\n",
    "            output_dir = os.path.join(input_dir, \"labeled\")\n",
    "        \n",
    "        # 출력 디렉토리 생성\n",
    "        os.makedirs(output_dir, exist_ok=True)\n",
    "        \n",
    "        # CSV 파일 목록 가져오기\n",
    "        csv_files = [f for f in os.listdir(input_dir) if f.endswith('.csv') and 'features_dataset' in f]\n",
    "        \n",
    "        if not csv_files:\n",
    "            print(f\"❌ {input_dir}에서 features_dataset CSV 파일을 찾을 수 없습니다.\")\n",
    "            return {}\n",
    "        \n",
    "        print(f\"🚀 {len(csv_files)}개 CSV 파일 처리 시작...\")\n",
    "        print(\"=\"*60)\n",
    "        \n",
    "        processed_data = {}\n",
    "        failed_files = []\n",
    "        \n",
    "        for csv_file in tqdm(csv_files, desc=\"CSV 파일 처리\"):\n",
    "            try:\n",
    "                # 심볼명 추출 (예: BTC_features_dataset.csv → BTC)\n",
    "                symbol_name = csv_file.replace('_features_dataset.csv', '')\n",
    "                \n",
    "                # 파일 경로\n",
    "                input_path = os.path.join(input_dir, csv_file)\n",
    "                \n",
    "                # 데이터 처리\n",
    "                processed_df = self.process_crypto_csv(input_path, symbol_name)\n",
    "                \n",
    "                if processed_df is not None:\n",
    "                    # 처리된 데이터 저장\n",
    "                    processed_data[symbol_name] = processed_df\n",
    "                    \n",
    "                    # 라벨링된 CSV 저장\n",
    "                    output_path = os.path.join(output_dir, f\"{symbol_name}_labeled_dataset.csv\")\n",
    "                    processed_df.to_csv(output_path, index=False)\n",
    "                    \n",
    "                else:\n",
    "                    failed_files.append(csv_file)\n",
    "                    \n",
    "            except Exception as e:\n",
    "                print(f\"❌ {csv_file}: 파일 처리 중 오류 - {e}\")\n",
    "                failed_files.append(csv_file)\n",
    "                continue\n",
    "        \n",
    "        # 결과 요약\n",
    "        success_count = len(processed_data)\n",
    "        total_count = len(csv_files)\n",
    "        failure_count = total_count - success_count\n",
    "        \n",
    "        print(f\"\\n{'='*60}\")\n",
    "        print(f\"🎉 라벨링 작업 완료!\")\n",
    "        print(f\"✅ 성공: {success_count}개\")\n",
    "        print(f\"❌ 실패: {failure_count}개\")\n",
    "        print(f\"📁 출력 경로: {output_dir}\")\n",
    "        \n",
    "        if failed_files:\n",
    "            print(f\"\\n실패한 파일들:\")\n",
    "            for failed in failed_files:\n",
    "                print(f\"  - {failed}\")\n",
    "        \n",
    "        return processed_data\n",
    "\n",
    "    def analyze_labels_distribution(self, processed_data):\n",
    "        \"\"\"전체 라벨 분포 분석\"\"\"\n",
    "        print(f\"\\n{'='*60}\")\n",
    "        print(\"📊 전체 라벨 분포 분석\")\n",
    "        print(\"=\"*60)\n",
    "        \n",
    "        total_stats = {0: 0, 1: 0, 2: 0}\n",
    "        total_count = 0\n",
    "        \n",
    "        for symbol, df in processed_data.items():\n",
    "            if 'Label' in df.columns:\n",
    "                label_counts = df['Label'].value_counts()\n",
    "                total_count += len(df)\n",
    "                \n",
    "                print(f\"{symbol:>6}: \", end=\"\")\n",
    "                for label in [0, 1, 2]:\n",
    "                    count = label_counts.get(label, 0)\n",
    "                    percentage = (count / len(df) * 100) if len(df) > 0 else 0\n",
    "                    total_stats[label] += count\n",
    "                    \n",
    "                    label_name = ['Sell', 'Hold', 'Buy'][label]\n",
    "                    print(f\"{label_name} {count:>4}({percentage:>5.1f}%) \", end=\"\")\n",
    "                print()\n",
    "        \n",
    "        print(\"-\"*60)\n",
    "        print(\"전체 요약:\")\n",
    "        for label in [0, 1, 2]:\n",
    "            count = total_stats[label]\n",
    "            percentage = (count / total_count * 100) if total_count > 0 else 0\n",
    "            label_name = ['Strong_Sell', 'Hold', 'Strong_Buy'][label]\n",
    "            print(f\"  {label_name}: {count:>6}개 ({percentage:>5.1f}%)\")\n",
    "        \n",
    "        print(f\"  전체: {total_count:>6}개\")\n",
    "\n"
   ]
  },
  {
   "cell_type": "code",
   "execution_count": 17,
   "id": "1d6b2250",
   "metadata": {},
   "outputs": [
    {
     "name": "stdout",
     "output_type": "stream",
     "text": [
      "🚀 50개 CSV 파일 처리 시작...\n",
      "============================================================\n"
     ]
    },
    {
     "name": "stderr",
     "output_type": "stream",
     "text": [
      "CSV 파일 처리:   0%|          | 0/50 [00:00<?, ?it/s]"
     ]
    },
    {
     "name": "stderr",
     "output_type": "stream",
     "text": [
      "CSV 파일 처리:   2%|▏         | 1/50 [00:00<00:05,  8.93it/s]"
     ]
    },
    {
     "name": "stdout",
     "output_type": "stream",
     "text": [
      "✅ AAVE: 라벨링 완료\n",
      "   데이터 포인트: 1821\n",
      "   라벨 분포: Sell(45.0%) Hold(10.0%) Buy(45.0%)\n",
      "✅ ADA: 라벨링 완료\n",
      "   데이터 포인트: 2879\n",
      "   라벨 분포: Sell(45.0%) Hold(10.0%) Buy(45.0%)\n"
     ]
    },
    {
     "name": "stderr",
     "output_type": "stream",
     "text": [
      "CSV 파일 처리:   8%|▊         | 4/50 [00:00<00:05,  8.99it/s]"
     ]
    },
    {
     "name": "stdout",
     "output_type": "stream",
     "text": [
      "✅ AETHWETH: 라벨링 완료\n",
      "   데이터 포인트: 138\n",
      "   라벨 분포: Sell(44.9%) Hold(10.1%) Buy(44.9%)\n",
      "✅ ALGO: 라벨링 완료\n",
      "   데이터 포인트: 2290\n",
      "   라벨 분포: Sell(45.0%) Hold(10.0%) Buy(45.0%)\n",
      "✅ AVAX: 라벨링 완료\n",
      "   데이터 포인트: 1833\n",
      "   라벨 분포: Sell(45.0%) Hold(10.0%) Buy(45.0%)\n"
     ]
    },
    {
     "name": "stderr",
     "output_type": "stream",
     "text": [
      "CSV 파일 처리:  12%|█▏        | 6/50 [00:00<00:05,  7.81it/s]"
     ]
    },
    {
     "name": "stdout",
     "output_type": "stream",
     "text": [
      "✅ BCH: 라벨링 완료\n",
      "   데이터 포인트: 2879\n",
      "   라벨 분포: Sell(45.0%) Hold(10.0%) Buy(45.0%)\n",
      "✅ BGB: 라벨링 완료\n",
      "   데이터 포인트: 1521\n",
      "   라벨 분포: Sell(45.0%) Hold(9.9%) Buy(45.0%)\n"
     ]
    },
    {
     "name": "stderr",
     "output_type": "stream",
     "text": [
      "CSV 파일 처리:  16%|█▌        | 8/50 [00:01<00:05,  7.57it/s]"
     ]
    },
    {
     "name": "stdout",
     "output_type": "stream",
     "text": [
      "✅ BNB: 라벨링 완료\n",
      "   데이터 포인트: 2879\n",
      "   라벨 분포: Sell(45.0%) Hold(10.0%) Buy(45.0%)\n",
      "✅ BTCB: 라벨링 완료\n",
      "   데이터 포인트: 2293\n",
      "   라벨 분포: Sell(45.0%) Hold(10.0%) Buy(45.0%)\n"
     ]
    },
    {
     "name": "stderr",
     "output_type": "stream",
     "text": [
      "CSV 파일 처리:  20%|██        | 10/50 [00:01<00:06,  6.58it/s]"
     ]
    },
    {
     "name": "stdout",
     "output_type": "stream",
     "text": [
      "✅ BTC: 라벨링 완료\n",
      "   데이터 포인트: 3922\n",
      "   라벨 분포: Sell(45.0%) Hold(10.0%) Buy(45.0%)\n",
      "✅ CBBTC32994: 라벨링 완료\n",
      "   데이터 포인트: 380\n",
      "   라벨 분포: Sell(45.0%) Hold(10.0%) Buy(45.0%)\n"
     ]
    },
    {
     "name": "stderr",
     "output_type": "stream",
     "text": [
      "CSV 파일 처리:  24%|██▍       | 12/50 [00:01<00:04,  8.06it/s]"
     ]
    },
    {
     "name": "stdout",
     "output_type": "stream",
     "text": [
      "✅ CRO: 라벨링 완료\n",
      "   데이터 포인트: 2479\n",
      "   라벨 분포: Sell(45.0%) Hold(10.0%) Buy(45.0%)\n",
      "✅ DAI: 라벨링 완료\n",
      "   데이터 포인트: 2136\n",
      "   라벨 분포: Sell(45.0%) Hold(10.0%) Buy(45.0%)\n"
     ]
    },
    {
     "name": "stderr",
     "output_type": "stream",
     "text": [
      "CSV 파일 처리:  28%|██▊       | 14/50 [00:01<00:04,  7.43it/s]"
     ]
    },
    {
     "name": "stdout",
     "output_type": "stream",
     "text": [
      "✅ DOGE: 라벨링 완료\n",
      "   데이터 포인트: 2879\n",
      "   라벨 분포: Sell(45.0%) Hold(10.0%) Buy(45.0%)\n",
      "✅ DOT: 라벨링 완료\n",
      "   데이터 포인트: 1864\n",
      "   라벨 분포: Sell(45.0%) Hold(10.0%) Buy(45.0%)\n"
     ]
    },
    {
     "name": "stderr",
     "output_type": "stream",
     "text": [
      "CSV 파일 처리:  34%|███▍      | 17/50 [00:02<00:03,  8.34it/s]"
     ]
    },
    {
     "name": "stdout",
     "output_type": "stream",
     "text": [
      "✅ ENA: 라벨링 완료\n",
      "   데이터 포인트: 543\n",
      "   라벨 분포: Sell(44.9%) Hold(10.1%) Buy(44.9%)\n",
      "✅ ETH: 라벨링 완료\n",
      "   데이터 포인트: 2879\n",
      "   라벨 분포: Sell(45.0%) Hold(10.0%) Buy(45.0%)\n"
     ]
    },
    {
     "name": "stderr",
     "output_type": "stream",
     "text": [
      "CSV 파일 처리:  36%|███▌      | 18/50 [00:02<00:03,  8.15it/s]"
     ]
    },
    {
     "name": "stdout",
     "output_type": "stream",
     "text": [
      "✅ HBAR: 라벨링 완료\n",
      "   데이터 포인트: 2202\n",
      "   라벨 분포: Sell(45.0%) Hold(10.0%) Buy(45.0%)\n",
      "✅ HYPE32196: 라벨링 완료\n",
      "   데이터 포인트: 302\n",
      "   라벨 분포: Sell(45.0%) Hold(9.9%) Buy(45.0%)\n",
      "✅ JITOSOL: 라벨링 완료\n",
      "   데이터 포인트: 1058\n",
      "   라벨 분포: Sell(45.0%) Hold(10.0%) Buy(45.0%)\n"
     ]
    },
    {
     "name": "stderr",
     "output_type": "stream",
     "text": [
      "CSV 파일 처리:  40%|████      | 20/50 [00:02<00:02, 10.41it/s]"
     ]
    },
    {
     "name": "stdout",
     "output_type": "stream",
     "text": [
      "✅ LEO: 라벨링 완료\n",
      "   데이터 포인트: 2321\n",
      "   라벨 분포: Sell(45.0%) Hold(10.0%) Buy(45.0%)\n",
      "✅ LINK: 라벨링 완료\n",
      "   데이터 포인트: 2879\n",
      "   라벨 분포: Sell(45.0%) Hold(10.0%) Buy(45.0%)\n"
     ]
    },
    {
     "name": "stderr",
     "output_type": "stream",
     "text": [
      "CSV 파일 처리:  46%|████▌     | 23/50 [00:02<00:03,  7.38it/s]"
     ]
    },
    {
     "name": "stdout",
     "output_type": "stream",
     "text": [
      "✅ LTC: 라벨링 완료\n",
      "   데이터 포인트: 3922\n",
      "   라벨 분포: Sell(45.0%) Hold(10.0%) Buy(45.0%)\n",
      "✅ MNT27075: 라벨링 완료\n",
      "   데이터 포인트: 800\n",
      "   라벨 분포: Sell(45.0%) Hold(10.0%) Buy(45.0%)\n"
     ]
    },
    {
     "name": "stderr",
     "output_type": "stream",
     "text": [
      "CSV 파일 처리:  50%|█████     | 25/50 [00:03<00:02,  8.46it/s]"
     ]
    },
    {
     "name": "stdout",
     "output_type": "stream",
     "text": [
      "✅ NEAR: 라벨링 완료\n",
      "   데이터 포인트: 1809\n",
      "   라벨 분포: Sell(45.0%) Hold(10.0%) Buy(45.0%)\n",
      "✅ OKB: 라벨링 완료\n",
      "   데이터 포인트: 2342\n",
      "   라벨 분포: Sell(45.0%) Hold(10.0%) Buy(45.0%)\n"
     ]
    },
    {
     "name": "stderr",
     "output_type": "stream",
     "text": [
      "CSV 파일 처리:  56%|█████▌    | 28/50 [00:03<00:02, 10.09it/s]"
     ]
    },
    {
     "name": "stdout",
     "output_type": "stream",
     "text": [
      "✅ PEPE24478: 라벨링 완료\n",
      "   데이터 포인트: 894\n",
      "   라벨 분포: Sell(50.7%) Hold(4.4%) Buy(45.0%)\n",
      "✅ SEI: 라벨링 완료\n",
      "   데이터 포인트: 771\n",
      "   라벨 분포: Sell(45.0%) Hold(10.0%) Buy(45.0%)\n",
      "✅ SHIB: 라벨링 완료\n",
      "   데이터 포인트: 1842\n",
      "   라벨 분포: Sell(52.1%) Hold(2.9%) Buy(45.0%)\n"
     ]
    },
    {
     "name": "stderr",
     "output_type": "stream",
     "text": [
      "CSV 파일 처리:  60%|██████    | 30/50 [00:03<00:02,  9.51it/s]"
     ]
    },
    {
     "name": "stdout",
     "output_type": "stream",
     "text": [
      "✅ SOL: 라벨링 완료\n",
      "   데이터 포인트: 1996\n",
      "   라벨 분포: Sell(45.0%) Hold(10.0%) Buy(45.0%)\n",
      "✅ STETH: 라벨링 완료\n",
      "   데이터 포인트: 1739\n",
      "   라벨 분포: Sell(45.0%) Hold(9.9%) Buy(45.0%)\n"
     ]
    },
    {
     "name": "stderr",
     "output_type": "stream",
     "text": [
      "CSV 파일 처리:  68%|██████▊   | 34/50 [00:03<00:01, 11.50it/s]"
     ]
    },
    {
     "name": "stdout",
     "output_type": "stream",
     "text": [
      "✅ SUI20947: 라벨링 완료\n",
      "   데이터 포인트: 878\n",
      "   라벨 분포: Sell(45.0%) Hold(10.0%) Buy(45.0%)\n",
      "✅ SUSDE: 라벨링 완료\n",
      "   데이터 포인트: 583\n",
      "   라벨 분포: Sell(44.9%) Hold(10.1%) Buy(44.9%)\n",
      "✅ TAO22974: 라벨링 완료\n",
      "   데이터 포인트: 937\n",
      "   라벨 분포: Sell(45.0%) Hold(9.9%) Buy(45.0%)\n",
      "✅ TON11419: 라벨링 완료\n",
      "   데이터 포인트: 1492\n",
      "   라벨 분포: Sell(45.0%) Hold(10.1%) Buy(45.0%)\n"
     ]
    },
    {
     "name": "stderr",
     "output_type": "stream",
     "text": [
      "CSV 파일 처리:  72%|███████▏  | 36/50 [00:04<00:01, 10.13it/s]"
     ]
    },
    {
     "name": "stdout",
     "output_type": "stream",
     "text": [
      "✅ TRX: 라벨링 완료\n",
      "   데이터 포인트: 2879\n",
      "   라벨 분포: Sell(45.0%) Hold(10.0%) Buy(45.0%)\n",
      "✅ UNI7083: 라벨링 완료\n",
      "   데이터 포인트: 1835\n",
      "   라벨 분포: Sell(45.0%) Hold(10.0%) Buy(45.0%)\n"
     ]
    },
    {
     "name": "stderr",
     "output_type": "stream",
     "text": [
      "CSV 파일 처리:  76%|███████▌  | 38/50 [00:04<00:01,  9.21it/s]"
     ]
    },
    {
     "name": "stdout",
     "output_type": "stream",
     "text": [
      "✅ USDC: 라벨링 완료\n",
      "   데이터 포인트: 2546\n",
      "   라벨 분포: Sell(45.0%) Hold(10.0%) Buy(45.0%)\n",
      "✅ USDE29470: 라벨링 완료\n",
      "   데이터 포인트: 585\n",
      "   라벨 분포: Sell(45.0%) Hold(10.1%) Buy(45.0%)\n",
      "✅ USDS33039: 라벨링 완료\n",
      "   데이터 포인트: 373\n",
      "   라벨 분포: Sell(45.0%) Hold(9.9%) Buy(45.0%)\n"
     ]
    },
    {
     "name": "stderr",
     "output_type": "stream",
     "text": [
      "CSV 파일 처리:  82%|████████▏ | 41/50 [00:04<00:00,  9.95it/s]"
     ]
    },
    {
     "name": "stdout",
     "output_type": "stream",
     "text": [
      "✅ USDT: 라벨링 완료\n",
      "   데이터 포인트: 2879\n",
      "   라벨 분포: Sell(45.0%) Hold(10.0%) Buy(45.0%)\n",
      "✅ WBETH: 라벨링 완료\n",
      "   데이터 포인트: 884\n",
      "   라벨 분포: Sell(45.0%) Hold(10.0%) Buy(45.0%)\n"
     ]
    },
    {
     "name": "stderr",
     "output_type": "stream",
     "text": [
      "CSV 파일 처리:  86%|████████▌ | 43/50 [00:04<00:00,  9.82it/s]"
     ]
    },
    {
     "name": "stdout",
     "output_type": "stream",
     "text": [
      "✅ WBTC: 라벨링 완료\n",
      "   데이터 포인트: 2432\n",
      "   라벨 분포: Sell(45.0%) Hold(10.0%) Buy(45.0%)\n",
      "✅ WEETH: 라벨링 완료\n",
      "   데이터 포인트: 654\n",
      "   라벨 분포: Sell(45.0%) Hold(10.1%) Buy(45.0%)\n"
     ]
    },
    {
     "name": "stderr",
     "output_type": "stream",
     "text": [
      "CSV 파일 처리:  90%|█████████ | 45/50 [00:05<00:00,  9.55it/s]"
     ]
    },
    {
     "name": "stdout",
     "output_type": "stream",
     "text": [
      "✅ WETH: 라벨링 완료\n",
      "   데이터 포인트: 2812\n",
      "   라벨 분포: Sell(45.0%) Hold(10.0%) Buy(45.0%)\n",
      "✅ WSTETH: 라벨링 완료\n",
      "   데이터 포인트: 1451\n",
      "   라벨 분포: Sell(45.0%) Hold(10.0%) Buy(45.0%)\n"
     ]
    },
    {
     "name": "stderr",
     "output_type": "stream",
     "text": [
      "CSV 파일 처리:  94%|█████████▍| 47/50 [00:05<00:00,  9.87it/s]"
     ]
    },
    {
     "name": "stdout",
     "output_type": "stream",
     "text": [
      "✅ WTRX: 라벨링 완료\n",
      "   데이터 포인트: 1302\n",
      "   라벨 분포: Sell(45.0%) Hold(10.0%) Buy(45.0%)\n",
      "✅ XLM: 라벨링 완료\n",
      "   데이터 포인트: 2879\n",
      "   라벨 분포: Sell(45.0%) Hold(10.0%) Buy(45.0%)\n"
     ]
    },
    {
     "name": "stderr",
     "output_type": "stream",
     "text": [
      "CSV 파일 처리:  98%|█████████▊| 49/50 [00:05<00:00,  8.25it/s]"
     ]
    },
    {
     "name": "stdout",
     "output_type": "stream",
     "text": [
      "✅ XMR: 라벨링 완료\n",
      "   데이터 포인트: 2879\n",
      "   라벨 분포: Sell(45.0%) Hold(10.0%) Buy(45.0%)\n",
      "✅ XRP: 라벨링 완료\n",
      "   데이터 포인트: 2879\n",
      "   라벨 분포: Sell(45.0%) Hold(10.0%) Buy(45.0%)\n"
     ]
    },
    {
     "name": "stderr",
     "output_type": "stream",
     "text": [
      "CSV 파일 처리: 100%|██████████| 50/50 [00:05<00:00,  8.65it/s]"
     ]
    },
    {
     "name": "stdout",
     "output_type": "stream",
     "text": [
      "\n",
      "============================================================\n",
      "🎉 라벨링 작업 완료!\n",
      "✅ 성공: 50개\n",
      "❌ 실패: 0개\n",
      "📁 출력 경로: /workspace/AI모델/projects/coin/data/v01/labeled\n",
      "\n",
      "============================================================\n",
      "📊 전체 라벨 분포 분석\n",
      "============================================================\n",
      "  AAVE: Sell  820( 45.0%) Hold  182( 10.0%) Buy  819( 45.0%) \n",
      "   ADA: Sell 1296( 45.0%) Hold  287( 10.0%) Buy 1296( 45.0%) \n",
      "AETHWETH: Sell   62( 44.9%) Hold   14( 10.1%) Buy   62( 44.9%) \n",
      "  ALGO: Sell 1031( 45.0%) Hold  228( 10.0%) Buy 1031( 45.0%) \n",
      "  AVAX: Sell  825( 45.0%) Hold  183( 10.0%) Buy  825( 45.0%) \n",
      "   BCH: Sell 1296( 45.0%) Hold  287( 10.0%) Buy 1296( 45.0%) \n",
      "   BGB: Sell  685( 45.0%) Hold  151(  9.9%) Buy  685( 45.0%) \n",
      "   BNB: Sell 1296( 45.0%) Hold  287( 10.0%) Buy 1296( 45.0%) \n",
      "  BTCB: Sell 1032( 45.0%) Hold  229( 10.0%) Buy 1032( 45.0%) \n",
      "   BTC: Sell 1765( 45.0%) Hold  392( 10.0%) Buy 1765( 45.0%) \n",
      "CBBTC32994: Sell  171( 45.0%) Hold   38( 10.0%) Buy  171( 45.0%) \n",
      "   CRO: Sell 1116( 45.0%) Hold  247( 10.0%) Buy 1116( 45.0%) \n",
      "   DAI: Sell  961( 45.0%) Hold  214( 10.0%) Buy  961( 45.0%) \n",
      "  DOGE: Sell 1296( 45.0%) Hold  287( 10.0%) Buy 1296( 45.0%) \n",
      "   DOT: Sell  839( 45.0%) Hold  186( 10.0%) Buy  839( 45.0%) \n",
      "   ENA: Sell  244( 44.9%) Hold   55( 10.1%) Buy  244( 44.9%) \n",
      "   ETH: Sell 1296( 45.0%) Hold  287( 10.0%) Buy 1296( 45.0%) \n",
      "  HBAR: Sell  991( 45.0%) Hold  220( 10.0%) Buy  991( 45.0%) \n",
      "HYPE32196: Sell  136( 45.0%) Hold   30(  9.9%) Buy  136( 45.0%) \n",
      "JITOSOL: Sell  476( 45.0%) Hold  106( 10.0%) Buy  476( 45.0%) \n",
      "   LEO: Sell 1045( 45.0%) Hold  231( 10.0%) Buy 1045( 45.0%) \n",
      "  LINK: Sell 1296( 45.0%) Hold  287( 10.0%) Buy 1296( 45.0%) \n",
      "   LTC: Sell 1765( 45.0%) Hold  392( 10.0%) Buy 1765( 45.0%) \n",
      "MNT27075: Sell  360( 45.0%) Hold   80( 10.0%) Buy  360( 45.0%) \n",
      "  NEAR: Sell  814( 45.0%) Hold  181( 10.0%) Buy  814( 45.0%) \n",
      "   OKB: Sell 1054( 45.0%) Hold  234( 10.0%) Buy 1054( 45.0%) \n",
      "PEPE24478: Sell  453( 50.7%) Hold   39(  4.4%) Buy  402( 45.0%) \n",
      "   SEI: Sell  347( 45.0%) Hold   77( 10.0%) Buy  347( 45.0%) \n",
      "  SHIB: Sell  960( 52.1%) Hold   53(  2.9%) Buy  829( 45.0%) \n",
      "   SOL: Sell  898( 45.0%) Hold  200( 10.0%) Buy  898( 45.0%) \n",
      " STETH: Sell  783( 45.0%) Hold  173(  9.9%) Buy  783( 45.0%) \n",
      "SUI20947: Sell  395( 45.0%) Hold   88( 10.0%) Buy  395( 45.0%) \n",
      " SUSDE: Sell  262( 44.9%) Hold   59( 10.1%) Buy  262( 44.9%) \n",
      "TAO22974: Sell  422( 45.0%) Hold   93(  9.9%) Buy  422( 45.0%) \n",
      "TON11419: Sell  671( 45.0%) Hold  150( 10.1%) Buy  671( 45.0%) \n",
      "   TRX: Sell 1296( 45.0%) Hold  287( 10.0%) Buy 1296( 45.0%) \n",
      "UNI7083: Sell  826( 45.0%) Hold  183( 10.0%) Buy  826( 45.0%) \n",
      "  USDC: Sell 1146( 45.0%) Hold  254( 10.0%) Buy 1146( 45.0%) \n",
      "USDE29470: Sell  263( 45.0%) Hold   59( 10.1%) Buy  263( 45.0%) \n",
      "USDS33039: Sell  168( 45.0%) Hold   37(  9.9%) Buy  168( 45.0%) \n",
      "  USDT: Sell 1296( 45.0%) Hold  287( 10.0%) Buy 1296( 45.0%) \n",
      " WBETH: Sell  398( 45.0%) Hold   88( 10.0%) Buy  398( 45.0%) \n",
      "  WBTC: Sell 1094( 45.0%) Hold  244( 10.0%) Buy 1094( 45.0%) \n",
      " WEETH: Sell  294( 45.0%) Hold   66( 10.1%) Buy  294( 45.0%) \n",
      "  WETH: Sell 1265( 45.0%) Hold  282( 10.0%) Buy 1265( 45.0%) \n",
      "WSTETH: Sell  653( 45.0%) Hold  145( 10.0%) Buy  653( 45.0%) \n",
      "  WTRX: Sell  586( 45.0%) Hold  130( 10.0%) Buy  586( 45.0%) \n",
      "   XLM: Sell 1296( 45.0%) Hold  287( 10.0%) Buy 1296( 45.0%) \n",
      "   XMR: Sell 1296( 45.0%) Hold  287( 10.0%) Buy 1296( 45.0%) \n",
      "   XRP: Sell 1296( 45.0%) Hold  287( 10.0%) Buy 1296( 45.0%) \n",
      "------------------------------------------------------------\n",
      "전체 요약:\n",
      "  Strong_Sell:  42332개 ( 45.2%)\n",
      "  Hold:   9170개 (  9.8%)\n",
      "  Strong_Buy:  42149개 ( 45.0%)\n",
      "  전체:  93651개\n",
      "\n",
      "🎯 사용 가능한 심볼: ['AAVE', 'ADA', 'AETHWETH', 'ALGO', 'AVAX', 'BCH', 'BGB', 'BNB', 'BTCB', 'BTC', 'CBBTC32994', 'CRO', 'DAI', 'DOGE', 'DOT', 'ENA', 'ETH', 'HBAR', 'HYPE32196', 'JITOSOL', 'LEO', 'LINK', 'LTC', 'MNT27075', 'NEAR', 'OKB', 'PEPE24478', 'SEI', 'SHIB', 'SOL', 'STETH', 'SUI20947', 'SUSDE', 'TAO22974', 'TON11419', 'TRX', 'UNI7083', 'USDC', 'USDE29470', 'USDS33039', 'USDT', 'WBETH', 'WBTC', 'WEETH', 'WETH', 'WSTETH', 'WTRX', 'XLM', 'XMR', 'XRP']\n",
      "📈 각 심볼별 라벨링된 CSV는 /workspace/AI모델/projects/coin/data/v01/labeled에 저장되었습니다.\n"
     ]
    },
    {
     "name": "stderr",
     "output_type": "stream",
     "text": [
      "\n"
     ]
    }
   ],
   "source": [
    "if __name__ == \"__main__\":\n",
    "    # 라벨러 초기화\n",
    "    labeler = CryptoLabeler()\n",
    "    \n",
    "    # A00_00에서 생성된 CSV 파일들이 있는 디렉토리 경로\n",
    "    input_directory = \"/workspace/AI모델/projects/coin/data/v01/add\"\n",
    "    output_directory = \"/workspace/AI모델/projects/coin/data/v01/labeled\"\n",
    "    \n",
    "    # 모든 CSV 파일 처리\n",
    "    processed_results = labeler.process_all_csv_files(input_directory, output_directory)\n",
    "    \n",
    "    # 라벨 분포 분석\n",
    "    if processed_results:\n",
    "        labeler.analyze_labels_distribution(processed_results)\n",
    "        \n",
    "        print(f\"\\n🎯 사용 가능한 심볼: {list(processed_results.keys())}\")\n",
    "        print(f\"📈 각 심볼별 라벨링된 CSV는 {output_directory}에 저장되었습니다.\")\n",
    "    else:\n",
    "        print(\"❌ 처리된 데이터가 없습니다. 입력 디렉토리와 파일을 확인해주세요.\")"
   ]
  },
  {
   "cell_type": "code",
   "execution_count": null,
   "id": "ec8ef34d",
   "metadata": {},
   "outputs": [],
   "source": []
  }
 ],
 "metadata": {
  "kernelspec": {
   "display_name": "base",
   "language": "python",
   "name": "python3"
  },
  "language_info": {
   "codemirror_mode": {
    "name": "ipython",
    "version": 3
   },
   "file_extension": ".py",
   "mimetype": "text/x-python",
   "name": "python",
   "nbconvert_exporter": "python",
   "pygments_lexer": "ipython3",
   "version": "3.10.11"
  }
 },
 "nbformat": 4,
 "nbformat_minor": 5
}
