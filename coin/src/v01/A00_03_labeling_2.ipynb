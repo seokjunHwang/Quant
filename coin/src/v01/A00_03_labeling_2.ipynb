{
 "cells": [
  {
   "cell_type": "markdown",
   "id": "ec42979b",
   "metadata": {},
   "source": [
    "# 2차 라벨링\n",
    "1. 백테스팅할때 방식처럼 1번 매수하면 그사이 매수는 무시하고 다음 sell로 넘어가는 1회,1회 매매하는대로 라벨링\n",
    "2. 1일 뒤를 기준으로 라벨을 삼는 Future_label 생성\n",
    "\n",
    "## Info\n",
    "1. 백테스팅 호환 로직\n",
    "\n",
    "- 1회 매수 → 1회 매도 패턴 강제\n",
    "- 연속 신호 방지 (매수 후 또 매수 불가)\n",
    "- 기존 백테스터와 100% 동일한 매매 로직\n",
    "\n",
    "2. Future_Label 생성\n",
    "\n",
    "- 1일 후 가격 기준으로 라벨 생성\n",
    "- 2% 이상 상승 예상 → 강매수(2)\n",
    "- 2% 이상 하락 예상 → 강매도(0)\n",
    "- 그 외 → 홀드(1)\n",
    "\n",
    "3. 암호화폐 특성 반영\n",
    "\n",
    "- timezone 안전 처리\n",
    "- 높은 변동성 고려한 임계값\n",
    "- 라벨링된 CSV 파일 자동 감지\n",
    "\n",
    "## 📊 생성되는 라벨들\n",
    "- Optimized_Label: 백테스터 로직으로 정제된 라벨\n",
    "- Future_Label: 1일 후 가격 변화 기준 라벨\n",
    "- Optimized_Label_Name: 라벨명 (Strong_Sell/Hold/Strong_Buy)\n",
    "- Future_Label_Name: Future 라벨명"
   ]
  },
  {
   "cell_type": "code",
   "execution_count": 11,
   "id": "70bdb787",
   "metadata": {},
   "outputs": [],
   "source": [
    "import pandas as pd\n",
    "import numpy as np\n",
    "from tqdm import tqdm\n",
    "import os\n",
    "import glob\n",
    "\n",
    "def create_optimized_crypto_labels(df, window=1):\n",
    "    \"\"\"\n",
    "    백테스터와 동일한 로직으로 암호화폐 라벨 생성 + 타이밍 최적화\n",
    "    \n",
    "    Parameters:\n",
    "    -----------\n",
    "    df : pd.DataFrame\n",
    "        원본 데이터 (Close, Label 컬럼 필요)\n",
    "    window : int\n",
    "        타이밍 최적화 윈도우 (앞뒤 며칠)\n",
    "    \n",
    "    Returns:\n",
    "    --------\n",
    "    pd.DataFrame : 최적화된 라벨이 추가된 데이터\n",
    "    \"\"\"\n",
    "    \n",
    "    result_df = df.copy()\n",
    "    n = len(df)\n",
    "    \n",
    "    # 원본 라벨\n",
    "    original_labels = df['Label'].values\n",
    "    \n",
    "    # 1단계: 백테스터와 동일한 로직으로 유효한 신호만 추출\n",
    "    valid_signals = []  # (index, signal_type) 형태로 저장\n",
    "    current_position = 'CASH'  # CASH 또는 LONG\n",
    "    \n",
    "    print(f\"   백테스터 로직으로 유효 신호 추출 중...\")\n",
    "    \n",
    "    for i in range(n):\n",
    "        current_label = original_labels[i]\n",
    "        \n",
    "        # 백테스터와 동일한 매매 조건\n",
    "        if current_label == 2 and current_position == 'CASH':  # Buy 가능\n",
    "            valid_signals.append((i, 'BUY'))\n",
    "            current_position = 'LONG'\n",
    "            \n",
    "        elif current_label == 0 and current_position == 'LONG':  # Sell 가능\n",
    "            valid_signals.append((i, 'SELL'))\n",
    "            current_position = 'CASH'\n",
    "    \n",
    "    buy_signals = [idx for idx, signal in valid_signals if signal == 'BUY']\n",
    "    sell_signals = [idx for idx, signal in valid_signals if signal == 'SELL']\n",
    "    \n",
    "    print(f\"   원본 신호: Buy {sum(original_labels == 2)}개, Sell {sum(original_labels == 0)}개\")\n",
    "    print(f\"   유효 신호: Buy {len(buy_signals)}개, Sell {len(sell_signals)}개\")\n",
    "    \n",
    "    # 2단계: 타이밍 최적화 (window=1이면 최적화 생략)\n",
    "    if window > 1:\n",
    "        optimized_buy_signals = []\n",
    "        optimized_sell_signals = []\n",
    "        \n",
    "        # Buy 신호 최적화 (앞뒤 window일 중 가장 낮은 가격일)\n",
    "        for buy_idx in buy_signals:\n",
    "            start_idx = max(0, buy_idx - window)\n",
    "            end_idx = min(n - 1, buy_idx + window)\n",
    "            \n",
    "            # 해당 구간의 종가들과 인덱스들\n",
    "            window_section = df.iloc[start_idx:end_idx + 1]\n",
    "            min_price_idx = window_section['Close'].idxmin()\n",
    "            \n",
    "            # DataFrame 인덱스를 정수 인덱스로 변환\n",
    "            best_buy_idx = df.index.get_loc(min_price_idx)\n",
    "            optimized_buy_signals.append(best_buy_idx)\n",
    "        \n",
    "        # Sell 신호 최적화 (앞뒤 window일 중 가장 높은 가격일)\n",
    "        for sell_idx in sell_signals:\n",
    "            start_idx = max(0, sell_idx - window)\n",
    "            end_idx = min(n - 1, sell_idx + window)\n",
    "            \n",
    "            # 해당 구간의 종가들과 인덱스들\n",
    "            window_section = df.iloc[start_idx:end_idx + 1]\n",
    "            max_price_idx = window_section['Close'].idxmax()\n",
    "            \n",
    "            # DataFrame 인덱스를 정수 인덱스로 변환\n",
    "            best_sell_idx = df.index.get_loc(max_price_idx)\n",
    "            optimized_sell_signals.append(best_sell_idx)\n",
    "    else:\n",
    "        # window=1이면 최적화 없이 원본 사용\n",
    "        optimized_buy_signals = buy_signals\n",
    "        optimized_sell_signals = sell_signals\n",
    "    \n",
    "    # 3단계: 최적화된 라벨 생성\n",
    "    optimized_labels = np.ones(n, dtype=int)  # 기본값: Hold(1)\n",
    "    \n",
    "    # Buy 신호 적용\n",
    "    for buy_idx in optimized_buy_signals:\n",
    "        if 0 <= buy_idx < n:\n",
    "            optimized_labels[buy_idx] = 2  # Strong_Buy\n",
    "    \n",
    "    # Sell 신호 적용\n",
    "    for sell_idx in optimized_sell_signals:\n",
    "        if 0 <= sell_idx < n:\n",
    "            optimized_labels[sell_idx] = 0  # Strong_Sell\n",
    "    \n",
    "    # 4단계: 최종 검증 (백테스터 로직 재확인)\n",
    "    final_labels = np.ones(n, dtype=int)  # 기본값: Hold(1)\n",
    "    current_position = 'CASH'\n",
    "    \n",
    "    for i in range(n):\n",
    "        current_label = optimized_labels[i]\n",
    "        \n",
    "        if current_label == 2 and current_position == 'CASH':  # Buy 가능\n",
    "            final_labels[i] = 2\n",
    "            current_position = 'LONG'\n",
    "            \n",
    "        elif current_label == 0 and current_position == 'LONG':  # Sell 가능\n",
    "            final_labels[i] = 0\n",
    "            current_position = 'CASH'\n",
    "        \n",
    "        # 나머지는 Hold(1) 유지\n",
    "    \n",
    "    # 5단계: Future_Label 생성 (1일 후 가격 기준)\n",
    "    future_labels = np.ones(n, dtype=int)  # 기본값: Hold(1)\n",
    "    \n",
    "    for i in range(n-1):  # 마지막 날은 제외\n",
    "        current_price = df.iloc[i]['Close']\n",
    "        next_price = df.iloc[i+1]['Close']\n",
    "        \n",
    "        # 1일 후 가격 변화율\n",
    "        price_change = (next_price - current_price) / current_price\n",
    "        \n",
    "        # 임계값 설정 (암호화폐 특성상 변동성이 크므로 조정 가능)\n",
    "        buy_threshold = 0.02   # 2% 이상 상승 예상 시 매수\n",
    "        sell_threshold = -0.02  # 2% 이상 하락 예상 시 매도\n",
    "        \n",
    "        if price_change >= buy_threshold:\n",
    "            future_labels[i] = 2  # Strong_Buy\n",
    "        elif price_change <= sell_threshold:\n",
    "            future_labels[i] = 0  # Strong_Sell\n",
    "        # else: Hold(1) 유지\n",
    "    \n",
    "    # 6단계: Future_Label도 백테스터 로직으로 검증\n",
    "    final_future_labels = np.ones(n, dtype=int)\n",
    "    current_position = 'CASH'\n",
    "    \n",
    "    for i in range(n):\n",
    "        current_label = future_labels[i]\n",
    "        \n",
    "        if current_label == 2 and current_position == 'CASH':\n",
    "            final_future_labels[i] = 2\n",
    "            current_position = 'LONG'\n",
    "        elif current_label == 0 and current_position == 'LONG':\n",
    "            final_future_labels[i] = 0\n",
    "            current_position = 'CASH'\n",
    "    \n",
    "    # 결과 저장\n",
    "    result_df['Optimized_Label'] = final_labels\n",
    "    result_df['Future_Label'] = final_future_labels\n",
    "    \n",
    "    # 라벨명 추가\n",
    "    label_names = {0: 'Strong_Sell', 1: 'Hold', 2: 'Strong_Buy'}\n",
    "    result_df['Optimized_Label_Name'] = result_df['Optimized_Label'].map(label_names)\n",
    "    result_df['Future_Label_Name'] = result_df['Future_Label'].map(label_names)\n",
    "    \n",
    "    # 최종 통계\n",
    "    final_buy_count = sum(final_labels == 2)\n",
    "    final_sell_count = sum(final_labels == 0)\n",
    "    final_hold_count = sum(final_labels == 1)\n",
    "    \n",
    "    future_buy_count = sum(final_future_labels == 2)\n",
    "    future_sell_count = sum(final_future_labels == 0)\n",
    "    future_hold_count = sum(final_future_labels == 1)\n",
    "    \n",
    "    print(f\"   최종 라벨: Buy {final_buy_count}개, Sell {final_sell_count}개, Hold {final_hold_count}개\")\n",
    "    print(f\"   Future 라벨: Buy {future_buy_count}개, Sell {future_sell_count}개, Hold {future_hold_count}개\")\n",
    "    print(f\"   Buy-Sell 균형: {min(final_buy_count, final_sell_count)}/{max(final_buy_count, final_sell_count)}\")\n",
    "    \n",
    "    return result_df\n",
    "\n",
    "def process_crypto_labels_optimization(input_path, output_path, window=1, test_symbols=None):\n",
    "    \"\"\"\n",
    "    암호화폐 라벨링 CSV 파일들을 읽어서 최적화된 라벨을 적용\n",
    "    \n",
    "    Parameters:\n",
    "    -----------\n",
    "    input_path : str\n",
    "        입력 CSV 파일들 경로 (라벨링된 파일들)\n",
    "    output_path : str\n",
    "        출력 경로\n",
    "    window : int\n",
    "        타이밍 최적화 윈도우 (1=최적화없음, 3=앞뒤3일)\n",
    "    test_symbols : list\n",
    "        특정 심볼만 처리 (None이면 전체)\n",
    "    \n",
    "    Returns:\n",
    "    --------\n",
    "    dict : 최적화된 데이터들\n",
    "    \"\"\"\n",
    "    \n",
    "    print(f\"🚀 암호화폐 라벨 최적화 시작!\")\n",
    "    print(f\"📁 입력 경로: {input_path}\")\n",
    "    print(f\"📁 출력 경로: {output_path}\")\n",
    "    print(f\"🔧 최적화 윈도우: {window}일 ({'최적화 없음' if window == 1 else f'앞뒤 {window}일'})\")\n",
    "    print(\"=\"*80)\n",
    "    \n",
    "    # 라벨링된 CSV 파일 찾기\n",
    "    patterns = [\n",
    "        \"*_labeled_dataset.csv\",  # A00_00에서 생성된 파일\n",
    "        \"*_labeled.csv\",\n",
    "        \"*.csv\"\n",
    "    ]\n",
    "    \n",
    "    csv_files = []\n",
    "    used_pattern = None\n",
    "    \n",
    "    for pattern in patterns:\n",
    "        files = glob.glob(os.path.join(input_path, pattern))\n",
    "        if files:\n",
    "            csv_files = files\n",
    "            used_pattern = pattern\n",
    "            print(f\"✅ 파일 패턴 발견: {pattern} ({len(files)}개 파일)\")\n",
    "            break\n",
    "    \n",
    "    if not csv_files:\n",
    "        print(f\"❌ CSV 파일을 찾을 수 없습니다: {input_path}\")\n",
    "        return None\n",
    "    \n",
    "    # 출력 경로 생성\n",
    "    os.makedirs(output_path, exist_ok=True)\n",
    "    print(f\"📂 출력 디렉토리 생성: {output_path}\")\n",
    "    \n",
    "    # 데이터 로딩 및 처리\n",
    "    optimized_cryptos = {}\n",
    "    \n",
    "    print(f\"\\n📊 암호화폐 데이터 처리 중...\")\n",
    "    \n",
    "    for file_path in tqdm(csv_files, desc=\"파일 처리\"):\n",
    "        filename = os.path.basename(file_path)\n",
    "        \n",
    "        # 심볼명 추출\n",
    "        symbol = filename.replace('.csv', '')\n",
    "        for suffix in ['_labeled_dataset', '_labeled', '_enhanced', '_processed']:\n",
    "            symbol = symbol.replace(suffix, '')\n",
    "        \n",
    "        # 특정 심볼만 처리\n",
    "        if test_symbols and symbol not in test_symbols:\n",
    "            continue\n",
    "        \n",
    "        try:\n",
    "            print(f\"\\n🔍 처리 중: {symbol}\")\n",
    "            \n",
    "            # CSV 읽기\n",
    "            df = pd.read_csv(file_path)\n",
    "            \n",
    "            if df.empty:\n",
    "                print(f\"   ⚠️ 빈 데이터\")\n",
    "                continue\n",
    "            \n",
    "            # 날짜 인덱스 설정\n",
    "            if 'Date' in df.columns:\n",
    "                df['Date'] = pd.to_datetime(df['Date'], errors='coerce')\n",
    "                if df['Date'].dt.tz is not None:\n",
    "                    df['Date'] = df['Date'].dt.tz_localize(None)\n",
    "                df = df.set_index('Date')\n",
    "            \n",
    "            # 필수 컬럼 확인\n",
    "            required_cols = ['Close', 'Label']\n",
    "            missing_cols = [col for col in required_cols if col not in df.columns]\n",
    "            \n",
    "            if missing_cols:\n",
    "                print(f\"   ⚠️ 필수 컬럼 누락: {missing_cols}\")\n",
    "                continue\n",
    "            \n",
    "            print(f\"   📏 데이터 크기: {df.shape}\")\n",
    "            \n",
    "            # 라벨 분포 확인\n",
    "            label_dist = df['Label'].value_counts().sort_index()\n",
    "            print(f\"   🏷️ 원본 라벨 분포: {dict(label_dist)}\")\n",
    "            \n",
    "            # 최적화된 라벨 생성\n",
    "            optimized_df = create_optimized_crypto_labels(df, window=window)\n",
    "            \n",
    "            # 결과 저장\n",
    "            optimized_cryptos[symbol] = optimized_df\n",
    "            \n",
    "            # CSV 파일로 저장\n",
    "            output_filename = f\"{symbol}_optimized.csv\"\n",
    "            output_file_path = os.path.join(output_path, output_filename)\n",
    "            optimized_df.to_csv(output_file_path)\n",
    "            \n",
    "            print(f\"   ✅ 저장 완료: {output_filename}\")\n",
    "            \n",
    "        except Exception as e:\n",
    "            print(f\"   ❌ 오류 발생: {e}\")\n",
    "            continue\n",
    "    \n",
    "    # 최종 결과 요약\n",
    "    print(f\"\\n\" + \"=\"*80)\n",
    "    print(f\"🎯 암호화폐 라벨 최적화 완료!\")\n",
    "    print(f\"   성공: {len(optimized_cryptos)}개 암호화폐\")\n",
    "    print(f\"   저장 경로: {output_path}\")\n",
    "    print(f\"   파일 형식: [심볼명]_optimized.csv\")\n",
    "    \n",
    "    # 각 심볼별 최종 통계\n",
    "    print(f\"\\n📊 심볼별 라벨 통계:\")\n",
    "    print(f\"{'심볼':<8} {'원본 Buy':<10} {'최적 Buy':<10} {'Future Buy':<12} {'원본 Sell':<11} {'최적 Sell':<11} {'Future Sell'}\")\n",
    "    print(\"-\" * 85)\n",
    "    \n",
    "    for symbol, df in optimized_cryptos.items():\n",
    "        orig_buy = sum(df['Label'] == 2)\n",
    "        opt_buy = sum(df['Optimized_Label'] == 2)\n",
    "        fut_buy = sum(df['Future_Label'] == 2)\n",
    "        orig_sell = sum(df['Label'] == 0)\n",
    "        opt_sell = sum(df['Optimized_Label'] == 0)\n",
    "        fut_sell = sum(df['Future_Label'] == 0)\n",
    "        \n",
    "        print(f\"{symbol:<8} {orig_buy:<10} {opt_buy:<10} {fut_buy:<12} {orig_sell:<11} {opt_sell:<11} {fut_sell}\")\n",
    "    \n",
    "    return optimized_cryptos\n",
    "\n",
    "def compare_crypto_label_performance(df, original_col='Label', optimized_col='Optimized_Label', future_col='Future_Label'):\n",
    "    \"\"\"\n",
    "    암호화폐 라벨 성능 비교 분석\n",
    "    \n",
    "    Parameters:\n",
    "    -----------\n",
    "    df : pd.DataFrame\n",
    "        세 종류의 라벨이 모두 있는 데이터\n",
    "    \"\"\"\n",
    "    \n",
    "    print(\"\\n📊 라벨 성능 비교 분석\")\n",
    "    print(\"=\"*60)\n",
    "    \n",
    "    # 라벨 분포 비교\n",
    "    original_dist = df[original_col].value_counts().sort_index()\n",
    "    optimized_dist = df[optimized_col].value_counts().sort_index()\n",
    "    future_dist = df[future_col].value_counts().sort_index()\n",
    "    \n",
    "    print(\"라벨 분포 비교:\")\n",
    "    print(f\"{'라벨':<15} {'원본':<8} {'최적화':<8} {'Future':<8}\")\n",
    "    print(\"-\" * 45)\n",
    "    \n",
    "    label_names = {0: 'Strong_Sell', 1: 'Hold', 2: 'Strong_Buy'}\n",
    "    for label in [0, 1, 2]:\n",
    "        orig_count = original_dist.get(label, 0)\n",
    "        opt_count = optimized_dist.get(label, 0)\n",
    "        fut_count = future_dist.get(label, 0)\n",
    "        \n",
    "        print(f\"{label_names[label]:<15} {orig_count:<8} {opt_count:<8} {fut_count:<8}\")\n",
    "    \n",
    "    # 매매 패턴 분석\n",
    "    def analyze_trading_pattern(labels):\n",
    "        complete_trades = 0\n",
    "        hold_periods = []\n",
    "        current_position = 'CASH'\n",
    "        last_buy_idx = None\n",
    "        \n",
    "        for i, label in enumerate(labels):\n",
    "            if label == 2 and current_position == 'CASH':  # Buy\n",
    "                last_buy_idx = i\n",
    "                current_position = 'LONG'\n",
    "            elif label == 0 and current_position == 'LONG':  # Sell\n",
    "                if last_buy_idx is not None:\n",
    "                    hold_period = i - last_buy_idx\n",
    "                    hold_periods.append(hold_period)\n",
    "                    complete_trades += 1\n",
    "                current_position = 'CASH'\n",
    "        \n",
    "        avg_hold_period = np.mean(hold_periods) if hold_periods else 0\n",
    "        \n",
    "        return {\n",
    "            'complete_trades': complete_trades,\n",
    "            'avg_hold_period': avg_hold_period,\n",
    "            'hold_periods': hold_periods\n",
    "        }\n",
    "    \n",
    "    # 각 라벨의 매매 패턴 분석\n",
    "    original_pattern = analyze_trading_pattern(df[original_col].values)\n",
    "    optimized_pattern = analyze_trading_pattern(df[optimized_col].values)\n",
    "    future_pattern = analyze_trading_pattern(df[future_col].values)\n",
    "    \n",
    "    print(f\"\\n매매 패턴 분석:\")\n",
    "    print(f\"{'지표':<20} {'원본':<12} {'최적화':<12} {'Future':<12}\")\n",
    "    print(\"-\" * 60)\n",
    "    print(f\"{'완전 매매 횟수':<20} {original_pattern['complete_trades']:<12} {optimized_pattern['complete_trades']:<12} {future_pattern['complete_trades']:<12}\")\n",
    "    print(f\"{'평균 보유기간':<20} {original_pattern['avg_hold_period']:.1f}일{'':<6} {optimized_pattern['avg_hold_period']:.1f}일{'':<6} {future_pattern['avg_hold_period']:.1f}일\")\n",
    "    \n",
    "    return {\n",
    "        'distributions': {\n",
    "            'original': original_dist.to_dict(),\n",
    "            'optimized': optimized_dist.to_dict(),\n",
    "            'future': future_dist.to_dict()\n",
    "        },\n",
    "        'patterns': {\n",
    "            'original': original_pattern,\n",
    "            'optimized': optimized_pattern,\n",
    "            'future': future_pattern\n",
    "        }\n",
    "    }\n",
    "\n",
    "# 메인 실행 함수 (기존 함수명과 호환)\n",
    "def process_stocks_with_optimized_labels(input_path, output_path, window=1, test_symbols=None):\n",
    "    \"\"\"암호화폐 라벨 최적화 메인 함수\"\"\"\n",
    "    return process_crypto_labels_optimization(input_path, output_path, window, test_symbols)\n",
    "\n"
   ]
  },
  {
   "cell_type": "markdown",
   "id": "571e398e",
   "metadata": {},
   "source": [
    "# 실행"
   ]
  },
  {
   "cell_type": "code",
   "execution_count": 12,
   "id": "209ab0f9",
   "metadata": {},
   "outputs": [
    {
     "name": "stdout",
     "output_type": "stream",
     "text": [
      "🚀 암호화폐 라벨 최적화 시작!\n",
      "📁 입력 경로: /workspace/AI모델/projects/coin/data/v01/labeled\n",
      "📁 출력 경로: /workspace/AI모델/projects/coin/data/v01/optimized\n",
      "🔧 최적화 윈도우: 1일 (최적화 없음)\n",
      "================================================================================\n",
      "✅ 파일 패턴 발견: *_labeled_dataset.csv (50개 파일)\n",
      "📂 출력 디렉토리 생성: /workspace/AI모델/projects/coin/data/v01/optimized\n",
      "\n",
      "📊 암호화폐 데이터 처리 중...\n"
     ]
    },
    {
     "name": "stderr",
     "output_type": "stream",
     "text": [
      "파일 처리:   0%|          | 0/50 [00:00<?, ?it/s]"
     ]
    },
    {
     "name": "stdout",
     "output_type": "stream",
     "text": [
      "\n",
      "🔍 처리 중: AAVE\n",
      "   📏 데이터 크기: (1821, 54)\n",
      "   🏷️ 원본 라벨 분포: {0: 820, 1: 182, 2: 819}\n",
      "   백테스터 로직으로 유효 신호 추출 중...\n",
      "   원본 신호: Buy 819개, Sell 820개\n",
      "   유효 신호: Buy 130개, Sell 130개\n"
     ]
    },
    {
     "name": "stderr",
     "output_type": "stream",
     "text": [
      "파일 처리:   2%|▏         | 1/50 [00:00<00:18,  2.67it/s]"
     ]
    },
    {
     "name": "stdout",
     "output_type": "stream",
     "text": [
      "   최종 라벨: Buy 130개, Sell 130개, Hold 1561개\n",
      "   Future 라벨: Buy 326개, Sell 325개, Hold 1170개\n",
      "   Buy-Sell 균형: 130/130\n",
      "   ✅ 저장 완료: AAVE_optimized.csv\n",
      "\n",
      "🔍 처리 중: ADA\n",
      "   📏 데이터 크기: (2879, 54)\n",
      "   🏷️ 원본 라벨 분포: {0: 1296, 1: 287, 2: 1296}\n",
      "   백테스터 로직으로 유효 신호 추출 중...\n",
      "   원본 신호: Buy 1296개, Sell 1296개\n",
      "   유효 신호: Buy 173개, Sell 173개\n"
     ]
    },
    {
     "name": "stderr",
     "output_type": "stream",
     "text": [
      "파일 처리:   4%|▍         | 2/50 [00:00<00:23,  2.06it/s]"
     ]
    },
    {
     "name": "stdout",
     "output_type": "stream",
     "text": [
      "   최종 라벨: Buy 173개, Sell 173개, Hold 2533개\n",
      "   Future 라벨: Buy 434개, Sell 433개, Hold 2012개\n",
      "   Buy-Sell 균형: 173/173\n",
      "   ✅ 저장 완료: ADA_optimized.csv\n",
      "\n",
      "🔍 처리 중: AETHWETH\n",
      "   📏 데이터 크기: (138, 54)\n",
      "   🏷️ 원본 라벨 분포: {0: 62, 1: 14, 2: 62}\n",
      "   백테스터 로직으로 유효 신호 추출 중...\n",
      "   원본 신호: Buy 62개, Sell 62개\n",
      "   유효 신호: Buy 12개, Sell 12개\n",
      "   최종 라벨: Buy 12개, Sell 12개, Hold 114개\n",
      "   Future 라벨: Buy 15개, Sell 14개, Hold 109개\n",
      "   Buy-Sell 균형: 12/12\n",
      "   ✅ 저장 완료: AETHWETH_optimized.csv\n",
      "\n",
      "🔍 처리 중: ALGO\n",
      "   📏 데이터 크기: (2290, 54)\n",
      "   🏷️ 원본 라벨 분포: {0: 1031, 1: 228, 2: 1031}\n",
      "   백테스터 로직으로 유효 신호 추출 중...\n",
      "   원본 신호: Buy 1031개, Sell 1031개\n",
      "   유효 신호: Buy 156개, Sell 156개\n"
     ]
    },
    {
     "name": "stderr",
     "output_type": "stream",
     "text": [
      "파일 처리:   8%|▊         | 4/50 [00:01<00:14,  3.07it/s]"
     ]
    },
    {
     "name": "stdout",
     "output_type": "stream",
     "text": [
      "   최종 라벨: Buy 156개, Sell 156개, Hold 1978개\n",
      "   Future 라벨: Buy 393개, Sell 392개, Hold 1505개\n",
      "   Buy-Sell 균형: 156/156\n",
      "   ✅ 저장 완료: ALGO_optimized.csv\n",
      "\n",
      "🔍 처리 중: AVAX\n",
      "   📏 데이터 크기: (1833, 54)\n",
      "   🏷️ 원본 라벨 분포: {0: 825, 1: 183, 2: 825}\n",
      "   백테스터 로직으로 유효 신호 추출 중...\n",
      "   원본 신호: Buy 825개, Sell 825개\n",
      "   유효 신호: Buy 128개, Sell 128개\n"
     ]
    },
    {
     "name": "stderr",
     "output_type": "stream",
     "text": [
      "파일 처리:  10%|█         | 5/50 [00:01<00:14,  3.00it/s]"
     ]
    },
    {
     "name": "stdout",
     "output_type": "stream",
     "text": [
      "   최종 라벨: Buy 128개, Sell 128개, Hold 1577개\n",
      "   Future 라벨: Buy 304개, Sell 304개, Hold 1225개\n",
      "   Buy-Sell 균형: 128/128\n",
      "   ✅ 저장 완료: AVAX_optimized.csv\n",
      "\n",
      "🔍 처리 중: BCH\n",
      "   📏 데이터 크기: (2879, 54)\n",
      "   🏷️ 원본 라벨 분포: {0: 1296, 1: 287, 2: 1296}\n",
      "   백테스터 로직으로 유효 신호 추출 중...\n",
      "   원본 신호: Buy 1296개, Sell 1296개\n",
      "   유효 신호: Buy 223개, Sell 223개\n"
     ]
    },
    {
     "name": "stderr",
     "output_type": "stream",
     "text": [
      "파일 처리:  12%|█▏        | 6/50 [00:02<00:17,  2.52it/s]"
     ]
    },
    {
     "name": "stdout",
     "output_type": "stream",
     "text": [
      "   최종 라벨: Buy 223개, Sell 223개, Hold 2433개\n",
      "   Future 라벨: Buy 423개, Sell 422개, Hold 2034개\n",
      "   Buy-Sell 균형: 223/223\n",
      "   ✅ 저장 완료: BCH_optimized.csv\n",
      "\n",
      "🔍 처리 중: BGB\n",
      "   📏 데이터 크기: (1521, 54)\n",
      "   🏷️ 원본 라벨 분포: {0: 685, 1: 151, 2: 685}\n",
      "   백테스터 로직으로 유효 신호 추출 중...\n",
      "   원본 신호: Buy 685개, Sell 685개\n",
      "   유효 신호: Buy 103개, Sell 103개\n"
     ]
    },
    {
     "name": "stderr",
     "output_type": "stream",
     "text": [
      "파일 처리:  14%|█▍        | 7/50 [00:02<00:15,  2.72it/s]"
     ]
    },
    {
     "name": "stdout",
     "output_type": "stream",
     "text": [
      "   최종 라벨: Buy 103개, Sell 103개, Hold 1315개\n",
      "   Future 라벨: Buy 142개, Sell 142개, Hold 1237개\n",
      "   Buy-Sell 균형: 103/103\n",
      "   ✅ 저장 완료: BGB_optimized.csv\n",
      "\n",
      "🔍 처리 중: BNB\n",
      "   📏 데이터 크기: (2879, 54)\n",
      "   🏷️ 원본 라벨 분포: {0: 1296, 1: 287, 2: 1296}\n",
      "   백테스터 로직으로 유효 신호 추출 중...\n",
      "   원본 신호: Buy 1296개, Sell 1296개\n",
      "   유효 신호: Buy 197개, Sell 197개\n"
     ]
    },
    {
     "name": "stderr",
     "output_type": "stream",
     "text": [
      "파일 처리:  16%|█▌        | 8/50 [00:03<00:17,  2.36it/s]"
     ]
    },
    {
     "name": "stdout",
     "output_type": "stream",
     "text": [
      "   최종 라벨: Buy 197개, Sell 197개, Hold 2485개\n",
      "   Future 라벨: Buy 355개, Sell 355개, Hold 2169개\n",
      "   Buy-Sell 균형: 197/197\n",
      "   ✅ 저장 완료: BNB_optimized.csv\n",
      "\n",
      "🔍 처리 중: BTCB\n",
      "   📏 데이터 크기: (2293, 54)\n",
      "   🏷️ 원본 라벨 분포: {0: 1032, 1: 229, 2: 1032}\n",
      "   백테스터 로직으로 유효 신호 추출 중...\n",
      "   원본 신호: Buy 1032개, Sell 1032개\n",
      "   유효 신호: Buy 173개, Sell 173개\n"
     ]
    },
    {
     "name": "stderr",
     "output_type": "stream",
     "text": [
      "파일 처리:  18%|█▊        | 9/50 [00:03<00:17,  2.34it/s]"
     ]
    },
    {
     "name": "stdout",
     "output_type": "stream",
     "text": [
      "   최종 라벨: Buy 173개, Sell 173개, Hold 1947개\n",
      "   Future 라벨: Buy 249개, Sell 249개, Hold 1795개\n",
      "   Buy-Sell 균형: 173/173\n",
      "   ✅ 저장 완료: BTCB_optimized.csv\n",
      "\n",
      "🔍 처리 중: BTC\n",
      "   📏 데이터 크기: (3922, 54)\n",
      "   🏷️ 원본 라벨 분포: {0: 1765, 1: 392, 2: 1765}\n",
      "   백테스터 로직으로 유효 신호 추출 중...\n",
      "   원본 신호: Buy 1765개, Sell 1765개\n",
      "   유효 신호: Buy 250개, Sell 250개\n"
     ]
    },
    {
     "name": "stderr",
     "output_type": "stream",
     "text": [
      "파일 처리:  20%|██        | 10/50 [00:04<00:20,  1.93it/s]"
     ]
    },
    {
     "name": "stdout",
     "output_type": "stream",
     "text": [
      "   최종 라벨: Buy 250개, Sell 250개, Hold 3422개\n",
      "   Future 라벨: Buy 375개, Sell 375개, Hold 3172개\n",
      "   Buy-Sell 균형: 250/250\n",
      "   ✅ 저장 완료: BTC_optimized.csv\n",
      "\n",
      "🔍 처리 중: CBBTC32994\n",
      "   📏 데이터 크기: (380, 54)\n",
      "   🏷️ 원본 라벨 분포: {0: 171, 1: 38, 2: 171}\n",
      "   백테스터 로직으로 유효 신호 추출 중...\n",
      "   원본 신호: Buy 171개, Sell 171개\n",
      "   유효 신호: Buy 22개, Sell 22개\n",
      "   최종 라벨: Buy 22개, Sell 22개, Hold 336개\n",
      "   Future 라벨: Buy 34개, Sell 34개, Hold 312개\n",
      "   Buy-Sell 균형: 22/22\n",
      "   ✅ 저장 완료: CBBTC32994_optimized.csv\n",
      "\n",
      "🔍 처리 중: CRO\n",
      "   📏 데이터 크기: (2479, 54)\n",
      "   🏷️ 원본 라벨 분포: {0: 1116, 1: 247, 2: 1116}\n",
      "   백테스터 로직으로 유효 신호 추출 중...\n",
      "   원본 신호: Buy 1116개, Sell 1116개\n",
      "   유효 신호: Buy 144개, Sell 144개\n"
     ]
    },
    {
     "name": "stderr",
     "output_type": "stream",
     "text": [
      "파일 처리:  24%|██▍       | 12/50 [00:04<00:15,  2.46it/s]"
     ]
    },
    {
     "name": "stdout",
     "output_type": "stream",
     "text": [
      "   최종 라벨: Buy 144개, Sell 144개, Hold 2191개\n",
      "   Future 라벨: Buy 328개, Sell 327개, Hold 1824개\n",
      "   Buy-Sell 균형: 144/144\n",
      "   ✅ 저장 완료: CRO_optimized.csv\n",
      "\n",
      "🔍 처리 중: DAI\n",
      "   📏 데이터 크기: (2136, 54)\n",
      "   🏷️ 원본 라벨 분포: {0: 961, 1: 214, 2: 961}\n",
      "   백테스터 로직으로 유효 신호 추출 중...\n",
      "   원본 신호: Buy 961개, Sell 961개\n",
      "   유효 신호: Buy 490개, Sell 489개\n"
     ]
    },
    {
     "name": "stderr",
     "output_type": "stream",
     "text": [
      "파일 처리:  26%|██▌       | 13/50 [00:05<00:15,  2.44it/s]"
     ]
    },
    {
     "name": "stdout",
     "output_type": "stream",
     "text": [
      "   최종 라벨: Buy 490개, Sell 489개, Hold 1157개\n",
      "   Future 라벨: Buy 11개, Sell 11개, Hold 2114개\n",
      "   Buy-Sell 균형: 489/490\n",
      "   ✅ 저장 완료: DAI_optimized.csv\n",
      "\n",
      "🔍 처리 중: DOGE\n",
      "   📏 데이터 크기: (2879, 54)\n",
      "   🏷️ 원본 라벨 분포: {0: 1296, 1: 287, 2: 1296}\n",
      "   백테스터 로직으로 유효 신호 추출 중...\n",
      "   원본 신호: Buy 1296개, Sell 1296개\n",
      "   유효 신호: Buy 181개, Sell 181개\n"
     ]
    },
    {
     "name": "stderr",
     "output_type": "stream",
     "text": [
      "파일 처리:  28%|██▊       | 14/50 [00:05<00:15,  2.26it/s]"
     ]
    },
    {
     "name": "stdout",
     "output_type": "stream",
     "text": [
      "   최종 라벨: Buy 181개, Sell 181개, Hold 2517개\n",
      "   Future 라벨: Buy 399개, Sell 398개, Hold 2082개\n",
      "   Buy-Sell 균형: 181/181\n",
      "   ✅ 저장 완료: DOGE_optimized.csv\n",
      "\n",
      "🔍 처리 중: DOT\n",
      "   📏 데이터 크기: (1864, 54)\n",
      "   🏷️ 원본 라벨 분포: {0: 839, 1: 186, 2: 839}\n",
      "   백테스터 로직으로 유효 신호 추출 중...\n",
      "   원본 신호: Buy 839개, Sell 839개\n",
      "   유효 신호: Buy 137개, Sell 136개\n"
     ]
    },
    {
     "name": "stderr",
     "output_type": "stream",
     "text": [
      "파일 처리:  30%|███       | 15/50 [00:06<00:15,  2.26it/s]"
     ]
    },
    {
     "name": "stdout",
     "output_type": "stream",
     "text": [
      "   최종 라벨: Buy 137개, Sell 136개, Hold 1591개\n",
      "   Future 라벨: Buy 307개, Sell 306개, Hold 1251개\n",
      "   Buy-Sell 균형: 136/137\n",
      "   ✅ 저장 완료: DOT_optimized.csv\n",
      "\n",
      "🔍 처리 중: ENA\n",
      "   📏 데이터 크기: (543, 54)\n",
      "   🏷️ 원본 라벨 분포: {0: 244, 1: 55, 2: 244}\n",
      "   백테스터 로직으로 유효 신호 추출 중...\n",
      "   원본 신호: Buy 244개, Sell 244개\n",
      "   유효 신호: Buy 46개, Sell 45개\n",
      "   최종 라벨: Buy 46개, Sell 45개, Hold 452개\n",
      "   Future 라벨: Buy 102개, Sell 101개, Hold 340개\n",
      "   Buy-Sell 균형: 45/46\n"
     ]
    },
    {
     "name": "stderr",
     "output_type": "stream",
     "text": [
      "파일 처리:  32%|███▏      | 16/50 [00:06<00:12,  2.82it/s]"
     ]
    },
    {
     "name": "stdout",
     "output_type": "stream",
     "text": [
      "   ✅ 저장 완료: ENA_optimized.csv\n",
      "\n",
      "🔍 처리 중: ETH\n",
      "   📏 데이터 크기: (2879, 54)\n",
      "   🏷️ 원본 라벨 분포: {0: 1296, 1: 287, 2: 1296}\n",
      "   백테스터 로직으로 유효 신호 추출 중...\n",
      "   원본 신호: Buy 1296개, Sell 1296개\n",
      "   유효 신호: Buy 183개, Sell 183개\n"
     ]
    },
    {
     "name": "stderr",
     "output_type": "stream",
     "text": [
      "파일 처리:  34%|███▍      | 17/50 [00:06<00:13,  2.39it/s]"
     ]
    },
    {
     "name": "stdout",
     "output_type": "stream",
     "text": [
      "   최종 라벨: Buy 183개, Sell 183개, Hold 2513개\n",
      "   Future 라벨: Buy 396개, Sell 395개, Hold 2088개\n",
      "   Buy-Sell 균형: 183/183\n",
      "   ✅ 저장 완료: ETH_optimized.csv\n",
      "\n",
      "🔍 처리 중: HBAR\n",
      "   📏 데이터 크기: (2202, 54)\n",
      "   🏷️ 원본 라벨 분포: {0: 991, 1: 220, 2: 991}\n",
      "   백테스터 로직으로 유효 신호 추출 중...\n",
      "   원본 신호: Buy 991개, Sell 991개\n",
      "   유효 신호: Buy 144개, Sell 144개\n"
     ]
    },
    {
     "name": "stderr",
     "output_type": "stream",
     "text": [
      "파일 처리:  36%|███▌      | 18/50 [00:07<00:13,  2.36it/s]"
     ]
    },
    {
     "name": "stdout",
     "output_type": "stream",
     "text": [
      "   최종 라벨: Buy 144개, Sell 144개, Hold 1914개\n",
      "   Future 라벨: Buy 334개, Sell 333개, Hold 1535개\n",
      "   Buy-Sell 균형: 144/144\n",
      "   ✅ 저장 완료: HBAR_optimized.csv\n",
      "\n",
      "🔍 처리 중: HYPE32196\n",
      "   📏 데이터 크기: (302, 54)\n",
      "   🏷️ 원본 라벨 분포: {0: 136, 1: 30, 2: 136}\n",
      "   백테스터 로직으로 유효 신호 추출 중...\n",
      "   원본 신호: Buy 136개, Sell 136개\n",
      "   유효 신호: Buy 21개, Sell 21개\n",
      "   최종 라벨: Buy 21개, Sell 21개, Hold 260개\n",
      "   Future 라벨: Buy 57개, Sell 56개, Hold 189개\n",
      "   Buy-Sell 균형: 21/21\n",
      "   ✅ 저장 완료: HYPE32196_optimized.csv\n",
      "\n",
      "🔍 처리 중: JITOSOL\n",
      "   📏 데이터 크기: (1058, 54)\n",
      "   🏷️ 원본 라벨 분포: {0: 476, 1: 106, 2: 476}\n",
      "   백테스터 로직으로 유효 신호 추출 중...\n",
      "   원본 신호: Buy 476개, Sell 476개\n",
      "   유효 신호: Buy 76개, Sell 76개\n"
     ]
    },
    {
     "name": "stderr",
     "output_type": "stream",
     "text": [
      "파일 처리:  40%|████      | 20/50 [00:07<00:08,  3.37it/s]"
     ]
    },
    {
     "name": "stdout",
     "output_type": "stream",
     "text": [
      "   최종 라벨: Buy 76개, Sell 76개, Hold 906개\n",
      "   Future 라벨: Buy 160개, Sell 159개, Hold 739개\n",
      "   Buy-Sell 균형: 76/76\n",
      "   ✅ 저장 완료: JITOSOL_optimized.csv\n",
      "\n",
      "🔍 처리 중: LEO\n",
      "   📏 데이터 크기: (2321, 54)\n",
      "   🏷️ 원본 라벨 분포: {0: 1045, 1: 231, 2: 1045}\n",
      "   백테스터 로직으로 유효 신호 추출 중...\n",
      "   원본 신호: Buy 1045개, Sell 1045개\n",
      "   유효 신호: Buy 192개, Sell 192개\n"
     ]
    },
    {
     "name": "stderr",
     "output_type": "stream",
     "text": [
      "파일 처리:  42%|████▏     | 21/50 [00:08<00:09,  3.02it/s]"
     ]
    },
    {
     "name": "stdout",
     "output_type": "stream",
     "text": [
      "   최종 라벨: Buy 192개, Sell 192개, Hold 1937개\n",
      "   Future 라벨: Buy 161개, Sell 160개, Hold 2000개\n",
      "   Buy-Sell 균형: 192/192\n",
      "   ✅ 저장 완료: LEO_optimized.csv\n",
      "\n",
      "🔍 처리 중: LINK\n",
      "   📏 데이터 크기: (2879, 54)\n",
      "   🏷️ 원본 라벨 분포: {0: 1296, 1: 287, 2: 1296}\n",
      "   백테스터 로직으로 유효 신호 추출 중...\n",
      "   원본 신호: Buy 1296개, Sell 1296개\n",
      "   유효 신호: Buy 203개, Sell 203개\n"
     ]
    },
    {
     "name": "stderr",
     "output_type": "stream",
     "text": [
      "파일 처리:  44%|████▍     | 22/50 [00:08<00:10,  2.57it/s]"
     ]
    },
    {
     "name": "stdout",
     "output_type": "stream",
     "text": [
      "   최종 라벨: Buy 203개, Sell 203개, Hold 2473개\n",
      "   Future 라벨: Buy 496개, Sell 495개, Hold 1888개\n",
      "   Buy-Sell 균형: 203/203\n",
      "   ✅ 저장 완료: LINK_optimized.csv\n",
      "\n",
      "🔍 처리 중: LTC\n",
      "   📏 데이터 크기: (3922, 54)\n",
      "   🏷️ 원본 라벨 분포: {0: 1765, 1: 392, 2: 1765}\n",
      "   백테스터 로직으로 유효 신호 추출 중...\n",
      "   원본 신호: Buy 1765개, Sell 1765개\n",
      "   유효 신호: Buy 264개, Sell 264개\n"
     ]
    },
    {
     "name": "stderr",
     "output_type": "stream",
     "text": [
      "파일 처리:  46%|████▌     | 23/50 [00:09<00:13,  2.06it/s]"
     ]
    },
    {
     "name": "stdout",
     "output_type": "stream",
     "text": [
      "   최종 라벨: Buy 264개, Sell 264개, Hold 3394개\n",
      "   Future 라벨: Buy 532개, Sell 531개, Hold 2859개\n",
      "   Buy-Sell 균형: 264/264\n",
      "   ✅ 저장 완료: LTC_optimized.csv\n",
      "\n",
      "🔍 처리 중: MNT27075\n",
      "   📏 데이터 크기: (800, 54)\n",
      "   🏷️ 원본 라벨 분포: {0: 360, 1: 80, 2: 360}\n",
      "   백테스터 로직으로 유효 신호 추출 중...\n",
      "   원본 신호: Buy 360개, Sell 360개\n",
      "   유효 신호: Buy 57개, Sell 57개\n"
     ]
    },
    {
     "name": "stderr",
     "output_type": "stream",
     "text": [
      "파일 처리:  48%|████▊     | 24/50 [00:09<00:10,  2.52it/s]"
     ]
    },
    {
     "name": "stdout",
     "output_type": "stream",
     "text": [
      "   최종 라벨: Buy 57개, Sell 57개, Hold 686개\n",
      "   Future 라벨: Buy 99개, Sell 98개, Hold 603개\n",
      "   Buy-Sell 균형: 57/57\n",
      "   ✅ 저장 완료: MNT27075_optimized.csv\n",
      "\n",
      "🔍 처리 중: NEAR\n",
      "   📏 데이터 크기: (1809, 54)\n",
      "   🏷️ 원본 라벨 분포: {0: 814, 1: 181, 2: 814}\n",
      "   백테스터 로직으로 유효 신호 추출 중...\n",
      "   원본 신호: Buy 814개, Sell 814개\n",
      "   유효 신호: Buy 120개, Sell 120개\n"
     ]
    },
    {
     "name": "stderr",
     "output_type": "stream",
     "text": [
      "파일 처리:  50%|█████     | 25/50 [00:09<00:09,  2.59it/s]"
     ]
    },
    {
     "name": "stdout",
     "output_type": "stream",
     "text": [
      "   최종 라벨: Buy 120개, Sell 120개, Hold 1569개\n",
      "   Future 라벨: Buy 314개, Sell 314개, Hold 1181개\n",
      "   Buy-Sell 균형: 120/120\n",
      "   ✅ 저장 완료: NEAR_optimized.csv\n",
      "\n",
      "🔍 처리 중: OKB\n",
      "   📏 데이터 크기: (2342, 54)\n",
      "   🏷️ 원본 라벨 분포: {0: 1054, 1: 234, 2: 1054}\n",
      "   백테스터 로직으로 유효 신호 추출 중...\n",
      "   원본 신호: Buy 1054개, Sell 1054개\n",
      "   유효 신호: Buy 144개, Sell 144개\n"
     ]
    },
    {
     "name": "stderr",
     "output_type": "stream",
     "text": [
      "파일 처리:  52%|█████▏    | 26/50 [00:10<00:09,  2.45it/s]"
     ]
    },
    {
     "name": "stdout",
     "output_type": "stream",
     "text": [
      "   최종 라벨: Buy 144개, Sell 144개, Hold 2054개\n",
      "   Future 라벨: Buy 274개, Sell 273개, Hold 1795개\n",
      "   Buy-Sell 균형: 144/144\n",
      "   ✅ 저장 완료: OKB_optimized.csv\n",
      "\n",
      "🔍 처리 중: PEPE24478\n",
      "   📏 데이터 크기: (894, 54)\n",
      "   🏷️ 원본 라벨 분포: {0: 453, 1: 39, 2: 402}\n",
      "   백테스터 로직으로 유효 신호 추출 중...\n",
      "   원본 신호: Buy 402개, Sell 453개\n",
      "   유효 신호: Buy 69개, Sell 69개\n"
     ]
    },
    {
     "name": "stderr",
     "output_type": "stream",
     "text": [
      "/tmp/ipykernel_44062/1743380500.py:126: RuntimeWarning: invalid value encountered in scalar divide\n",
      "  price_change = (next_price - current_price) / current_price\n",
      "/tmp/ipykernel_44062/1743380500.py:126: RuntimeWarning: divide by zero encountered in scalar divide\n",
      "  price_change = (next_price - current_price) / current_price\n",
      "파일 처리:  56%|█████▌    | 28/50 [00:10<00:06,  3.45it/s]"
     ]
    },
    {
     "name": "stdout",
     "output_type": "stream",
     "text": [
      "   최종 라벨: Buy 69개, Sell 69개, Hold 756개\n",
      "   Future 라벨: Buy 88개, Sell 88개, Hold 718개\n",
      "   Buy-Sell 균형: 69/69\n",
      "   ✅ 저장 완료: PEPE24478_optimized.csv\n",
      "\n",
      "🔍 처리 중: SEI\n",
      "   📏 데이터 크기: (771, 54)\n",
      "   🏷️ 원본 라벨 분포: {0: 347, 1: 77, 2: 347}\n",
      "   백테스터 로직으로 유효 신호 추출 중...\n",
      "   원본 신호: Buy 347개, Sell 347개\n",
      "   유효 신호: Buy 55개, Sell 55개\n",
      "   최종 라벨: Buy 55개, Sell 55개, Hold 661개\n",
      "   Future 라벨: Buy 142개, Sell 141개, Hold 488개\n",
      "   Buy-Sell 균형: 55/55\n",
      "   ✅ 저장 완료: SEI_optimized.csv\n"
     ]
    },
    {
     "name": "stderr",
     "output_type": "stream",
     "text": [
      "/tmp/ipykernel_44062/1743380500.py:126: RuntimeWarning: invalid value encountered in scalar divide\n",
      "  price_change = (next_price - current_price) / current_price\n",
      "/tmp/ipykernel_44062/1743380500.py:126: RuntimeWarning: divide by zero encountered in scalar divide\n",
      "  price_change = (next_price - current_price) / current_price\n"
     ]
    },
    {
     "name": "stdout",
     "output_type": "stream",
     "text": [
      "\n",
      "🔍 처리 중: SHIB\n",
      "   📏 데이터 크기: (1842, 54)\n",
      "   🏷️ 원본 라벨 분포: {0: 960, 1: 53, 2: 829}\n",
      "   백테스터 로직으로 유효 신호 추출 중...\n",
      "   원본 신호: Buy 829개, Sell 960개\n",
      "   유효 신호: Buy 135개, Sell 135개\n"
     ]
    },
    {
     "name": "stderr",
     "output_type": "stream",
     "text": [
      "파일 처리:  58%|█████▊    | 29/50 [00:11<00:06,  3.14it/s]"
     ]
    },
    {
     "name": "stdout",
     "output_type": "stream",
     "text": [
      "   최종 라벨: Buy 135개, Sell 135개, Hold 1572개\n",
      "   Future 라벨: Buy 200개, Sell 200개, Hold 1442개\n",
      "   Buy-Sell 균형: 135/135\n",
      "   ✅ 저장 완료: SHIB_optimized.csv\n",
      "\n",
      "🔍 처리 중: SOL\n",
      "   📏 데이터 크기: (1996, 54)\n",
      "   🏷️ 원본 라벨 분포: {0: 898, 1: 200, 2: 898}\n",
      "   백테스터 로직으로 유효 신호 추출 중...\n",
      "   원본 신호: Buy 898개, Sell 898개\n",
      "   유효 신호: Buy 121개, Sell 121개\n"
     ]
    },
    {
     "name": "stderr",
     "output_type": "stream",
     "text": [
      "파일 처리:  60%|██████    | 30/50 [00:11<00:06,  2.94it/s]"
     ]
    },
    {
     "name": "stdout",
     "output_type": "stream",
     "text": [
      "   최종 라벨: Buy 121개, Sell 121개, Hold 1754개\n",
      "   Future 라벨: Buy 340개, Sell 339개, Hold 1317개\n",
      "   Buy-Sell 균형: 121/121\n",
      "   ✅ 저장 완료: SOL_optimized.csv\n",
      "\n",
      "🔍 처리 중: STETH\n",
      "   📏 데이터 크기: (1739, 54)\n",
      "   🏷️ 원본 라벨 분포: {0: 783, 1: 173, 2: 783}\n",
      "   백테스터 로직으로 유효 신호 추출 중...\n",
      "   원본 신호: Buy 783개, Sell 783개\n",
      "   유효 신호: Buy 123개, Sell 123개\n"
     ]
    },
    {
     "name": "stderr",
     "output_type": "stream",
     "text": [
      "파일 처리:  62%|██████▏   | 31/50 [00:11<00:06,  2.91it/s]"
     ]
    },
    {
     "name": "stdout",
     "output_type": "stream",
     "text": [
      "   최종 라벨: Buy 123개, Sell 123개, Hold 1493개\n",
      "   Future 라벨: Buy 227개, Sell 226개, Hold 1286개\n",
      "   Buy-Sell 균형: 123/123\n",
      "   ✅ 저장 완료: STETH_optimized.csv\n",
      "\n",
      "🔍 처리 중: SUI20947\n",
      "   📏 데이터 크기: (878, 54)\n",
      "   🏷️ 원본 라벨 분포: {0: 395, 1: 88, 2: 395}\n",
      "   백테스터 로직으로 유효 신호 추출 중...\n",
      "   원본 신호: Buy 395개, Sell 395개\n",
      "   유효 신호: Buy 62개, Sell 62개\n",
      "   최종 라벨: Buy 62개, Sell 62개, Hold 754개\n",
      "   Future 라벨: Buy 147개, Sell 146개, Hold 585개\n",
      "   Buy-Sell 균형: 62/62\n"
     ]
    },
    {
     "name": "stderr",
     "output_type": "stream",
     "text": [
      "파일 처리:  66%|██████▌   | 33/50 [00:12<00:04,  4.08it/s]"
     ]
    },
    {
     "name": "stdout",
     "output_type": "stream",
     "text": [
      "   ✅ 저장 완료: SUI20947_optimized.csv\n",
      "\n",
      "🔍 처리 중: SUSDE\n",
      "   📏 데이터 크기: (583, 54)\n",
      "   🏷️ 원본 라벨 분포: {0: 262, 1: 59, 2: 262}\n",
      "   백테스터 로직으로 유효 신호 추출 중...\n",
      "   원본 신호: Buy 262개, Sell 262개\n",
      "   유효 신호: Buy 54개, Sell 54개\n",
      "   최종 라벨: Buy 54개, Sell 54개, Hold 475개\n",
      "   Future 라벨: Buy 0개, Sell 0개, Hold 583개\n",
      "   Buy-Sell 균형: 54/54\n",
      "   ✅ 저장 완료: SUSDE_optimized.csv\n",
      "\n",
      "🔍 처리 중: TAO22974\n",
      "   📏 데이터 크기: (937, 54)\n",
      "   🏷️ 원본 라벨 분포: {0: 422, 1: 93, 2: 422}\n",
      "   백테스터 로직으로 유효 신호 추출 중...\n",
      "   원본 신호: Buy 422개, Sell 422개\n",
      "   유효 신호: Buy 73개, Sell 73개\n"
     ]
    },
    {
     "name": "stderr",
     "output_type": "stream",
     "text": [
      "파일 처리:  68%|██████▊   | 34/50 [00:12<00:03,  4.36it/s]"
     ]
    },
    {
     "name": "stdout",
     "output_type": "stream",
     "text": [
      "   최종 라벨: Buy 73개, Sell 73개, Hold 791개\n",
      "   Future 라벨: Buy 159개, Sell 159개, Hold 619개\n",
      "   Buy-Sell 균형: 73/73\n",
      "   ✅ 저장 완료: TAO22974_optimized.csv\n",
      "\n",
      "🔍 처리 중: TON11419\n",
      "   📏 데이터 크기: (1492, 54)\n",
      "   🏷️ 원본 라벨 분포: {0: 671, 1: 150, 2: 671}\n",
      "   백테스터 로직으로 유효 신호 추출 중...\n",
      "   원본 신호: Buy 671개, Sell 671개\n",
      "   유효 신호: Buy 104개, Sell 104개\n"
     ]
    },
    {
     "name": "stderr",
     "output_type": "stream",
     "text": [
      "파일 처리:  70%|███████   | 35/50 [00:12<00:03,  3.92it/s]"
     ]
    },
    {
     "name": "stdout",
     "output_type": "stream",
     "text": [
      "   최종 라벨: Buy 104개, Sell 104개, Hold 1284개\n",
      "   Future 라벨: Buy 189개, Sell 188개, Hold 1115개\n",
      "   Buy-Sell 균형: 104/104\n",
      "   ✅ 저장 완료: TON11419_optimized.csv\n",
      "\n",
      "🔍 처리 중: TRX\n",
      "   📏 데이터 크기: (2879, 54)\n",
      "   🏷️ 원본 라벨 분포: {0: 1296, 1: 287, 2: 1296}\n",
      "   백테스터 로직으로 유효 신호 추출 중...\n",
      "   원본 신호: Buy 1296개, Sell 1296개\n",
      "   유효 신호: Buy 214개, Sell 214개\n"
     ]
    },
    {
     "name": "stderr",
     "output_type": "stream",
     "text": [
      "파일 처리:  72%|███████▏  | 36/50 [00:13<00:04,  2.89it/s]"
     ]
    },
    {
     "name": "stdout",
     "output_type": "stream",
     "text": [
      "   최종 라벨: Buy 214개, Sell 214개, Hold 2451개\n",
      "   Future 라벨: Buy 351개, Sell 350개, Hold 2178개\n",
      "   Buy-Sell 균형: 214/214\n",
      "   ✅ 저장 완료: TRX_optimized.csv\n",
      "\n",
      "🔍 처리 중: UNI7083\n",
      "   📏 데이터 크기: (1835, 54)\n",
      "   🏷️ 원본 라벨 분포: {0: 826, 1: 183, 2: 826}\n",
      "   백테스터 로직으로 유효 신호 추출 중...\n",
      "   원본 신호: Buy 826개, Sell 826개\n",
      "   유효 신호: Buy 128개, Sell 128개\n"
     ]
    },
    {
     "name": "stderr",
     "output_type": "stream",
     "text": [
      "파일 처리:  74%|███████▍  | 37/50 [00:13<00:04,  2.83it/s]"
     ]
    },
    {
     "name": "stdout",
     "output_type": "stream",
     "text": [
      "   최종 라벨: Buy 128개, Sell 128개, Hold 1579개\n",
      "   Future 라벨: Buy 326개, Sell 325개, Hold 1184개\n",
      "   Buy-Sell 균형: 128/128\n",
      "   ✅ 저장 완료: UNI7083_optimized.csv\n",
      "\n",
      "🔍 처리 중: USDC\n",
      "   📏 데이터 크기: (2546, 54)\n",
      "   🏷️ 원본 라벨 분포: {0: 1146, 1: 254, 2: 1146}\n",
      "   백테스터 로직으로 유효 신호 추출 중...\n",
      "   원본 신호: Buy 1146개, Sell 1146개\n",
      "   유효 신호: Buy 571개, Sell 571개\n"
     ]
    },
    {
     "name": "stderr",
     "output_type": "stream",
     "text": [
      "파일 처리:  76%|███████▌  | 38/50 [00:14<00:04,  2.53it/s]"
     ]
    },
    {
     "name": "stdout",
     "output_type": "stream",
     "text": [
      "   최종 라벨: Buy 571개, Sell 571개, Hold 1404개\n",
      "   Future 라벨: Buy 3개, Sell 2개, Hold 2541개\n",
      "   Buy-Sell 균형: 571/571\n",
      "   ✅ 저장 완료: USDC_optimized.csv\n",
      "\n",
      "🔍 처리 중: USDE29470\n",
      "   📏 데이터 크기: (585, 54)\n",
      "   🏷️ 원본 라벨 분포: {0: 263, 1: 59, 2: 263}\n",
      "   백테스터 로직으로 유효 신호 추출 중...\n",
      "   원본 신호: Buy 263개, Sell 263개\n",
      "   유효 신호: Buy 76개, Sell 75개\n"
     ]
    },
    {
     "name": "stderr",
     "output_type": "stream",
     "text": [
      "파일 처리:  78%|███████▊  | 39/50 [00:14<00:03,  3.12it/s]"
     ]
    },
    {
     "name": "stdout",
     "output_type": "stream",
     "text": [
      "   최종 라벨: Buy 76개, Sell 75개, Hold 434개\n",
      "   Future 라벨: Buy 0개, Sell 0개, Hold 585개\n",
      "   Buy-Sell 균형: 75/76\n",
      "   ✅ 저장 완료: USDE29470_optimized.csv\n",
      "\n",
      "🔍 처리 중: USDS33039\n",
      "   📏 데이터 크기: (373, 54)\n",
      "   🏷️ 원본 라벨 분포: {0: 168, 1: 37, 2: 168}\n",
      "   백테스터 로직으로 유효 신호 추출 중...\n",
      "   원본 신호: Buy 168개, Sell 168개\n",
      "   유효 신호: Buy 88개, Sell 88개\n",
      "   최종 라벨: Buy 88개, Sell 88개, Hold 197개\n",
      "   Future 라벨: Buy 12개, Sell 12개, Hold 349개\n",
      "   Buy-Sell 균형: 88/88\n",
      "   ✅ 저장 완료: USDS33039_optimized.csv\n",
      "\n",
      "🔍 처리 중: USDT\n",
      "   📏 데이터 크기: (2879, 54)\n",
      "   🏷️ 원본 라벨 분포: {0: 1296, 1: 287, 2: 1296}\n",
      "   백테스터 로직으로 유효 신호 추출 중...\n",
      "   원본 신호: Buy 1296개, Sell 1296개\n",
      "   유효 신호: Buy 509개, Sell 508개\n"
     ]
    },
    {
     "name": "stderr",
     "output_type": "stream",
     "text": [
      "파일 처리:  82%|████████▏ | 41/50 [00:14<00:02,  3.05it/s]"
     ]
    },
    {
     "name": "stdout",
     "output_type": "stream",
     "text": [
      "   최종 라벨: Buy 509개, Sell 508개, Hold 1862개\n",
      "   Future 라벨: Buy 4개, Sell 3개, Hold 2872개\n",
      "   Buy-Sell 균형: 508/509\n",
      "   ✅ 저장 완료: USDT_optimized.csv\n",
      "\n",
      "🔍 처리 중: WBETH\n",
      "   📏 데이터 크기: (884, 54)\n",
      "   🏷️ 원본 라벨 분포: {0: 398, 1: 88, 2: 398}\n",
      "   백테스터 로직으로 유효 신호 추출 중...\n",
      "   원본 신호: Buy 398개, Sell 398개\n",
      "   유효 신호: Buy 64개, Sell 64개\n"
     ]
    },
    {
     "name": "stderr",
     "output_type": "stream",
     "text": [
      "파일 처리:  84%|████████▍ | 42/50 [00:15<00:02,  3.42it/s]"
     ]
    },
    {
     "name": "stdout",
     "output_type": "stream",
     "text": [
      "   최종 라벨: Buy 64개, Sell 64개, Hold 756개\n",
      "   Future 라벨: Buy 99개, Sell 98개, Hold 687개\n",
      "   Buy-Sell 균형: 64/64\n",
      "   ✅ 저장 완료: WBETH_optimized.csv\n",
      "\n",
      "🔍 처리 중: WBTC\n",
      "   📏 데이터 크기: (2432, 54)\n",
      "   🏷️ 원본 라벨 분포: {0: 1094, 1: 244, 2: 1094}\n",
      "   백테스터 로직으로 유효 신호 추출 중...\n",
      "   원본 신호: Buy 1094개, Sell 1094개\n",
      "   유효 신호: Buy 164개, Sell 164개\n"
     ]
    },
    {
     "name": "stderr",
     "output_type": "stream",
     "text": [
      "파일 처리:  86%|████████▌ | 43/50 [00:15<00:02,  2.95it/s]"
     ]
    },
    {
     "name": "stdout",
     "output_type": "stream",
     "text": [
      "   최종 라벨: Buy 164개, Sell 164개, Hold 2104개\n",
      "   Future 라벨: Buy 233개, Sell 233개, Hold 1966개\n",
      "   Buy-Sell 균형: 164/164\n",
      "   ✅ 저장 완료: WBTC_optimized.csv\n",
      "\n",
      "🔍 처리 중: WEETH\n",
      "   📏 데이터 크기: (654, 54)\n",
      "   🏷️ 원본 라벨 분포: {0: 294, 1: 66, 2: 294}\n",
      "   백테스터 로직으로 유효 신호 추출 중...\n",
      "   원본 신호: Buy 294개, Sell 294개\n",
      "   유효 신호: Buy 43개, Sell 43개\n"
     ]
    },
    {
     "name": "stderr",
     "output_type": "stream",
     "text": [
      "파일 처리:  88%|████████▊ | 44/50 [00:15<00:01,  3.12it/s]"
     ]
    },
    {
     "name": "stdout",
     "output_type": "stream",
     "text": [
      "   최종 라벨: Buy 43개, Sell 43개, Hold 568개\n",
      "   Future 라벨: Buy 75개, Sell 74개, Hold 505개\n",
      "   Buy-Sell 균형: 43/43\n",
      "   ✅ 저장 완료: WEETH_optimized.csv\n",
      "\n",
      "🔍 처리 중: WETH\n",
      "   📏 데이터 크기: (2812, 54)\n",
      "   🏷️ 원본 라벨 분포: {0: 1265, 1: 282, 2: 1265}\n",
      "   백테스터 로직으로 유효 신호 추출 중...\n",
      "   원본 신호: Buy 1265개, Sell 1265개\n",
      "   유효 신호: Buy 217개, Sell 217개\n"
     ]
    },
    {
     "name": "stderr",
     "output_type": "stream",
     "text": [
      "파일 처리:  90%|█████████ | 45/50 [00:16<00:01,  2.62it/s]"
     ]
    },
    {
     "name": "stdout",
     "output_type": "stream",
     "text": [
      "   최종 라벨: Buy 217개, Sell 217개, Hold 2378개\n",
      "   Future 라벨: Buy 429개, Sell 428개, Hold 1955개\n",
      "   Buy-Sell 균형: 217/217\n",
      "   ✅ 저장 완료: WETH_optimized.csv\n",
      "\n",
      "🔍 처리 중: WSTETH\n",
      "   📏 데이터 크기: (1451, 54)\n",
      "   🏷️ 원본 라벨 분포: {0: 653, 1: 145, 2: 653}\n",
      "   백테스터 로직으로 유효 신호 추출 중...\n",
      "   원본 신호: Buy 653개, Sell 653개\n",
      "   유효 신호: Buy 115개, Sell 115개\n"
     ]
    },
    {
     "name": "stderr",
     "output_type": "stream",
     "text": [
      "파일 처리:  92%|█████████▏| 46/50 [00:16<00:01,  2.83it/s]"
     ]
    },
    {
     "name": "stdout",
     "output_type": "stream",
     "text": [
      "   최종 라벨: Buy 115개, Sell 115개, Hold 1221개\n",
      "   Future 라벨: Buy 177개, Sell 176개, Hold 1098개\n",
      "   Buy-Sell 균형: 115/115\n",
      "   ✅ 저장 완료: WSTETH_optimized.csv\n",
      "\n",
      "🔍 처리 중: WTRX\n",
      "   📏 데이터 크기: (1302, 54)\n",
      "   🏷️ 원본 라벨 분포: {0: 586, 1: 130, 2: 586}\n",
      "   백테스터 로직으로 유효 신호 추출 중...\n",
      "   원본 신호: Buy 586개, Sell 586개\n",
      "   유효 신호: Buy 105개, Sell 105개\n"
     ]
    },
    {
     "name": "stderr",
     "output_type": "stream",
     "text": [
      "파일 처리:  94%|█████████▍| 47/50 [00:17<00:01,  2.85it/s]"
     ]
    },
    {
     "name": "stdout",
     "output_type": "stream",
     "text": [
      "   최종 라벨: Buy 105개, Sell 105개, Hold 1092개\n",
      "   Future 라벨: Buy 99개, Sell 98개, Hold 1105개\n",
      "   Buy-Sell 균형: 105/105\n",
      "   ✅ 저장 완료: WTRX_optimized.csv\n",
      "\n",
      "🔍 처리 중: XLM\n",
      "   📏 데이터 크기: (2879, 54)\n",
      "   🏷️ 원본 라벨 분포: {0: 1296, 1: 287, 2: 1296}\n",
      "   백테스터 로직으로 유효 신호 추출 중...\n",
      "   원본 신호: Buy 1296개, Sell 1296개\n",
      "   유효 신호: Buy 198개, Sell 197개\n"
     ]
    },
    {
     "name": "stderr",
     "output_type": "stream",
     "text": [
      "파일 처리:  96%|█████████▌| 48/50 [00:17<00:00,  2.45it/s]"
     ]
    },
    {
     "name": "stdout",
     "output_type": "stream",
     "text": [
      "   최종 라벨: Buy 198개, Sell 197개, Hold 2484개\n",
      "   Future 라벨: Buy 405개, Sell 404개, Hold 2070개\n",
      "   Buy-Sell 균형: 197/198\n",
      "   ✅ 저장 완료: XLM_optimized.csv\n",
      "\n",
      "🔍 처리 중: XMR\n",
      "   📏 데이터 크기: (2879, 54)\n",
      "   🏷️ 원본 라벨 분포: {0: 1296, 1: 287, 2: 1296}\n",
      "   백테스터 로직으로 유효 신호 추출 중...\n",
      "   원본 신호: Buy 1296개, Sell 1296개\n",
      "   유효 신호: Buy 254개, Sell 254개\n"
     ]
    },
    {
     "name": "stderr",
     "output_type": "stream",
     "text": [
      "파일 처리:  98%|█████████▊| 49/50 [00:18<00:00,  2.25it/s]"
     ]
    },
    {
     "name": "stdout",
     "output_type": "stream",
     "text": [
      "   최종 라벨: Buy 254개, Sell 254개, Hold 2371개\n",
      "   Future 라벨: Buy 417개, Sell 417개, Hold 2045개\n",
      "   Buy-Sell 균형: 254/254\n",
      "   ✅ 저장 완료: XMR_optimized.csv\n",
      "\n",
      "🔍 처리 중: XRP\n",
      "   📏 데이터 크기: (2879, 54)\n",
      "   🏷️ 원본 라벨 분포: {0: 1296, 1: 287, 2: 1296}\n",
      "   백테스터 로직으로 유효 신호 추출 중...\n",
      "   원본 신호: Buy 1296개, Sell 1296개\n",
      "   유효 신호: Buy 203개, Sell 203개\n"
     ]
    },
    {
     "name": "stderr",
     "output_type": "stream",
     "text": [
      "파일 처리: 100%|██████████| 50/50 [00:18<00:00,  2.68it/s]"
     ]
    },
    {
     "name": "stdout",
     "output_type": "stream",
     "text": [
      "   최종 라벨: Buy 203개, Sell 203개, Hold 2473개\n",
      "   Future 라벨: Buy 373개, Sell 373개, Hold 2133개\n",
      "   Buy-Sell 균형: 203/203\n",
      "   ✅ 저장 완료: XRP_optimized.csv\n",
      "\n",
      "================================================================================\n",
      "🎯 암호화폐 라벨 최적화 완료!\n",
      "   성공: 50개 암호화폐\n",
      "   저장 경로: /workspace/AI모델/projects/coin/data/v01/optimized\n",
      "   파일 형식: [심볼명]_optimized.csv\n",
      "\n",
      "📊 심볼별 라벨 통계:\n",
      "심볼       원본 Buy     최적 Buy     Future Buy   원본 Sell     최적 Sell     Future Sell\n",
      "-------------------------------------------------------------------------------------\n",
      "AAVE     819        130        326          820         130         325\n",
      "ADA      1296       173        434          1296        173         433\n",
      "AETHWETH 62         12         15           62          12          14\n",
      "ALGO     1031       156        393          1031        156         392\n",
      "AVAX     825        128        304          825         128         304\n",
      "BCH      1296       223        423          1296        223         422\n",
      "BGB      685        103        142          685         103         142\n",
      "BNB      1296       197        355          1296        197         355\n",
      "BTCB     1032       173        249          1032        173         249\n",
      "BTC      1765       250        375          1765        250         375\n",
      "CBBTC32994 171        22         34           171         22          34\n",
      "CRO      1116       144        328          1116        144         327\n",
      "DAI      961        490        11           961         489         11\n",
      "DOGE     1296       181        399          1296        181         398\n",
      "DOT      839        137        307          839         136         306\n",
      "ENA      244        46         102          244         45          101\n",
      "ETH      1296       183        396          1296        183         395\n",
      "HBAR     991        144        334          991         144         333\n",
      "HYPE32196 136        21         57           136         21          56\n",
      "JITOSOL  476        76         160          476         76          159\n",
      "LEO      1045       192        161          1045        192         160\n",
      "LINK     1296       203        496          1296        203         495\n",
      "LTC      1765       264        532          1765        264         531\n",
      "MNT27075 360        57         99           360         57          98\n",
      "NEAR     814        120        314          814         120         314\n",
      "OKB      1054       144        274          1054        144         273\n",
      "PEPE24478 402        69         88           453         69          88\n",
      "SEI      347        55         142          347         55          141\n",
      "SHIB     829        135        200          960         135         200\n",
      "SOL      898        121        340          898         121         339\n",
      "STETH    783        123        227          783         123         226\n",
      "SUI20947 395        62         147          395         62          146\n",
      "SUSDE    262        54         0            262         54          0\n",
      "TAO22974 422        73         159          422         73          159\n",
      "TON11419 671        104        189          671         104         188\n",
      "TRX      1296       214        351          1296        214         350\n",
      "UNI7083  826        128        326          826         128         325\n",
      "USDC     1146       571        3            1146        571         2\n",
      "USDE29470 263        76         0            263         75          0\n",
      "USDS33039 168        88         12           168         88          12\n",
      "USDT     1296       509        4            1296        508         3\n",
      "WBETH    398        64         99           398         64          98\n",
      "WBTC     1094       164        233          1094        164         233\n",
      "WEETH    294        43         75           294         43          74\n",
      "WETH     1265       217        429          1265        217         428\n",
      "WSTETH   653        115        177          653         115         176\n",
      "WTRX     586        105        99           586         105         98\n",
      "XLM      1296       198        405          1296        197         404\n",
      "XMR      1296       254        417          1296        254         417\n",
      "XRP      1296       203        373          1296        203         373\n",
      "\n",
      "📊 라벨 성능 비교 분석\n",
      "============================================================\n",
      "라벨 분포 비교:\n",
      "라벨              원본       최적화      Future  \n",
      "---------------------------------------------\n",
      "Strong_Sell     820      130      325     \n",
      "Hold            182      1561     1170    \n",
      "Strong_Buy      819      130      326     \n",
      "\n",
      "매매 패턴 분석:\n",
      "지표                   원본           최적화          Future      \n",
      "------------------------------------------------------------\n",
      "완전 매매 횟수             130          130          325         \n",
      "평균 보유기간              7.0일       7.0일       2.8일\n"
     ]
    },
    {
     "name": "stderr",
     "output_type": "stream",
     "text": [
      "\n"
     ]
    }
   ],
   "source": [
    "# 사용 예시\n",
    "if __name__ == \"__main__\":\n",
    "    # 예시 경로\n",
    "    input_path = \"/workspace/AI모델/projects/coin/data/v01/labeled\"\n",
    "    output_path = \"/workspace/AI모델/projects/coin/data/v01/optimized\"\n",
    "    \n",
    "    # 전체 종목 처리\n",
    "    optimized_cryptos = process_stocks_with_optimized_labels(\n",
    "        input_path=input_path,\n",
    "        output_path=output_path,\n",
    "        window=1  # 1일 윈도우 (최적화 없음, 백테스터 로직만 적용)\n",
    "    )\n",
    "    \n",
    "    # 결과가 있으면 성능 비교\n",
    "    if optimized_cryptos:\n",
    "        # 첫 번째 심볼로 성능 비교 예시\n",
    "        first_symbol = list(optimized_cryptos.keys())[0]\n",
    "        compare_crypto_label_performance(optimized_cryptos[first_symbol])"
   ]
  },
  {
   "cell_type": "code",
   "execution_count": null,
   "id": "ba9d926c",
   "metadata": {},
   "outputs": [],
   "source": []
  },
  {
   "cell_type": "code",
   "execution_count": null,
   "id": "fa96d19d",
   "metadata": {},
   "outputs": [],
   "source": []
  }
 ],
 "metadata": {
  "kernelspec": {
   "display_name": "base",
   "language": "python",
   "name": "python3"
  },
  "language_info": {
   "codemirror_mode": {
    "name": "ipython",
    "version": 3
   },
   "file_extension": ".py",
   "mimetype": "text/x-python",
   "name": "python",
   "nbconvert_exporter": "python",
   "pygments_lexer": "ipython3",
   "version": "3.10.11"
  }
 },
 "nbformat": 4,
 "nbformat_minor": 5
}
