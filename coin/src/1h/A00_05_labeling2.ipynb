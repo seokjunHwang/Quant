{
 "cells": [
  {
   "cell_type": "markdown",
   "id": "bbcad63b",
   "metadata": {},
   "source": [
    "# labeling 2\n",
    "# 중요 !! : 메이저는 따로 A00_07을 돌려야함!\n",
    "### 1. 백테스팅할때 방식처럼 1번 매수하면 그사이 매수는 무시하고 다음 sell로 넘어가는 1회,1회 매매하는대로 라벨을 선정\n",
    "### 2. 1일 뒤를 기준으로 라벨을 삼는 Future_label 생성\n",
    "- Future_label이 모델학습시 찐라벨이 됨. 실제보다 하루 앞당겨져있음.\n"
   ]
  },
  {
   "cell_type": "code",
   "execution_count": 6,
   "id": "91e6f5f7",
   "metadata": {},
   "outputs": [],
   "source": [
    "import pandas as pd\n",
    "import numpy as np\n",
    "import matplotlib.pyplot as plt\n",
    "import glob\n",
    "import os\n",
    "from tqdm import tqdm\n",
    "import warnings\n",
    "warnings.filterwarnings('ignore')\n"
   ]
  },
  {
   "cell_type": "code",
   "execution_count": 1,
   "id": "a80071b4",
   "metadata": {},
   "outputs": [],
   "source": [
    "import pandas as pd\n",
    "import numpy as np\n",
    "from tqdm import tqdm\n",
    "import os\n",
    "\n",
    "def create_optimized_labels(df, window=5):\n",
    "    \"\"\"\n",
    "    백테스터와 동일한 로직으로 라벨 생성 + 타이밍 최적화\n",
    "    \n",
    "    Parameters:\n",
    "    -----------\n",
    "    df : pd.DataFrame\n",
    "        원본 데이터 (Close, Label 컬럼 필요)\n",
    "    window : int\n",
    "        타이밍 최적화 윈도우 (앞뒤 며칠)\n",
    "    \n",
    "    Returns:\n",
    "    --------\n",
    "    pd.DataFrame : 최적화된 라벨이 추가된 데이터\n",
    "    \"\"\"\n",
    "    \n",
    "    result_df = df.copy()\n",
    "    n = len(df)\n",
    "    \n",
    "    # 원본 라벨\n",
    "    original_labels = df['Label'].values\n",
    "    \n",
    "    # 1단계: 백테스터와 동일한 로직으로 유효한 신호만 추출\n",
    "    valid_signals = []  # (index, signal_type) 형태로 저장\n",
    "    current_position = 'CASH'  # CASH 또는 LONG\n",
    "    \n",
    "    # print(f\"백테스터 로직으로 유효 신호 추출 중...\")\n",
    "    \n",
    "    for i in range(n):\n",
    "        current_label = original_labels[i]\n",
    "        \n",
    "        # 백테스터와 동일한 매매 조건\n",
    "        if current_label == 2 and current_position == 'CASH':  # Buy 가능\n",
    "            valid_signals.append((i, 'BUY'))\n",
    "            current_position = 'LONG'\n",
    "            \n",
    "        elif current_label == 0 and current_position == 'LONG':  # Sell 가능\n",
    "            valid_signals.append((i, 'SELL'))\n",
    "            current_position = 'CASH'\n",
    "    \n",
    "    buy_signals = [idx for idx, signal in valid_signals if signal == 'BUY']\n",
    "    sell_signals = [idx for idx, signal in valid_signals if signal == 'SELL']\n",
    "    \n",
    "    # print(f\"원본 신호: Buy {sum(original_labels == 2)}개, Sell {sum(original_labels == 0)}개\")\n",
    "    # print(f\"유효 신호: Buy {len(buy_signals)}개, Sell {len(sell_signals)}개\")\n",
    "    \n",
    "    # 2단계: 타이밍 최적화\n",
    "    optimized_buy_signals = []\n",
    "    optimized_sell_signals = []\n",
    "    \n",
    "    # Buy 신호 최적화 (앞뒤 window일 중 가장 낮은 가격일)\n",
    "    for buy_idx in buy_signals:\n",
    "        start_idx = max(0, buy_idx - window)\n",
    "        end_idx = min(n - 1, buy_idx + window)\n",
    "        \n",
    "        # 해당 구간의 종가들과 인덱스들\n",
    "        window_section = df.iloc[start_idx:end_idx + 1]\n",
    "        min_price_idx = window_section['Close'].idxmin()\n",
    "        \n",
    "        # DataFrame 인덱스를 정수 인덱스로 변환\n",
    "        best_buy_idx = df.index.get_loc(min_price_idx)\n",
    "        optimized_buy_signals.append(best_buy_idx)\n",
    "    \n",
    "    # Sell 신호 최적화 (앞뒤 window일 중 가장 높은 가격일)\n",
    "    for sell_idx in sell_signals:\n",
    "        start_idx = max(0, sell_idx - window)\n",
    "        end_idx = min(n - 1, sell_idx + window)\n",
    "        \n",
    "        # 해당 구간의 종가들과 인덱스들\n",
    "        window_section = df.iloc[start_idx:end_idx + 1]\n",
    "        max_price_idx = window_section['Close'].idxmax()\n",
    "        \n",
    "        # DataFrame 인덱스를 정수 인덱스로 변환\n",
    "        best_sell_idx = df.index.get_loc(max_price_idx)\n",
    "        optimized_sell_signals.append(best_sell_idx)\n",
    "    \n",
    "    # 3단계: 최적화된 라벨 생성\n",
    "    optimized_labels = np.ones(n, dtype=int)  # 기본값: Hold(1)\n",
    "    \n",
    "    # Buy 신호 적용\n",
    "    for buy_idx in optimized_buy_signals:\n",
    "        if 0 <= buy_idx < n:\n",
    "            optimized_labels[buy_idx] = 2  # Strong_Buy\n",
    "    \n",
    "    # Sell 신호 적용\n",
    "    for sell_idx in optimized_sell_signals:\n",
    "        if 0 <= sell_idx < n:\n",
    "            optimized_labels[sell_idx] = 0  # Strong_Sell\n",
    "    \n",
    "    # 4단계: 최종 검증 (백테스터 로직 재확인)\n",
    "    final_labels = np.ones(n, dtype=int)  # 기본값: Hold(1)\n",
    "    current_position = 'CASH'\n",
    "    \n",
    "    for i in range(n):\n",
    "        current_label = optimized_labels[i]\n",
    "        \n",
    "        if current_label == 2 and current_position == 'CASH':  # Buy 가능\n",
    "            final_labels[i] = 2\n",
    "            current_position = 'LONG'\n",
    "            \n",
    "        elif current_label == 0 and current_position == 'LONG':  # Sell 가능\n",
    "            final_labels[i] = 0\n",
    "            current_position = 'CASH'\n",
    "        \n",
    "        # 나머지는 Hold(1) 유지\n",
    "    \n",
    "    # 결과 저장\n",
    "    result_df['Optimized_Label'] = final_labels\n",
    "    \n",
    "    # 라벨명 추가\n",
    "    label_names = {0: 'Strong_Sell', 1: 'Hold', 2: 'Strong_Buy'}\n",
    "    result_df['Optimized_Label_Name'] = result_df['Optimized_Label'].map(label_names)\n",
    "    \n",
    "    # 최종 통계\n",
    "    final_buy_count = sum(final_labels == 2)\n",
    "    final_sell_count = sum(final_labels == 0)\n",
    "    final_hold_count = sum(final_labels == 1)\n",
    "    \n",
    "    # print(f\"최종 라벨: Buy {final_buy_count}개, Sell {final_sell_count}개, Hold {final_hold_count}개\")\n",
    "    # print(f\"Buy-Sell 균형: {min(final_buy_count, final_sell_count)}/{max(final_buy_count, final_sell_count)}\")\n",
    "    \n",
    "    # 연속 신호 검증\n",
    "    consecutive_issues = 0\n",
    "    for i in range(1, n):\n",
    "        if final_labels[i-1] == 2 and final_labels[i] == 2:  # 연속 Buy\n",
    "            consecutive_issues += 1\n",
    "        elif final_labels[i-1] == 0 and final_labels[i] == 0:  # 연속 Sell\n",
    "            consecutive_issues += 1\n",
    "    \n",
    "    if consecutive_issues == 0:\n",
    "        # print(\"✅ 연속 신호 없음 - 백테스터 호환 완료!\")\n",
    "        pass\n",
    "    else:\n",
    "        print(f\"⚠️ 연속 신호 {consecutive_issues}개 발견\")\n",
    "    \n",
    "    return result_df\n",
    "\n",
    "def create_optimized_labels_for_all_stocks(stocks_data, window=5, save_path=\"optimized_stock_data\"):\n",
    "    \"\"\"\n",
    "    모든 종목에 대해 최적화된 라벨 생성\n",
    "    \n",
    "    Parameters:\n",
    "    -----------\n",
    "    stocks_data : dict\n",
    "        종목별 데이터 딕셔너리\n",
    "    window : int\n",
    "        타이밍 최적화 윈도우\n",
    "    save_path : str\n",
    "        저장 경로\n",
    "    \n",
    "    Returns:\n",
    "    --------\n",
    "    dict : 최적화된 라벨이 포함된 종목 데이터\n",
    "    \"\"\"\n",
    "    \n",
    "    # 저장 경로 생성\n",
    "    os.makedirs(save_path, exist_ok=True)\n",
    "    \n",
    "    optimized_stocks = {}\n",
    "    \n",
    "    print(f\"최적화된 라벨 생성 중... (윈도우: {window}일)\")\n",
    "    print(\"=\"*60)\n",
    "    \n",
    "    for symbol in tqdm(stocks_data.keys(), desc=\"라벨 최적화\"):\n",
    "        try:\n",
    "            df = stocks_data[symbol].copy()\n",
    "            \n",
    "            # 필수 컬럼 확인\n",
    "            if 'Close' not in df.columns or 'Label' not in df.columns:\n",
    "                print(f\"⚠️ {symbol}: 필수 컬럼 누락 (Close, Label)\")\n",
    "                continue\n",
    "            \n",
    "            print(f\"\\n처리 중: {symbol}\")\n",
    "            \n",
    "            # 최적화된 라벨 생성\n",
    "            optimized_df = create_optimized_labels(df, window=window)\n",
    "            \n",
    "            # 결과 저장\n",
    "            optimized_stocks[symbol] = optimized_df\n",
    "            \n",
    "            # CSV 저장\n",
    "            optimized_df.to_csv(f\"{save_path}/{symbol}_optimized.csv\")\n",
    "            \n",
    "            print(f\"✅ {symbol}: 저장 완료\")\n",
    "            \n",
    "        except Exception as e:\n",
    "            print(f\"❌ {symbol}: 오류 발생 - {e}\")\n",
    "            continue\n",
    "    \n",
    "    print(f\"\\n전체 최적화 완료!\")\n",
    "    print(f\"성공: {len(optimized_stocks)}개\")\n",
    "    print(f\"저장 경로: {save_path}\")\n",
    "    \n",
    "    return optimized_stocks\n",
    "\n",
    "def compare_label_performance(df, original_col='Label', optimized_col='Optimized_Label'):\n",
    "    \"\"\"\n",
    "    원본 라벨 vs 최적화된 라벨 성능 비교\n",
    "    \n",
    "    Parameters:\n",
    "    -----------\n",
    "    df : pd.DataFrame\n",
    "        두 라벨이 모두 있는 데이터\n",
    "    original_col : str\n",
    "        원본 라벨 컬럼명\n",
    "    optimized_col : str\n",
    "        최적화된 라벨 컬럼명\n",
    "    \n",
    "    Returns:\n",
    "    --------\n",
    "    dict : 비교 결과\n",
    "    \"\"\"\n",
    "    \n",
    "    result = {}\n",
    "    \n",
    "    # 라벨 분포 비교\n",
    "    original_dist = df[original_col].value_counts().sort_index()\n",
    "    optimized_dist = df[optimized_col].value_counts().sort_index()\n",
    "    \n",
    "    print(\"라벨 분포 비교:\")\n",
    "    print(f\"{'라벨':<15} {'원본':<10} {'최적화':<10} {'변화':<10}\")\n",
    "    print(\"-\" * 45)\n",
    "    \n",
    "    for label in [0, 1, 2]:\n",
    "        orig_count = original_dist.get(label, 0)\n",
    "        opt_count = optimized_dist.get(label, 0)\n",
    "        change = opt_count - orig_count\n",
    "        \n",
    "        label_name = {0: 'Strong_Sell', 1: 'Hold', 2: 'Strong_Buy'}[label]\n",
    "        print(f\"{label_name:<15} {orig_count:<10} {opt_count:<10} {change:+d}\")\n",
    "    \n",
    "    # 신호 간격 분석 (Buy-Sell 패턴)\n",
    "    def analyze_signal_pattern(labels):\n",
    "        buy_indices = np.where(labels == 2)[0]\n",
    "        sell_indices = np.where(labels == 0)[0]\n",
    "        \n",
    "        if len(buy_indices) == 0 or len(sell_indices) == 0:\n",
    "            return {'avg_hold_period': 0, 'num_complete_trades': 0}\n",
    "        \n",
    "        # 완전한 매매 사이클 찾기\n",
    "        complete_trades = 0\n",
    "        hold_periods = []\n",
    "        \n",
    "        current_position = 'CASH'\n",
    "        last_buy_idx = None\n",
    "        \n",
    "        for i in range(len(labels)):\n",
    "            if labels[i] == 2 and current_position == 'CASH':  # Buy\n",
    "                last_buy_idx = i\n",
    "                current_position = 'LONG'\n",
    "            elif labels[i] == 0 and current_position == 'LONG':  # Sell\n",
    "                if last_buy_idx is not None:\n",
    "                    hold_period = i - last_buy_idx\n",
    "                    hold_periods.append(hold_period)\n",
    "                    complete_trades += 1\n",
    "                current_position = 'CASH'\n",
    "        \n",
    "        avg_hold_period = np.mean(hold_periods) if hold_periods else 0\n",
    "        \n",
    "        return {\n",
    "            'avg_hold_period': avg_hold_period,\n",
    "            'num_complete_trades': complete_trades\n",
    "        }\n",
    "    \n",
    "    # 패턴 분석\n",
    "    original_pattern = analyze_signal_pattern(df[original_col].values)\n",
    "    optimized_pattern = analyze_signal_pattern(df[optimized_col].values)\n",
    "    \n",
    "    print(f\"\\n매매 패턴 분석:\")\n",
    "    print(f\"{'지표':<20} {'원본':<15} {'최적화':<15}\")\n",
    "    print(\"-\" * 50)\n",
    "    print(f\"{'완전 매매 횟수':<20} {original_pattern['num_complete_trades']:<15} {optimized_pattern['num_complete_trades']:<15}\")\n",
    "    print(f\"{'평균 보유기간':<20} {original_pattern['avg_hold_period']:.1f}일{'':<8} {optimized_pattern['avg_hold_period']:.1f}일\")\n",
    "    \n",
    "    return {\n",
    "        'original_distribution': original_dist.to_dict(),\n",
    "        'optimized_distribution': optimized_dist.to_dict(),\n",
    "        'original_pattern': original_pattern,\n",
    "        'optimized_pattern': optimized_pattern\n",
    "    }\n",
    "\n",
    "# 메인 실행 함수\n",
    "def process_stocks_with_optimized_labels(input_path, output_path, window=5, test_symbols=None):\n",
    "    \"\"\"\n",
    "    기존 CSV 파일들을 읽어서 최적화된 라벨을 적용하고 새로운 경로에 저장\n",
    "\n",
    "    \"\"\"\n",
    "    \n",
    "    import glob\n",
    "    \n",
    "    print(f\"📁 입력 경로: {input_path}\")\n",
    "    print(f\"📁 출력 경로: {output_path}\")\n",
    "    print(f\"🔧 최적화 윈도우: {window}일\")\n",
    "    print(\"=\"*80)\n",
    "    \n",
    "    # 다양한 CSV 파일 패턴 시도\n",
    "    patterns = [\n",
    "        \"*_enhanced.csv\",    # enhanced 파일들\n",
    "        \"*_cleaned.csv\",     # cleaned 파일들  \n",
    "        \"*.csv\"              # 모든 CSV 파일들\n",
    "    ]\n",
    "    \n",
    "    csv_files = []\n",
    "    used_pattern = None\n",
    "    \n",
    "    for pattern in patterns:\n",
    "        files = glob.glob(os.path.join(input_path, pattern))\n",
    "        if files:\n",
    "            csv_files = files\n",
    "            used_pattern = pattern\n",
    "            print(f\"✅ 파일 패턴 발견: {pattern} ({len(files)}개 파일)\")\n",
    "            break\n",
    "    \n",
    "    if not csv_files:\n",
    "        print(f\"❌ CSV 파일을 찾을 수 없습니다: {input_path}\")\n",
    "        print(f\"   시도한 패턴: {', '.join(patterns)}\")\n",
    "        return None\n",
    "    \n",
    "    # 출력 경로 생성\n",
    "    os.makedirs(output_path, exist_ok=True)\n",
    "    print(f\"📂 출력 디렉토리 생성/확인: {output_path}\")\n",
    "    \n",
    "    # 데이터 로딩\n",
    "    stocks_data = {}\n",
    "    \n",
    "    print(f\"\\n📊 CSV 파일 로딩 중...\")\n",
    "    for file_path in tqdm(csv_files, desc=\"파일 로딩\"):\n",
    "        filename = os.path.basename(file_path)\n",
    "        \n",
    "        # 종목명 추출 (다양한 접미사 제거)\n",
    "        symbol = filename.replace('.csv', '')\n",
    "        for suffix in ['_enhanced', '_cleaned', '_processed', '_features']:\n",
    "            symbol = symbol.replace(suffix, '')\n",
    "        \n",
    "        # 특정 종목만 처리하는 경우\n",
    "        if test_symbols and symbol not in test_symbols:\n",
    "            continue\n",
    "        \n",
    "        try:\n",
    "            # CSV 읽기 (첫 번째 컬럼을 날짜 인덱스로)\n",
    "            df = pd.read_csv(file_path)\n",
    "            \n",
    "            # 날짜 인덱스 설정\n",
    "            if 'Date' in df.columns:\n",
    "                df['Date'] = pd.to_datetime(df['Date'])\n",
    "                df.set_index('Date', inplace=True)\n",
    "            elif 'Unnamed: 0' in df.columns:\n",
    "                df.index = pd.to_datetime(df['Unnamed: 0'])\n",
    "                df.drop('Unnamed: 0', axis=1, inplace=True)\n",
    "            else:\n",
    "                df.index = pd.to_datetime(df.index)\n",
    "            \n",
    "            # 필수 컬럼 확인\n",
    "            if 'Close' not in df.columns:\n",
    "                print(f\"⚠️ {symbol}: Close 컬럼 없음\")\n",
    "                continue\n",
    "                \n",
    "            if 'Label' not in df.columns:\n",
    "                print(f\"⚠️ {symbol}: Label 컬럼 없음\")\n",
    "                continue\n",
    "            \n",
    "            stocks_data[symbol] = df\n",
    "            \n",
    "        except Exception as e:\n",
    "            print(f\"❌ 파일 로딩 실패: {filename} - {e}\")\n",
    "            continue\n",
    "    \n",
    "    print(f\"✅ 로딩 완료: {len(stocks_data)}개 종목\")\n",
    "    \n",
    "    if len(stocks_data) == 0:\n",
    "        print(\"❌ 유효한 데이터가 없습니다.\")\n",
    "        return None\n",
    "    \n",
    "    # 최적화된 라벨 생성 및 저장\n",
    "    print(f\"\\n🔄 최적화된 라벨 생성 중...\")\n",
    "    optimized_stocks = {}\n",
    "    \n",
    "    for symbol in tqdm(stocks_data.keys(), desc=\"라벨 최적화\"):\n",
    "        try:\n",
    "            df = stocks_data[symbol].copy()\n",
    "            \n",
    "            print(f\"\\n🔍 처리 중: {symbol} ({len(df)}행)\")\n",
    "            \n",
    "            # 최적화된 라벨 생성\n",
    "            optimized_df = create_optimized_labels(df, window=window)\n",
    "            \n",
    "            # 결과 저장\n",
    "            optimized_stocks[symbol] = optimized_df\n",
    "            \n",
    "            # CSV 파일로 저장 (원본 파일명 유지하되 경로만 변경)\n",
    "            output_filename = f\"{symbol}_optimized.csv\"\n",
    "            output_file_path = os.path.join(output_path, output_filename)\n",
    "            optimized_df.to_csv(output_file_path)\n",
    "            \n",
    "            print(f\"✅ {symbol}: 저장 완료 → {output_filename}\")\n",
    "            \n",
    "        except Exception as e:\n",
    "            print(f\"❌ {symbol}: 오류 발생 - {e}\")\n",
    "            continue\n",
    "    \n",
    "    # 최종 결과 요약\n",
    "    print(f\"\\n\" + \"=\"*80)\n",
    "    print(f\"🎯 최적화 완료!\")\n",
    "    print(f\"   성공: {len(optimized_stocks)}개 종목\")\n",
    "    print(f\"   실패: {len(stocks_data) - len(optimized_stocks)}개 종목\")\n",
    "    print(f\"   저장 경로: {output_path}\")\n",
    "    print(f\"   파일 형식: [종목명]_optimized.csv\")\n",
    "    \n",
    "    return optimized_stocks\n",
    "\n",
    "# 간편 사용 함수 (기존 함수명 유지)\n",
    "def process_enhanced_stocks_to_optimized(input_path, output_path, window=1, test_symbols=None):\n",
    "    \"\"\"기존 함수명과의 호환성을 위한 래퍼 함수\"\"\"\n",
    "    return process_stocks_with_optimized_labels(input_path, output_path, window, test_symbols)"
   ]
  },
  {
   "cell_type": "markdown",
   "id": "21edff3c",
   "metadata": {},
   "source": [
    "# 실행"
   ]
  },
  {
   "cell_type": "code",
   "execution_count": 2,
   "id": "16a31e78",
   "metadata": {},
   "outputs": [
    {
     "name": "stdout",
     "output_type": "stream",
     "text": [
      "📁 입력 경로: /workspace/AI모델/projects/coin/data/1h/labeling/00\n",
      "📁 출력 경로: /workspace/AI모델/projects/coin/data/1h/labeling/01\n",
      "🔧 최적화 윈도우: 1일\n",
      "================================================================================\n",
      "✅ 파일 패턴 발견: *_enhanced.csv (20개 파일)\n",
      "📂 출력 디렉토리 생성/확인: /workspace/AI모델/projects/coin/data/1h/labeling/01\n",
      "\n",
      "📊 CSV 파일 로딩 중...\n"
     ]
    },
    {
     "name": "stderr",
     "output_type": "stream",
     "text": [
      "파일 로딩:   0%|          | 0/20 [00:00<?, ?it/s]"
     ]
    },
    {
     "name": "stderr",
     "output_type": "stream",
     "text": [
      "파일 로딩: 100%|██████████| 20/20 [00:15<00:00,  1.28it/s]\n"
     ]
    },
    {
     "name": "stdout",
     "output_type": "stream",
     "text": [
      "✅ 로딩 완료: 20개 종목\n",
      "\n",
      "🔄 최적화된 라벨 생성 중...\n"
     ]
    },
    {
     "name": "stderr",
     "output_type": "stream",
     "text": [
      "라벨 최적화:   0%|          | 0/20 [00:00<?, ?it/s]"
     ]
    },
    {
     "name": "stdout",
     "output_type": "stream",
     "text": [
      "\n",
      "🔍 처리 중: ADA (17299행)\n"
     ]
    },
    {
     "name": "stderr",
     "output_type": "stream",
     "text": [
      "라벨 최적화:   5%|▌         | 1/20 [00:04<01:33,  4.93s/it]"
     ]
    },
    {
     "name": "stdout",
     "output_type": "stream",
     "text": [
      "✅ ADA: 저장 완료 → ADA_optimized.csv\n",
      "\n",
      "🔍 처리 중: AVAX (17291행)\n"
     ]
    },
    {
     "name": "stderr",
     "output_type": "stream",
     "text": [
      "라벨 최적화:  10%|█         | 2/20 [00:09<01:27,  4.87s/it]"
     ]
    },
    {
     "name": "stdout",
     "output_type": "stream",
     "text": [
      "✅ AVAX: 저장 완료 → AVAX_optimized.csv\n",
      "\n",
      "🔍 처리 중: BCH (17302행)\n"
     ]
    },
    {
     "name": "stderr",
     "output_type": "stream",
     "text": [
      "라벨 최적화:  15%|█▌        | 3/20 [00:14<01:23,  4.89s/it]"
     ]
    },
    {
     "name": "stdout",
     "output_type": "stream",
     "text": [
      "✅ BCH: 저장 완료 → BCH_optimized.csv\n",
      "\n",
      "🔍 처리 중: BNB (17302행)\n"
     ]
    },
    {
     "name": "stderr",
     "output_type": "stream",
     "text": [
      "라벨 최적화:  20%|██        | 4/20 [00:19<01:18,  4.89s/it]"
     ]
    },
    {
     "name": "stdout",
     "output_type": "stream",
     "text": [
      "✅ BNB: 저장 완료 → BNB_optimized.csv\n",
      "\n",
      "🔍 처리 중: BTC (17302행)\n"
     ]
    },
    {
     "name": "stderr",
     "output_type": "stream",
     "text": [
      "라벨 최적화:  25%|██▌       | 5/20 [00:24<01:13,  4.89s/it]"
     ]
    },
    {
     "name": "stdout",
     "output_type": "stream",
     "text": [
      "✅ BTC: 저장 완료 → BTC_optimized.csv\n",
      "\n",
      "🔍 처리 중: CRO (17293행)\n"
     ]
    },
    {
     "name": "stderr",
     "output_type": "stream",
     "text": [
      "라벨 최적화:  30%|███       | 6/20 [00:29<01:08,  4.92s/it]"
     ]
    },
    {
     "name": "stdout",
     "output_type": "stream",
     "text": [
      "✅ CRO: 저장 완료 → CRO_optimized.csv\n",
      "\n",
      "🔍 처리 중: DOGE (17293행)\n"
     ]
    },
    {
     "name": "stderr",
     "output_type": "stream",
     "text": [
      "라벨 최적화:  35%|███▌      | 7/20 [00:34<01:02,  4.84s/it]"
     ]
    },
    {
     "name": "stdout",
     "output_type": "stream",
     "text": [
      "✅ DOGE: 저장 완료 → DOGE_optimized.csv\n",
      "\n",
      "🔍 처리 중: ETH (17298행)\n"
     ]
    },
    {
     "name": "stderr",
     "output_type": "stream",
     "text": [
      "라벨 최적화:  40%|████      | 8/20 [00:38<00:57,  4.81s/it]"
     ]
    },
    {
     "name": "stdout",
     "output_type": "stream",
     "text": [
      "✅ ETH: 저장 완료 → ETH_optimized.csv\n",
      "\n",
      "🔍 처리 중: HBAR (17301행)\n"
     ]
    },
    {
     "name": "stderr",
     "output_type": "stream",
     "text": [
      "라벨 최적화:  45%|████▌     | 9/20 [00:43<00:52,  4.82s/it]"
     ]
    },
    {
     "name": "stdout",
     "output_type": "stream",
     "text": [
      "✅ HBAR: 저장 완료 → HBAR_optimized.csv\n",
      "\n",
      "🔍 처리 중: LEO (17301행)\n"
     ]
    },
    {
     "name": "stderr",
     "output_type": "stream",
     "text": [
      "라벨 최적화:  50%|█████     | 10/20 [00:48<00:48,  4.88s/it]"
     ]
    },
    {
     "name": "stdout",
     "output_type": "stream",
     "text": [
      "✅ LEO: 저장 완료 → LEO_optimized.csv\n",
      "\n",
      "🔍 처리 중: LTC (17294행)\n"
     ]
    },
    {
     "name": "stderr",
     "output_type": "stream",
     "text": [
      "라벨 최적화:  55%|█████▌    | 11/20 [00:53<00:43,  4.88s/it]"
     ]
    },
    {
     "name": "stdout",
     "output_type": "stream",
     "text": [
      "✅ LTC: 저장 완료 → LTC_optimized.csv\n",
      "\n",
      "🔍 처리 중: SHIB (17301행)\n"
     ]
    },
    {
     "name": "stderr",
     "output_type": "stream",
     "text": [
      "라벨 최적화:  60%|██████    | 12/20 [00:58<00:39,  4.89s/it]"
     ]
    },
    {
     "name": "stdout",
     "output_type": "stream",
     "text": [
      "✅ SHIB: 저장 완료 → SHIB_optimized.csv\n",
      "\n",
      "🔍 처리 중: SOL (17300행)\n"
     ]
    },
    {
     "name": "stderr",
     "output_type": "stream",
     "text": [
      "라벨 최적화:  65%|██████▌   | 13/20 [01:03<00:34,  4.87s/it]"
     ]
    },
    {
     "name": "stdout",
     "output_type": "stream",
     "text": [
      "✅ SOL: 저장 완료 → SOL_optimized.csv\n",
      "\n",
      "🔍 처리 중: SUI20947 (17293행)\n"
     ]
    },
    {
     "name": "stderr",
     "output_type": "stream",
     "text": [
      "라벨 최적화:  70%|███████   | 14/20 [01:08<00:29,  4.85s/it]"
     ]
    },
    {
     "name": "stdout",
     "output_type": "stream",
     "text": [
      "✅ SUI20947: 저장 완료 → SUI20947_optimized.csv\n",
      "\n",
      "🔍 처리 중: TON11419 (17297행)\n"
     ]
    },
    {
     "name": "stderr",
     "output_type": "stream",
     "text": [
      "라벨 최적화:  75%|███████▌  | 15/20 [01:13<00:24,  4.91s/it]"
     ]
    },
    {
     "name": "stdout",
     "output_type": "stream",
     "text": [
      "✅ TON11419: 저장 완료 → TON11419_optimized.csv\n",
      "\n",
      "🔍 처리 중: TRX (17300행)\n"
     ]
    },
    {
     "name": "stderr",
     "output_type": "stream",
     "text": [
      "라벨 최적화:  80%|████████  | 16/20 [01:17<00:19,  4.87s/it]"
     ]
    },
    {
     "name": "stdout",
     "output_type": "stream",
     "text": [
      "✅ TRX: 저장 완료 → TRX_optimized.csv\n",
      "\n",
      "🔍 처리 중: USDC (17301행)\n"
     ]
    },
    {
     "name": "stderr",
     "output_type": "stream",
     "text": [
      "라벨 최적화:  85%|████████▌ | 17/20 [01:23<00:15,  5.11s/it]"
     ]
    },
    {
     "name": "stdout",
     "output_type": "stream",
     "text": [
      "✅ USDC: 저장 완료 → USDC_optimized.csv\n",
      "\n",
      "🔍 처리 중: USDT (17293행)\n"
     ]
    },
    {
     "name": "stderr",
     "output_type": "stream",
     "text": [
      "라벨 최적화:  90%|█████████ | 18/20 [01:28<00:10,  5.19s/it]"
     ]
    },
    {
     "name": "stdout",
     "output_type": "stream",
     "text": [
      "✅ USDT: 저장 완료 → USDT_optimized.csv\n",
      "\n",
      "🔍 처리 중: XLM (17299행)\n"
     ]
    },
    {
     "name": "stderr",
     "output_type": "stream",
     "text": [
      "라벨 최적화:  95%|█████████▌| 19/20 [01:33<00:05,  5.11s/it]"
     ]
    },
    {
     "name": "stdout",
     "output_type": "stream",
     "text": [
      "✅ XLM: 저장 완료 → XLM_optimized.csv\n",
      "\n",
      "🔍 처리 중: XRP (17302행)\n"
     ]
    },
    {
     "name": "stderr",
     "output_type": "stream",
     "text": [
      "라벨 최적화: 100%|██████████| 20/20 [01:38<00:00,  4.94s/it]"
     ]
    },
    {
     "name": "stdout",
     "output_type": "stream",
     "text": [
      "✅ XRP: 저장 완료 → XRP_optimized.csv\n",
      "\n",
      "================================================================================\n",
      "🎯 최적화 완료!\n",
      "   성공: 20개 종목\n",
      "   실패: 0개 종목\n",
      "   저장 경로: /workspace/AI모델/projects/coin/data/1h/labeling/01\n",
      "   파일 형식: [종목명]_optimized.csv\n"
     ]
    },
    {
     "name": "stderr",
     "output_type": "stream",
     "text": [
      "\n"
     ]
    }
   ],
   "source": [
    "# 여러분의 경로로 실행\n",
    "input_path = \"/workspace/AI모델/projects/coin/data/1h/labeling/00\" \n",
    "output_path = \"/workspace/AI모델/projects/coin/data/1h/labeling/01\" \n",
    "\n",
    "# 전체 종목 처리\n",
    "optimized_stocks = process_stocks_with_optimized_labels(\n",
    "    input_path=input_path,\n",
    "    output_path=output_path,\n",
    "    window=1  # 앞뒤 5일 윈도우\n",
    ")\n",
    "\n",
    "# # 특정 종목만 테스트하고 싶다면\n",
    "# test_stocks = process_stocks_with_optimized_labels(\n",
    "#     input_path=input_path,\n",
    "#     output_path=output_path,\n",
    "#     window=5\n",
    "#     # test_symbols=['AAPL', 'MSFT', 'GOOGL']  # 특정 종목들만\n",
    "# )"
   ]
  },
  {
   "cell_type": "code",
   "execution_count": null,
   "id": "acc2142e",
   "metadata": {},
   "outputs": [],
   "source": []
  }
 ],
 "metadata": {
  "kernelspec": {
   "display_name": "base",
   "language": "python",
   "name": "python3"
  },
  "language_info": {
   "codemirror_mode": {
    "name": "ipython",
    "version": 3
   },
   "file_extension": ".py",
   "mimetype": "text/x-python",
   "name": "python",
   "nbconvert_exporter": "python",
   "pygments_lexer": "ipython3",
   "version": "3.10.11"
  }
 },
 "nbformat": 4,
 "nbformat_minor": 5
}
