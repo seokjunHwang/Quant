{
 "cells": [
  {
   "cell_type": "markdown",
   "id": "c8fae4b7",
   "metadata": {},
   "source": [
    "# 종목별 feature engineering & labeling\n",
    "## 주의! 2003년부터 있지만 2004년부터 데이터 사용해야함\n",
    "-> why? 2003년 초반부 데이터는 없는 피쳐가 있기때문에 -> 초기 시계열 데이터가 없어서 MA20, MACD14 등 기술적 지표를 계산할 수 없음! \n",
    "- data 분석\n",
    "- 어떤 task로 어떤모델을 사용할지\n",
    "- 피쳐엔지니어링 - 새로운 지표추가, 라벨선정, 라벨링\n"
   ]
  },
  {
   "cell_type": "markdown",
   "id": "f1262743",
   "metadata": {},
   "source": [
    "# Data Load"
   ]
  },
  {
   "cell_type": "code",
   "execution_count": 3,
   "id": "f635a402",
   "metadata": {},
   "outputs": [],
   "source": [
    "import pandas as pd\n",
    "import os\n",
    "import numpy as np\n",
    "from glob import glob\n",
    "from tqdm import tqdm\n",
    "import strategy as stg\n",
    "import warnings\n",
    "import utils as U\n",
    "warnings.filterwarnings('ignore')"
   ]
  },
  {
   "cell_type": "code",
   "execution_count": 4,
   "id": "88a9ccee",
   "metadata": {},
   "outputs": [
    {
     "name": "stdout",
     "output_type": "stream",
     "text": [
      "📂 데이터 로딩 시작: /workspace/AI모델/projects/coin/data/1h/final/with_strategies\n",
      "📊 발견된 파일 수: 20\n",
      "✅ 성공적으로 로드된 심볼: 20개\n",
      "❌ 제외된 심볼: 0개\n",
      "🔥 로딩 에러: 0개\n",
      "로딩된 종목 수: 20\n",
      "ADA: 17299행, 2023-10-01 ~ 2025-09-20\n",
      "AVAX: 17291행, 2023-10-01 ~ 2025-09-20\n",
      "BCH: 17302행, 2023-10-01 ~ 2025-09-20\n",
      "\n",
      "📊 데이터 정보 요약\n",
      "==================================================\n",
      "총 심볼 수: 20\n",
      "컬럼 수: 178\n",
      "전략 시그널 수: 41\n",
      "데이터 기간: 2023-10-01 ~ 2025-09-20\n",
      "평균 데이터 포인트: 17298일\n",
      "\n",
      "📋 심볼별 상세 정보:\n",
      "  ADA: 17299행, 2023-10-01 ~ 2025-09-20\n",
      "  AVAX: 17291행, 2023-10-01 ~ 2025-09-20\n",
      "  BCH: 17302행, 2023-10-01 ~ 2025-09-20\n",
      "  BNB: 17302행, 2023-10-01 ~ 2025-09-20\n",
      "  BTC: 17302행, 2023-10-01 ~ 2025-09-20\n",
      "  CRO: 17293행, 2023-10-01 ~ 2025-09-20\n",
      "  DOGE: 17293행, 2023-10-01 ~ 2025-09-20\n",
      "  ETH: 17298행, 2023-10-01 ~ 2025-09-20\n",
      "  HBAR: 17301행, 2023-10-01 ~ 2025-09-20\n",
      "  LEO: 17301행, 2023-10-01 ~ 2025-09-20\n",
      "  ... 및 10개 더\n",
      "\n",
      "🎯 전략 시그널 목록:\n",
      "  이동평균: 4개\n",
      "  MACD: 6개\n",
      "  RSI: 8개\n",
      "  오실레이터: 6개\n",
      "  가격패턴: 3개\n",
      "  거래량: 4개\n",
      "  모멘텀: 2개\n",
      "  복합: 2개\n",
      "✅ ML 데이터셋 로드 완료: 344842행, 47개 특성\n",
      "📊 타겟 분포 - SELL(0): 5972, HOLD(1): 331133, BUY(2): 7737\n"
     ]
    }
   ],
   "source": [
    "# 저장된 데이터 불러오기\n",
    "crypto_data, excluded_info, summary_info = U.load_cleaned_crypto_data(\"/workspace/AI모델/projects/coin/data/1h/final/with_strategies\")\n",
    "\n",
    "# 불러온 데이터 확인\n",
    "print(f\"로딩된 종목 수: {len(crypto_data)}\")\n",
    "for symbol, df in list(crypto_data.items())[:3]:\n",
    "    print(f\"{symbol}: {len(df)}행, {df.index[0].date()} ~ {df.index[-1].date()}\")\n",
    "\n",
    "# 상세 정보 출력\n",
    "U.get_data_info(crypto_data, detailed=True)\n",
    "\n",
    "# ML 데이터셋 로드\n",
    "ml_dataset = U.CryptoDataLoader.load_ml_dataset(\"/workspace/AI모델/projects/coin/data/1h/final\")"
   ]
  },
  {
   "cell_type": "code",
   "execution_count": 5,
   "id": "d56ca38b",
   "metadata": {},
   "outputs": [
    {
     "data": {
      "text/html": [
       "<div>\n",
       "<style scoped>\n",
       "    .dataframe tbody tr th:only-of-type {\n",
       "        vertical-align: middle;\n",
       "    }\n",
       "\n",
       "    .dataframe tbody tr th {\n",
       "        vertical-align: top;\n",
       "    }\n",
       "\n",
       "    .dataframe thead th {\n",
       "        text-align: right;\n",
       "    }\n",
       "</style>\n",
       "<table border=\"1\" class=\"dataframe\">\n",
       "  <thead>\n",
       "    <tr style=\"text-align: right;\">\n",
       "      <th></th>\n",
       "      <th>Open</th>\n",
       "      <th>High</th>\n",
       "      <th>Low</th>\n",
       "      <th>Close</th>\n",
       "      <th>Volume</th>\n",
       "      <th>MA_2</th>\n",
       "      <th>MA_3</th>\n",
       "      <th>MA_4</th>\n",
       "      <th>MA_5</th>\n",
       "      <th>MA_6</th>\n",
       "      <th>...</th>\n",
       "      <th>MFI_Extreme_Signal</th>\n",
       "      <th>Volume_Breakout_Signal</th>\n",
       "      <th>Momentum_Signal</th>\n",
       "      <th>Price_ROC_3_Signal</th>\n",
       "      <th>Volatility_Signal</th>\n",
       "      <th>Composite_Signal_Avg</th>\n",
       "      <th>Buy_Signal_Count</th>\n",
       "      <th>Sell_Signal_Count</th>\n",
       "      <th>Net_Signal_Score</th>\n",
       "      <th>Final_Composite_Signal</th>\n",
       "    </tr>\n",
       "    <tr>\n",
       "      <th>Date</th>\n",
       "      <th></th>\n",
       "      <th></th>\n",
       "      <th></th>\n",
       "      <th></th>\n",
       "      <th></th>\n",
       "      <th></th>\n",
       "      <th></th>\n",
       "      <th></th>\n",
       "      <th></th>\n",
       "      <th></th>\n",
       "      <th></th>\n",
       "      <th></th>\n",
       "      <th></th>\n",
       "      <th></th>\n",
       "      <th></th>\n",
       "      <th></th>\n",
       "      <th></th>\n",
       "      <th></th>\n",
       "      <th></th>\n",
       "      <th></th>\n",
       "      <th></th>\n",
       "    </tr>\n",
       "  </thead>\n",
       "  <tbody>\n",
       "    <tr>\n",
       "      <th>2023-10-01 00:00:00</th>\n",
       "      <td>26967.396484</td>\n",
       "      <td>26999.722656</td>\n",
       "      <td>26965.093750</td>\n",
       "      <td>26995.140625</td>\n",
       "      <td>NaN</td>\n",
       "      <td>NaN</td>\n",
       "      <td>NaN</td>\n",
       "      <td>NaN</td>\n",
       "      <td>NaN</td>\n",
       "      <td>NaN</td>\n",
       "      <td>...</td>\n",
       "      <td>1</td>\n",
       "      <td>1</td>\n",
       "      <td>1</td>\n",
       "      <td>1</td>\n",
       "      <td>1</td>\n",
       "      <td>1.029412</td>\n",
       "      <td>1</td>\n",
       "      <td>0</td>\n",
       "      <td>1</td>\n",
       "      <td>1</td>\n",
       "    </tr>\n",
       "    <tr>\n",
       "      <th>2023-10-01 01:00:00</th>\n",
       "      <td>26995.111328</td>\n",
       "      <td>27032.787109</td>\n",
       "      <td>26988.476562</td>\n",
       "      <td>27032.787109</td>\n",
       "      <td>10491904.0</td>\n",
       "      <td>27013.963867</td>\n",
       "      <td>NaN</td>\n",
       "      <td>NaN</td>\n",
       "      <td>NaN</td>\n",
       "      <td>NaN</td>\n",
       "      <td>...</td>\n",
       "      <td>1</td>\n",
       "      <td>1</td>\n",
       "      <td>1</td>\n",
       "      <td>1</td>\n",
       "      <td>1</td>\n",
       "      <td>1.058824</td>\n",
       "      <td>2</td>\n",
       "      <td>0</td>\n",
       "      <td>2</td>\n",
       "      <td>2</td>\n",
       "    </tr>\n",
       "    <tr>\n",
       "      <th>2023-10-01 02:00:00</th>\n",
       "      <td>27027.078125</td>\n",
       "      <td>27048.111328</td>\n",
       "      <td>27026.638672</td>\n",
       "      <td>27034.636719</td>\n",
       "      <td>31220224.0</td>\n",
       "      <td>27033.711914</td>\n",
       "      <td>27020.854818</td>\n",
       "      <td>NaN</td>\n",
       "      <td>NaN</td>\n",
       "      <td>NaN</td>\n",
       "      <td>...</td>\n",
       "      <td>1</td>\n",
       "      <td>1</td>\n",
       "      <td>1</td>\n",
       "      <td>1</td>\n",
       "      <td>1</td>\n",
       "      <td>0.970588</td>\n",
       "      <td>0</td>\n",
       "      <td>1</td>\n",
       "      <td>-1</td>\n",
       "      <td>1</td>\n",
       "    </tr>\n",
       "    <tr>\n",
       "      <th>2023-10-01 03:00:00</th>\n",
       "      <td>27031.962891</td>\n",
       "      <td>27051.591797</td>\n",
       "      <td>27018.943359</td>\n",
       "      <td>27049.917969</td>\n",
       "      <td>12092416.0</td>\n",
       "      <td>27042.277344</td>\n",
       "      <td>27039.113932</td>\n",
       "      <td>27028.120605</td>\n",
       "      <td>NaN</td>\n",
       "      <td>NaN</td>\n",
       "      <td>...</td>\n",
       "      <td>1</td>\n",
       "      <td>1</td>\n",
       "      <td>1</td>\n",
       "      <td>1</td>\n",
       "      <td>1</td>\n",
       "      <td>1.000000</td>\n",
       "      <td>1</td>\n",
       "      <td>1</td>\n",
       "      <td>0</td>\n",
       "      <td>1</td>\n",
       "    </tr>\n",
       "    <tr>\n",
       "      <th>2023-10-01 04:00:00</th>\n",
       "      <td>27051.070312</td>\n",
       "      <td>27051.695312</td>\n",
       "      <td>27030.445312</td>\n",
       "      <td>27048.640625</td>\n",
       "      <td>12092416.0</td>\n",
       "      <td>27049.279297</td>\n",
       "      <td>27044.398438</td>\n",
       "      <td>27041.495605</td>\n",
       "      <td>27032.224609</td>\n",
       "      <td>NaN</td>\n",
       "      <td>...</td>\n",
       "      <td>1</td>\n",
       "      <td>1</td>\n",
       "      <td>1</td>\n",
       "      <td>1</td>\n",
       "      <td>1</td>\n",
       "      <td>1.058824</td>\n",
       "      <td>2</td>\n",
       "      <td>0</td>\n",
       "      <td>2</td>\n",
       "      <td>2</td>\n",
       "    </tr>\n",
       "    <tr>\n",
       "      <th>...</th>\n",
       "      <td>...</td>\n",
       "      <td>...</td>\n",
       "      <td>...</td>\n",
       "      <td>...</td>\n",
       "      <td>...</td>\n",
       "      <td>...</td>\n",
       "      <td>...</td>\n",
       "      <td>...</td>\n",
       "      <td>...</td>\n",
       "      <td>...</td>\n",
       "      <td>...</td>\n",
       "      <td>...</td>\n",
       "      <td>...</td>\n",
       "      <td>...</td>\n",
       "      <td>...</td>\n",
       "      <td>...</td>\n",
       "      <td>...</td>\n",
       "      <td>...</td>\n",
       "      <td>...</td>\n",
       "      <td>...</td>\n",
       "      <td>...</td>\n",
       "    </tr>\n",
       "    <tr>\n",
       "      <th>2025-09-20 19:00:00</th>\n",
       "      <td>115783.476562</td>\n",
       "      <td>115874.789062</td>\n",
       "      <td>115769.093750</td>\n",
       "      <td>115790.468750</td>\n",
       "      <td>23228416.0</td>\n",
       "      <td>115787.015625</td>\n",
       "      <td>115825.156250</td>\n",
       "      <td>115894.121094</td>\n",
       "      <td>115922.373438</td>\n",
       "      <td>115942.669271</td>\n",
       "      <td>...</td>\n",
       "      <td>1</td>\n",
       "      <td>1</td>\n",
       "      <td>1</td>\n",
       "      <td>1</td>\n",
       "      <td>0</td>\n",
       "      <td>-1.665714</td>\n",
       "      <td>0</td>\n",
       "      <td>5</td>\n",
       "      <td>-5</td>\n",
       "      <td>0</td>\n",
       "    </tr>\n",
       "    <tr>\n",
       "      <th>2025-09-20 20:00:00</th>\n",
       "      <td>115775.234375</td>\n",
       "      <td>115869.929688</td>\n",
       "      <td>115755.968750</td>\n",
       "      <td>115840.140625</td>\n",
       "      <td>23228416.0</td>\n",
       "      <td>115815.304688</td>\n",
       "      <td>115804.723958</td>\n",
       "      <td>115828.902344</td>\n",
       "      <td>115883.325000</td>\n",
       "      <td>115908.667969</td>\n",
       "      <td>...</td>\n",
       "      <td>1</td>\n",
       "      <td>1</td>\n",
       "      <td>1</td>\n",
       "      <td>1</td>\n",
       "      <td>1</td>\n",
       "      <td>-1.336201</td>\n",
       "      <td>1</td>\n",
       "      <td>1</td>\n",
       "      <td>0</td>\n",
       "      <td>1</td>\n",
       "    </tr>\n",
       "    <tr>\n",
       "      <th>2025-09-20 21:00:00</th>\n",
       "      <td>115806.648438</td>\n",
       "      <td>115999.984375</td>\n",
       "      <td>115806.648438</td>\n",
       "      <td>115846.914062</td>\n",
       "      <td>11997184.0</td>\n",
       "      <td>115843.527344</td>\n",
       "      <td>115825.841146</td>\n",
       "      <td>115815.271484</td>\n",
       "      <td>115832.504687</td>\n",
       "      <td>115877.256510</td>\n",
       "      <td>...</td>\n",
       "      <td>1</td>\n",
       "      <td>1</td>\n",
       "      <td>1</td>\n",
       "      <td>2</td>\n",
       "      <td>0</td>\n",
       "      <td>-1.121715</td>\n",
       "      <td>4</td>\n",
       "      <td>2</td>\n",
       "      <td>2</td>\n",
       "      <td>2</td>\n",
       "    </tr>\n",
       "    <tr>\n",
       "      <th>2025-09-20 22:00:00</th>\n",
       "      <td>115863.546875</td>\n",
       "      <td>115866.875000</td>\n",
       "      <td>115807.398438</td>\n",
       "      <td>115847.476562</td>\n",
       "      <td>90370048.0</td>\n",
       "      <td>115847.195312</td>\n",
       "      <td>115844.843750</td>\n",
       "      <td>115831.250000</td>\n",
       "      <td>115821.712500</td>\n",
       "      <td>115835.000000</td>\n",
       "      <td>...</td>\n",
       "      <td>1</td>\n",
       "      <td>1</td>\n",
       "      <td>1</td>\n",
       "      <td>1</td>\n",
       "      <td>0</td>\n",
       "      <td>-1.014408</td>\n",
       "      <td>2</td>\n",
       "      <td>1</td>\n",
       "      <td>1</td>\n",
       "      <td>1</td>\n",
       "    </tr>\n",
       "    <tr>\n",
       "      <th>2025-09-20 23:00:00</th>\n",
       "      <td>115845.046875</td>\n",
       "      <td>115845.046875</td>\n",
       "      <td>115683.046875</td>\n",
       "      <td>115724.023438</td>\n",
       "      <td>90370048.0</td>\n",
       "      <td>115785.750000</td>\n",
       "      <td>115806.138021</td>\n",
       "      <td>115814.638672</td>\n",
       "      <td>115809.804688</td>\n",
       "      <td>115805.430990</td>\n",
       "      <td>...</td>\n",
       "      <td>1</td>\n",
       "      <td>1</td>\n",
       "      <td>1</td>\n",
       "      <td>0</td>\n",
       "      <td>0</td>\n",
       "      <td>-1.093647</td>\n",
       "      <td>3</td>\n",
       "      <td>7</td>\n",
       "      <td>-4</td>\n",
       "      <td>0</td>\n",
       "    </tr>\n",
       "  </tbody>\n",
       "</table>\n",
       "<p>17302 rows × 178 columns</p>\n",
       "</div>"
      ],
      "text/plain": [
       "                              Open           High            Low  \\\n",
       "Date                                                               \n",
       "2023-10-01 00:00:00   26967.396484   26999.722656   26965.093750   \n",
       "2023-10-01 01:00:00   26995.111328   27032.787109   26988.476562   \n",
       "2023-10-01 02:00:00   27027.078125   27048.111328   27026.638672   \n",
       "2023-10-01 03:00:00   27031.962891   27051.591797   27018.943359   \n",
       "2023-10-01 04:00:00   27051.070312   27051.695312   27030.445312   \n",
       "...                            ...            ...            ...   \n",
       "2025-09-20 19:00:00  115783.476562  115874.789062  115769.093750   \n",
       "2025-09-20 20:00:00  115775.234375  115869.929688  115755.968750   \n",
       "2025-09-20 21:00:00  115806.648438  115999.984375  115806.648438   \n",
       "2025-09-20 22:00:00  115863.546875  115866.875000  115807.398438   \n",
       "2025-09-20 23:00:00  115845.046875  115845.046875  115683.046875   \n",
       "\n",
       "                             Close      Volume           MA_2           MA_3  \\\n",
       "Date                                                                           \n",
       "2023-10-01 00:00:00   26995.140625         NaN            NaN            NaN   \n",
       "2023-10-01 01:00:00   27032.787109  10491904.0   27013.963867            NaN   \n",
       "2023-10-01 02:00:00   27034.636719  31220224.0   27033.711914   27020.854818   \n",
       "2023-10-01 03:00:00   27049.917969  12092416.0   27042.277344   27039.113932   \n",
       "2023-10-01 04:00:00   27048.640625  12092416.0   27049.279297   27044.398438   \n",
       "...                            ...         ...            ...            ...   \n",
       "2025-09-20 19:00:00  115790.468750  23228416.0  115787.015625  115825.156250   \n",
       "2025-09-20 20:00:00  115840.140625  23228416.0  115815.304688  115804.723958   \n",
       "2025-09-20 21:00:00  115846.914062  11997184.0  115843.527344  115825.841146   \n",
       "2025-09-20 22:00:00  115847.476562  90370048.0  115847.195312  115844.843750   \n",
       "2025-09-20 23:00:00  115724.023438  90370048.0  115785.750000  115806.138021   \n",
       "\n",
       "                              MA_4           MA_5           MA_6  ...  \\\n",
       "Date                                                              ...   \n",
       "2023-10-01 00:00:00            NaN            NaN            NaN  ...   \n",
       "2023-10-01 01:00:00            NaN            NaN            NaN  ...   \n",
       "2023-10-01 02:00:00            NaN            NaN            NaN  ...   \n",
       "2023-10-01 03:00:00   27028.120605            NaN            NaN  ...   \n",
       "2023-10-01 04:00:00   27041.495605   27032.224609            NaN  ...   \n",
       "...                            ...            ...            ...  ...   \n",
       "2025-09-20 19:00:00  115894.121094  115922.373438  115942.669271  ...   \n",
       "2025-09-20 20:00:00  115828.902344  115883.325000  115908.667969  ...   \n",
       "2025-09-20 21:00:00  115815.271484  115832.504687  115877.256510  ...   \n",
       "2025-09-20 22:00:00  115831.250000  115821.712500  115835.000000  ...   \n",
       "2025-09-20 23:00:00  115814.638672  115809.804688  115805.430990  ...   \n",
       "\n",
       "                     MFI_Extreme_Signal  Volume_Breakout_Signal  \\\n",
       "Date                                                              \n",
       "2023-10-01 00:00:00                   1                       1   \n",
       "2023-10-01 01:00:00                   1                       1   \n",
       "2023-10-01 02:00:00                   1                       1   \n",
       "2023-10-01 03:00:00                   1                       1   \n",
       "2023-10-01 04:00:00                   1                       1   \n",
       "...                                 ...                     ...   \n",
       "2025-09-20 19:00:00                   1                       1   \n",
       "2025-09-20 20:00:00                   1                       1   \n",
       "2025-09-20 21:00:00                   1                       1   \n",
       "2025-09-20 22:00:00                   1                       1   \n",
       "2025-09-20 23:00:00                   1                       1   \n",
       "\n",
       "                     Momentum_Signal  Price_ROC_3_Signal  Volatility_Signal  \\\n",
       "Date                                                                          \n",
       "2023-10-01 00:00:00                1                   1                  1   \n",
       "2023-10-01 01:00:00                1                   1                  1   \n",
       "2023-10-01 02:00:00                1                   1                  1   \n",
       "2023-10-01 03:00:00                1                   1                  1   \n",
       "2023-10-01 04:00:00                1                   1                  1   \n",
       "...                              ...                 ...                ...   \n",
       "2025-09-20 19:00:00                1                   1                  0   \n",
       "2025-09-20 20:00:00                1                   1                  1   \n",
       "2025-09-20 21:00:00                1                   2                  0   \n",
       "2025-09-20 22:00:00                1                   1                  0   \n",
       "2025-09-20 23:00:00                1                   0                  0   \n",
       "\n",
       "                     Composite_Signal_Avg  Buy_Signal_Count  \\\n",
       "Date                                                          \n",
       "2023-10-01 00:00:00              1.029412                 1   \n",
       "2023-10-01 01:00:00              1.058824                 2   \n",
       "2023-10-01 02:00:00              0.970588                 0   \n",
       "2023-10-01 03:00:00              1.000000                 1   \n",
       "2023-10-01 04:00:00              1.058824                 2   \n",
       "...                                   ...               ...   \n",
       "2025-09-20 19:00:00             -1.665714                 0   \n",
       "2025-09-20 20:00:00             -1.336201                 1   \n",
       "2025-09-20 21:00:00             -1.121715                 4   \n",
       "2025-09-20 22:00:00             -1.014408                 2   \n",
       "2025-09-20 23:00:00             -1.093647                 3   \n",
       "\n",
       "                     Sell_Signal_Count  Net_Signal_Score  \\\n",
       "Date                                                       \n",
       "2023-10-01 00:00:00                  0                 1   \n",
       "2023-10-01 01:00:00                  0                 2   \n",
       "2023-10-01 02:00:00                  1                -1   \n",
       "2023-10-01 03:00:00                  1                 0   \n",
       "2023-10-01 04:00:00                  0                 2   \n",
       "...                                ...               ...   \n",
       "2025-09-20 19:00:00                  5                -5   \n",
       "2025-09-20 20:00:00                  1                 0   \n",
       "2025-09-20 21:00:00                  2                 2   \n",
       "2025-09-20 22:00:00                  1                 1   \n",
       "2025-09-20 23:00:00                  7                -4   \n",
       "\n",
       "                     Final_Composite_Signal  \n",
       "Date                                         \n",
       "2023-10-01 00:00:00                       1  \n",
       "2023-10-01 01:00:00                       2  \n",
       "2023-10-01 02:00:00                       1  \n",
       "2023-10-01 03:00:00                       1  \n",
       "2023-10-01 04:00:00                       2  \n",
       "...                                     ...  \n",
       "2025-09-20 19:00:00                       0  \n",
       "2025-09-20 20:00:00                       1  \n",
       "2025-09-20 21:00:00                       2  \n",
       "2025-09-20 22:00:00                       1  \n",
       "2025-09-20 23:00:00                       0  \n",
       "\n",
       "[17302 rows x 178 columns]"
      ]
     },
     "execution_count": 5,
     "metadata": {},
     "output_type": "execute_result"
    }
   ],
   "source": [
    "crypto_data['BTC']"
   ]
  },
  {
   "cell_type": "markdown",
   "id": "81f11aba",
   "metadata": {},
   "source": [
    "# 피쳐엔지니어링 & 라벨링\n",
    "- 새로운 기술적 지표 피쳐 추가 \n",
    "    - SMI (Stochastic Momentum Index): SMI, SMI_Signal, SMI_Oscillator\n",
    "    - 토캐스틱 개선: Momentum, Crossover, Overbought/Oversold 신호\n",
    "    - 다이버전스: RSI/MACD와 가격 간 다이버전스\n",
    "    - 모멘텀 지표: 가격 가속도, 거래량/변동성 모멘텀\n",
    "    - 트렌드 강도: MA 정렬도, 볼린저 밴드 압축/확장\n",
    "- 연속적 수익률 피쳐: Daily_Return, Weekly_Return, Monthly_Return이 이미 있음\n",
    "- 연속적 기술지표: RSI, MACD, ATR, Volatility 등 모두 연속값\n",
    "- 비율/포지션 피쳐: BB_Position, Price_vs_MA20 등 연속적 관계 정보"
   ]
  },
  {
   "cell_type": "markdown",
   "id": "aab59ac3",
   "metadata": {},
   "source": [
    "# 라벨링 방법 1\n",
    "-  미래 수익률 기반으로 라벨링"
   ]
  },
  {
   "cell_type": "code",
   "execution_count": 6,
   "id": "d571ee1d",
   "metadata": {},
   "outputs": [],
   "source": [
    "import pandas as pd\n",
    "import numpy as np\n",
    "import os\n",
    "from tqdm import tqdm\n",
    "import warnings\n",
    "warnings.filterwarnings('ignore')\n",
    "\n",
    "def safe_column_check(df, columns):\n",
    "    \"\"\"안전한 컬럼 존재 확인\"\"\"\n",
    "    if not isinstance(df, pd.DataFrame):\n",
    "        return False\n",
    "    return all(col in df.columns for col in columns)\n",
    "\n",
    "def calculate_technical_score(df):\n",
    "    \"\"\"기술적 신호 강도 점수 계산 - 실제 존재하는 컬럼만 사용\"\"\"\n",
    "    \n",
    "    try:\n",
    "        # DataFrame 확인\n",
    "        if not isinstance(df, pd.DataFrame) or df.empty:\n",
    "            return pd.Series(0.0, index=range(len(df)) if hasattr(df, '__len__') else range(1))\n",
    "        \n",
    "        # 실제 존재하는 컬럼들로만 계산\n",
    "        technical_score = pd.Series(0.0, index=df.index)\n",
    "        \n",
    "        # RSI 기반 점수 (존재하면)\n",
    "        if 'RSI_14' in df.columns:\n",
    "            rsi_data = pd.to_numeric(df['RSI_14'], errors='coerce').fillna(50)\n",
    "            rsi_score = np.where(rsi_data < 30, 1, np.where(rsi_data > 70, -1, 0))\n",
    "            technical_score += 0.2 * rsi_score\n",
    "        \n",
    "        # MACD 기반 점수\n",
    "        if 'MACD' in df.columns and 'MACD_Signal' in df.columns:\n",
    "            macd_data = pd.to_numeric(df['MACD'], errors='coerce').fillna(0)\n",
    "            macd_signal_data = pd.to_numeric(df['MACD_Signal'], errors='coerce').fillna(0)\n",
    "            macd_score = np.where(macd_data > macd_signal_data, 1, -1)\n",
    "            technical_score += 0.2 * macd_score\n",
    "        \n",
    "        # 이동평균 기반 점수\n",
    "        if safe_column_check(df, ['MA_7', 'MA_20', 'Close']):\n",
    "            close_data = pd.to_numeric(df['Close'], errors='coerce').fillna(method='ffill')\n",
    "            ma7_data = pd.to_numeric(df['MA_7'], errors='coerce').fillna(method='ffill')\n",
    "            ma20_data = pd.to_numeric(df['MA_20'], errors='coerce').fillna(method='ffill')\n",
    "            \n",
    "            ma_score = np.where(close_data > ma7_data, 0.5, -0.5)\n",
    "            ma_score += np.where(ma7_data > ma20_data, 0.5, -0.5)\n",
    "            technical_score += 0.2 * ma_score\n",
    "        \n",
    "        # 볼린저 밴드 위치\n",
    "        if 'BB_Position_20' in df.columns:\n",
    "            bb_position = pd.to_numeric(df['BB_Position_20'], errors='coerce').fillna(0.5)\n",
    "            bb_score = (bb_position - 0.5) * 2  # -1 to 1로 변환\n",
    "            technical_score += 0.2 * bb_score\n",
    "        \n",
    "        # 스토캐스틱\n",
    "        if 'Stoch_K_14' in df.columns:\n",
    "            stoch_data = pd.to_numeric(df['Stoch_K_14'], errors='coerce').fillna(50)\n",
    "            stoch_score = np.where(stoch_data < 20, 1, np.where(stoch_data > 80, -1, 0))\n",
    "            technical_score += 0.2 * stoch_score\n",
    "        \n",
    "        # 점수를 -1 ~ 1 범위로 클리핑\n",
    "        technical_score = np.clip(technical_score, -1, 1)\n",
    "        \n",
    "        return technical_score\n",
    "    \n",
    "    except Exception as e:\n",
    "        print(f\"⚠️ calculate_technical_score 오류: {e}\")\n",
    "        return pd.Series(0.0, index=df.index if isinstance(df, pd.DataFrame) else range(1))\n",
    "\n",
    "def create_enhanced_features(df):\n",
    "    \"\"\"추가적인 고급 기술적 지표 생성\"\"\"\n",
    "    \n",
    "    try:\n",
    "        if not isinstance(df, pd.DataFrame) or df.empty:\n",
    "            return df\n",
    "        \n",
    "        # 가격 데이터 확인 및 처리\n",
    "        if 'Close' not in df.columns:\n",
    "            return df\n",
    "            \n",
    "        close_data = pd.to_numeric(df['Close'], errors='coerce').fillna(method='ffill')\n",
    "        \n",
    "        # 1. 가격 모멘텀 지표들\n",
    "        if len(close_data) > 20:\n",
    "            df['Price_Momentum_5'] = close_data.pct_change(5)\n",
    "            df['Price_Momentum_10'] = close_data.pct_change(10)\n",
    "            df['Price_Momentum_20'] = close_data.pct_change(20)\n",
    "        \n",
    "        # 2. 볼륨 지표 (있다면)\n",
    "        if 'Volume' in df.columns:\n",
    "            volume_data = pd.to_numeric(df['Volume'], errors='coerce').fillna(0)\n",
    "            if len(volume_data) > 20:\n",
    "                df['Volume_MA_20'] = volume_data.rolling(20, min_periods=1).mean()\n",
    "                df['Volume_Ratio'] = volume_data / df['Volume_MA_20']\n",
    "        \n",
    "        # 3. 변동성 지표\n",
    "        if len(close_data) > 20:\n",
    "            df['Volatility_20'] = close_data.rolling(20, min_periods=1).std()\n",
    "            df['Volatility_Ratio'] = df['Volatility_20'] / df['Volatility_20'].rolling(60, min_periods=1).mean()\n",
    "        \n",
    "        # 4. RSI 다이버전스 (RSI가 있다면)\n",
    "        if 'RSI_14' in df.columns and len(close_data) > 20:\n",
    "            rsi_data = pd.to_numeric(df['RSI_14'], errors='coerce').fillna(50)\n",
    "            price_momentum = close_data.pct_change(20)\n",
    "            rsi_momentum = rsi_data.diff(20)\n",
    "            \n",
    "            # 다이버전스 신호\n",
    "            df['RSI_Divergence'] = np.where(\n",
    "                (price_momentum > 0) & (rsi_momentum < 0), -1,  # 약세 다이버전스\n",
    "                np.where((price_momentum < 0) & (rsi_momentum > 0), 1, 0)  # 강세 다이버전스\n",
    "            )\n",
    "        \n",
    "        # 5. MACD 개선 신호\n",
    "        if safe_column_check(df, ['MACD', 'MACD_Signal']):\n",
    "            macd = pd.to_numeric(df['MACD'], errors='coerce').fillna(0)\n",
    "            macd_signal = pd.to_numeric(df['MACD_Signal'], errors='coerce').fillna(0)\n",
    "            df['MACD_Histogram'] = macd - macd_signal\n",
    "            df['MACD_Cross'] = np.where(\n",
    "                (macd > macd_signal) & (macd.shift(1) <= macd_signal.shift(1)), 1,\n",
    "                np.where((macd < macd_signal) & (macd.shift(1) >= macd_signal.shift(1)), -1, 0)\n",
    "            )\n",
    "        \n",
    "        # 6. 지지/저항 레벨 계산\n",
    "        if len(close_data) > 50:\n",
    "            df['Support_Level'] = close_data.rolling(50, min_periods=1).min()\n",
    "            df['Resistance_Level'] = close_data.rolling(50, min_periods=1).max()\n",
    "            df['Price_Position'] = (close_data - df['Support_Level']) / (df['Resistance_Level'] - df['Support_Level'])\n",
    "            df['Price_Position'] = df['Price_Position'].fillna(0.5).clip(0, 1)\n",
    "        \n",
    "        return df\n",
    "    \n",
    "    except Exception as e:\n",
    "        print(f\"⚠️ create_enhanced_features 오류: {e}\")\n",
    "        return df\n",
    "\n",
    "def calculate_enhanced_technical_score(df):\n",
    "    \"\"\"향상된 기술적 점수 계산\"\"\"\n",
    "    \n",
    "    try:\n",
    "        # 기본 기술적 점수\n",
    "        base_score = calculate_technical_score(df)\n",
    "        \n",
    "        # 추가 점수 요소들\n",
    "        enhanced_score = base_score.copy()\n",
    "        \n",
    "        # RSI 다이버전스 신호 추가\n",
    "        if 'RSI_Divergence' in df.columns:\n",
    "            divergence_data = pd.to_numeric(df['RSI_Divergence'], errors='coerce').fillna(0)\n",
    "            enhanced_score += 0.1 * divergence_data\n",
    "        \n",
    "        # MACD 크로스오버 신호 추가\n",
    "        if 'MACD_Cross' in df.columns:\n",
    "            cross_data = pd.to_numeric(df['MACD_Cross'], errors='coerce').fillna(0)\n",
    "            enhanced_score += 0.1 * cross_data\n",
    "        \n",
    "        # 가격 포지션 신호 추가\n",
    "        if 'Price_Position' in df.columns:\n",
    "            position_data = pd.to_numeric(df['Price_Position'], errors='coerce').fillna(0.5)\n",
    "            position_score = (position_data - 0.5) * 2  # -1 to 1 범위로 변환\n",
    "            enhanced_score += 0.1 * position_score\n",
    "        \n",
    "        # 볼륨 신호 추가\n",
    "        if 'Volume_Ratio' in df.columns:\n",
    "            volume_ratio = pd.to_numeric(df['Volume_Ratio'], errors='coerce').fillna(1)\n",
    "            volume_score = np.where(volume_ratio > 1.5, 0.2, np.where(volume_ratio < 0.5, -0.2, 0))\n",
    "            enhanced_score += volume_score\n",
    "        \n",
    "        # 변동성 신호 추가\n",
    "        if 'Volatility_Ratio' in df.columns:\n",
    "            vol_ratio = pd.to_numeric(df['Volatility_Ratio'], errors='coerce').fillna(1)\n",
    "            vol_score = np.where(vol_ratio > 2, -0.1, np.where(vol_ratio < 0.5, 0.1, 0))\n",
    "            enhanced_score += vol_score\n",
    "        \n",
    "        # 최종 점수 클리핑\n",
    "        enhanced_score = np.clip(enhanced_score, -1, 1)\n",
    "        \n",
    "        return enhanced_score\n",
    "    \n",
    "    except Exception as e:\n",
    "        print(f\"⚠️ calculate_enhanced_technical_score 오류: {e}\")\n",
    "        return calculate_technical_score(df)\n",
    "\n",
    "def create_composite_score(df):\n",
    "    \"\"\"복합 점수 생성 - 올바른 미래 수익률 계산\"\"\"\n",
    "    \n",
    "    try:\n",
    "        if not isinstance(df, pd.DataFrame) or df.empty:\n",
    "            return pd.Series(0.0, index=range(1)), {}\n",
    "        \n",
    "        # 미래 수익률 직접 계산\n",
    "        available_returns = {}\n",
    "        \n",
    "        if 'Close' in df.columns:\n",
    "            close_data = pd.to_numeric(df['Close'], errors='coerce')\n",
    "            \n",
    "            # 각 기간별 미래 수익률 계산\n",
    "            periods = {\n",
    "                'future_1d': 1,\n",
    "                'future_3d': 3, \n",
    "                'future_7d': 7,\n",
    "                'future_14d': 14,\n",
    "                'future_30d': 30,\n",
    "                'future_90d': 90,\n",
    "                'future_180d': 180,\n",
    "                'future_365d': 365\n",
    "            }\n",
    "            \n",
    "            for key, days in periods.items():\n",
    "                if len(close_data) > days:\n",
    "                    future_close = close_data.shift(-days)\n",
    "                    future_return = (future_close / close_data) - 1\n",
    "                    if not future_return.isna().all():\n",
    "                        available_returns[key] = future_return\n",
    "        \n",
    "        # 가중치 설정\n",
    "        weights = {\n",
    "            'future_1d': 0.35,\n",
    "            'future_3d': 0.25, \n",
    "            'future_7d': 0.20,\n",
    "            'future_14d': 0.10,\n",
    "            'future_30d': 0.05,\n",
    "            'future_90d': 0.03,\n",
    "            'future_180d': 0.02,\n",
    "            'future_365d': 0.0\n",
    "        }\n",
    "        \n",
    "        # 실제 존재하는 컬럼들의 가중치 정규화\n",
    "        total_weight = sum(weights.get(key, 0) for key in available_returns.keys())\n",
    "        if total_weight > 0:\n",
    "            normalized_weights = {key: weights.get(key, 0)/total_weight for key in available_returns.keys()}\n",
    "        else:\n",
    "            normalized_weights = {}\n",
    "        \n",
    "        # 수익률 기반 점수 계산\n",
    "        return_score = pd.Series(0.0, index=df.index)\n",
    "        \n",
    "        for key, future_return in available_returns.items():\n",
    "            if key in normalized_weights and normalized_weights[key] > 0:\n",
    "                clean_return = future_return.fillna(0)\n",
    "                return_score += normalized_weights[key] * clean_return\n",
    "        \n",
    "        # 최종 복합 점수\n",
    "        composite_score = np.clip(return_score, -0.25, 0.25) * 10\n",
    "        \n",
    "        return composite_score, available_returns\n",
    "    \n",
    "    except Exception as e:\n",
    "        print(f\"⚠️ create_composite_score 오류: {e}\")\n",
    "        return pd.Series(0.0, index=df.index if isinstance(df, pd.DataFrame) else range(1)), {}\n",
    "\n",
    "def score_to_label(composite_score):\n",
    "    \"\"\"점수를 3단계 라벨로 변환 (강매도, 홀드, 강매수)\"\"\"\n",
    "    \n",
    "    try:\n",
    "        # 유효한 점수만 추출 (NaN 제외)\n",
    "        valid_scores = composite_score.dropna()\n",
    "        \n",
    "        if len(valid_scores) == 0:\n",
    "            return pd.Series([1] * len(composite_score), index=composite_score.index)\n",
    "        \n",
    "        # 백분위수 기준으로 라벨 생성\n",
    "        labels = pd.Series(1, index=composite_score.index)  # 기본값: 홀드\n",
    "        \n",
    "        # 3분할 방식 (더 균형잡힌 분포)\n",
    "        buy_threshold = np.percentile(valid_scores, 55)   # 상위 45%\n",
    "        sell_threshold = np.percentile(valid_scores, 45)  # 하위 45%\n",
    "        \n",
    "        labels[composite_score >= buy_threshold] = 2  # 강매수\n",
    "        labels[composite_score <= sell_threshold] = 0  # 강매도\n",
    "        \n",
    "        return labels\n",
    "    \n",
    "    except Exception as e:\n",
    "        print(f\"⚠️ score_to_label 오류: {e}\")\n",
    "        return pd.Series([1] * len(composite_score), index=composite_score.index)\n",
    "\n",
    "def debug_data_structure(data, symbol=\"Unknown\"):\n",
    "    \"\"\"데이터 구조 디버깅\"\"\"\n",
    "    print(f\"🔍 {symbol} 데이터 분석:\")\n",
    "    print(f\"   타입: {type(data)}\")\n",
    "    \n",
    "    if isinstance(data, pd.DataFrame):\n",
    "        print(f\"   DataFrame 크기: {data.shape}\")\n",
    "        print(f\"   컬럼들: {list(data.columns)[:10]}...\")  # 처음 10개만\n",
    "        return True\n",
    "    elif isinstance(data, pd.Series):\n",
    "        print(f\"   Series 길이: {len(data)}\")\n",
    "        print(f\"   인덱스 타입: {type(data.index)}\")\n",
    "        return False\n",
    "    elif isinstance(data, dict):\n",
    "        print(f\"   Dictionary 키들: {list(data.keys())[:10]}...\")\n",
    "        return False\n",
    "    else:\n",
    "        print(f\"   지원되지 않는 타입\")\n",
    "        return False\n",
    "\n",
    "def enhance_crypto_data_with_labels(crypto_data, test_symbols=None, save_path=\"enhanced_crypto_data\", debug_mode=False):\n",
    "    \"\"\"암호화폐 데이터에 기술적 지표와 라벨 추가 - 완전히 개선된 버전\"\"\"\n",
    "    \n",
    "    from tqdm import tqdm\n",
    "    \n",
    "    # 테스트 심볼 설정\n",
    "    if test_symbols is None:\n",
    "        symbols_to_process = list(crypto_data.keys())\n",
    "    else:\n",
    "        symbols_to_process = test_symbols\n",
    "    \n",
    "    # 저장 경로 생성\n",
    "    os.makedirs(save_path, exist_ok=True)\n",
    "    \n",
    "    enhanced_cryptos = {}\n",
    "    failed_symbols = []\n",
    "    \n",
    "    print(f\"처리할 암호화폐 수: {len(symbols_to_process)}\")\n",
    "    print(\"=\"*50)\n",
    "    \n",
    "    for symbol in tqdm(symbols_to_process, desc=\"데이터 처리 및 라벨링\"):\n",
    "        try:\n",
    "            # 데이터 가져오기 및 타입 확인\n",
    "            raw_data = crypto_data[symbol]\n",
    "            \n",
    "            if debug_mode:\n",
    "                is_dataframe = debug_data_structure(raw_data, symbol)\n",
    "                if not is_dataframe:\n",
    "                    failed_symbols.append(f\"{symbol}: 잘못된 데이터 타입\")\n",
    "                    continue\n",
    "            \n",
    "            # DataFrame이 아닌 경우 건너뛰기\n",
    "            if not isinstance(raw_data, pd.DataFrame):\n",
    "                failed_symbols.append(f\"{symbol}: DataFrame이 아님 - {type(raw_data)}\")\n",
    "                continue\n",
    "            \n",
    "            # 빈 DataFrame 확인\n",
    "            if raw_data.empty:\n",
    "                failed_symbols.append(f\"{symbol}: 빈 DataFrame\")\n",
    "                continue\n",
    "            \n",
    "            # 데이터 복사\n",
    "            df = raw_data.copy()\n",
    "            \n",
    "            # 최소 필수 컬럼 확인\n",
    "            essential_columns = ['Close']\n",
    "            missing_essential = [col for col in essential_columns if col not in df.columns]\n",
    "            \n",
    "            if missing_essential:\n",
    "                failed_symbols.append(f\"{symbol}: 필수 컬럼 누락 - {missing_essential}\")\n",
    "                continue\n",
    "            \n",
    "            # 데이터 길이 확인\n",
    "            if len(df) < 30:  # 최소 30일 데이터로 완화\n",
    "                failed_symbols.append(f\"{symbol}: 데이터 부족 ({len(df)}일)\")\n",
    "                continue\n",
    "            \n",
    "            # 1. 고급 기술적 지표 추가\n",
    "            df = create_enhanced_features(df)\n",
    "            \n",
    "            # 2. 기본 기술적 점수 계산\n",
    "            technical_score = calculate_technical_score(df)\n",
    "            df['Technical_Score'] = technical_score\n",
    "            \n",
    "            # 3. 향상된 기술적 점수 계산\n",
    "            enhanced_technical_score = calculate_enhanced_technical_score(df)\n",
    "            df['Enhanced_Technical_Score'] = enhanced_technical_score\n",
    "            \n",
    "            # 4. 복합 점수 생성\n",
    "            composite_score, future_returns_dict = create_composite_score(df)\n",
    "            df['Composite_Score'] = composite_score\n",
    "            \n",
    "            # 5. 미래 수익률 저장 (검증용)\n",
    "            for key, value in future_returns_dict.items():\n",
    "                column_name = f'Future_{key.replace(\"future_\", \"\")}'\n",
    "                df[column_name] = value\n",
    "            \n",
    "            # 6. 라벨 생성 (복합 점수가 유효한 경우에만)\n",
    "            valid_composite = composite_score.dropna()\n",
    "            if len(valid_composite) > 0:\n",
    "                labels = score_to_label(composite_score)\n",
    "                df['Label'] = labels\n",
    "                \n",
    "                # 7. 라벨 이름 추가\n",
    "                label_names = {0: 'Strong_Sell', 1: 'Hold', 2: 'Strong_Buy'}\n",
    "                df['Label_Name'] = df['Label'].map(label_names)\n",
    "                \n",
    "                # 8. 라벨 분포 확인\n",
    "                label_dist = df['Label'].value_counts().sort_index()\n",
    "                if debug_mode:\n",
    "                    print(f\"   라벨 분포: {dict(label_dist)}\")\n",
    "            else:\n",
    "                df['Label'] = 1  # 모두 홀드로 설정\n",
    "                df['Label_Name'] = 'Hold'\n",
    "                if debug_mode:\n",
    "                    print(f\"   복합 점수 없음 - 모두 Hold로 설정\")\n",
    "            \n",
    "            # 9. 결과 저장\n",
    "            enhanced_cryptos[symbol] = df\n",
    "            \n",
    "            # 10. CSV 저장 (옵션)\n",
    "            try:\n",
    "                output_file = f\"{save_path}/{symbol}_enhanced.csv\"\n",
    "                df.to_csv(output_file, index=True)\n",
    "            except Exception as e:\n",
    "                print(f\"⚠️ {symbol}: CSV 저장 실패 - {e}\")\n",
    "            \n",
    "        except Exception as e:\n",
    "            failed_symbols.append(f\"{symbol}: 처리 중 오류 - {str(e)[:100]}\")\n",
    "            if debug_mode:\n",
    "                print(f\"❌ {symbol}: 상세 오류 - {e}\")\n",
    "            continue\n",
    "    \n",
    "    # 결과 요약\n",
    "    success_count = len(enhanced_cryptos)\n",
    "    total_count = len(symbols_to_process)\n",
    "    failure_count = total_count - success_count\n",
    "    \n",
    "    print(f\"\\n{'='*50}\")\n",
    "    print(f\"처리 완료!\")\n",
    "    print(f\"✅ 성공: {success_count}개\")\n",
    "    print(f\"❌ 실패: {failure_count}개\")\n",
    "    print(f\"📁 저장 경로: {save_path}\")\n",
    "    \n",
    "    if failed_symbols and debug_mode:\n",
    "        print(f\"\\n실패한 심볼들:\")\n",
    "        for failed in failed_symbols[:10]:  # 처음 10개만 출력\n",
    "            print(f\"  - {failed}\")\n",
    "        if len(failed_symbols) > 10:\n",
    "            print(f\"  ... 및 {len(failed_symbols) - 10}개 더\")\n",
    "    \n",
    "    return enhanced_cryptos\n",
    "\n",
    "# 사용 예시 및 테스트\n",
    "if __name__ == \"__main__\":\n",
    "    # 사용 예시\n",
    "    # enhanced_data = enhance_crypto_data_with_labels(crypto_data, test_symbols=['BTC', 'ETH'], debug_mode=True)\n",
    "    \n",
    "    # 전체 데이터 처리\n",
    "    # enhanced_data = enhance_crypto_data_with_labels(crypto_data, debug_mode=False)\n",
    "    pass"
   ]
  },
  {
   "cell_type": "markdown",
   "id": "67d46d2f",
   "metadata": {},
   "source": [
    "# 모든종목 저장"
   ]
  },
  {
   "cell_type": "code",
   "execution_count": 7,
   "id": "ff770b15",
   "metadata": {},
   "outputs": [
    {
     "data": {
      "text/plain": [
       "['ADA']"
      ]
     },
     "execution_count": 7,
     "metadata": {},
     "output_type": "execute_result"
    }
   ],
   "source": [
    "test_symbols = list(crypto_data.keys())\n",
    "test_symbols[:1]"
   ]
  },
  {
   "cell_type": "code",
   "execution_count": 8,
   "id": "aad1cddd",
   "metadata": {},
   "outputs": [
    {
     "name": "stdout",
     "output_type": "stream",
     "text": [
      "처리할 암호화폐 수: 20\n",
      "==================================================\n"
     ]
    },
    {
     "name": "stderr",
     "output_type": "stream",
     "text": [
      "데이터 처리 및 라벨링:   0%|          | 0/20 [00:00<?, ?it/s]"
     ]
    },
    {
     "name": "stdout",
     "output_type": "stream",
     "text": [
      "🔍 ADA 데이터 분석:\n",
      "   타입: <class 'pandas.core.frame.DataFrame'>\n",
      "   DataFrame 크기: (17299, 178)\n",
      "   컬럼들: ['Open', 'High', 'Low', 'Close', 'Volume', 'MA_2', 'MA_3', 'MA_4', 'MA_5', 'MA_6']...\n",
      "   라벨 분포: {0: 7785, 1: 1729, 2: 7785}\n"
     ]
    },
    {
     "name": "stderr",
     "output_type": "stream",
     "text": [
      "데이터 처리 및 라벨링:   5%|▌         | 1/20 [00:04<01:26,  4.54s/it]"
     ]
    },
    {
     "name": "stdout",
     "output_type": "stream",
     "text": [
      "🔍 AVAX 데이터 분석:\n",
      "   타입: <class 'pandas.core.frame.DataFrame'>\n",
      "   DataFrame 크기: (17291, 178)\n",
      "   컬럼들: ['Open', 'High', 'Low', 'Close', 'Volume', 'MA_2', 'MA_3', 'MA_4', 'MA_5', 'MA_6']...\n",
      "   라벨 분포: {0: 7781, 1: 1729, 2: 7781}\n"
     ]
    },
    {
     "name": "stderr",
     "output_type": "stream",
     "text": [
      "데이터 처리 및 라벨링:  10%|█         | 2/20 [00:09<01:21,  4.54s/it]"
     ]
    },
    {
     "name": "stdout",
     "output_type": "stream",
     "text": [
      "🔍 BCH 데이터 분석:\n",
      "   타입: <class 'pandas.core.frame.DataFrame'>\n",
      "   DataFrame 크기: (17302, 178)\n",
      "   컬럼들: ['Open', 'High', 'Low', 'Close', 'Volume', 'MA_2', 'MA_3', 'MA_4', 'MA_5', 'MA_6']...\n",
      "   라벨 분포: {0: 7786, 1: 1730, 2: 7786}\n"
     ]
    },
    {
     "name": "stderr",
     "output_type": "stream",
     "text": [
      "데이터 처리 및 라벨링:  15%|█▌        | 3/20 [00:13<01:16,  4.51s/it]"
     ]
    },
    {
     "name": "stdout",
     "output_type": "stream",
     "text": [
      "🔍 BNB 데이터 분석:\n",
      "   타입: <class 'pandas.core.frame.DataFrame'>\n",
      "   DataFrame 크기: (17302, 178)\n",
      "   컬럼들: ['Open', 'High', 'Low', 'Close', 'Volume', 'MA_2', 'MA_3', 'MA_4', 'MA_5', 'MA_6']...\n",
      "   라벨 분포: {0: 7786, 1: 1730, 2: 7786}\n"
     ]
    },
    {
     "name": "stderr",
     "output_type": "stream",
     "text": [
      "데이터 처리 및 라벨링:  20%|██        | 4/20 [00:18<01:12,  4.55s/it]"
     ]
    },
    {
     "name": "stdout",
     "output_type": "stream",
     "text": [
      "🔍 BTC 데이터 분석:\n",
      "   타입: <class 'pandas.core.frame.DataFrame'>\n",
      "   DataFrame 크기: (17302, 178)\n",
      "   컬럼들: ['Open', 'High', 'Low', 'Close', 'Volume', 'MA_2', 'MA_3', 'MA_4', 'MA_5', 'MA_6']...\n",
      "   라벨 분포: {0: 7786, 1: 1730, 2: 7786}\n"
     ]
    },
    {
     "name": "stderr",
     "output_type": "stream",
     "text": [
      "데이터 처리 및 라벨링:  25%|██▌       | 5/20 [00:22<01:07,  4.50s/it]"
     ]
    },
    {
     "name": "stdout",
     "output_type": "stream",
     "text": [
      "🔍 CRO 데이터 분석:\n",
      "   타입: <class 'pandas.core.frame.DataFrame'>\n",
      "   DataFrame 크기: (17293, 178)\n",
      "   컬럼들: ['Open', 'High', 'Low', 'Close', 'Volume', 'MA_2', 'MA_3', 'MA_4', 'MA_5', 'MA_6']...\n",
      "   라벨 분포: {0: 7782, 1: 1729, 2: 7782}\n"
     ]
    },
    {
     "name": "stderr",
     "output_type": "stream",
     "text": [
      "데이터 처리 및 라벨링:  30%|███       | 6/20 [00:27<01:02,  4.49s/it]"
     ]
    },
    {
     "name": "stdout",
     "output_type": "stream",
     "text": [
      "🔍 DOGE 데이터 분석:\n",
      "   타입: <class 'pandas.core.frame.DataFrame'>\n",
      "   DataFrame 크기: (17293, 178)\n",
      "   컬럼들: ['Open', 'High', 'Low', 'Close', 'Volume', 'MA_2', 'MA_3', 'MA_4', 'MA_5', 'MA_6']...\n",
      "   라벨 분포: {0: 7782, 1: 1729, 2: 7782}\n"
     ]
    },
    {
     "name": "stderr",
     "output_type": "stream",
     "text": [
      "데이터 처리 및 라벨링:  35%|███▌      | 7/20 [00:31<00:59,  4.59s/it]"
     ]
    },
    {
     "name": "stdout",
     "output_type": "stream",
     "text": [
      "🔍 ETH 데이터 분석:\n",
      "   타입: <class 'pandas.core.frame.DataFrame'>\n",
      "   DataFrame 크기: (17298, 178)\n",
      "   컬럼들: ['Open', 'High', 'Low', 'Close', 'Volume', 'MA_2', 'MA_3', 'MA_4', 'MA_5', 'MA_6']...\n",
      "   라벨 분포: {0: 7784, 1: 1730, 2: 7784}\n"
     ]
    },
    {
     "name": "stderr",
     "output_type": "stream",
     "text": [
      "데이터 처리 및 라벨링:  40%|████      | 8/20 [00:36<00:54,  4.54s/it]"
     ]
    },
    {
     "name": "stdout",
     "output_type": "stream",
     "text": [
      "🔍 HBAR 데이터 분석:\n",
      "   타입: <class 'pandas.core.frame.DataFrame'>\n",
      "   DataFrame 크기: (17301, 178)\n",
      "   컬럼들: ['Open', 'High', 'Low', 'Close', 'Volume', 'MA_2', 'MA_3', 'MA_4', 'MA_5', 'MA_6']...\n",
      "   라벨 분포: {0: 7786, 1: 1729, 2: 7786}\n"
     ]
    },
    {
     "name": "stderr",
     "output_type": "stream",
     "text": [
      "데이터 처리 및 라벨링:  45%|████▌     | 9/20 [00:40<00:49,  4.53s/it]"
     ]
    },
    {
     "name": "stdout",
     "output_type": "stream",
     "text": [
      "🔍 LEO 데이터 분석:\n",
      "   타입: <class 'pandas.core.frame.DataFrame'>\n",
      "   DataFrame 크기: (17301, 178)\n",
      "   컬럼들: ['Open', 'High', 'Low', 'Close', 'Volume', 'MA_2', 'MA_3', 'MA_4', 'MA_5', 'MA_6']...\n",
      "   라벨 분포: {0: 7786, 1: 1729, 2: 7786}\n"
     ]
    },
    {
     "name": "stderr",
     "output_type": "stream",
     "text": [
      "데이터 처리 및 라벨링:  50%|█████     | 10/20 [00:45<00:45,  4.51s/it]"
     ]
    },
    {
     "name": "stdout",
     "output_type": "stream",
     "text": [
      "🔍 LTC 데이터 분석:\n",
      "   타입: <class 'pandas.core.frame.DataFrame'>\n",
      "   DataFrame 크기: (17294, 178)\n",
      "   컬럼들: ['Open', 'High', 'Low', 'Close', 'Volume', 'MA_2', 'MA_3', 'MA_4', 'MA_5', 'MA_6']...\n",
      "   라벨 분포: {0: 7782, 1: 1730, 2: 7782}\n"
     ]
    },
    {
     "name": "stderr",
     "output_type": "stream",
     "text": [
      "데이터 처리 및 라벨링:  55%|█████▌    | 11/20 [00:49<00:40,  4.48s/it]"
     ]
    },
    {
     "name": "stdout",
     "output_type": "stream",
     "text": [
      "🔍 SHIB 데이터 분석:\n",
      "   타입: <class 'pandas.core.frame.DataFrame'>\n",
      "   DataFrame 크기: (17301, 178)\n",
      "   컬럼들: ['Open', 'High', 'Low', 'Close', 'Volume', 'MA_2', 'MA_3', 'MA_4', 'MA_5', 'MA_6']...\n",
      "   라벨 분포: {0: 7786, 1: 1729, 2: 7786}\n"
     ]
    },
    {
     "name": "stderr",
     "output_type": "stream",
     "text": [
      "데이터 처리 및 라벨링:  60%|██████    | 12/20 [00:54<00:36,  4.58s/it]"
     ]
    },
    {
     "name": "stdout",
     "output_type": "stream",
     "text": [
      "🔍 SOL 데이터 분석:\n",
      "   타입: <class 'pandas.core.frame.DataFrame'>\n",
      "   DataFrame 크기: (17300, 178)\n",
      "   컬럼들: ['Open', 'High', 'Low', 'Close', 'Volume', 'MA_2', 'MA_3', 'MA_4', 'MA_5', 'MA_6']...\n",
      "   라벨 분포: {0: 7785, 1: 1730, 2: 7785}\n"
     ]
    },
    {
     "name": "stderr",
     "output_type": "stream",
     "text": [
      "데이터 처리 및 라벨링:  65%|██████▌   | 13/20 [00:59<00:32,  4.58s/it]"
     ]
    },
    {
     "name": "stdout",
     "output_type": "stream",
     "text": [
      "🔍 SUI20947 데이터 분석:\n",
      "   타입: <class 'pandas.core.frame.DataFrame'>\n",
      "   DataFrame 크기: (17293, 178)\n",
      "   컬럼들: ['Open', 'High', 'Low', 'Close', 'Volume', 'MA_2', 'MA_3', 'MA_4', 'MA_5', 'MA_6']...\n",
      "   라벨 분포: {0: 7782, 1: 1729, 2: 7782}\n"
     ]
    },
    {
     "name": "stderr",
     "output_type": "stream",
     "text": [
      "데이터 처리 및 라벨링:  70%|███████   | 14/20 [01:03<00:27,  4.58s/it]"
     ]
    },
    {
     "name": "stdout",
     "output_type": "stream",
     "text": [
      "🔍 TON11419 데이터 분석:\n",
      "   타입: <class 'pandas.core.frame.DataFrame'>\n",
      "   DataFrame 크기: (17297, 178)\n",
      "   컬럼들: ['Open', 'High', 'Low', 'Close', 'Volume', 'MA_2', 'MA_3', 'MA_4', 'MA_5', 'MA_6']...\n",
      "   라벨 분포: {0: 7784, 1: 1729, 2: 7784}\n"
     ]
    },
    {
     "name": "stderr",
     "output_type": "stream",
     "text": [
      "데이터 처리 및 라벨링:  75%|███████▌  | 15/20 [01:08<00:22,  4.57s/it]"
     ]
    },
    {
     "name": "stdout",
     "output_type": "stream",
     "text": [
      "🔍 TRX 데이터 분석:\n",
      "   타입: <class 'pandas.core.frame.DataFrame'>\n",
      "   DataFrame 크기: (17300, 178)\n",
      "   컬럼들: ['Open', 'High', 'Low', 'Close', 'Volume', 'MA_2', 'MA_3', 'MA_4', 'MA_5', 'MA_6']...\n",
      "   라벨 분포: {0: 7785, 1: 1730, 2: 7785}\n"
     ]
    },
    {
     "name": "stderr",
     "output_type": "stream",
     "text": [
      "데이터 처리 및 라벨링:  80%|████████  | 16/20 [01:12<00:18,  4.60s/it]"
     ]
    },
    {
     "name": "stdout",
     "output_type": "stream",
     "text": [
      "🔍 USDC 데이터 분석:\n",
      "   타입: <class 'pandas.core.frame.DataFrame'>\n",
      "   DataFrame 크기: (17301, 178)\n",
      "   컬럼들: ['Open', 'High', 'Low', 'Close', 'Volume', 'MA_2', 'MA_3', 'MA_4', 'MA_5', 'MA_6']...\n",
      "   라벨 분포: {0: 7786, 1: 1729, 2: 7786}\n"
     ]
    },
    {
     "name": "stderr",
     "output_type": "stream",
     "text": [
      "데이터 처리 및 라벨링:  85%|████████▌ | 17/20 [01:17<00:13,  4.63s/it]"
     ]
    },
    {
     "name": "stdout",
     "output_type": "stream",
     "text": [
      "🔍 USDT 데이터 분석:\n",
      "   타입: <class 'pandas.core.frame.DataFrame'>\n",
      "   DataFrame 크기: (17293, 178)\n",
      "   컬럼들: ['Open', 'High', 'Low', 'Close', 'Volume', 'MA_2', 'MA_3', 'MA_4', 'MA_5', 'MA_6']...\n",
      "   라벨 분포: {0: 7782, 1: 1729, 2: 7782}\n"
     ]
    },
    {
     "name": "stderr",
     "output_type": "stream",
     "text": [
      "데이터 처리 및 라벨링:  90%|█████████ | 18/20 [01:22<00:09,  4.66s/it]"
     ]
    },
    {
     "name": "stdout",
     "output_type": "stream",
     "text": [
      "🔍 XLM 데이터 분석:\n",
      "   타입: <class 'pandas.core.frame.DataFrame'>\n",
      "   DataFrame 크기: (17299, 178)\n",
      "   컬럼들: ['Open', 'High', 'Low', 'Close', 'Volume', 'MA_2', 'MA_3', 'MA_4', 'MA_5', 'MA_6']...\n",
      "   라벨 분포: {0: 7785, 1: 1729, 2: 7785}\n"
     ]
    },
    {
     "name": "stderr",
     "output_type": "stream",
     "text": [
      "데이터 처리 및 라벨링:  95%|█████████▌| 19/20 [01:26<00:04,  4.67s/it]"
     ]
    },
    {
     "name": "stdout",
     "output_type": "stream",
     "text": [
      "🔍 XRP 데이터 분석:\n",
      "   타입: <class 'pandas.core.frame.DataFrame'>\n",
      "   DataFrame 크기: (17302, 178)\n",
      "   컬럼들: ['Open', 'High', 'Low', 'Close', 'Volume', 'MA_2', 'MA_3', 'MA_4', 'MA_5', 'MA_6']...\n",
      "   라벨 분포: {0: 7786, 1: 1730, 2: 7786}\n"
     ]
    },
    {
     "name": "stderr",
     "output_type": "stream",
     "text": [
      "데이터 처리 및 라벨링: 100%|██████████| 20/20 [01:31<00:00,  4.58s/it]"
     ]
    },
    {
     "name": "stdout",
     "output_type": "stream",
     "text": [
      "\n",
      "==================================================\n",
      "처리 완료!\n",
      "✅ 성공: 20개\n",
      "❌ 실패: 0개\n",
      "📁 저장 경로: /workspace/AI모델/projects/coin/data/1h/labeling/00\n"
     ]
    },
    {
     "name": "stderr",
     "output_type": "stream",
     "text": [
      "\n"
     ]
    }
   ],
   "source": [
    "# n개 종목 테스트\n",
    "# test_symbols = list(stocks.keys())[:5] + list(stocks.keys())[-3:]\n",
    "test_symbols = list(crypto_data.keys())\n",
    "\n",
    "# save path\n",
    "save_path_1 = \"/workspace/AI모델/projects/coin/data/1h/labeling/00\" \n",
    "\n",
    "# run\n",
    "enhanced_stocks = enhance_crypto_data_with_labels(\n",
    "    crypto_data=crypto_data,\n",
    "    test_symbols=test_symbols,  # None이면 전체 종목\n",
    "    save_path=save_path_1,  # 저장 경로\n",
    "    debug_mode=True\n",
    ")"
   ]
  },
  {
   "cell_type": "markdown",
   "id": "7e571f3d",
   "metadata": {},
   "source": [
    "# 메이저종목만 다운"
   ]
  },
  {
   "cell_type": "code",
   "execution_count": 14,
   "id": "c065a457",
   "metadata": {},
   "outputs": [
    {
     "name": "stdout",
     "output_type": "stream",
     "text": [
      "['BTC', 'ETH', 'USDT', 'BNB', 'SOL', 'USDC', 'XRP', 'DOGE', 'TON11419', 'ADA', 'SHIB', 'AVAX', 'TRX', 'DOT', 'BCH', 'NEAR', 'MATIC', 'ICP', 'UNI7083', 'LTC']\n"
     ]
    }
   ],
   "source": [
    "### 메이저 리스트\n",
    "major_coins = [\n",
    "    'BTC-USD', 'ETH-USD', 'USDT-USD', 'BNB-USD', 'SOL-USD', \n",
    "    'USDC-USD', 'XRP-USD', 'DOGE-USD', 'TON11419-USD', 'ADA-USD',\n",
    "    'SHIB-USD', 'AVAX-USD', 'TRX-USD', 'DOT-USD', 'BCH-USD',\n",
    "    'NEAR-USD', 'MATIC-USD', 'ICP-USD', 'UNI7083-USD', 'LTC-USD'\n",
    "]\n",
    "\n",
    "# 각 문자열에서 '-USD'를 제거하고 test_symbols 리스트에 저장\n",
    "test_symbols = [coin.replace('-USD', '') for coin in major_coins]\n",
    "\n",
    "# 결과 확인\n",
    "print(test_symbols)"
   ]
  },
  {
   "cell_type": "code",
   "execution_count": 15,
   "id": "8c8e5698",
   "metadata": {},
   "outputs": [
    {
     "name": "stdout",
     "output_type": "stream",
     "text": [
      "처리할 암호화폐 수: 20\n",
      "==================================================\n"
     ]
    },
    {
     "name": "stderr",
     "output_type": "stream",
     "text": [
      "데이터 처리 및 라벨링:   0%|          | 0/20 [00:00<?, ?it/s]"
     ]
    },
    {
     "name": "stdout",
     "output_type": "stream",
     "text": [
      "🔍 BTC 데이터 분석:\n",
      "   타입: <class 'pandas.core.frame.DataFrame'>\n",
      "   DataFrame 크기: (3910, 178)\n",
      "   컬럼들: ['Open', 'High', 'Low', 'Close', 'Volume', 'MA_2', 'MA_3', 'MA_4', 'MA_5', 'MA_6']...\n",
      "   라벨 분포: {0: 1760, 1: 390, 2: 1760}\n"
     ]
    },
    {
     "name": "stderr",
     "output_type": "stream",
     "text": [
      "데이터 처리 및 라벨링:   5%|▌         | 1/20 [00:01<00:20,  1.06s/it]"
     ]
    },
    {
     "name": "stdout",
     "output_type": "stream",
     "text": [
      "🔍 ETH 데이터 분석:\n",
      "   타입: <class 'pandas.core.frame.DataFrame'>\n",
      "   DataFrame 크기: (2867, 178)\n",
      "   컬럼들: ['Open', 'High', 'Low', 'Close', 'Volume', 'MA_2', 'MA_3', 'MA_4', 'MA_5', 'MA_6']...\n",
      "   라벨 분포: {0: 1290, 1: 287, 2: 1290}\n"
     ]
    },
    {
     "name": "stderr",
     "output_type": "stream",
     "text": [
      "데이터 처리 및 라벨링:  10%|█         | 2/20 [00:01<00:16,  1.09it/s]"
     ]
    },
    {
     "name": "stdout",
     "output_type": "stream",
     "text": [
      "🔍 USDT 데이터 분석:\n",
      "   타입: <class 'pandas.core.frame.DataFrame'>\n",
      "   DataFrame 크기: (2867, 178)\n",
      "   컬럼들: ['Open', 'High', 'Low', 'Close', 'Volume', 'MA_2', 'MA_3', 'MA_4', 'MA_5', 'MA_6']...\n",
      "   라벨 분포: {0: 1290, 1: 287, 2: 1290}\n"
     ]
    },
    {
     "name": "stderr",
     "output_type": "stream",
     "text": [
      "데이터 처리 및 라벨링:  15%|█▌        | 3/20 [00:02<00:14,  1.14it/s]"
     ]
    },
    {
     "name": "stdout",
     "output_type": "stream",
     "text": [
      "🔍 BNB 데이터 분석:\n",
      "   타입: <class 'pandas.core.frame.DataFrame'>\n",
      "   DataFrame 크기: (2867, 178)\n",
      "   컬럼들: ['Open', 'High', 'Low', 'Close', 'Volume', 'MA_2', 'MA_3', 'MA_4', 'MA_5', 'MA_6']...\n",
      "   라벨 분포: {0: 1290, 1: 287, 2: 1290}\n"
     ]
    },
    {
     "name": "stderr",
     "output_type": "stream",
     "text": [
      "데이터 처리 및 라벨링:  20%|██        | 4/20 [00:03<00:13,  1.18it/s]"
     ]
    },
    {
     "name": "stdout",
     "output_type": "stream",
     "text": [
      "🔍 SOL 데이터 분석:\n",
      "   타입: <class 'pandas.core.frame.DataFrame'>\n",
      "   DataFrame 크기: (1984, 178)\n",
      "   컬럼들: ['Open', 'High', 'Low', 'Close', 'Volume', 'MA_2', 'MA_3', 'MA_4', 'MA_5', 'MA_6']...\n",
      "   라벨 분포: {0: 893, 1: 198, 2: 893}\n"
     ]
    },
    {
     "name": "stderr",
     "output_type": "stream",
     "text": [
      "데이터 처리 및 라벨링:  25%|██▌       | 5/20 [00:04<00:11,  1.34it/s]"
     ]
    },
    {
     "name": "stdout",
     "output_type": "stream",
     "text": [
      "🔍 USDC 데이터 분석:\n",
      "   타입: <class 'pandas.core.frame.DataFrame'>\n",
      "   DataFrame 크기: (2534, 178)\n",
      "   컬럼들: ['Open', 'High', 'Low', 'Close', 'Volume', 'MA_2', 'MA_3', 'MA_4', 'MA_5', 'MA_6']...\n",
      "   라벨 분포: {0: 1140, 1: 254, 2: 1140}\n"
     ]
    },
    {
     "name": "stderr",
     "output_type": "stream",
     "text": [
      "데이터 처리 및 라벨링:  30%|███       | 6/20 [00:04<00:10,  1.35it/s]"
     ]
    },
    {
     "name": "stdout",
     "output_type": "stream",
     "text": [
      "🔍 XRP 데이터 분석:\n",
      "   타입: <class 'pandas.core.frame.DataFrame'>\n",
      "   DataFrame 크기: (2867, 178)\n",
      "   컬럼들: ['Open', 'High', 'Low', 'Close', 'Volume', 'MA_2', 'MA_3', 'MA_4', 'MA_5', 'MA_6']...\n",
      "   라벨 분포: {0: 1290, 1: 287, 2: 1290}\n"
     ]
    },
    {
     "name": "stderr",
     "output_type": "stream",
     "text": [
      "데이터 처리 및 라벨링:  35%|███▌      | 7/20 [00:05<00:09,  1.31it/s]"
     ]
    },
    {
     "name": "stdout",
     "output_type": "stream",
     "text": [
      "🔍 DOGE 데이터 분석:\n",
      "   타입: <class 'pandas.core.frame.DataFrame'>\n",
      "   DataFrame 크기: (2867, 178)\n",
      "   컬럼들: ['Open', 'High', 'Low', 'Close', 'Volume', 'MA_2', 'MA_3', 'MA_4', 'MA_5', 'MA_6']...\n",
      "   라벨 분포: {0: 1290, 1: 287, 2: 1290}\n"
     ]
    },
    {
     "name": "stderr",
     "output_type": "stream",
     "text": [
      "데이터 처리 및 라벨링:  40%|████      | 8/20 [00:06<00:09,  1.28it/s]"
     ]
    },
    {
     "name": "stdout",
     "output_type": "stream",
     "text": [
      "🔍 TON11419 데이터 분석:\n",
      "   타입: <class 'pandas.core.frame.DataFrame'>\n",
      "   DataFrame 크기: (1480, 178)\n",
      "   컬럼들: ['Open', 'High', 'Low', 'Close', 'Volume', 'MA_2', 'MA_3', 'MA_4', 'MA_5', 'MA_6']...\n",
      "   라벨 분포: {0: 666, 1: 148, 2: 666}\n"
     ]
    },
    {
     "name": "stderr",
     "output_type": "stream",
     "text": [
      "데이터 처리 및 라벨링:  45%|████▌     | 9/20 [00:06<00:07,  1.49it/s]"
     ]
    },
    {
     "name": "stdout",
     "output_type": "stream",
     "text": [
      "🔍 ADA 데이터 분석:\n",
      "   타입: <class 'pandas.core.frame.DataFrame'>\n",
      "   DataFrame 크기: (2867, 178)\n",
      "   컬럼들: ['Open', 'High', 'Low', 'Close', 'Volume', 'MA_2', 'MA_3', 'MA_4', 'MA_5', 'MA_6']...\n",
      "   라벨 분포: {0: 1290, 1: 287, 2: 1290}\n"
     ]
    },
    {
     "name": "stderr",
     "output_type": "stream",
     "text": [
      "데이터 처리 및 라벨링:  50%|█████     | 10/20 [00:07<00:07,  1.40it/s]"
     ]
    },
    {
     "name": "stdout",
     "output_type": "stream",
     "text": [
      "🔍 SHIB 데이터 분석:\n",
      "   타입: <class 'pandas.core.frame.DataFrame'>\n",
      "   DataFrame 크기: (1830, 178)\n",
      "   컬럼들: ['Open', 'High', 'Low', 'Close', 'Volume', 'MA_2', 'MA_3', 'MA_4', 'MA_5', 'MA_6']...\n",
      "   라벨 분포: {0: 839, 1: 167, 2: 824}\n"
     ]
    },
    {
     "name": "stderr",
     "output_type": "stream",
     "text": [
      "데이터 처리 및 라벨링:  55%|█████▌    | 11/20 [00:08<00:05,  1.56it/s]"
     ]
    },
    {
     "name": "stdout",
     "output_type": "stream",
     "text": [
      "🔍 AVAX 데이터 분석:\n",
      "   타입: <class 'pandas.core.frame.DataFrame'>\n",
      "   DataFrame 크기: (1821, 178)\n",
      "   컬럼들: ['Open', 'High', 'Low', 'Close', 'Volume', 'MA_2', 'MA_3', 'MA_4', 'MA_5', 'MA_6']...\n",
      "   라벨 분포: {0: 820, 1: 182, 2: 819}\n"
     ]
    },
    {
     "name": "stderr",
     "output_type": "stream",
     "text": [
      "데이터 처리 및 라벨링:  60%|██████    | 12/20 [00:08<00:04,  1.64it/s]"
     ]
    },
    {
     "name": "stdout",
     "output_type": "stream",
     "text": [
      "🔍 TRX 데이터 분석:\n",
      "   타입: <class 'pandas.core.frame.DataFrame'>\n",
      "   DataFrame 크기: (2867, 178)\n",
      "   컬럼들: ['Open', 'High', 'Low', 'Close', 'Volume', 'MA_2', 'MA_3', 'MA_4', 'MA_5', 'MA_6']...\n",
      "   라벨 분포: {0: 1290, 1: 287, 2: 1290}\n"
     ]
    },
    {
     "name": "stderr",
     "output_type": "stream",
     "text": [
      "데이터 처리 및 라벨링:  65%|██████▌   | 13/20 [00:09<00:04,  1.49it/s]"
     ]
    },
    {
     "name": "stdout",
     "output_type": "stream",
     "text": [
      "🔍 DOT 데이터 분석:\n",
      "   타입: <class 'pandas.core.frame.DataFrame'>\n",
      "   DataFrame 크기: (1852, 178)\n",
      "   컬럼들: ['Open', 'High', 'Low', 'Close', 'Volume', 'MA_2', 'MA_3', 'MA_4', 'MA_5', 'MA_6']...\n",
      "   라벨 분포: {0: 833, 1: 186, 2: 833}\n"
     ]
    },
    {
     "name": "stderr",
     "output_type": "stream",
     "text": [
      "데이터 처리 및 라벨링:  70%|███████   | 14/20 [00:10<00:03,  1.60it/s]"
     ]
    },
    {
     "name": "stdout",
     "output_type": "stream",
     "text": [
      "🔍 BCH 데이터 분석:\n",
      "   타입: <class 'pandas.core.frame.DataFrame'>\n",
      "   DataFrame 크기: (2867, 178)\n",
      "   컬럼들: ['Open', 'High', 'Low', 'Close', 'Volume', 'MA_2', 'MA_3', 'MA_4', 'MA_5', 'MA_6']...\n",
      "   라벨 분포: {0: 1290, 1: 287, 2: 1290}\n"
     ]
    },
    {
     "name": "stderr",
     "output_type": "stream",
     "text": [
      "데이터 처리 및 라벨링:  75%|███████▌  | 15/20 [00:10<00:03,  1.50it/s]"
     ]
    },
    {
     "name": "stdout",
     "output_type": "stream",
     "text": [
      "🔍 NEAR 데이터 분석:\n",
      "   타입: <class 'pandas.core.frame.DataFrame'>\n",
      "   DataFrame 크기: (1797, 178)\n",
      "   컬럼들: ['Open', 'High', 'Low', 'Close', 'Volume', 'MA_2', 'MA_3', 'MA_4', 'MA_5', 'MA_6']...\n",
      "   라벨 분포: {0: 809, 1: 179, 2: 809}\n"
     ]
    },
    {
     "name": "stderr",
     "output_type": "stream",
     "text": [
      "데이터 처리 및 라벨링:  80%|████████  | 16/20 [00:11<00:02,  1.62it/s]"
     ]
    },
    {
     "name": "stdout",
     "output_type": "stream",
     "text": [
      "❌ MATIC: 상세 오류 - 'MATIC'\n",
      "🔍 ICP 데이터 분석:\n",
      "   타입: <class 'pandas.core.frame.DataFrame'>\n",
      "   DataFrame 크기: (1589, 178)\n",
      "   컬럼들: ['Open', 'High', 'Low', 'Close', 'Volume', 'MA_2', 'MA_3', 'MA_4', 'MA_5', 'MA_6']...\n",
      "   라벨 분포: {0: 715, 1: 159, 2: 715}\n"
     ]
    },
    {
     "name": "stderr",
     "output_type": "stream",
     "text": [
      "데이터 처리 및 라벨링:  90%|█████████ | 18/20 [00:11<00:00,  2.31it/s]"
     ]
    },
    {
     "name": "stdout",
     "output_type": "stream",
     "text": [
      "🔍 UNI7083 데이터 분석:\n",
      "   타입: <class 'pandas.core.frame.DataFrame'>\n",
      "   DataFrame 크기: (1823, 178)\n",
      "   컬럼들: ['Open', 'High', 'Low', 'Close', 'Volume', 'MA_2', 'MA_3', 'MA_4', 'MA_5', 'MA_6']...\n",
      "   라벨 분포: {0: 820, 1: 183, 2: 820}\n"
     ]
    },
    {
     "name": "stderr",
     "output_type": "stream",
     "text": [
      "데이터 처리 및 라벨링:  95%|█████████▌| 19/20 [00:12<00:00,  2.24it/s]"
     ]
    },
    {
     "name": "stdout",
     "output_type": "stream",
     "text": [
      "🔍 LTC 데이터 분석:\n",
      "   타입: <class 'pandas.core.frame.DataFrame'>\n",
      "   DataFrame 크기: (3910, 178)\n",
      "   컬럼들: ['Open', 'High', 'Low', 'Close', 'Volume', 'MA_2', 'MA_3', 'MA_4', 'MA_5', 'MA_6']...\n",
      "   라벨 분포: {0: 1760, 1: 390, 2: 1760}\n"
     ]
    },
    {
     "name": "stderr",
     "output_type": "stream",
     "text": [
      "데이터 처리 및 라벨링: 100%|██████████| 20/20 [00:13<00:00,  1.51it/s]"
     ]
    },
    {
     "name": "stdout",
     "output_type": "stream",
     "text": [
      "\n",
      "==================================================\n",
      "처리 완료!\n",
      "✅ 성공: 19개\n",
      "❌ 실패: 1개\n",
      "📁 저장 경로: /workspace/AI모델/projects/coin/data/labeling/m_00\n",
      "\n",
      "실패한 심볼들:\n",
      "  - MATIC: 처리 중 오류 - 'MATIC'\n"
     ]
    },
    {
     "name": "stderr",
     "output_type": "stream",
     "text": [
      "\n"
     ]
    }
   ],
   "source": [
    "# n개 종목 테스트\n",
    "# test_symbols = list(stocks.keys())[:5] + list(stocks.keys())[-3:]\n",
    "\n",
    "# save path\n",
    "save_path_1 = \"/workspace/AI모델/projects/coin/data/labeling/m_00\" \n",
    "\n",
    "# run\n",
    "enhanced_stocks = enhance_crypto_data_with_labels(\n",
    "    crypto_data=crypto_data,\n",
    "    test_symbols=test_symbols,  # None이면 전체 종목\n",
    "    save_path=save_path_1,  # 저장 경로\n",
    "    debug_mode=True\n",
    ")"
   ]
  },
  {
   "cell_type": "markdown",
   "id": "b2032f03",
   "metadata": {},
   "source": [
    "# 컨테이너 cpu메모리 비우기"
   ]
  },
  {
   "cell_type": "code",
   "execution_count": 8,
   "id": "8e073a15",
   "metadata": {},
   "outputs": [
    {
     "name": "stdout",
     "output_type": "stream",
     "text": [
      "메모리 정리 완료 - 사용률: 49.6%\n"
     ]
    },
    {
     "ename": "KeyError",
     "evalue": "'_oh'",
     "output_type": "error",
     "traceback": [
      "\u001b[0;31m---------------------------------------------------------------------------\u001b[0m",
      "\u001b[0;31mKeyError\u001b[0m                                  Traceback (most recent call last)",
      "Cell \u001b[0;32mIn[8], line 35\u001b[0m\n\u001b[1;32m     33\u001b[0m \u001b[38;5;66;03m# 6. 강제 메모리 해제 (극단적 방법)\u001b[39;00m\n\u001b[1;32m     34\u001b[0m \u001b[38;5;28;01mimport\u001b[39;00m \u001b[38;5;21;01mctypes\u001b[39;00m\n\u001b[0;32m---> 35\u001b[0m ctypes\u001b[38;5;241m.\u001b[39mCDLL(\u001b[38;5;124m\"\u001b[39m\u001b[38;5;124mlibc.so.6\u001b[39m\u001b[38;5;124m\"\u001b[39m)\u001b[38;5;241m.\u001b[39mmalloc_trim(\u001b[38;5;241m0\u001b[39m)\n",
      "File \u001b[0;32m/opt/conda/lib/python3.10/site-packages/IPython/core/displayhook.py:269\u001b[0m, in \u001b[0;36mDisplayHook.__call__\u001b[0;34m(self, result)\u001b[0m\n\u001b[1;32m    267\u001b[0m \u001b[38;5;28mself\u001b[39m\u001b[38;5;241m.\u001b[39mwrite_output_prompt()\n\u001b[1;32m    268\u001b[0m format_dict, md_dict \u001b[38;5;241m=\u001b[39m \u001b[38;5;28mself\u001b[39m\u001b[38;5;241m.\u001b[39mcompute_format_data(result)\n\u001b[0;32m--> 269\u001b[0m \u001b[38;5;28;43mself\u001b[39;49m\u001b[38;5;241;43m.\u001b[39;49m\u001b[43mupdate_user_ns\u001b[49m\u001b[43m(\u001b[49m\u001b[43mresult\u001b[49m\u001b[43m)\u001b[49m\n\u001b[1;32m    270\u001b[0m \u001b[38;5;28mself\u001b[39m\u001b[38;5;241m.\u001b[39mfill_exec_result(result)\n\u001b[1;32m    271\u001b[0m \u001b[38;5;28;01mif\u001b[39;00m format_dict:\n",
      "File \u001b[0;32m/opt/conda/lib/python3.10/site-packages/IPython/core/displayhook.py:207\u001b[0m, in \u001b[0;36mDisplayHook.update_user_ns\u001b[0;34m(self, result)\u001b[0m\n\u001b[1;32m    204\u001b[0m \u001b[38;5;250m\u001b[39m\u001b[38;5;124;03m\"\"\"Update user_ns with various things like _, __, _1, etc.\"\"\"\u001b[39;00m\n\u001b[1;32m    206\u001b[0m \u001b[38;5;66;03m# Avoid recursive reference when displaying _oh/Out\u001b[39;00m\n\u001b[0;32m--> 207\u001b[0m \u001b[38;5;28;01mif\u001b[39;00m \u001b[38;5;28mself\u001b[39m\u001b[38;5;241m.\u001b[39mcache_size \u001b[38;5;129;01mand\u001b[39;00m result \u001b[38;5;129;01mis\u001b[39;00m \u001b[38;5;129;01mnot\u001b[39;00m \u001b[38;5;28;43mself\u001b[39;49m\u001b[38;5;241;43m.\u001b[39;49m\u001b[43mshell\u001b[49m\u001b[38;5;241;43m.\u001b[39;49m\u001b[43muser_ns\u001b[49m\u001b[43m[\u001b[49m\u001b[38;5;124;43m'\u001b[39;49m\u001b[38;5;124;43m_oh\u001b[39;49m\u001b[38;5;124;43m'\u001b[39;49m\u001b[43m]\u001b[49m:\n\u001b[1;32m    208\u001b[0m     \u001b[38;5;28;01mif\u001b[39;00m \u001b[38;5;28mlen\u001b[39m(\u001b[38;5;28mself\u001b[39m\u001b[38;5;241m.\u001b[39mshell\u001b[38;5;241m.\u001b[39muser_ns[\u001b[38;5;124m'\u001b[39m\u001b[38;5;124m_oh\u001b[39m\u001b[38;5;124m'\u001b[39m]) \u001b[38;5;241m>\u001b[39m\u001b[38;5;241m=\u001b[39m \u001b[38;5;28mself\u001b[39m\u001b[38;5;241m.\u001b[39mcache_size \u001b[38;5;129;01mand\u001b[39;00m \u001b[38;5;28mself\u001b[39m\u001b[38;5;241m.\u001b[39mdo_full_cache:\n\u001b[1;32m    209\u001b[0m         \u001b[38;5;28mself\u001b[39m\u001b[38;5;241m.\u001b[39mcull_cache()\n",
      "\u001b[0;31mKeyError\u001b[0m: '_oh'"
     ]
    }
   ],
   "source": [
    "import gc\n",
    "import torch\n",
    "import sys\n",
    "\n",
    "\n",
    "# 2. 전역 변수 정리\n",
    "globals_to_delete = []\n",
    "for name, obj in list(globals().items()):\n",
    "    if hasattr(obj, '__len__') and len(str(obj)) > 1000:\n",
    "        globals_to_delete.append(name)\n",
    "\n",
    "for name in globals_to_delete:\n",
    "    try:\n",
    "        del globals()[name]\n",
    "    except:\n",
    "        pass\n",
    "\n",
    "# 3. GPU 메모리 완전 정리\n",
    "if torch.cuda.is_available():\n",
    "    torch.cuda.empty_cache()\n",
    "    torch.cuda.synchronize()\n",
    "    torch.cuda.reset_peak_memory_stats()\n",
    "\n",
    "# 4. Python 메모리 강제 정리\n",
    "for i in range(3):\n",
    "    gc.collect()\n",
    "\n",
    "# 5. 메모리 사용량 확인\n",
    "import psutil\n",
    "memory_percent = psutil.virtual_memory().percent\n",
    "print(f\"메모리 정리 완료 - 사용률: {memory_percent:.1f}%\")\n",
    "\n",
    "# 6. 강제 메모리 해제 (극단적 방법)\n",
    "import ctypes\n",
    "ctypes.CDLL(\"libc.so.6\").malloc_trim(0)"
   ]
  }
 ],
 "metadata": {
  "kernelspec": {
   "display_name": "base",
   "language": "python",
   "name": "python3"
  },
  "language_info": {
   "codemirror_mode": {
    "name": "ipython",
    "version": 3
   },
   "file_extension": ".py",
   "mimetype": "text/x-python",
   "name": "python",
   "nbconvert_exporter": "python",
   "pygments_lexer": "ipython3",
   "version": "3.10.11"
  }
 },
 "nbformat": 4,
 "nbformat_minor": 5
}
