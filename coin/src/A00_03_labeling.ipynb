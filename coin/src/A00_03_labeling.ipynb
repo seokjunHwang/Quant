{
 "cells": [
  {
   "cell_type": "markdown",
   "id": "c8fae4b7",
   "metadata": {},
   "source": [
    "# 종목별 feature engineering & labeling\n",
    "## 주의! 2003년부터 있지만 2004년부터 데이터 사용해야함\n",
    "-> why? 2003년 초반부 데이터는 없는 피쳐가 있기때문에 -> 초기 시계열 데이터가 없어서 MA20, MACD14 등 기술적 지표를 계산할 수 없음! \n",
    "- data 분석\n",
    "- 어떤 task로 어떤모델을 사용할지\n",
    "- 피쳐엔지니어링 - 새로운 지표추가, 라벨선정, 라벨링\n"
   ]
  },
  {
   "cell_type": "markdown",
   "id": "f1262743",
   "metadata": {},
   "source": [
    "# Data Load"
   ]
  },
  {
   "cell_type": "code",
   "execution_count": 1,
   "id": "f635a402",
   "metadata": {},
   "outputs": [],
   "source": [
    "import pandas as pd\n",
    "import os\n",
    "import numpy as np\n",
    "from glob import glob\n",
    "from tqdm import tqdm\n",
    "import strategy as stg\n",
    "import warnings\n",
    "import utils as U\n",
    "warnings.filterwarnings('ignore')"
   ]
  },
  {
   "cell_type": "code",
   "execution_count": 2,
   "id": "88a9ccee",
   "metadata": {},
   "outputs": [
    {
     "name": "stdout",
     "output_type": "stream",
     "text": [
      "📂 데이터 로딩 시작: /workspace/AI모델/projects/coin/data/final/with_strategies\n",
      "📊 발견된 파일 수: 100\n",
      "✅ 성공적으로 로드된 심볼: 100개\n",
      "❌ 제외된 심볼: 0개\n",
      "🔥 로딩 에러: 0개\n",
      "로딩된 종목 수: 100\n",
      "1INCH: 1725행, 2020-12-25 ~ 2025-09-14\n",
      "AAVE: 1809행, 2020-10-02 ~ 2025-09-14\n",
      "ADA: 2867행, 2017-11-09 ~ 2025-09-14\n",
      "\n",
      "📊 데이터 정보 요약\n",
      "==================================================\n",
      "총 심볼 수: 100\n",
      "컬럼 수: 178\n",
      "전략 시그널 수: 41\n",
      "데이터 기간: 2015-01-01 ~ 2025-09-14\n",
      "평균 데이터 포인트: 2258일\n",
      "\n",
      "📋 심볼별 상세 정보:\n",
      "  1INCH: 1725행, 2020-12-25 ~ 2025-09-14\n",
      "  AAVE: 1809행, 2020-10-02 ~ 2025-09-14\n",
      "  ADA: 2867행, 2017-11-09 ~ 2025-09-14\n",
      "  ALGO: 2278행, 2019-06-21 ~ 2025-09-14\n",
      "  ANKR: 2385행, 2019-03-06 ~ 2025-09-14\n",
      "  API3: 1748행, 2020-12-02 ~ 2025-09-14\n",
      "  APT21794: 1062행, 2022-10-19 ~ 2025-09-14\n",
      "  ARB11841: 907행, 2023-03-23 ~ 2025-09-14\n",
      "  ASTR: 1336행, 2022-01-18 ~ 2025-09-14\n",
      "  ATOM: 2377행, 2019-03-14 ~ 2025-09-14\n",
      "  ... 및 90개 더\n",
      "\n",
      "🎯 전략 시그널 목록:\n",
      "  이동평균: 4개\n",
      "  MACD: 6개\n",
      "  RSI: 8개\n",
      "  오실레이터: 6개\n",
      "  가격패턴: 3개\n",
      "  거래량: 4개\n",
      "  모멘텀: 2개\n",
      "  복합: 2개\n",
      "✅ ML 데이터셋 로드 완료: 220052행, 47개 특성\n",
      "📊 타겟 분포 - SELL(0): 70207, HOLD(1): 82407, BUY(2): 67438\n"
     ]
    }
   ],
   "source": [
    "# 저장된 데이터 불러오기\n",
    "crypto_data, excluded_info, summary_info = U.load_cleaned_crypto_data(\"/workspace/AI모델/projects/coin/data/final/with_strategies\")\n",
    "\n",
    "# 불러온 데이터 확인\n",
    "print(f\"로딩된 종목 수: {len(crypto_data)}\")\n",
    "for symbol, df in list(crypto_data.items())[:3]:\n",
    "    print(f\"{symbol}: {len(df)}행, {df.index[0].date()} ~ {df.index[-1].date()}\")\n",
    "\n",
    "# 상세 정보 출력\n",
    "U.get_data_info(crypto_data, detailed=True)\n",
    "\n",
    "# ML 데이터셋 로드\n",
    "ml_dataset = U.CryptoDataLoader.load_ml_dataset(\"/workspace/AI모델/projects/coin/data/final\")"
   ]
  },
  {
   "cell_type": "code",
   "execution_count": 3,
   "id": "d56ca38b",
   "metadata": {},
   "outputs": [
    {
     "data": {
      "text/html": [
       "<div>\n",
       "<style scoped>\n",
       "    .dataframe tbody tr th:only-of-type {\n",
       "        vertical-align: middle;\n",
       "    }\n",
       "\n",
       "    .dataframe tbody tr th {\n",
       "        vertical-align: top;\n",
       "    }\n",
       "\n",
       "    .dataframe thead th {\n",
       "        text-align: right;\n",
       "    }\n",
       "</style>\n",
       "<table border=\"1\" class=\"dataframe\">\n",
       "  <thead>\n",
       "    <tr style=\"text-align: right;\">\n",
       "      <th></th>\n",
       "      <th>Open</th>\n",
       "      <th>High</th>\n",
       "      <th>Low</th>\n",
       "      <th>Close</th>\n",
       "      <th>Volume</th>\n",
       "      <th>MA_2</th>\n",
       "      <th>MA_3</th>\n",
       "      <th>MA_4</th>\n",
       "      <th>MA_5</th>\n",
       "      <th>MA_6</th>\n",
       "      <th>...</th>\n",
       "      <th>MFI_Extreme_Signal</th>\n",
       "      <th>Volume_Breakout_Signal</th>\n",
       "      <th>Momentum_Signal</th>\n",
       "      <th>Price_ROC_3_Signal</th>\n",
       "      <th>Volatility_Signal</th>\n",
       "      <th>Composite_Signal_Avg</th>\n",
       "      <th>Buy_Signal_Count</th>\n",
       "      <th>Sell_Signal_Count</th>\n",
       "      <th>Net_Signal_Score</th>\n",
       "      <th>Final_Composite_Signal</th>\n",
       "    </tr>\n",
       "    <tr>\n",
       "      <th>Date</th>\n",
       "      <th></th>\n",
       "      <th></th>\n",
       "      <th></th>\n",
       "      <th></th>\n",
       "      <th></th>\n",
       "      <th></th>\n",
       "      <th></th>\n",
       "      <th></th>\n",
       "      <th></th>\n",
       "      <th></th>\n",
       "      <th></th>\n",
       "      <th></th>\n",
       "      <th></th>\n",
       "      <th></th>\n",
       "      <th></th>\n",
       "      <th></th>\n",
       "      <th></th>\n",
       "      <th></th>\n",
       "      <th></th>\n",
       "      <th></th>\n",
       "      <th></th>\n",
       "    </tr>\n",
       "  </thead>\n",
       "  <tbody>\n",
       "    <tr>\n",
       "      <th>2015-01-01</th>\n",
       "      <td>320.434998</td>\n",
       "      <td>320.434998</td>\n",
       "      <td>314.002991</td>\n",
       "      <td>314.248993</td>\n",
       "      <td>8036550</td>\n",
       "      <td>NaN</td>\n",
       "      <td>NaN</td>\n",
       "      <td>NaN</td>\n",
       "      <td>NaN</td>\n",
       "      <td>NaN</td>\n",
       "      <td>...</td>\n",
       "      <td>1</td>\n",
       "      <td>1</td>\n",
       "      <td>1</td>\n",
       "      <td>1</td>\n",
       "      <td>1</td>\n",
       "      <td>1.000000</td>\n",
       "      <td>1</td>\n",
       "      <td>1</td>\n",
       "      <td>0</td>\n",
       "      <td>1</td>\n",
       "    </tr>\n",
       "    <tr>\n",
       "      <th>2015-01-02</th>\n",
       "      <td>314.079010</td>\n",
       "      <td>315.838989</td>\n",
       "      <td>313.565002</td>\n",
       "      <td>315.032013</td>\n",
       "      <td>7860650</td>\n",
       "      <td>314.640503</td>\n",
       "      <td>NaN</td>\n",
       "      <td>NaN</td>\n",
       "      <td>NaN</td>\n",
       "      <td>NaN</td>\n",
       "      <td>...</td>\n",
       "      <td>1</td>\n",
       "      <td>1</td>\n",
       "      <td>1</td>\n",
       "      <td>1</td>\n",
       "      <td>1</td>\n",
       "      <td>1.000000</td>\n",
       "      <td>0</td>\n",
       "      <td>0</td>\n",
       "      <td>0</td>\n",
       "      <td>1</td>\n",
       "    </tr>\n",
       "    <tr>\n",
       "      <th>2015-01-03</th>\n",
       "      <td>314.846008</td>\n",
       "      <td>315.149994</td>\n",
       "      <td>281.082001</td>\n",
       "      <td>281.082001</td>\n",
       "      <td>33054400</td>\n",
       "      <td>298.057007</td>\n",
       "      <td>303.454336</td>\n",
       "      <td>NaN</td>\n",
       "      <td>NaN</td>\n",
       "      <td>NaN</td>\n",
       "      <td>...</td>\n",
       "      <td>1</td>\n",
       "      <td>1</td>\n",
       "      <td>1</td>\n",
       "      <td>1</td>\n",
       "      <td>1</td>\n",
       "      <td>0.970588</td>\n",
       "      <td>1</td>\n",
       "      <td>2</td>\n",
       "      <td>-1</td>\n",
       "      <td>1</td>\n",
       "    </tr>\n",
       "    <tr>\n",
       "      <th>2015-01-04</th>\n",
       "      <td>281.145996</td>\n",
       "      <td>287.230011</td>\n",
       "      <td>257.612000</td>\n",
       "      <td>264.195007</td>\n",
       "      <td>55629100</td>\n",
       "      <td>272.638504</td>\n",
       "      <td>286.769674</td>\n",
       "      <td>293.639503</td>\n",
       "      <td>NaN</td>\n",
       "      <td>NaN</td>\n",
       "      <td>...</td>\n",
       "      <td>1</td>\n",
       "      <td>1</td>\n",
       "      <td>1</td>\n",
       "      <td>1</td>\n",
       "      <td>1</td>\n",
       "      <td>1.029412</td>\n",
       "      <td>1</td>\n",
       "      <td>0</td>\n",
       "      <td>1</td>\n",
       "      <td>1</td>\n",
       "    </tr>\n",
       "    <tr>\n",
       "      <th>2015-01-05</th>\n",
       "      <td>265.084015</td>\n",
       "      <td>278.341003</td>\n",
       "      <td>265.084015</td>\n",
       "      <td>274.473999</td>\n",
       "      <td>43962800</td>\n",
       "      <td>269.334503</td>\n",
       "      <td>273.250336</td>\n",
       "      <td>283.695755</td>\n",
       "      <td>289.806403</td>\n",
       "      <td>NaN</td>\n",
       "      <td>...</td>\n",
       "      <td>1</td>\n",
       "      <td>1</td>\n",
       "      <td>1</td>\n",
       "      <td>1</td>\n",
       "      <td>1</td>\n",
       "      <td>1.029412</td>\n",
       "      <td>2</td>\n",
       "      <td>1</td>\n",
       "      <td>1</td>\n",
       "      <td>1</td>\n",
       "    </tr>\n",
       "    <tr>\n",
       "      <th>...</th>\n",
       "      <td>...</td>\n",
       "      <td>...</td>\n",
       "      <td>...</td>\n",
       "      <td>...</td>\n",
       "      <td>...</td>\n",
       "      <td>...</td>\n",
       "      <td>...</td>\n",
       "      <td>...</td>\n",
       "      <td>...</td>\n",
       "      <td>...</td>\n",
       "      <td>...</td>\n",
       "      <td>...</td>\n",
       "      <td>...</td>\n",
       "      <td>...</td>\n",
       "      <td>...</td>\n",
       "      <td>...</td>\n",
       "      <td>...</td>\n",
       "      <td>...</td>\n",
       "      <td>...</td>\n",
       "      <td>...</td>\n",
       "      <td>...</td>\n",
       "    </tr>\n",
       "    <tr>\n",
       "      <th>2025-09-10</th>\n",
       "      <td>111531.250000</td>\n",
       "      <td>114275.250000</td>\n",
       "      <td>110940.078125</td>\n",
       "      <td>113955.359375</td>\n",
       "      <td>56377473784</td>\n",
       "      <td>112742.953125</td>\n",
       "      <td>112519.111979</td>\n",
       "      <td>112181.238281</td>\n",
       "      <td>111789.929688</td>\n",
       "      <td>111600.105469</td>\n",
       "      <td>...</td>\n",
       "      <td>1</td>\n",
       "      <td>1</td>\n",
       "      <td>1</td>\n",
       "      <td>1</td>\n",
       "      <td>0</td>\n",
       "      <td>-33.756420</td>\n",
       "      <td>4</td>\n",
       "      <td>2</td>\n",
       "      <td>2</td>\n",
       "      <td>2</td>\n",
       "    </tr>\n",
       "    <tr>\n",
       "      <th>2025-09-11</th>\n",
       "      <td>113961.429688</td>\n",
       "      <td>115522.546875</td>\n",
       "      <td>113453.835938</td>\n",
       "      <td>115507.539062</td>\n",
       "      <td>45685065332</td>\n",
       "      <td>114731.449219</td>\n",
       "      <td>113664.481771</td>\n",
       "      <td>113266.218750</td>\n",
       "      <td>112846.498438</td>\n",
       "      <td>112409.531250</td>\n",
       "      <td>...</td>\n",
       "      <td>1</td>\n",
       "      <td>1</td>\n",
       "      <td>1</td>\n",
       "      <td>1</td>\n",
       "      <td>0</td>\n",
       "      <td>-28.930912</td>\n",
       "      <td>6</td>\n",
       "      <td>1</td>\n",
       "      <td>5</td>\n",
       "      <td>2</td>\n",
       "    </tr>\n",
       "    <tr>\n",
       "      <th>2025-09-12</th>\n",
       "      <td>115507.789062</td>\n",
       "      <td>116769.382812</td>\n",
       "      <td>114794.484375</td>\n",
       "      <td>116101.578125</td>\n",
       "      <td>54785725894</td>\n",
       "      <td>115804.558594</td>\n",
       "      <td>115188.158854</td>\n",
       "      <td>114273.755859</td>\n",
       "      <td>113833.290625</td>\n",
       "      <td>113389.011719</td>\n",
       "      <td>...</td>\n",
       "      <td>1</td>\n",
       "      <td>1</td>\n",
       "      <td>1</td>\n",
       "      <td>1</td>\n",
       "      <td>0</td>\n",
       "      <td>-23.359331</td>\n",
       "      <td>1</td>\n",
       "      <td>1</td>\n",
       "      <td>0</td>\n",
       "      <td>1</td>\n",
       "    </tr>\n",
       "    <tr>\n",
       "      <th>2025-09-13</th>\n",
       "      <td>116093.562500</td>\n",
       "      <td>116334.632812</td>\n",
       "      <td>115248.273438</td>\n",
       "      <td>115950.507812</td>\n",
       "      <td>34549454947</td>\n",
       "      <td>116026.042969</td>\n",
       "      <td>115853.208333</td>\n",
       "      <td>115378.746094</td>\n",
       "      <td>114609.106250</td>\n",
       "      <td>114186.160156</td>\n",
       "      <td>...</td>\n",
       "      <td>1</td>\n",
       "      <td>1</td>\n",
       "      <td>1</td>\n",
       "      <td>1</td>\n",
       "      <td>0</td>\n",
       "      <td>-17.289831</td>\n",
       "      <td>3</td>\n",
       "      <td>1</td>\n",
       "      <td>2</td>\n",
       "      <td>2</td>\n",
       "    </tr>\n",
       "    <tr>\n",
       "      <th>2025-09-14</th>\n",
       "      <td>115950.289062</td>\n",
       "      <td>116181.500000</td>\n",
       "      <td>115222.398438</td>\n",
       "      <td>115407.656250</td>\n",
       "      <td>32798036057</td>\n",
       "      <td>115679.082031</td>\n",
       "      <td>115819.914062</td>\n",
       "      <td>115741.820312</td>\n",
       "      <td>115384.528125</td>\n",
       "      <td>114742.197917</td>\n",
       "      <td>...</td>\n",
       "      <td>1</td>\n",
       "      <td>1</td>\n",
       "      <td>1</td>\n",
       "      <td>0</td>\n",
       "      <td>0</td>\n",
       "      <td>-11.697339</td>\n",
       "      <td>2</td>\n",
       "      <td>3</td>\n",
       "      <td>-1</td>\n",
       "      <td>1</td>\n",
       "    </tr>\n",
       "  </tbody>\n",
       "</table>\n",
       "<p>3910 rows × 178 columns</p>\n",
       "</div>"
      ],
      "text/plain": [
       "                     Open           High            Low          Close  \\\n",
       "Date                                                                     \n",
       "2015-01-01     320.434998     320.434998     314.002991     314.248993   \n",
       "2015-01-02     314.079010     315.838989     313.565002     315.032013   \n",
       "2015-01-03     314.846008     315.149994     281.082001     281.082001   \n",
       "2015-01-04     281.145996     287.230011     257.612000     264.195007   \n",
       "2015-01-05     265.084015     278.341003     265.084015     274.473999   \n",
       "...                   ...            ...            ...            ...   \n",
       "2025-09-10  111531.250000  114275.250000  110940.078125  113955.359375   \n",
       "2025-09-11  113961.429688  115522.546875  113453.835938  115507.539062   \n",
       "2025-09-12  115507.789062  116769.382812  114794.484375  116101.578125   \n",
       "2025-09-13  116093.562500  116334.632812  115248.273438  115950.507812   \n",
       "2025-09-14  115950.289062  116181.500000  115222.398438  115407.656250   \n",
       "\n",
       "                 Volume           MA_2           MA_3           MA_4  \\\n",
       "Date                                                                   \n",
       "2015-01-01      8036550            NaN            NaN            NaN   \n",
       "2015-01-02      7860650     314.640503            NaN            NaN   \n",
       "2015-01-03     33054400     298.057007     303.454336            NaN   \n",
       "2015-01-04     55629100     272.638504     286.769674     293.639503   \n",
       "2015-01-05     43962800     269.334503     273.250336     283.695755   \n",
       "...                 ...            ...            ...            ...   \n",
       "2025-09-10  56377473784  112742.953125  112519.111979  112181.238281   \n",
       "2025-09-11  45685065332  114731.449219  113664.481771  113266.218750   \n",
       "2025-09-12  54785725894  115804.558594  115188.158854  114273.755859   \n",
       "2025-09-13  34549454947  116026.042969  115853.208333  115378.746094   \n",
       "2025-09-14  32798036057  115679.082031  115819.914062  115741.820312   \n",
       "\n",
       "                     MA_5           MA_6  ...  MFI_Extreme_Signal  \\\n",
       "Date                                      ...                       \n",
       "2015-01-01            NaN            NaN  ...                   1   \n",
       "2015-01-02            NaN            NaN  ...                   1   \n",
       "2015-01-03            NaN            NaN  ...                   1   \n",
       "2015-01-04            NaN            NaN  ...                   1   \n",
       "2015-01-05     289.806403            NaN  ...                   1   \n",
       "...                   ...            ...  ...                 ...   \n",
       "2025-09-10  111789.929688  111600.105469  ...                   1   \n",
       "2025-09-11  112846.498438  112409.531250  ...                   1   \n",
       "2025-09-12  113833.290625  113389.011719  ...                   1   \n",
       "2025-09-13  114609.106250  114186.160156  ...                   1   \n",
       "2025-09-14  115384.528125  114742.197917  ...                   1   \n",
       "\n",
       "            Volume_Breakout_Signal  Momentum_Signal  Price_ROC_3_Signal  \\\n",
       "Date                                                                      \n",
       "2015-01-01                       1                1                   1   \n",
       "2015-01-02                       1                1                   1   \n",
       "2015-01-03                       1                1                   1   \n",
       "2015-01-04                       1                1                   1   \n",
       "2015-01-05                       1                1                   1   \n",
       "...                            ...              ...                 ...   \n",
       "2025-09-10                       1                1                   1   \n",
       "2025-09-11                       1                1                   1   \n",
       "2025-09-12                       1                1                   1   \n",
       "2025-09-13                       1                1                   1   \n",
       "2025-09-14                       1                1                   0   \n",
       "\n",
       "            Volatility_Signal  Composite_Signal_Avg  Buy_Signal_Count  \\\n",
       "Date                                                                    \n",
       "2015-01-01                  1              1.000000                 1   \n",
       "2015-01-02                  1              1.000000                 0   \n",
       "2015-01-03                  1              0.970588                 1   \n",
       "2015-01-04                  1              1.029412                 1   \n",
       "2015-01-05                  1              1.029412                 2   \n",
       "...                       ...                   ...               ...   \n",
       "2025-09-10                  0            -33.756420                 4   \n",
       "2025-09-11                  0            -28.930912                 6   \n",
       "2025-09-12                  0            -23.359331                 1   \n",
       "2025-09-13                  0            -17.289831                 3   \n",
       "2025-09-14                  0            -11.697339                 2   \n",
       "\n",
       "            Sell_Signal_Count  Net_Signal_Score  Final_Composite_Signal  \n",
       "Date                                                                     \n",
       "2015-01-01                  1                 0                       1  \n",
       "2015-01-02                  0                 0                       1  \n",
       "2015-01-03                  2                -1                       1  \n",
       "2015-01-04                  0                 1                       1  \n",
       "2015-01-05                  1                 1                       1  \n",
       "...                       ...               ...                     ...  \n",
       "2025-09-10                  2                 2                       2  \n",
       "2025-09-11                  1                 5                       2  \n",
       "2025-09-12                  1                 0                       1  \n",
       "2025-09-13                  1                 2                       2  \n",
       "2025-09-14                  3                -1                       1  \n",
       "\n",
       "[3910 rows x 178 columns]"
      ]
     },
     "execution_count": 3,
     "metadata": {},
     "output_type": "execute_result"
    }
   ],
   "source": [
    "crypto_data['BTC']"
   ]
  },
  {
   "cell_type": "markdown",
   "id": "81f11aba",
   "metadata": {},
   "source": [
    "# 피쳐엔지니어링 & 라벨링\n",
    "- 새로운 기술적 지표 피쳐 추가 \n",
    "    - SMI (Stochastic Momentum Index): SMI, SMI_Signal, SMI_Oscillator\n",
    "    - 토캐스틱 개선: Momentum, Crossover, Overbought/Oversold 신호\n",
    "    - 다이버전스: RSI/MACD와 가격 간 다이버전스\n",
    "    - 모멘텀 지표: 가격 가속도, 거래량/변동성 모멘텀\n",
    "    - 트렌드 강도: MA 정렬도, 볼린저 밴드 압축/확장\n",
    "- 연속적 수익률 피쳐: Daily_Return, Weekly_Return, Monthly_Return이 이미 있음\n",
    "- 연속적 기술지표: RSI, MACD, ATR, Volatility 등 모두 연속값\n",
    "- 비율/포지션 피쳐: BB_Position, Price_vs_MA20 등 연속적 관계 정보"
   ]
  },
  {
   "cell_type": "markdown",
   "id": "aab59ac3",
   "metadata": {},
   "source": [
    "# 라벨링 방법 1\n",
    "-  미래 수익률 기반으로 라벨링"
   ]
  },
  {
   "cell_type": "code",
   "execution_count": 9,
   "id": "d571ee1d",
   "metadata": {},
   "outputs": [],
   "source": [
    "import pandas as pd\n",
    "import numpy as np\n",
    "import os\n",
    "from tqdm import tqdm\n",
    "import warnings\n",
    "warnings.filterwarnings('ignore')\n",
    "\n",
    "def safe_column_check(df, columns):\n",
    "    \"\"\"안전한 컬럼 존재 확인\"\"\"\n",
    "    if not isinstance(df, pd.DataFrame):\n",
    "        return False\n",
    "    return all(col in df.columns for col in columns)\n",
    "\n",
    "def calculate_technical_score(df):\n",
    "    \"\"\"기술적 신호 강도 점수 계산 - 실제 존재하는 컬럼만 사용\"\"\"\n",
    "    \n",
    "    try:\n",
    "        # DataFrame 확인\n",
    "        if not isinstance(df, pd.DataFrame) or df.empty:\n",
    "            return pd.Series(0.0, index=range(len(df)) if hasattr(df, '__len__') else range(1))\n",
    "        \n",
    "        # 실제 존재하는 컬럼들로만 계산\n",
    "        technical_score = pd.Series(0.0, index=df.index)\n",
    "        \n",
    "        # RSI 기반 점수 (존재하면)\n",
    "        if 'RSI_14' in df.columns:\n",
    "            rsi_data = pd.to_numeric(df['RSI_14'], errors='coerce').fillna(50)\n",
    "            rsi_score = np.where(rsi_data < 30, 1, np.where(rsi_data > 70, -1, 0))\n",
    "            technical_score += 0.2 * rsi_score\n",
    "        \n",
    "        # MACD 기반 점수\n",
    "        if 'MACD' in df.columns and 'MACD_Signal' in df.columns:\n",
    "            macd_data = pd.to_numeric(df['MACD'], errors='coerce').fillna(0)\n",
    "            macd_signal_data = pd.to_numeric(df['MACD_Signal'], errors='coerce').fillna(0)\n",
    "            macd_score = np.where(macd_data > macd_signal_data, 1, -1)\n",
    "            technical_score += 0.2 * macd_score\n",
    "        \n",
    "        # 이동평균 기반 점수\n",
    "        if safe_column_check(df, ['MA_7', 'MA_20', 'Close']):\n",
    "            close_data = pd.to_numeric(df['Close'], errors='coerce').fillna(method='ffill')\n",
    "            ma7_data = pd.to_numeric(df['MA_7'], errors='coerce').fillna(method='ffill')\n",
    "            ma20_data = pd.to_numeric(df['MA_20'], errors='coerce').fillna(method='ffill')\n",
    "            \n",
    "            ma_score = np.where(close_data > ma7_data, 0.5, -0.5)\n",
    "            ma_score += np.where(ma7_data > ma20_data, 0.5, -0.5)\n",
    "            technical_score += 0.2 * ma_score\n",
    "        \n",
    "        # 볼린저 밴드 위치\n",
    "        if 'BB_Position_20' in df.columns:\n",
    "            bb_position = pd.to_numeric(df['BB_Position_20'], errors='coerce').fillna(0.5)\n",
    "            bb_score = (bb_position - 0.5) * 2  # -1 to 1로 변환\n",
    "            technical_score += 0.2 * bb_score\n",
    "        \n",
    "        # 스토캐스틱\n",
    "        if 'Stoch_K_14' in df.columns:\n",
    "            stoch_data = pd.to_numeric(df['Stoch_K_14'], errors='coerce').fillna(50)\n",
    "            stoch_score = np.where(stoch_data < 20, 1, np.where(stoch_data > 80, -1, 0))\n",
    "            technical_score += 0.2 * stoch_score\n",
    "        \n",
    "        # 점수를 -1 ~ 1 범위로 클리핑\n",
    "        technical_score = np.clip(technical_score, -1, 1)\n",
    "        \n",
    "        return technical_score\n",
    "    \n",
    "    except Exception as e:\n",
    "        print(f\"⚠️ calculate_technical_score 오류: {e}\")\n",
    "        return pd.Series(0.0, index=df.index if isinstance(df, pd.DataFrame) else range(1))\n",
    "\n",
    "def create_enhanced_features(df):\n",
    "    \"\"\"추가적인 고급 기술적 지표 생성\"\"\"\n",
    "    \n",
    "    try:\n",
    "        if not isinstance(df, pd.DataFrame) or df.empty:\n",
    "            return df\n",
    "        \n",
    "        # 가격 데이터 확인 및 처리\n",
    "        if 'Close' not in df.columns:\n",
    "            return df\n",
    "            \n",
    "        close_data = pd.to_numeric(df['Close'], errors='coerce').fillna(method='ffill')\n",
    "        \n",
    "        # 1. 가격 모멘텀 지표들\n",
    "        if len(close_data) > 20:\n",
    "            df['Price_Momentum_5'] = close_data.pct_change(5)\n",
    "            df['Price_Momentum_10'] = close_data.pct_change(10)\n",
    "            df['Price_Momentum_20'] = close_data.pct_change(20)\n",
    "        \n",
    "        # 2. 볼륨 지표 (있다면)\n",
    "        if 'Volume' in df.columns:\n",
    "            volume_data = pd.to_numeric(df['Volume'], errors='coerce').fillna(0)\n",
    "            if len(volume_data) > 20:\n",
    "                df['Volume_MA_20'] = volume_data.rolling(20, min_periods=1).mean()\n",
    "                df['Volume_Ratio'] = volume_data / df['Volume_MA_20']\n",
    "        \n",
    "        # 3. 변동성 지표\n",
    "        if len(close_data) > 20:\n",
    "            df['Volatility_20'] = close_data.rolling(20, min_periods=1).std()\n",
    "            df['Volatility_Ratio'] = df['Volatility_20'] / df['Volatility_20'].rolling(60, min_periods=1).mean()\n",
    "        \n",
    "        # 4. RSI 다이버전스 (RSI가 있다면)\n",
    "        if 'RSI_14' in df.columns and len(close_data) > 20:\n",
    "            rsi_data = pd.to_numeric(df['RSI_14'], errors='coerce').fillna(50)\n",
    "            price_momentum = close_data.pct_change(20)\n",
    "            rsi_momentum = rsi_data.diff(20)\n",
    "            \n",
    "            # 다이버전스 신호\n",
    "            df['RSI_Divergence'] = np.where(\n",
    "                (price_momentum > 0) & (rsi_momentum < 0), -1,  # 약세 다이버전스\n",
    "                np.where((price_momentum < 0) & (rsi_momentum > 0), 1, 0)  # 강세 다이버전스\n",
    "            )\n",
    "        \n",
    "        # 5. MACD 개선 신호\n",
    "        if safe_column_check(df, ['MACD', 'MACD_Signal']):\n",
    "            macd = pd.to_numeric(df['MACD'], errors='coerce').fillna(0)\n",
    "            macd_signal = pd.to_numeric(df['MACD_Signal'], errors='coerce').fillna(0)\n",
    "            df['MACD_Histogram'] = macd - macd_signal\n",
    "            df['MACD_Cross'] = np.where(\n",
    "                (macd > macd_signal) & (macd.shift(1) <= macd_signal.shift(1)), 1,\n",
    "                np.where((macd < macd_signal) & (macd.shift(1) >= macd_signal.shift(1)), -1, 0)\n",
    "            )\n",
    "        \n",
    "        # 6. 지지/저항 레벨 계산\n",
    "        if len(close_data) > 50:\n",
    "            df['Support_Level'] = close_data.rolling(50, min_periods=1).min()\n",
    "            df['Resistance_Level'] = close_data.rolling(50, min_periods=1).max()\n",
    "            df['Price_Position'] = (close_data - df['Support_Level']) / (df['Resistance_Level'] - df['Support_Level'])\n",
    "            df['Price_Position'] = df['Price_Position'].fillna(0.5).clip(0, 1)\n",
    "        \n",
    "        return df\n",
    "    \n",
    "    except Exception as e:\n",
    "        print(f\"⚠️ create_enhanced_features 오류: {e}\")\n",
    "        return df\n",
    "\n",
    "def calculate_enhanced_technical_score(df):\n",
    "    \"\"\"향상된 기술적 점수 계산\"\"\"\n",
    "    \n",
    "    try:\n",
    "        # 기본 기술적 점수\n",
    "        base_score = calculate_technical_score(df)\n",
    "        \n",
    "        # 추가 점수 요소들\n",
    "        enhanced_score = base_score.copy()\n",
    "        \n",
    "        # RSI 다이버전스 신호 추가\n",
    "        if 'RSI_Divergence' in df.columns:\n",
    "            divergence_data = pd.to_numeric(df['RSI_Divergence'], errors='coerce').fillna(0)\n",
    "            enhanced_score += 0.1 * divergence_data\n",
    "        \n",
    "        # MACD 크로스오버 신호 추가\n",
    "        if 'MACD_Cross' in df.columns:\n",
    "            cross_data = pd.to_numeric(df['MACD_Cross'], errors='coerce').fillna(0)\n",
    "            enhanced_score += 0.1 * cross_data\n",
    "        \n",
    "        # 가격 포지션 신호 추가\n",
    "        if 'Price_Position' in df.columns:\n",
    "            position_data = pd.to_numeric(df['Price_Position'], errors='coerce').fillna(0.5)\n",
    "            position_score = (position_data - 0.5) * 2  # -1 to 1 범위로 변환\n",
    "            enhanced_score += 0.1 * position_score\n",
    "        \n",
    "        # 볼륨 신호 추가\n",
    "        if 'Volume_Ratio' in df.columns:\n",
    "            volume_ratio = pd.to_numeric(df['Volume_Ratio'], errors='coerce').fillna(1)\n",
    "            volume_score = np.where(volume_ratio > 1.5, 0.2, np.where(volume_ratio < 0.5, -0.2, 0))\n",
    "            enhanced_score += volume_score\n",
    "        \n",
    "        # 변동성 신호 추가\n",
    "        if 'Volatility_Ratio' in df.columns:\n",
    "            vol_ratio = pd.to_numeric(df['Volatility_Ratio'], errors='coerce').fillna(1)\n",
    "            vol_score = np.where(vol_ratio > 2, -0.1, np.where(vol_ratio < 0.5, 0.1, 0))\n",
    "            enhanced_score += vol_score\n",
    "        \n",
    "        # 최종 점수 클리핑\n",
    "        enhanced_score = np.clip(enhanced_score, -1, 1)\n",
    "        \n",
    "        return enhanced_score\n",
    "    \n",
    "    except Exception as e:\n",
    "        print(f\"⚠️ calculate_enhanced_technical_score 오류: {e}\")\n",
    "        return calculate_technical_score(df)\n",
    "\n",
    "def create_composite_score(df):\n",
    "    \"\"\"복합 점수 생성 - 올바른 미래 수익률 계산\"\"\"\n",
    "    \n",
    "    try:\n",
    "        if not isinstance(df, pd.DataFrame) or df.empty:\n",
    "            return pd.Series(0.0, index=range(1)), {}\n",
    "        \n",
    "        # 미래 수익률 직접 계산\n",
    "        available_returns = {}\n",
    "        \n",
    "        if 'Close' in df.columns:\n",
    "            close_data = pd.to_numeric(df['Close'], errors='coerce')\n",
    "            \n",
    "            # 각 기간별 미래 수익률 계산\n",
    "            periods = {\n",
    "                'future_1d': 1,\n",
    "                'future_3d': 3, \n",
    "                'future_7d': 7,\n",
    "                'future_14d': 14,\n",
    "                'future_30d': 30,\n",
    "                'future_90d': 90,\n",
    "                'future_180d': 180,\n",
    "                'future_365d': 365\n",
    "            }\n",
    "            \n",
    "            for key, days in periods.items():\n",
    "                if len(close_data) > days:\n",
    "                    future_close = close_data.shift(-days)\n",
    "                    future_return = (future_close / close_data) - 1\n",
    "                    if not future_return.isna().all():\n",
    "                        available_returns[key] = future_return\n",
    "        \n",
    "        # 가중치 설정\n",
    "        weights = {\n",
    "            'future_1d': 0.35,\n",
    "            'future_3d': 0.25, \n",
    "            'future_7d': 0.20,\n",
    "            'future_14d': 0.10,\n",
    "            'future_30d': 0.05,\n",
    "            'future_90d': 0.03,\n",
    "            'future_180d': 0.02,\n",
    "            'future_365d': 0.0\n",
    "        }\n",
    "        \n",
    "        # 실제 존재하는 컬럼들의 가중치 정규화\n",
    "        total_weight = sum(weights.get(key, 0) for key in available_returns.keys())\n",
    "        if total_weight > 0:\n",
    "            normalized_weights = {key: weights.get(key, 0)/total_weight for key in available_returns.keys()}\n",
    "        else:\n",
    "            normalized_weights = {}\n",
    "        \n",
    "        # 수익률 기반 점수 계산\n",
    "        return_score = pd.Series(0.0, index=df.index)\n",
    "        \n",
    "        for key, future_return in available_returns.items():\n",
    "            if key in normalized_weights and normalized_weights[key] > 0:\n",
    "                clean_return = future_return.fillna(0)\n",
    "                return_score += normalized_weights[key] * clean_return\n",
    "        \n",
    "        # 최종 복합 점수\n",
    "        composite_score = np.clip(return_score, -0.25, 0.25) * 10\n",
    "        \n",
    "        return composite_score, available_returns\n",
    "    \n",
    "    except Exception as e:\n",
    "        print(f\"⚠️ create_composite_score 오류: {e}\")\n",
    "        return pd.Series(0.0, index=df.index if isinstance(df, pd.DataFrame) else range(1)), {}\n",
    "\n",
    "def score_to_label(composite_score):\n",
    "    \"\"\"점수를 3단계 라벨로 변환 (강매도, 홀드, 강매수)\"\"\"\n",
    "    \n",
    "    try:\n",
    "        # 유효한 점수만 추출 (NaN 제외)\n",
    "        valid_scores = composite_score.dropna()\n",
    "        \n",
    "        if len(valid_scores) == 0:\n",
    "            return pd.Series([1] * len(composite_score), index=composite_score.index)\n",
    "        \n",
    "        # 백분위수 기준으로 라벨 생성\n",
    "        labels = pd.Series(1, index=composite_score.index)  # 기본값: 홀드\n",
    "        \n",
    "        # 3분할 방식 (더 균형잡힌 분포)\n",
    "        buy_threshold = np.percentile(valid_scores, 55)   # 상위 45%\n",
    "        sell_threshold = np.percentile(valid_scores, 45)  # 하위 45%\n",
    "        \n",
    "        labels[composite_score >= buy_threshold] = 2  # 강매수\n",
    "        labels[composite_score <= sell_threshold] = 0  # 강매도\n",
    "        \n",
    "        return labels\n",
    "    \n",
    "    except Exception as e:\n",
    "        print(f\"⚠️ score_to_label 오류: {e}\")\n",
    "        return pd.Series([1] * len(composite_score), index=composite_score.index)\n",
    "\n",
    "def debug_data_structure(data, symbol=\"Unknown\"):\n",
    "    \"\"\"데이터 구조 디버깅\"\"\"\n",
    "    print(f\"🔍 {symbol} 데이터 분석:\")\n",
    "    print(f\"   타입: {type(data)}\")\n",
    "    \n",
    "    if isinstance(data, pd.DataFrame):\n",
    "        print(f\"   DataFrame 크기: {data.shape}\")\n",
    "        print(f\"   컬럼들: {list(data.columns)[:10]}...\")  # 처음 10개만\n",
    "        return True\n",
    "    elif isinstance(data, pd.Series):\n",
    "        print(f\"   Series 길이: {len(data)}\")\n",
    "        print(f\"   인덱스 타입: {type(data.index)}\")\n",
    "        return False\n",
    "    elif isinstance(data, dict):\n",
    "        print(f\"   Dictionary 키들: {list(data.keys())[:10]}...\")\n",
    "        return False\n",
    "    else:\n",
    "        print(f\"   지원되지 않는 타입\")\n",
    "        return False\n",
    "\n",
    "def enhance_crypto_data_with_labels(crypto_data, test_symbols=None, save_path=\"enhanced_crypto_data\", debug_mode=False):\n",
    "    \"\"\"암호화폐 데이터에 기술적 지표와 라벨 추가 - 완전히 개선된 버전\"\"\"\n",
    "    \n",
    "    from tqdm import tqdm\n",
    "    \n",
    "    # 테스트 심볼 설정\n",
    "    if test_symbols is None:\n",
    "        symbols_to_process = list(crypto_data.keys())\n",
    "    else:\n",
    "        symbols_to_process = test_symbols\n",
    "    \n",
    "    # 저장 경로 생성\n",
    "    os.makedirs(save_path, exist_ok=True)\n",
    "    \n",
    "    enhanced_cryptos = {}\n",
    "    failed_symbols = []\n",
    "    \n",
    "    print(f\"처리할 암호화폐 수: {len(symbols_to_process)}\")\n",
    "    print(\"=\"*50)\n",
    "    \n",
    "    for symbol in tqdm(symbols_to_process, desc=\"데이터 처리 및 라벨링\"):\n",
    "        try:\n",
    "            # 데이터 가져오기 및 타입 확인\n",
    "            raw_data = crypto_data[symbol]\n",
    "            \n",
    "            if debug_mode:\n",
    "                is_dataframe = debug_data_structure(raw_data, symbol)\n",
    "                if not is_dataframe:\n",
    "                    failed_symbols.append(f\"{symbol}: 잘못된 데이터 타입\")\n",
    "                    continue\n",
    "            \n",
    "            # DataFrame이 아닌 경우 건너뛰기\n",
    "            if not isinstance(raw_data, pd.DataFrame):\n",
    "                failed_symbols.append(f\"{symbol}: DataFrame이 아님 - {type(raw_data)}\")\n",
    "                continue\n",
    "            \n",
    "            # 빈 DataFrame 확인\n",
    "            if raw_data.empty:\n",
    "                failed_symbols.append(f\"{symbol}: 빈 DataFrame\")\n",
    "                continue\n",
    "            \n",
    "            # 데이터 복사\n",
    "            df = raw_data.copy()\n",
    "            \n",
    "            # 최소 필수 컬럼 확인\n",
    "            essential_columns = ['Close']\n",
    "            missing_essential = [col for col in essential_columns if col not in df.columns]\n",
    "            \n",
    "            if missing_essential:\n",
    "                failed_symbols.append(f\"{symbol}: 필수 컬럼 누락 - {missing_essential}\")\n",
    "                continue\n",
    "            \n",
    "            # 데이터 길이 확인\n",
    "            if len(df) < 30:  # 최소 30일 데이터로 완화\n",
    "                failed_symbols.append(f\"{symbol}: 데이터 부족 ({len(df)}일)\")\n",
    "                continue\n",
    "            \n",
    "            # 1. 고급 기술적 지표 추가\n",
    "            df = create_enhanced_features(df)\n",
    "            \n",
    "            # 2. 기본 기술적 점수 계산\n",
    "            technical_score = calculate_technical_score(df)\n",
    "            df['Technical_Score'] = technical_score\n",
    "            \n",
    "            # 3. 향상된 기술적 점수 계산\n",
    "            enhanced_technical_score = calculate_enhanced_technical_score(df)\n",
    "            df['Enhanced_Technical_Score'] = enhanced_technical_score\n",
    "            \n",
    "            # 4. 복합 점수 생성\n",
    "            composite_score, future_returns_dict = create_composite_score(df)\n",
    "            df['Composite_Score'] = composite_score\n",
    "            \n",
    "            # 5. 미래 수익률 저장 (검증용)\n",
    "            for key, value in future_returns_dict.items():\n",
    "                column_name = f'Future_{key.replace(\"future_\", \"\")}'\n",
    "                df[column_name] = value\n",
    "            \n",
    "            # 6. 라벨 생성 (복합 점수가 유효한 경우에만)\n",
    "            valid_composite = composite_score.dropna()\n",
    "            if len(valid_composite) > 0:\n",
    "                labels = score_to_label(composite_score)\n",
    "                df['Label'] = labels\n",
    "                \n",
    "                # 7. 라벨 이름 추가\n",
    "                label_names = {0: 'Strong_Sell', 1: 'Hold', 2: 'Strong_Buy'}\n",
    "                df['Label_Name'] = df['Label'].map(label_names)\n",
    "                \n",
    "                # 8. 라벨 분포 확인\n",
    "                label_dist = df['Label'].value_counts().sort_index()\n",
    "                if debug_mode:\n",
    "                    print(f\"   라벨 분포: {dict(label_dist)}\")\n",
    "            else:\n",
    "                df['Label'] = 1  # 모두 홀드로 설정\n",
    "                df['Label_Name'] = 'Hold'\n",
    "                if debug_mode:\n",
    "                    print(f\"   복합 점수 없음 - 모두 Hold로 설정\")\n",
    "            \n",
    "            # 9. 결과 저장\n",
    "            enhanced_cryptos[symbol] = df\n",
    "            \n",
    "            # 10. CSV 저장 (옵션)\n",
    "            try:\n",
    "                output_file = f\"{save_path}/{symbol}_enhanced.csv\"\n",
    "                df.to_csv(output_file, index=True)\n",
    "            except Exception as e:\n",
    "                print(f\"⚠️ {symbol}: CSV 저장 실패 - {e}\")\n",
    "            \n",
    "        except Exception as e:\n",
    "            failed_symbols.append(f\"{symbol}: 처리 중 오류 - {str(e)[:100]}\")\n",
    "            if debug_mode:\n",
    "                print(f\"❌ {symbol}: 상세 오류 - {e}\")\n",
    "            continue\n",
    "    \n",
    "    # 결과 요약\n",
    "    success_count = len(enhanced_cryptos)\n",
    "    total_count = len(symbols_to_process)\n",
    "    failure_count = total_count - success_count\n",
    "    \n",
    "    print(f\"\\n{'='*50}\")\n",
    "    print(f\"처리 완료!\")\n",
    "    print(f\"✅ 성공: {success_count}개\")\n",
    "    print(f\"❌ 실패: {failure_count}개\")\n",
    "    print(f\"📁 저장 경로: {save_path}\")\n",
    "    \n",
    "    if failed_symbols and debug_mode:\n",
    "        print(f\"\\n실패한 심볼들:\")\n",
    "        for failed in failed_symbols[:10]:  # 처음 10개만 출력\n",
    "            print(f\"  - {failed}\")\n",
    "        if len(failed_symbols) > 10:\n",
    "            print(f\"  ... 및 {len(failed_symbols) - 10}개 더\")\n",
    "    \n",
    "    return enhanced_cryptos\n",
    "\n",
    "# 사용 예시 및 테스트\n",
    "if __name__ == \"__main__\":\n",
    "    # 사용 예시\n",
    "    # enhanced_data = enhance_crypto_data_with_labels(crypto_data, test_symbols=['BTC', 'ETH'], debug_mode=True)\n",
    "    \n",
    "    # 전체 데이터 처리\n",
    "    # enhanced_data = enhance_crypto_data_with_labels(crypto_data, debug_mode=False)\n",
    "    pass"
   ]
  },
  {
   "cell_type": "markdown",
   "id": "67d46d2f",
   "metadata": {},
   "source": [
    "# 모든종목 저장"
   ]
  },
  {
   "cell_type": "code",
   "execution_count": 10,
   "id": "ff770b15",
   "metadata": {},
   "outputs": [
    {
     "data": {
      "text/plain": [
       "['1INCH']"
      ]
     },
     "execution_count": 10,
     "metadata": {},
     "output_type": "execute_result"
    }
   ],
   "source": [
    "test_symbols = list(crypto_data.keys())\n",
    "test_symbols[:1]"
   ]
  },
  {
   "cell_type": "code",
   "execution_count": 11,
   "id": "aad1cddd",
   "metadata": {},
   "outputs": [
    {
     "name": "stdout",
     "output_type": "stream",
     "text": [
      "처리할 암호화폐 수: 100\n",
      "==================================================\n"
     ]
    },
    {
     "name": "stderr",
     "output_type": "stream",
     "text": [
      "데이터 처리 및 라벨링:   0%|          | 0/100 [00:00<?, ?it/s]"
     ]
    },
    {
     "name": "stdout",
     "output_type": "stream",
     "text": [
      "🔍 1INCH 데이터 분석:\n",
      "   타입: <class 'pandas.core.frame.DataFrame'>\n",
      "   DataFrame 크기: (1725, 178)\n",
      "   컬럼들: ['Open', 'High', 'Low', 'Close', 'Volume', 'MA_2', 'MA_3', 'MA_4', 'MA_5', 'MA_6']...\n",
      "   라벨 분포: {0: 776, 1: 173, 2: 776}\n"
     ]
    },
    {
     "name": "stderr",
     "output_type": "stream",
     "text": [
      "데이터 처리 및 라벨링:   1%|          | 1/100 [00:00<00:49,  1.98it/s]"
     ]
    },
    {
     "name": "stdout",
     "output_type": "stream",
     "text": [
      "🔍 AAVE 데이터 분석:\n",
      "   타입: <class 'pandas.core.frame.DataFrame'>\n",
      "   DataFrame 크기: (1809, 178)\n",
      "   컬럼들: ['Open', 'High', 'Low', 'Close', 'Volume', 'MA_2', 'MA_3', 'MA_4', 'MA_5', 'MA_6']...\n",
      "   라벨 분포: {0: 814, 1: 181, 2: 814}\n"
     ]
    },
    {
     "name": "stderr",
     "output_type": "stream",
     "text": [
      "데이터 처리 및 라벨링:   2%|▏         | 2/100 [00:01<00:50,  1.94it/s]"
     ]
    },
    {
     "name": "stdout",
     "output_type": "stream",
     "text": [
      "🔍 ADA 데이터 분석:\n",
      "   타입: <class 'pandas.core.frame.DataFrame'>\n",
      "   DataFrame 크기: (2867, 178)\n",
      "   컬럼들: ['Open', 'High', 'Low', 'Close', 'Volume', 'MA_2', 'MA_3', 'MA_4', 'MA_5', 'MA_6']...\n",
      "   라벨 분포: {0: 1290, 1: 287, 2: 1290}\n"
     ]
    },
    {
     "name": "stderr",
     "output_type": "stream",
     "text": [
      "데이터 처리 및 라벨링:   3%|▎         | 3/100 [00:01<01:01,  1.57it/s]"
     ]
    },
    {
     "name": "stdout",
     "output_type": "stream",
     "text": [
      "🔍 ALGO 데이터 분석:\n",
      "   타입: <class 'pandas.core.frame.DataFrame'>\n",
      "   DataFrame 크기: (2278, 178)\n",
      "   컬럼들: ['Open', 'High', 'Low', 'Close', 'Volume', 'MA_2', 'MA_3', 'MA_4', 'MA_5', 'MA_6']...\n",
      "   라벨 분포: {0: 1025, 1: 228, 2: 1025}\n"
     ]
    },
    {
     "name": "stderr",
     "output_type": "stream",
     "text": [
      "데이터 처리 및 라벨링:   4%|▍         | 4/100 [00:02<01:01,  1.57it/s]"
     ]
    },
    {
     "name": "stdout",
     "output_type": "stream",
     "text": [
      "🔍 ANKR 데이터 분석:\n",
      "   타입: <class 'pandas.core.frame.DataFrame'>\n",
      "   DataFrame 크기: (2385, 178)\n",
      "   컬럼들: ['Open', 'High', 'Low', 'Close', 'Volume', 'MA_2', 'MA_3', 'MA_4', 'MA_5', 'MA_6']...\n",
      "   라벨 분포: {0: 1073, 1: 239, 2: 1073}\n"
     ]
    },
    {
     "name": "stderr",
     "output_type": "stream",
     "text": [
      "데이터 처리 및 라벨링:   5%|▌         | 5/100 [00:03<01:01,  1.54it/s]"
     ]
    },
    {
     "name": "stdout",
     "output_type": "stream",
     "text": [
      "🔍 API3 데이터 분석:\n",
      "   타입: <class 'pandas.core.frame.DataFrame'>\n",
      "   DataFrame 크기: (1748, 178)\n",
      "   컬럼들: ['Open', 'High', 'Low', 'Close', 'Volume', 'MA_2', 'MA_3', 'MA_4', 'MA_5', 'MA_6']...\n",
      "   라벨 분포: {0: 787, 1: 174, 2: 787}\n"
     ]
    },
    {
     "name": "stderr",
     "output_type": "stream",
     "text": [
      "데이터 처리 및 라벨링:   6%|▌         | 6/100 [00:03<00:57,  1.62it/s]"
     ]
    },
    {
     "name": "stdout",
     "output_type": "stream",
     "text": [
      "🔍 APT21794 데이터 분석:\n",
      "   타입: <class 'pandas.core.frame.DataFrame'>\n",
      "   DataFrame 크기: (1062, 178)\n",
      "   컬럼들: ['Open', 'High', 'Low', 'Close', 'Volume', 'MA_2', 'MA_3', 'MA_4', 'MA_5', 'MA_6']...\n",
      "   라벨 분포: {0: 478, 1: 106, 2: 478}\n"
     ]
    },
    {
     "name": "stderr",
     "output_type": "stream",
     "text": [
      "데이터 처리 및 라벨링:   7%|▋         | 7/100 [00:03<00:48,  1.93it/s]"
     ]
    },
    {
     "name": "stdout",
     "output_type": "stream",
     "text": [
      "🔍 ARB11841 데이터 분석:\n",
      "   타입: <class 'pandas.core.frame.DataFrame'>\n",
      "   DataFrame 크기: (907, 178)\n",
      "   컬럼들: ['Open', 'High', 'Low', 'Close', 'Volume', 'MA_2', 'MA_3', 'MA_4', 'MA_5', 'MA_6']...\n",
      "   라벨 분포: {0: 408, 1: 91, 2: 408}\n"
     ]
    },
    {
     "name": "stderr",
     "output_type": "stream",
     "text": [
      "데이터 처리 및 라벨링:   8%|▊         | 8/100 [00:04<00:40,  2.27it/s]"
     ]
    },
    {
     "name": "stdout",
     "output_type": "stream",
     "text": [
      "🔍 ASTR 데이터 분석:\n",
      "   타입: <class 'pandas.core.frame.DataFrame'>\n",
      "   DataFrame 크기: (1336, 178)\n",
      "   컬럼들: ['Open', 'High', 'Low', 'Close', 'Volume', 'MA_2', 'MA_3', 'MA_4', 'MA_5', 'MA_6']...\n",
      "   라벨 분포: {0: 601, 1: 134, 2: 601}\n"
     ]
    },
    {
     "name": "stderr",
     "output_type": "stream",
     "text": [
      "데이터 처리 및 라벨링:   9%|▉         | 9/100 [00:04<00:38,  2.37it/s]"
     ]
    },
    {
     "name": "stdout",
     "output_type": "stream",
     "text": [
      "🔍 ATOM 데이터 분석:\n",
      "   타입: <class 'pandas.core.frame.DataFrame'>\n",
      "   DataFrame 크기: (2377, 178)\n",
      "   컬럼들: ['Open', 'High', 'Low', 'Close', 'Volume', 'MA_2', 'MA_3', 'MA_4', 'MA_5', 'MA_6']...\n",
      "   라벨 분포: {0: 1070, 1: 237, 2: 1070}\n"
     ]
    },
    {
     "name": "stderr",
     "output_type": "stream",
     "text": [
      "데이터 처리 및 라벨링:  10%|█         | 10/100 [00:05<00:45,  1.99it/s]"
     ]
    },
    {
     "name": "stdout",
     "output_type": "stream",
     "text": [
      "🔍 AVAX 데이터 분석:\n",
      "   타입: <class 'pandas.core.frame.DataFrame'>\n",
      "   DataFrame 크기: (1821, 178)\n",
      "   컬럼들: ['Open', 'High', 'Low', 'Close', 'Volume', 'MA_2', 'MA_3', 'MA_4', 'MA_5', 'MA_6']...\n",
      "   라벨 분포: {0: 820, 1: 182, 2: 819}\n"
     ]
    },
    {
     "name": "stderr",
     "output_type": "stream",
     "text": [
      "데이터 처리 및 라벨링:  11%|█         | 11/100 [00:05<00:45,  1.96it/s]"
     ]
    },
    {
     "name": "stdout",
     "output_type": "stream",
     "text": [
      "🔍 AXS 데이터 분석:\n",
      "   타입: <class 'pandas.core.frame.DataFrame'>\n",
      "   DataFrame 크기: (1776, 178)\n",
      "   컬럼들: ['Open', 'High', 'Low', 'Close', 'Volume', 'MA_2', 'MA_3', 'MA_4', 'MA_5', 'MA_6']...\n",
      "   라벨 분포: {0: 799, 1: 178, 2: 799}\n"
     ]
    },
    {
     "name": "stderr",
     "output_type": "stream",
     "text": [
      "데이터 처리 및 라벨링:  12%|█▏        | 12/100 [00:06<00:45,  1.95it/s]"
     ]
    },
    {
     "name": "stdout",
     "output_type": "stream",
     "text": [
      "🔍 BAL 데이터 분석:\n",
      "   타입: <class 'pandas.core.frame.DataFrame'>\n",
      "   DataFrame 크기: (1909, 178)\n",
      "   컬럼들: ['Open', 'High', 'Low', 'Close', 'Volume', 'MA_2', 'MA_3', 'MA_4', 'MA_5', 'MA_6']...\n",
      "   라벨 분포: {0: 859, 1: 191, 2: 859}\n"
     ]
    },
    {
     "name": "stderr",
     "output_type": "stream",
     "text": [
      "데이터 처리 및 라벨링:  13%|█▎        | 13/100 [00:06<00:44,  1.97it/s]"
     ]
    },
    {
     "name": "stdout",
     "output_type": "stream",
     "text": [
      "🔍 BAND 데이터 분석:\n",
      "   타입: <class 'pandas.core.frame.DataFrame'>\n",
      "   DataFrame 크기: (2189, 178)\n",
      "   컬럼들: ['Open', 'High', 'Low', 'Close', 'Volume', 'MA_2', 'MA_3', 'MA_4', 'MA_5', 'MA_6']...\n",
      "   라벨 분포: {0: 985, 1: 219, 2: 985}\n"
     ]
    },
    {
     "name": "stderr",
     "output_type": "stream",
     "text": [
      "데이터 처리 및 라벨링:  14%|█▍        | 14/100 [00:07<00:46,  1.85it/s]"
     ]
    },
    {
     "name": "stdout",
     "output_type": "stream",
     "text": [
      "🔍 BAT 데이터 분석:\n",
      "   타입: <class 'pandas.core.frame.DataFrame'>\n",
      "   DataFrame 크기: (2867, 178)\n",
      "   컬럼들: ['Open', 'High', 'Low', 'Close', 'Volume', 'MA_2', 'MA_3', 'MA_4', 'MA_5', 'MA_6']...\n",
      "   라벨 분포: {0: 1290, 1: 287, 2: 1290}\n"
     ]
    },
    {
     "name": "stderr",
     "output_type": "stream",
     "text": [
      "데이터 처리 및 라벨링:  15%|█▌        | 15/100 [00:08<00:53,  1.60it/s]"
     ]
    },
    {
     "name": "stdout",
     "output_type": "stream",
     "text": [
      "🔍 BCH 데이터 분석:\n",
      "   타입: <class 'pandas.core.frame.DataFrame'>\n",
      "   DataFrame 크기: (2867, 178)\n",
      "   컬럼들: ['Open', 'High', 'Low', 'Close', 'Volume', 'MA_2', 'MA_3', 'MA_4', 'MA_5', 'MA_6']...\n",
      "   라벨 분포: {0: 1290, 1: 287, 2: 1290}\n"
     ]
    },
    {
     "name": "stderr",
     "output_type": "stream",
     "text": [
      "데이터 처리 및 라벨링:  16%|█▌        | 16/100 [00:09<00:57,  1.47it/s]"
     ]
    },
    {
     "name": "stdout",
     "output_type": "stream",
     "text": [
      "🔍 BNB 데이터 분석:\n",
      "   타입: <class 'pandas.core.frame.DataFrame'>\n",
      "   DataFrame 크기: (2867, 178)\n",
      "   컬럼들: ['Open', 'High', 'Low', 'Close', 'Volume', 'MA_2', 'MA_3', 'MA_4', 'MA_5', 'MA_6']...\n",
      "   라벨 분포: {0: 1290, 1: 287, 2: 1290}\n"
     ]
    },
    {
     "name": "stderr",
     "output_type": "stream",
     "text": [
      "데이터 처리 및 라벨링:  17%|█▋        | 17/100 [00:09<00:59,  1.40it/s]"
     ]
    },
    {
     "name": "stdout",
     "output_type": "stream",
     "text": [
      "🔍 BNT 데이터 분석:\n",
      "   타입: <class 'pandas.core.frame.DataFrame'>\n",
      "   DataFrame 크기: (2867, 178)\n",
      "   컬럼들: ['Open', 'High', 'Low', 'Close', 'Volume', 'MA_2', 'MA_3', 'MA_4', 'MA_5', 'MA_6']...\n",
      "   라벨 분포: {0: 1290, 1: 287, 2: 1290}\n"
     ]
    },
    {
     "name": "stderr",
     "output_type": "stream",
     "text": [
      "데이터 처리 및 라벨링:  18%|█▊        | 18/100 [00:10<01:00,  1.35it/s]"
     ]
    },
    {
     "name": "stdout",
     "output_type": "stream",
     "text": [
      "🔍 BSV 데이터 분석:\n",
      "   타입: <class 'pandas.core.frame.DataFrame'>\n",
      "   DataFrame 크기: (2502, 178)\n",
      "   컬럼들: ['Open', 'High', 'Low', 'Close', 'Volume', 'MA_2', 'MA_3', 'MA_4', 'MA_5', 'MA_6']...\n",
      "   라벨 분포: {0: 1126, 1: 250, 2: 1126}\n"
     ]
    },
    {
     "name": "stderr",
     "output_type": "stream",
     "text": [
      "데이터 처리 및 라벨링:  19%|█▉        | 19/100 [00:11<00:58,  1.38it/s]"
     ]
    },
    {
     "name": "stdout",
     "output_type": "stream",
     "text": [
      "🔍 BTC 데이터 분석:\n",
      "   타입: <class 'pandas.core.frame.DataFrame'>\n",
      "   DataFrame 크기: (3910, 178)\n",
      "   컬럼들: ['Open', 'High', 'Low', 'Close', 'Volume', 'MA_2', 'MA_3', 'MA_4', 'MA_5', 'MA_6']...\n",
      "   라벨 분포: {0: 1760, 1: 390, 2: 1760}\n"
     ]
    },
    {
     "name": "stderr",
     "output_type": "stream",
     "text": [
      "데이터 처리 및 라벨링:  20%|██        | 20/100 [00:12<01:06,  1.21it/s]"
     ]
    },
    {
     "name": "stdout",
     "output_type": "stream",
     "text": [
      "🔍 CAKE 데이터 분석:\n",
      "   타입: <class 'pandas.core.frame.DataFrame'>\n",
      "   DataFrame 크기: (1812, 178)\n",
      "   컬럼들: ['Open', 'High', 'Low', 'Close', 'Volume', 'MA_2', 'MA_3', 'MA_4', 'MA_5', 'MA_6']...\n",
      "   라벨 분포: {0: 815, 1: 182, 2: 815}\n"
     ]
    },
    {
     "name": "stderr",
     "output_type": "stream",
     "text": [
      "데이터 처리 및 라벨링:  21%|██        | 21/100 [00:12<00:57,  1.36it/s]"
     ]
    },
    {
     "name": "stdout",
     "output_type": "stream",
     "text": [
      "🔍 CFG 데이터 분석:\n",
      "   타입: <class 'pandas.core.frame.DataFrame'>\n",
      "   DataFrame 크기: (1523, 178)\n",
      "   컬럼들: ['Open', 'High', 'Low', 'Close', 'Volume', 'MA_2', 'MA_3', 'MA_4', 'MA_5', 'MA_6']...\n",
      "   라벨 분포: {0: 685, 1: 153, 2: 685}\n"
     ]
    },
    {
     "name": "stderr",
     "output_type": "stream",
     "text": [
      "데이터 처리 및 라벨링:  22%|██▏       | 22/100 [00:13<00:50,  1.55it/s]"
     ]
    },
    {
     "name": "stdout",
     "output_type": "stream",
     "text": [
      "🔍 CHZ 데이터 분석:\n",
      "   타입: <class 'pandas.core.frame.DataFrame'>\n",
      "   DataFrame 크기: (2268, 178)\n",
      "   컬럼들: ['Open', 'High', 'Low', 'Close', 'Volume', 'MA_2', 'MA_3', 'MA_4', 'MA_5', 'MA_6']...\n",
      "   라벨 분포: {0: 1021, 1: 226, 2: 1021}\n"
     ]
    },
    {
     "name": "stderr",
     "output_type": "stream",
     "text": [
      "데이터 처리 및 라벨링:  23%|██▎       | 23/100 [00:14<00:49,  1.55it/s]"
     ]
    },
    {
     "name": "stdout",
     "output_type": "stream",
     "text": [
      "🔍 CKB 데이터 분석:\n",
      "   타입: <class 'pandas.core.frame.DataFrame'>\n",
      "   DataFrame 크기: (2127, 178)\n",
      "   컬럼들: ['Open', 'High', 'Low', 'Close', 'Volume', 'MA_2', 'MA_3', 'MA_4', 'MA_5', 'MA_6']...\n",
      "   라벨 분포: {0: 957, 1: 213, 2: 957}\n"
     ]
    },
    {
     "name": "stderr",
     "output_type": "stream",
     "text": [
      "데이터 처리 및 라벨링:  24%|██▍       | 24/100 [00:14<00:47,  1.59it/s]"
     ]
    },
    {
     "name": "stdout",
     "output_type": "stream",
     "text": [
      "🔍 COTI 데이터 분석:\n",
      "   타입: <class 'pandas.core.frame.DataFrame'>\n",
      "   DataFrame 크기: (2295, 178)\n",
      "   컬럼들: ['Open', 'High', 'Low', 'Close', 'Volume', 'MA_2', 'MA_3', 'MA_4', 'MA_5', 'MA_6']...\n",
      "   라벨 분포: {0: 1033, 1: 229, 2: 1033}\n"
     ]
    },
    {
     "name": "stderr",
     "output_type": "stream",
     "text": [
      "데이터 처리 및 라벨링:  25%|██▌       | 25/100 [00:15<00:47,  1.58it/s]"
     ]
    },
    {
     "name": "stdout",
     "output_type": "stream",
     "text": [
      "🔍 CRO 데이터 분석:\n",
      "   타입: <class 'pandas.core.frame.DataFrame'>\n",
      "   DataFrame 크기: (2467, 178)\n",
      "   컬럼들: ['Open', 'High', 'Low', 'Close', 'Volume', 'MA_2', 'MA_3', 'MA_4', 'MA_5', 'MA_6']...\n",
      "   라벨 분포: {0: 1110, 1: 247, 2: 1110}\n"
     ]
    },
    {
     "name": "stderr",
     "output_type": "stream",
     "text": [
      "데이터 처리 및 라벨링:  26%|██▌       | 26/100 [00:15<00:48,  1.54it/s]"
     ]
    },
    {
     "name": "stdout",
     "output_type": "stream",
     "text": [
      "🔍 CRV 데이터 분석:\n",
      "   타입: <class 'pandas.core.frame.DataFrame'>\n",
      "   DataFrame 크기: (1858, 178)\n",
      "   컬럼들: ['Open', 'High', 'Low', 'Close', 'Volume', 'MA_2', 'MA_3', 'MA_4', 'MA_5', 'MA_6']...\n",
      "   라벨 분포: {0: 836, 1: 186, 2: 836}\n"
     ]
    },
    {
     "name": "stderr",
     "output_type": "stream",
     "text": [
      "데이터 처리 및 라벨링:  27%|██▋       | 27/100 [00:16<00:44,  1.64it/s]"
     ]
    },
    {
     "name": "stdout",
     "output_type": "stream",
     "text": [
      "🔍 CVC 데이터 분석:\n",
      "   타입: <class 'pandas.core.frame.DataFrame'>\n",
      "   DataFrame 크기: (2867, 178)\n",
      "   컬럼들: ['Open', 'High', 'Low', 'Close', 'Volume', 'MA_2', 'MA_3', 'MA_4', 'MA_5', 'MA_6']...\n",
      "   라벨 분포: {0: 1290, 1: 287, 2: 1290}\n"
     ]
    },
    {
     "name": "stderr",
     "output_type": "stream",
     "text": [
      "데이터 처리 및 라벨링:  28%|██▊       | 28/100 [00:17<00:47,  1.51it/s]"
     ]
    },
    {
     "name": "stdout",
     "output_type": "stream",
     "text": [
      "🔍 CVX 데이터 분석:\n",
      "   타입: <class 'pandas.core.frame.DataFrame'>\n",
      "   DataFrame 크기: (1581, 178)\n",
      "   컬럼들: ['Open', 'High', 'Low', 'Close', 'Volume', 'MA_2', 'MA_3', 'MA_4', 'MA_5', 'MA_6']...\n",
      "   라벨 분포: {0: 712, 1: 157, 2: 712}\n"
     ]
    },
    {
     "name": "stderr",
     "output_type": "stream",
     "text": [
      "데이터 처리 및 라벨링:  29%|██▉       | 29/100 [00:17<00:42,  1.67it/s]"
     ]
    },
    {
     "name": "stdout",
     "output_type": "stream",
     "text": [
      "🔍 DAI 데이터 분석:\n",
      "   타입: <class 'pandas.core.frame.DataFrame'>\n",
      "   DataFrame 크기: (2124, 178)\n",
      "   컬럼들: ['Open', 'High', 'Low', 'Close', 'Volume', 'MA_2', 'MA_3', 'MA_4', 'MA_5', 'MA_6']...\n",
      "   라벨 분포: {0: 956, 1: 212, 2: 956}\n"
     ]
    },
    {
     "name": "stderr",
     "output_type": "stream",
     "text": [
      "데이터 처리 및 라벨링:  30%|███       | 30/100 [00:18<00:42,  1.66it/s]"
     ]
    },
    {
     "name": "stdout",
     "output_type": "stream",
     "text": [
      "🔍 DASH 데이터 분석:\n",
      "   타입: <class 'pandas.core.frame.DataFrame'>\n",
      "   DataFrame 크기: (2867, 178)\n",
      "   컬럼들: ['Open', 'High', 'Low', 'Close', 'Volume', 'MA_2', 'MA_3', 'MA_4', 'MA_5', 'MA_6']...\n",
      "   라벨 분포: {0: 1290, 1: 287, 2: 1290}\n"
     ]
    },
    {
     "name": "stderr",
     "output_type": "stream",
     "text": [
      "데이터 처리 및 라벨링:  31%|███       | 31/100 [00:19<00:45,  1.51it/s]"
     ]
    },
    {
     "name": "stdout",
     "output_type": "stream",
     "text": [
      "🔍 DOGE 데이터 분석:\n",
      "   타입: <class 'pandas.core.frame.DataFrame'>\n",
      "   DataFrame 크기: (2867, 178)\n",
      "   컬럼들: ['Open', 'High', 'Low', 'Close', 'Volume', 'MA_2', 'MA_3', 'MA_4', 'MA_5', 'MA_6']...\n",
      "   라벨 분포: {0: 1290, 1: 287, 2: 1290}\n"
     ]
    },
    {
     "name": "stderr",
     "output_type": "stream",
     "text": [
      "데이터 처리 및 라벨링:  32%|███▏      | 32/100 [00:19<00:47,  1.43it/s]"
     ]
    },
    {
     "name": "stdout",
     "output_type": "stream",
     "text": [
      "🔍 DOT 데이터 분석:\n",
      "   타입: <class 'pandas.core.frame.DataFrame'>\n",
      "   DataFrame 크기: (1852, 178)\n",
      "   컬럼들: ['Open', 'High', 'Low', 'Close', 'Volume', 'MA_2', 'MA_3', 'MA_4', 'MA_5', 'MA_6']...\n",
      "   라벨 분포: {0: 833, 1: 186, 2: 833}\n"
     ]
    },
    {
     "name": "stderr",
     "output_type": "stream",
     "text": [
      "데이터 처리 및 라벨링:  33%|███▎      | 33/100 [00:20<00:43,  1.55it/s]"
     ]
    },
    {
     "name": "stdout",
     "output_type": "stream",
     "text": [
      "🔍 DYDX 데이터 분석:\n",
      "   타입: <class 'pandas.core.frame.DataFrame'>\n",
      "   DataFrame 크기: (1426, 178)\n",
      "   컬럼들: ['Open', 'High', 'Low', 'Close', 'Volume', 'MA_2', 'MA_3', 'MA_4', 'MA_5', 'MA_6']...\n",
      "   라벨 분포: {0: 642, 1: 142, 2: 642}\n"
     ]
    },
    {
     "name": "stderr",
     "output_type": "stream",
     "text": [
      "데이터 처리 및 라벨링:  34%|███▍      | 34/100 [00:20<00:37,  1.74it/s]"
     ]
    },
    {
     "name": "stdout",
     "output_type": "stream",
     "text": [
      "🔍 EGLD 데이터 분석:\n",
      "   타입: <class 'pandas.core.frame.DataFrame'>\n",
      "   DataFrame 크기: (1837, 178)\n",
      "   컬럼들: ['Open', 'High', 'Low', 'Close', 'Volume', 'MA_2', 'MA_3', 'MA_4', 'MA_5', 'MA_6']...\n",
      "   라벨 분포: {0: 827, 1: 183, 2: 827}\n"
     ]
    },
    {
     "name": "stderr",
     "output_type": "stream",
     "text": [
      "데이터 처리 및 라벨링:  35%|███▌      | 35/100 [00:21<00:36,  1.80it/s]"
     ]
    },
    {
     "name": "stdout",
     "output_type": "stream",
     "text": [
      "🔍 ENJ 데이터 분석:\n",
      "   타입: <class 'pandas.core.frame.DataFrame'>\n",
      "   DataFrame 크기: (2867, 178)\n",
      "   컬럼들: ['Open', 'High', 'Low', 'Close', 'Volume', 'MA_2', 'MA_3', 'MA_4', 'MA_5', 'MA_6']...\n",
      "   라벨 분포: {0: 1290, 1: 287, 2: 1290}\n"
     ]
    },
    {
     "name": "stderr",
     "output_type": "stream",
     "text": [
      "데이터 처리 및 라벨링:  36%|███▌      | 36/100 [00:22<00:40,  1.59it/s]"
     ]
    },
    {
     "name": "stdout",
     "output_type": "stream",
     "text": [
      "🔍 ETC 데이터 분석:\n",
      "   타입: <class 'pandas.core.frame.DataFrame'>\n",
      "   DataFrame 크기: (2867, 178)\n",
      "   컬럼들: ['Open', 'High', 'Low', 'Close', 'Volume', 'MA_2', 'MA_3', 'MA_4', 'MA_5', 'MA_6']...\n",
      "   라벨 분포: {0: 1290, 1: 287, 2: 1290}\n"
     ]
    },
    {
     "name": "stderr",
     "output_type": "stream",
     "text": [
      "데이터 처리 및 라벨링:  37%|███▋      | 37/100 [00:22<00:42,  1.48it/s]"
     ]
    },
    {
     "name": "stdout",
     "output_type": "stream",
     "text": [
      "🔍 ETH 데이터 분석:\n",
      "   타입: <class 'pandas.core.frame.DataFrame'>\n",
      "   DataFrame 크기: (2867, 178)\n",
      "   컬럼들: ['Open', 'High', 'Low', 'Close', 'Volume', 'MA_2', 'MA_3', 'MA_4', 'MA_5', 'MA_6']...\n",
      "   라벨 분포: {0: 1290, 1: 287, 2: 1290}\n"
     ]
    },
    {
     "name": "stderr",
     "output_type": "stream",
     "text": [
      "데이터 처리 및 라벨링:  38%|███▊      | 38/100 [00:23<00:43,  1.41it/s]"
     ]
    },
    {
     "name": "stdout",
     "output_type": "stream",
     "text": [
      "🔍 FET 데이터 분석:\n",
      "   타입: <class 'pandas.core.frame.DataFrame'>\n",
      "   DataFrame 크기: (2389, 178)\n",
      "   컬럼들: ['Open', 'High', 'Low', 'Close', 'Volume', 'MA_2', 'MA_3', 'MA_4', 'MA_5', 'MA_6']...\n",
      "   라벨 분포: {0: 1075, 1: 239, 2: 1075}\n"
     ]
    },
    {
     "name": "stderr",
     "output_type": "stream",
     "text": [
      "데이터 처리 및 라벨링:  39%|███▉      | 39/100 [00:24<00:42,  1.44it/s]"
     ]
    },
    {
     "name": "stdout",
     "output_type": "stream",
     "text": [
      "🔍 FIL 데이터 분석:\n",
      "   타입: <class 'pandas.core.frame.DataFrame'>\n",
      "   DataFrame 크기: (2833, 178)\n",
      "   컬럼들: ['Open', 'High', 'Low', 'Close', 'Volume', 'MA_2', 'MA_3', 'MA_4', 'MA_5', 'MA_6']...\n",
      "   라벨 분포: {0: 1275, 1: 283, 2: 1275}\n"
     ]
    },
    {
     "name": "stderr",
     "output_type": "stream",
     "text": [
      "데이터 처리 및 라벨링:  40%|████      | 40/100 [00:25<00:43,  1.39it/s]"
     ]
    },
    {
     "name": "stdout",
     "output_type": "stream",
     "text": [
      "🔍 FLOW 데이터 분석:\n",
      "   타입: <class 'pandas.core.frame.DataFrame'>\n",
      "   DataFrame 크기: (1692, 178)\n",
      "   컬럼들: ['Open', 'High', 'Low', 'Close', 'Volume', 'MA_2', 'MA_3', 'MA_4', 'MA_5', 'MA_6']...\n",
      "   라벨 분포: {0: 761, 1: 170, 2: 761}\n"
     ]
    },
    {
     "name": "stderr",
     "output_type": "stream",
     "text": [
      "데이터 처리 및 라벨링:  41%|████      | 41/100 [00:25<00:38,  1.54it/s]"
     ]
    },
    {
     "name": "stdout",
     "output_type": "stream",
     "text": [
      "🔍 FTM 데이터 분석:\n",
      "   타입: <class 'pandas.core.frame.DataFrame'>\n",
      "   DataFrame 크기: (2268, 178)\n",
      "   컬럼들: ['Open', 'High', 'Low', 'Close', 'Volume', 'MA_2', 'MA_3', 'MA_4', 'MA_5', 'MA_6']...\n",
      "   라벨 분포: {0: 1021, 1: 226, 2: 1021}\n"
     ]
    },
    {
     "name": "stderr",
     "output_type": "stream",
     "text": [
      "데이터 처리 및 라벨링:  42%|████▏     | 42/100 [00:26<00:37,  1.54it/s]"
     ]
    },
    {
     "name": "stdout",
     "output_type": "stream",
     "text": [
      "🔍 FXS 데이터 분석:\n",
      "   타입: <class 'pandas.core.frame.DataFrame'>\n",
      "   DataFrame 크기: (1592, 178)\n",
      "   컬럼들: ['Open', 'High', 'Low', 'Close', 'Volume', 'MA_2', 'MA_3', 'MA_4', 'MA_5', 'MA_6']...\n",
      "   라벨 분포: {0: 716, 1: 160, 2: 716}\n"
     ]
    },
    {
     "name": "stderr",
     "output_type": "stream",
     "text": [
      "데이터 처리 및 라벨링:  43%|████▎     | 43/100 [00:26<00:33,  1.69it/s]"
     ]
    },
    {
     "name": "stdout",
     "output_type": "stream",
     "text": [
      "🔍 GNO 데이터 분석:\n",
      "   타입: <class 'pandas.core.frame.DataFrame'>\n",
      "   DataFrame 크기: (2867, 178)\n",
      "   컬럼들: ['Open', 'High', 'Low', 'Close', 'Volume', 'MA_2', 'MA_3', 'MA_4', 'MA_5', 'MA_6']...\n",
      "   라벨 분포: {0: 1290, 1: 287, 2: 1290}\n"
     ]
    },
    {
     "name": "stderr",
     "output_type": "stream",
     "text": [
      "데이터 처리 및 라벨링:  44%|████▍     | 44/100 [00:27<00:36,  1.53it/s]"
     ]
    },
    {
     "name": "stdout",
     "output_type": "stream",
     "text": [
      "🔍 GRT6719 데이터 분석:\n",
      "   타입: <class 'pandas.core.frame.DataFrame'>\n",
      "   DataFrame 크기: (1732, 178)\n",
      "   컬럼들: ['Open', 'High', 'Low', 'Close', 'Volume', 'MA_2', 'MA_3', 'MA_4', 'MA_5', 'MA_6']...\n",
      "   라벨 분포: {0: 779, 1: 174, 2: 779}\n"
     ]
    },
    {
     "name": "stderr",
     "output_type": "stream",
     "text": [
      "데이터 처리 및 라벨링:  45%|████▌     | 45/100 [00:28<00:33,  1.66it/s]"
     ]
    },
    {
     "name": "stdout",
     "output_type": "stream",
     "text": [
      "🔍 HBAR 데이터 분석:\n",
      "   타입: <class 'pandas.core.frame.DataFrame'>\n",
      "   DataFrame 크기: (2190, 178)\n",
      "   컬럼들: ['Open', 'High', 'Low', 'Close', 'Volume', 'MA_2', 'MA_3', 'MA_4', 'MA_5', 'MA_6']...\n",
      "   라벨 분포: {0: 986, 1: 218, 2: 986}\n"
     ]
    },
    {
     "name": "stderr",
     "output_type": "stream",
     "text": [
      "데이터 처리 및 라벨링:  46%|████▌     | 46/100 [00:28<00:32,  1.68it/s]"
     ]
    },
    {
     "name": "stdout",
     "output_type": "stream",
     "text": [
      "🔍 ICP 데이터 분석:\n",
      "   타입: <class 'pandas.core.frame.DataFrame'>\n",
      "   DataFrame 크기: (1589, 178)\n",
      "   컬럼들: ['Open', 'High', 'Low', 'Close', 'Volume', 'MA_2', 'MA_3', 'MA_4', 'MA_5', 'MA_6']...\n",
      "   라벨 분포: {0: 715, 1: 159, 2: 715}\n"
     ]
    },
    {
     "name": "stderr",
     "output_type": "stream",
     "text": [
      "데이터 처리 및 라벨링:  47%|████▋     | 47/100 [00:29<00:29,  1.81it/s]"
     ]
    },
    {
     "name": "stdout",
     "output_type": "stream",
     "text": [
      "🔍 IMX10603 데이터 분석:\n",
      "   타입: <class 'pandas.core.frame.DataFrame'>\n",
      "   DataFrame 크기: (1409, 178)\n",
      "   컬럼들: ['Open', 'High', 'Low', 'Close', 'Volume', 'MA_2', 'MA_3', 'MA_4', 'MA_5', 'MA_6']...\n",
      "   라벨 분포: {0: 634, 1: 141, 2: 634}\n"
     ]
    },
    {
     "name": "stderr",
     "output_type": "stream",
     "text": [
      "데이터 처리 및 라벨링:  48%|████▊     | 48/100 [00:29<00:26,  1.96it/s]"
     ]
    },
    {
     "name": "stdout",
     "output_type": "stream",
     "text": [
      "🔍 INJ 데이터 분석:\n",
      "   타입: <class 'pandas.core.frame.DataFrame'>\n",
      "   DataFrame 크기: (1790, 178)\n",
      "   컬럼들: ['Open', 'High', 'Low', 'Close', 'Volume', 'MA_2', 'MA_3', 'MA_4', 'MA_5', 'MA_6']...\n",
      "   라벨 분포: {0: 806, 1: 178, 2: 806}\n"
     ]
    },
    {
     "name": "stderr",
     "output_type": "stream",
     "text": [
      "데이터 처리 및 라벨링:  49%|████▉     | 49/100 [00:29<00:25,  1.97it/s]"
     ]
    },
    {
     "name": "stdout",
     "output_type": "stream",
     "text": [
      "🔍 IOTA 데이터 분석:\n",
      "   타입: <class 'pandas.core.frame.DataFrame'>\n",
      "   DataFrame 크기: (716, 178)\n",
      "   컬럼들: ['Open', 'High', 'Low', 'Close', 'Volume', 'MA_2', 'MA_3', 'MA_4', 'MA_5', 'MA_6']...\n",
      "   라벨 분포: {0: 322, 1: 72, 2: 322}\n"
     ]
    },
    {
     "name": "stderr",
     "output_type": "stream",
     "text": [
      "데이터 처리 및 라벨링:  50%|█████     | 50/100 [00:30<00:20,  2.39it/s]"
     ]
    },
    {
     "name": "stdout",
     "output_type": "stream",
     "text": [
      "🔍 KCS 데이터 분석:\n",
      "   타입: <class 'pandas.core.frame.DataFrame'>\n",
      "   DataFrame 크기: (2867, 178)\n",
      "   컬럼들: ['Open', 'High', 'Low', 'Close', 'Volume', 'MA_2', 'MA_3', 'MA_4', 'MA_5', 'MA_6']...\n",
      "   라벨 분포: {0: 1290, 1: 287, 2: 1290}\n"
     ]
    },
    {
     "name": "stderr",
     "output_type": "stream",
     "text": [
      "데이터 처리 및 라벨링:  51%|█████     | 51/100 [00:31<00:26,  1.87it/s]"
     ]
    },
    {
     "name": "stdout",
     "output_type": "stream",
     "text": [
      "🔍 KEEP 데이터 분석:\n",
      "   타입: <class 'pandas.core.frame.DataFrame'>\n",
      "   DataFrame 크기: (1951, 178)\n",
      "   컬럼들: ['Open', 'High', 'Low', 'Close', 'Volume', 'MA_2', 'MA_3', 'MA_4', 'MA_5', 'MA_6']...\n",
      "   라벨 분포: {0: 878, 1: 195, 2: 878}\n"
     ]
    },
    {
     "name": "stderr",
     "output_type": "stream",
     "text": [
      "데이터 처리 및 라벨링:  52%|█████▏    | 52/100 [00:31<00:25,  1.86it/s]"
     ]
    },
    {
     "name": "stdout",
     "output_type": "stream",
     "text": [
      "🔍 KNC 데이터 분석:\n",
      "   타입: <class 'pandas.core.frame.DataFrame'>\n",
      "   DataFrame 크기: (1510, 178)\n",
      "   컬럼들: ['Open', 'High', 'Low', 'Close', 'Volume', 'MA_2', 'MA_3', 'MA_4', 'MA_5', 'MA_6']...\n",
      "   라벨 분포: {0: 680, 1: 150, 2: 680}\n"
     ]
    },
    {
     "name": "stderr",
     "output_type": "stream",
     "text": [
      "데이터 처리 및 라벨링:  53%|█████▎    | 53/100 [00:31<00:23,  1.97it/s]"
     ]
    },
    {
     "name": "stdout",
     "output_type": "stream",
     "text": [
      "🔍 LEO 데이터 분석:\n",
      "   타입: <class 'pandas.core.frame.DataFrame'>\n",
      "   DataFrame 크기: (2309, 178)\n",
      "   컬럼들: ['Open', 'High', 'Low', 'Close', 'Volume', 'MA_2', 'MA_3', 'MA_4', 'MA_5', 'MA_6']...\n",
      "   라벨 분포: {0: 1039, 1: 231, 2: 1039}\n"
     ]
    },
    {
     "name": "stderr",
     "output_type": "stream",
     "text": [
      "데이터 처리 및 라벨링:  54%|█████▍    | 54/100 [00:32<00:25,  1.82it/s]"
     ]
    },
    {
     "name": "stdout",
     "output_type": "stream",
     "text": [
      "🔍 LPT 데이터 분석:\n",
      "   타입: <class 'pandas.core.frame.DataFrame'>\n",
      "   DataFrame 크기: (2462, 178)\n",
      "   컬럼들: ['Open', 'High', 'Low', 'Close', 'Volume', 'MA_2', 'MA_3', 'MA_4', 'MA_5', 'MA_6']...\n",
      "   라벨 분포: {0: 1108, 1: 246, 2: 1108}\n"
     ]
    },
    {
     "name": "stderr",
     "output_type": "stream",
     "text": [
      "데이터 처리 및 라벨링:  55%|█████▌    | 55/100 [00:33<00:26,  1.69it/s]"
     ]
    },
    {
     "name": "stdout",
     "output_type": "stream",
     "text": [
      "🔍 LRC 데이터 분석:\n",
      "   타입: <class 'pandas.core.frame.DataFrame'>\n",
      "   DataFrame 크기: (2867, 178)\n",
      "   컬럼들: ['Open', 'High', 'Low', 'Close', 'Volume', 'MA_2', 'MA_3', 'MA_4', 'MA_5', 'MA_6']...\n",
      "   라벨 분포: {0: 1290, 1: 287, 2: 1290}\n"
     ]
    },
    {
     "name": "stderr",
     "output_type": "stream",
     "text": [
      "데이터 처리 및 라벨링:  56%|█████▌    | 56/100 [00:34<00:28,  1.55it/s]"
     ]
    },
    {
     "name": "stdout",
     "output_type": "stream",
     "text": [
      "🔍 LTC 데이터 분석:\n",
      "   타입: <class 'pandas.core.frame.DataFrame'>\n",
      "   DataFrame 크기: (3910, 178)\n",
      "   컬럼들: ['Open', 'High', 'Low', 'Close', 'Volume', 'MA_2', 'MA_3', 'MA_4', 'MA_5', 'MA_6']...\n",
      "   라벨 분포: {0: 1760, 1: 390, 2: 1760}\n"
     ]
    },
    {
     "name": "stderr",
     "output_type": "stream",
     "text": [
      "데이터 처리 및 라벨링:  57%|█████▋    | 57/100 [00:35<00:33,  1.30it/s]"
     ]
    },
    {
     "name": "stdout",
     "output_type": "stream",
     "text": [
      "🔍 MANA 데이터 분석:\n",
      "   타입: <class 'pandas.core.frame.DataFrame'>\n",
      "   DataFrame 크기: (2867, 178)\n",
      "   컬럼들: ['Open', 'High', 'Low', 'Close', 'Volume', 'MA_2', 'MA_3', 'MA_4', 'MA_5', 'MA_6']...\n",
      "   라벨 분포: {0: 1290, 1: 287, 2: 1290}\n"
     ]
    },
    {
     "name": "stderr",
     "output_type": "stream",
     "text": [
      "데이터 처리 및 라벨링:  58%|█████▊    | 58/100 [00:35<00:32,  1.30it/s]"
     ]
    },
    {
     "name": "stdout",
     "output_type": "stream",
     "text": [
      "🔍 MNT27075 데이터 분석:\n",
      "   타입: <class 'pandas.core.frame.DataFrame'>\n",
      "   DataFrame 크기: (788, 178)\n",
      "   컬럼들: ['Open', 'High', 'Low', 'Close', 'Volume', 'MA_2', 'MA_3', 'MA_4', 'MA_5', 'MA_6']...\n",
      "   라벨 분포: {0: 355, 1: 78, 2: 355}\n"
     ]
    },
    {
     "name": "stderr",
     "output_type": "stream",
     "text": [
      "데이터 처리 및 라벨링:  59%|█████▉    | 59/100 [00:36<00:25,  1.63it/s]"
     ]
    },
    {
     "name": "stdout",
     "output_type": "stream",
     "text": [
      "🔍 NEAR 데이터 분석:\n",
      "   타입: <class 'pandas.core.frame.DataFrame'>\n",
      "   DataFrame 크기: (1797, 178)\n",
      "   컬럼들: ['Open', 'High', 'Low', 'Close', 'Volume', 'MA_2', 'MA_3', 'MA_4', 'MA_5', 'MA_6']...\n",
      "   라벨 분포: {0: 809, 1: 179, 2: 809}\n"
     ]
    },
    {
     "name": "stderr",
     "output_type": "stream",
     "text": [
      "데이터 처리 및 라벨링:  60%|██████    | 60/100 [00:36<00:23,  1.72it/s]"
     ]
    },
    {
     "name": "stdout",
     "output_type": "stream",
     "text": [
      "🔍 NEO 데이터 분석:\n",
      "   타입: <class 'pandas.core.frame.DataFrame'>\n",
      "   DataFrame 크기: (2867, 178)\n",
      "   컬럼들: ['Open', 'High', 'Low', 'Close', 'Volume', 'MA_2', 'MA_3', 'MA_4', 'MA_5', 'MA_6']...\n",
      "   라벨 분포: {0: 1290, 1: 287, 2: 1290}\n"
     ]
    },
    {
     "name": "stderr",
     "output_type": "stream",
     "text": [
      "데이터 처리 및 라벨링:  61%|██████    | 61/100 [00:37<00:25,  1.55it/s]"
     ]
    },
    {
     "name": "stdout",
     "output_type": "stream",
     "text": [
      "🔍 NMR 데이터 분석:\n",
      "   타입: <class 'pandas.core.frame.DataFrame'>\n",
      "   DataFrame 크기: (2867, 178)\n",
      "   컬럼들: ['Open', 'High', 'Low', 'Close', 'Volume', 'MA_2', 'MA_3', 'MA_4', 'MA_5', 'MA_6']...\n",
      "   라벨 분포: {0: 1290, 1: 287, 2: 1290}\n"
     ]
    },
    {
     "name": "stderr",
     "output_type": "stream",
     "text": [
      "데이터 처리 및 라벨링:  62%|██████▏   | 62/100 [00:38<00:26,  1.46it/s]"
     ]
    },
    {
     "name": "stdout",
     "output_type": "stream",
     "text": [
      "🔍 OKB 데이터 분석:\n",
      "   타입: <class 'pandas.core.frame.DataFrame'>\n",
      "   DataFrame 크기: (2330, 178)\n",
      "   컬럼들: ['Open', 'High', 'Low', 'Close', 'Volume', 'MA_2', 'MA_3', 'MA_4', 'MA_5', 'MA_6']...\n",
      "   라벨 분포: {0: 1049, 1: 232, 2: 1049}\n"
     ]
    },
    {
     "name": "stderr",
     "output_type": "stream",
     "text": [
      "데이터 처리 및 라벨링:  63%|██████▎   | 63/100 [00:38<00:24,  1.49it/s]"
     ]
    },
    {
     "name": "stdout",
     "output_type": "stream",
     "text": [
      "🔍 OP 데이터 분석:\n",
      "   타입: <class 'pandas.core.frame.DataFrame'>\n",
      "   DataFrame 크기: (1281, 178)\n",
      "   컬럼들: ['Open', 'High', 'Low', 'Close', 'Volume', 'MA_2', 'MA_3', 'MA_4', 'MA_5', 'MA_6']...\n",
      "   라벨 분포: {0: 577, 1: 127, 2: 577}\n"
     ]
    },
    {
     "name": "stderr",
     "output_type": "stream",
     "text": [
      "데이터 처리 및 라벨링:  64%|██████▍   | 64/100 [00:39<00:20,  1.72it/s]"
     ]
    },
    {
     "name": "stdout",
     "output_type": "stream",
     "text": [
      "🔍 QNT 데이터 분석:\n",
      "   타입: <class 'pandas.core.frame.DataFrame'>\n",
      "   DataFrame 크기: (2593, 178)\n",
      "   컬럼들: ['Open', 'High', 'Low', 'Close', 'Volume', 'MA_2', 'MA_3', 'MA_4', 'MA_5', 'MA_6']...\n",
      "   라벨 분포: {0: 1167, 1: 259, 2: 1167}\n"
     ]
    },
    {
     "name": "stderr",
     "output_type": "stream",
     "text": [
      "데이터 처리 및 라벨링:  65%|██████▌   | 65/100 [00:39<00:21,  1.60it/s]"
     ]
    },
    {
     "name": "stdout",
     "output_type": "stream",
     "text": [
      "🔍 QTUM 데이터 분석:\n",
      "   타입: <class 'pandas.core.frame.DataFrame'>\n",
      "   DataFrame 크기: (2867, 178)\n",
      "   컬럼들: ['Open', 'High', 'Low', 'Close', 'Volume', 'MA_2', 'MA_3', 'MA_4', 'MA_5', 'MA_6']...\n",
      "   라벨 분포: {0: 1290, 1: 287, 2: 1290}\n"
     ]
    },
    {
     "name": "stderr",
     "output_type": "stream",
     "text": [
      "데이터 처리 및 라벨링:  66%|██████▌   | 66/100 [00:40<00:22,  1.48it/s]"
     ]
    },
    {
     "name": "stdout",
     "output_type": "stream",
     "text": [
      "🔍 REQ 데이터 분석:\n",
      "   타입: <class 'pandas.core.frame.DataFrame'>\n",
      "   DataFrame 크기: (2867, 178)\n",
      "   컬럼들: ['Open', 'High', 'Low', 'Close', 'Volume', 'MA_2', 'MA_3', 'MA_4', 'MA_5', 'MA_6']...\n",
      "   라벨 분포: {0: 1290, 1: 287, 2: 1290}\n"
     ]
    },
    {
     "name": "stderr",
     "output_type": "stream",
     "text": [
      "데이터 처리 및 라벨링:  67%|██████▋   | 67/100 [00:41<00:23,  1.41it/s]"
     ]
    },
    {
     "name": "stdout",
     "output_type": "stream",
     "text": [
      "🔍 RLC 데이터 분석:\n",
      "   타입: <class 'pandas.core.frame.DataFrame'>\n",
      "   DataFrame 크기: (2867, 178)\n",
      "   컬럼들: ['Open', 'High', 'Low', 'Close', 'Volume', 'MA_2', 'MA_3', 'MA_4', 'MA_5', 'MA_6']...\n",
      "   라벨 분포: {0: 1290, 1: 287, 2: 1290}\n"
     ]
    },
    {
     "name": "stderr",
     "output_type": "stream",
     "text": [
      "데이터 처리 및 라벨링:  68%|██████▊   | 68/100 [00:42<00:23,  1.37it/s]"
     ]
    },
    {
     "name": "stdout",
     "output_type": "stream",
     "text": [
      "🔍 RNDR 데이터 분석:\n",
      "   타입: <class 'pandas.core.frame.DataFrame'>\n",
      "   DataFrame 크기: (1502, 178)\n",
      "   컬럼들: ['Open', 'High', 'Low', 'Close', 'Volume', 'MA_2', 'MA_3', 'MA_4', 'MA_5', 'MA_6']...\n",
      "   라벨 분포: {0: 676, 1: 150, 2: 676}\n"
     ]
    },
    {
     "name": "stderr",
     "output_type": "stream",
     "text": [
      "데이터 처리 및 라벨링:  69%|██████▉   | 69/100 [00:42<00:19,  1.56it/s]"
     ]
    },
    {
     "name": "stdout",
     "output_type": "stream",
     "text": [
      "🔍 RSR 데이터 분석:\n",
      "   타입: <class 'pandas.core.frame.DataFrame'>\n",
      "   DataFrame 크기: (2306, 178)\n",
      "   컬럼들: ['Open', 'High', 'Low', 'Close', 'Volume', 'MA_2', 'MA_3', 'MA_4', 'MA_5', 'MA_6']...\n",
      "   라벨 분포: {0: 1038, 1: 230, 2: 1038}\n"
     ]
    },
    {
     "name": "stderr",
     "output_type": "stream",
     "text": [
      "데이터 처리 및 라벨링:  70%|███████   | 70/100 [00:43<00:19,  1.55it/s]"
     ]
    },
    {
     "name": "stdout",
     "output_type": "stream",
     "text": [
      "🔍 RUNE 데이터 분석:\n",
      "   타입: <class 'pandas.core.frame.DataFrame'>\n",
      "   DataFrame 크기: (2246, 178)\n",
      "   컬럼들: ['Open', 'High', 'Low', 'Close', 'Volume', 'MA_2', 'MA_3', 'MA_4', 'MA_5', 'MA_6']...\n",
      "   라벨 분포: {0: 1011, 1: 224, 2: 1011}\n"
     ]
    },
    {
     "name": "stderr",
     "output_type": "stream",
     "text": [
      "데이터 처리 및 라벨링:  71%|███████   | 71/100 [00:44<00:18,  1.55it/s]"
     ]
    },
    {
     "name": "stdout",
     "output_type": "stream",
     "text": [
      "🔍 SAND 데이터 분석:\n",
      "   타입: <class 'pandas.core.frame.DataFrame'>\n",
      "   DataFrame 크기: (1858, 178)\n",
      "   컬럼들: ['Open', 'High', 'Low', 'Close', 'Volume', 'MA_2', 'MA_3', 'MA_4', 'MA_5', 'MA_6']...\n",
      "   라벨 분포: {0: 836, 1: 186, 2: 836}\n"
     ]
    },
    {
     "name": "stderr",
     "output_type": "stream",
     "text": [
      "데이터 처리 및 라벨링:  72%|███████▏  | 72/100 [00:44<00:17,  1.64it/s]"
     ]
    },
    {
     "name": "stdout",
     "output_type": "stream",
     "text": [
      "🔍 SHIB 데이터 분석:\n",
      "   타입: <class 'pandas.core.frame.DataFrame'>\n",
      "   DataFrame 크기: (1830, 178)\n",
      "   컬럼들: ['Open', 'High', 'Low', 'Close', 'Volume', 'MA_2', 'MA_3', 'MA_4', 'MA_5', 'MA_6']...\n",
      "   라벨 분포: {0: 839, 1: 167, 2: 824}\n"
     ]
    },
    {
     "name": "stderr",
     "output_type": "stream",
     "text": [
      "데이터 처리 및 라벨링:  73%|███████▎  | 73/100 [00:45<00:15,  1.75it/s]"
     ]
    },
    {
     "name": "stdout",
     "output_type": "stream",
     "text": [
      "🔍 SNX 데이터 분석:\n",
      "   타입: <class 'pandas.core.frame.DataFrame'>\n",
      "   DataFrame 크기: (2742, 178)\n",
      "   컬럼들: ['Open', 'High', 'Low', 'Close', 'Volume', 'MA_2', 'MA_3', 'MA_4', 'MA_5', 'MA_6']...\n",
      "   라벨 분포: {0: 1234, 1: 274, 2: 1234}\n"
     ]
    },
    {
     "name": "stderr",
     "output_type": "stream",
     "text": [
      "데이터 처리 및 라벨링:  74%|███████▍  | 74/100 [00:45<00:16,  1.58it/s]"
     ]
    },
    {
     "name": "stdout",
     "output_type": "stream",
     "text": [
      "🔍 SOL 데이터 분석:\n",
      "   타입: <class 'pandas.core.frame.DataFrame'>\n",
      "   DataFrame 크기: (1984, 178)\n",
      "   컬럼들: ['Open', 'High', 'Low', 'Close', 'Volume', 'MA_2', 'MA_3', 'MA_4', 'MA_5', 'MA_6']...\n",
      "   라벨 분포: {0: 893, 1: 198, 2: 893}\n"
     ]
    },
    {
     "name": "stderr",
     "output_type": "stream",
     "text": [
      "데이터 처리 및 라벨링:  75%|███████▌  | 75/100 [00:46<00:15,  1.64it/s]"
     ]
    },
    {
     "name": "stdout",
     "output_type": "stream",
     "text": [
      "🔍 SPELL 데이터 분석:\n",
      "   타입: <class 'pandas.core.frame.DataFrame'>\n",
      "   DataFrame 크기: (1490, 178)\n",
      "   컬럼들: ['Open', 'High', 'Low', 'Close', 'Volume', 'MA_2', 'MA_3', 'MA_4', 'MA_5', 'MA_6']...\n",
      "   라벨 분포: {0: 671, 1: 148, 2: 671}\n"
     ]
    },
    {
     "name": "stderr",
     "output_type": "stream",
     "text": [
      "데이터 처리 및 라벨링:  76%|███████▌  | 76/100 [00:46<00:13,  1.79it/s]"
     ]
    },
    {
     "name": "stdout",
     "output_type": "stream",
     "text": [
      "🔍 STORJ 데이터 분석:\n",
      "   타입: <class 'pandas.core.frame.DataFrame'>\n",
      "   DataFrame 크기: (2867, 178)\n",
      "   컬럼들: ['Open', 'High', 'Low', 'Close', 'Volume', 'MA_2', 'MA_3', 'MA_4', 'MA_5', 'MA_6']...\n",
      "   라벨 분포: {0: 1290, 1: 287, 2: 1290}\n"
     ]
    },
    {
     "name": "stderr",
     "output_type": "stream",
     "text": [
      "데이터 처리 및 라벨링:  77%|███████▋  | 77/100 [00:47<00:14,  1.59it/s]"
     ]
    },
    {
     "name": "stdout",
     "output_type": "stream",
     "text": [
      "🔍 STX4847 데이터 분석:\n",
      "   타입: <class 'pandas.core.frame.DataFrame'>\n",
      "   DataFrame 크기: (2148, 178)\n",
      "   컬럼들: ['Open', 'High', 'Low', 'Close', 'Volume', 'MA_2', 'MA_3', 'MA_4', 'MA_5', 'MA_6']...\n",
      "   라벨 분포: {0: 967, 1: 214, 2: 967}\n"
     ]
    },
    {
     "name": "stderr",
     "output_type": "stream",
     "text": [
      "데이터 처리 및 라벨링:  78%|███████▊  | 78/100 [00:48<00:13,  1.62it/s]"
     ]
    },
    {
     "name": "stdout",
     "output_type": "stream",
     "text": [
      "🔍 SUI20947 데이터 분석:\n",
      "   타입: <class 'pandas.core.frame.DataFrame'>\n",
      "   DataFrame 크기: (866, 178)\n",
      "   컬럼들: ['Open', 'High', 'Low', 'Close', 'Volume', 'MA_2', 'MA_3', 'MA_4', 'MA_5', 'MA_6']...\n",
      "   라벨 분포: {0: 390, 1: 86, 2: 390}\n"
     ]
    },
    {
     "name": "stderr",
     "output_type": "stream",
     "text": [
      "데이터 처리 및 라벨링:  79%|███████▉  | 79/100 [00:48<00:10,  1.97it/s]"
     ]
    },
    {
     "name": "stdout",
     "output_type": "stream",
     "text": [
      "🔍 SUSHI 데이터 분석:\n",
      "   타입: <class 'pandas.core.frame.DataFrame'>\n",
      "   DataFrame 크기: (1844, 178)\n",
      "   컬럼들: ['Open', 'High', 'Low', 'Close', 'Volume', 'MA_2', 'MA_3', 'MA_4', 'MA_5', 'MA_6']...\n",
      "   라벨 분포: {0: 830, 1: 184, 2: 830}\n"
     ]
    },
    {
     "name": "stderr",
     "output_type": "stream",
     "text": [
      "데이터 처리 및 라벨링:  80%|████████  | 80/100 [00:49<00:10,  1.96it/s]"
     ]
    },
    {
     "name": "stdout",
     "output_type": "stream",
     "text": [
      "🔍 THETA 데이터 분석:\n",
      "   타입: <class 'pandas.core.frame.DataFrame'>\n",
      "   DataFrame 크기: (2798, 178)\n",
      "   컬럼들: ['Open', 'High', 'Low', 'Close', 'Volume', 'MA_2', 'MA_3', 'MA_4', 'MA_5', 'MA_6']...\n",
      "   라벨 분포: {0: 1259, 1: 280, 2: 1259}\n"
     ]
    },
    {
     "name": "stderr",
     "output_type": "stream",
     "text": [
      "데이터 처리 및 라벨링:  81%|████████  | 81/100 [00:49<00:11,  1.71it/s]"
     ]
    },
    {
     "name": "stdout",
     "output_type": "stream",
     "text": [
      "🔍 TON11419 데이터 분석:\n",
      "   타입: <class 'pandas.core.frame.DataFrame'>\n",
      "   DataFrame 크기: (1480, 178)\n",
      "   컬럼들: ['Open', 'High', 'Low', 'Close', 'Volume', 'MA_2', 'MA_3', 'MA_4', 'MA_5', 'MA_6']...\n",
      "   라벨 분포: {0: 666, 1: 148, 2: 666}\n"
     ]
    },
    {
     "name": "stderr",
     "output_type": "stream",
     "text": [
      "데이터 처리 및 라벨링:  82%|████████▏ | 82/100 [00:50<00:09,  1.88it/s]"
     ]
    },
    {
     "name": "stdout",
     "output_type": "stream",
     "text": [
      "🔍 TORN 데이터 분석:\n",
      "   타입: <class 'pandas.core.frame.DataFrame'>\n",
      "   DataFrame 크기: (1679, 178)\n",
      "   컬럼들: ['Open', 'High', 'Low', 'Close', 'Volume', 'MA_2', 'MA_3', 'MA_4', 'MA_5', 'MA_6']...\n",
      "   라벨 분포: {0: 756, 1: 167, 2: 756}\n"
     ]
    },
    {
     "name": "stderr",
     "output_type": "stream",
     "text": [
      "데이터 처리 및 라벨링:  83%|████████▎ | 83/100 [00:50<00:08,  1.95it/s]"
     ]
    },
    {
     "name": "stdout",
     "output_type": "stream",
     "text": [
      "🔍 TRAC 데이터 분석:\n",
      "   타입: <class 'pandas.core.frame.DataFrame'>\n",
      "   DataFrame 크기: (2790, 178)\n",
      "   컬럼들: ['Open', 'High', 'Low', 'Close', 'Volume', 'MA_2', 'MA_3', 'MA_4', 'MA_5', 'MA_6']...\n",
      "   라벨 분포: {0: 1256, 1: 278, 2: 1256}\n"
     ]
    },
    {
     "name": "stderr",
     "output_type": "stream",
     "text": [
      "데이터 처리 및 라벨링:  84%|████████▍ | 84/100 [00:51<00:09,  1.70it/s]"
     ]
    },
    {
     "name": "stdout",
     "output_type": "stream",
     "text": [
      "🔍 TRX 데이터 분석:\n",
      "   타입: <class 'pandas.core.frame.DataFrame'>\n",
      "   DataFrame 크기: (2867, 178)\n",
      "   컬럼들: ['Open', 'High', 'Low', 'Close', 'Volume', 'MA_2', 'MA_3', 'MA_4', 'MA_5', 'MA_6']...\n",
      "   라벨 분포: {0: 1290, 1: 287, 2: 1290}\n"
     ]
    },
    {
     "name": "stderr",
     "output_type": "stream",
     "text": [
      "데이터 처리 및 라벨링:  85%|████████▌ | 85/100 [00:52<00:09,  1.54it/s]"
     ]
    },
    {
     "name": "stdout",
     "output_type": "stream",
     "text": [
      "🔍 UMA 데이터 분석:\n",
      "   타입: <class 'pandas.core.frame.DataFrame'>\n",
      "   DataFrame 크기: (1939, 178)\n",
      "   컬럼들: ['Open', 'High', 'Low', 'Close', 'Volume', 'MA_2', 'MA_3', 'MA_4', 'MA_5', 'MA_6']...\n",
      "   라벨 분포: {0: 873, 1: 193, 2: 873}\n"
     ]
    },
    {
     "name": "stderr",
     "output_type": "stream",
     "text": [
      "데이터 처리 및 라벨링:  86%|████████▌ | 86/100 [00:52<00:08,  1.58it/s]"
     ]
    },
    {
     "name": "stdout",
     "output_type": "stream",
     "text": [
      "🔍 UNI7083 데이터 분석:\n",
      "   타입: <class 'pandas.core.frame.DataFrame'>\n",
      "   DataFrame 크기: (1823, 178)\n",
      "   컬럼들: ['Open', 'High', 'Low', 'Close', 'Volume', 'MA_2', 'MA_3', 'MA_4', 'MA_5', 'MA_6']...\n",
      "   라벨 분포: {0: 820, 1: 183, 2: 820}\n"
     ]
    },
    {
     "name": "stderr",
     "output_type": "stream",
     "text": [
      "데이터 처리 및 라벨링:  87%|████████▋ | 87/100 [00:53<00:07,  1.66it/s]"
     ]
    },
    {
     "name": "stdout",
     "output_type": "stream",
     "text": [
      "🔍 USDC 데이터 분석:\n",
      "   타입: <class 'pandas.core.frame.DataFrame'>\n",
      "   DataFrame 크기: (2534, 178)\n",
      "   컬럼들: ['Open', 'High', 'Low', 'Close', 'Volume', 'MA_2', 'MA_3', 'MA_4', 'MA_5', 'MA_6']...\n",
      "   라벨 분포: {0: 1140, 1: 254, 2: 1140}\n"
     ]
    },
    {
     "name": "stderr",
     "output_type": "stream",
     "text": [
      "데이터 처리 및 라벨링:  88%|████████▊ | 88/100 [00:54<00:07,  1.57it/s]"
     ]
    },
    {
     "name": "stdout",
     "output_type": "stream",
     "text": [
      "🔍 USDT 데이터 분석:\n",
      "   타입: <class 'pandas.core.frame.DataFrame'>\n",
      "   DataFrame 크기: (2867, 178)\n",
      "   컬럼들: ['Open', 'High', 'Low', 'Close', 'Volume', 'MA_2', 'MA_3', 'MA_4', 'MA_5', 'MA_6']...\n",
      "   라벨 분포: {0: 1290, 1: 287, 2: 1290}\n"
     ]
    },
    {
     "name": "stderr",
     "output_type": "stream",
     "text": [
      "데이터 처리 및 라벨링:  89%|████████▉ | 89/100 [00:54<00:07,  1.46it/s]"
     ]
    },
    {
     "name": "stdout",
     "output_type": "stream",
     "text": [
      "🔍 VET 데이터 분석:\n",
      "   타입: <class 'pandas.core.frame.DataFrame'>\n",
      "   DataFrame 크기: (2600, 178)\n",
      "   컬럼들: ['Open', 'High', 'Low', 'Close', 'Volume', 'MA_2', 'MA_3', 'MA_4', 'MA_5', 'MA_6']...\n",
      "   라벨 분포: {0: 1170, 1: 260, 2: 1170}\n"
     ]
    },
    {
     "name": "stderr",
     "output_type": "stream",
     "text": [
      "데이터 처리 및 라벨링:  90%|█████████ | 90/100 [00:55<00:06,  1.44it/s]"
     ]
    },
    {
     "name": "stdout",
     "output_type": "stream",
     "text": [
      "🔍 WAVES 데이터 분석:\n",
      "   타입: <class 'pandas.core.frame.DataFrame'>\n",
      "   DataFrame 크기: (2867, 178)\n",
      "   컬럼들: ['Open', 'High', 'Low', 'Close', 'Volume', 'MA_2', 'MA_3', 'MA_4', 'MA_5', 'MA_6']...\n",
      "   라벨 분포: {0: 1290, 1: 287, 2: 1290}\n"
     ]
    },
    {
     "name": "stderr",
     "output_type": "stream",
     "text": [
      "데이터 처리 및 라벨링:  91%|█████████ | 91/100 [00:56<00:06,  1.38it/s]"
     ]
    },
    {
     "name": "stdout",
     "output_type": "stream",
     "text": [
      "🔍 XLM 데이터 분석:\n",
      "   타입: <class 'pandas.core.frame.DataFrame'>\n",
      "   DataFrame 크기: (2867, 178)\n",
      "   컬럼들: ['Open', 'High', 'Low', 'Close', 'Volume', 'MA_2', 'MA_3', 'MA_4', 'MA_5', 'MA_6']...\n",
      "   라벨 분포: {0: 1290, 1: 287, 2: 1290}\n"
     ]
    },
    {
     "name": "stderr",
     "output_type": "stream",
     "text": [
      "데이터 처리 및 라벨링:  92%|█████████▏| 92/100 [00:57<00:05,  1.34it/s]"
     ]
    },
    {
     "name": "stdout",
     "output_type": "stream",
     "text": [
      "🔍 XMR 데이터 분석:\n",
      "   타입: <class 'pandas.core.frame.DataFrame'>\n",
      "   DataFrame 크기: (2867, 178)\n",
      "   컬럼들: ['Open', 'High', 'Low', 'Close', 'Volume', 'MA_2', 'MA_3', 'MA_4', 'MA_5', 'MA_6']...\n",
      "   라벨 분포: {0: 1290, 1: 287, 2: 1290}\n"
     ]
    },
    {
     "name": "stderr",
     "output_type": "stream",
     "text": [
      "데이터 처리 및 라벨링:  93%|█████████▎| 93/100 [00:57<00:05,  1.31it/s]"
     ]
    },
    {
     "name": "stdout",
     "output_type": "stream",
     "text": [
      "🔍 XRP 데이터 분석:\n",
      "   타입: <class 'pandas.core.frame.DataFrame'>\n",
      "   DataFrame 크기: (2867, 178)\n",
      "   컬럼들: ['Open', 'High', 'Low', 'Close', 'Volume', 'MA_2', 'MA_3', 'MA_4', 'MA_5', 'MA_6']...\n",
      "   라벨 분포: {0: 1290, 1: 287, 2: 1290}\n"
     ]
    },
    {
     "name": "stderr",
     "output_type": "stream",
     "text": [
      "데이터 처리 및 라벨링:  94%|█████████▍| 94/100 [00:58<00:04,  1.30it/s]"
     ]
    },
    {
     "name": "stdout",
     "output_type": "stream",
     "text": [
      "🔍 XTZ 데이터 분석:\n",
      "   타입: <class 'pandas.core.frame.DataFrame'>\n",
      "   DataFrame 크기: (2867, 178)\n",
      "   컬럼들: ['Open', 'High', 'Low', 'Close', 'Volume', 'MA_2', 'MA_3', 'MA_4', 'MA_5', 'MA_6']...\n",
      "   라벨 분포: {0: 1290, 1: 287, 2: 1290}\n"
     ]
    },
    {
     "name": "stderr",
     "output_type": "stream",
     "text": [
      "데이터 처리 및 라벨링:  95%|█████████▌| 95/100 [00:59<00:03,  1.28it/s]"
     ]
    },
    {
     "name": "stdout",
     "output_type": "stream",
     "text": [
      "🔍 XYO 데이터 분석:\n",
      "   타입: <class 'pandas.core.frame.DataFrame'>\n",
      "   DataFrame 크기: (2673, 178)\n",
      "   컬럼들: ['Open', 'High', 'Low', 'Close', 'Volume', 'MA_2', 'MA_3', 'MA_4', 'MA_5', 'MA_6']...\n",
      "   라벨 분포: {0: 1203, 1: 267, 2: 1203}\n"
     ]
    },
    {
     "name": "stderr",
     "output_type": "stream",
     "text": [
      "데이터 처리 및 라벨링:  96%|█████████▌| 96/100 [01:00<00:03,  1.29it/s]"
     ]
    },
    {
     "name": "stdout",
     "output_type": "stream",
     "text": [
      "🔍 YFI 데이터 분석:\n",
      "   타입: <class 'pandas.core.frame.DataFrame'>\n",
      "   DataFrame 크기: (1883, 178)\n",
      "   컬럼들: ['Open', 'High', 'Low', 'Close', 'Volume', 'MA_2', 'MA_3', 'MA_4', 'MA_5', 'MA_6']...\n",
      "   라벨 분포: {0: 847, 1: 189, 2: 847}\n"
     ]
    },
    {
     "name": "stderr",
     "output_type": "stream",
     "text": [
      "데이터 처리 및 라벨링:  97%|█████████▋| 97/100 [01:00<00:02,  1.43it/s]"
     ]
    },
    {
     "name": "stdout",
     "output_type": "stream",
     "text": [
      "🔍 ZEC 데이터 분석:\n",
      "   타입: <class 'pandas.core.frame.DataFrame'>\n",
      "   DataFrame 크기: (2867, 178)\n",
      "   컬럼들: ['Open', 'High', 'Low', 'Close', 'Volume', 'MA_2', 'MA_3', 'MA_4', 'MA_5', 'MA_6']...\n",
      "   라벨 분포: {0: 1290, 1: 287, 2: 1290}\n"
     ]
    },
    {
     "name": "stderr",
     "output_type": "stream",
     "text": [
      "데이터 처리 및 라벨링:  98%|█████████▊| 98/100 [01:01<00:01,  1.38it/s]"
     ]
    },
    {
     "name": "stdout",
     "output_type": "stream",
     "text": [
      "🔍 ZIL 데이터 분석:\n",
      "   타입: <class 'pandas.core.frame.DataFrame'>\n",
      "   DataFrame 크기: (2790, 178)\n",
      "   컬럼들: ['Open', 'High', 'Low', 'Close', 'Volume', 'MA_2', 'MA_3', 'MA_4', 'MA_5', 'MA_6']...\n",
      "   라벨 분포: {0: 1256, 1: 278, 2: 1256}\n"
     ]
    },
    {
     "name": "stderr",
     "output_type": "stream",
     "text": [
      "데이터 처리 및 라벨링:  99%|█████████▉| 99/100 [01:02<00:00,  1.36it/s]"
     ]
    },
    {
     "name": "stdout",
     "output_type": "stream",
     "text": [
      "🔍 ZRX 데이터 분석:\n",
      "   타입: <class 'pandas.core.frame.DataFrame'>\n",
      "   DataFrame 크기: (2867, 178)\n",
      "   컬럼들: ['Open', 'High', 'Low', 'Close', 'Volume', 'MA_2', 'MA_3', 'MA_4', 'MA_5', 'MA_6']...\n",
      "   라벨 분포: {0: 1290, 1: 287, 2: 1290}\n"
     ]
    },
    {
     "name": "stderr",
     "output_type": "stream",
     "text": [
      "데이터 처리 및 라벨링: 100%|██████████| 100/100 [01:03<00:00,  1.58it/s]"
     ]
    },
    {
     "name": "stdout",
     "output_type": "stream",
     "text": [
      "\n",
      "==================================================\n",
      "처리 완료!\n",
      "✅ 성공: 100개\n",
      "❌ 실패: 0개\n",
      "📁 저장 경로: /workspace/AI모델/projects/coin/data/labeling/00\n"
     ]
    },
    {
     "name": "stderr",
     "output_type": "stream",
     "text": [
      "\n"
     ]
    }
   ],
   "source": [
    "# n개 종목 테스트\n",
    "# test_symbols = list(stocks.keys())[:5] + list(stocks.keys())[-3:]\n",
    "test_symbols = list(crypto_data.keys())\n",
    "\n",
    "# save path\n",
    "save_path_1 = \"/workspace/AI모델/projects/coin/data/labeling/00\" \n",
    "\n",
    "# run\n",
    "enhanced_stocks = enhance_crypto_data_with_labels(\n",
    "    crypto_data=crypto_data,\n",
    "    test_symbols=test_symbols,  # None이면 전체 종목\n",
    "    save_path=save_path_1,  # 저장 경로\n",
    "    debug_mode=True\n",
    ")"
   ]
  },
  {
   "cell_type": "markdown",
   "id": "7e571f3d",
   "metadata": {},
   "source": [
    "# 메이저종목만 다운"
   ]
  },
  {
   "cell_type": "code",
   "execution_count": 14,
   "id": "c065a457",
   "metadata": {},
   "outputs": [
    {
     "name": "stdout",
     "output_type": "stream",
     "text": [
      "['BTC', 'ETH', 'USDT', 'BNB', 'SOL', 'USDC', 'XRP', 'DOGE', 'TON11419', 'ADA', 'SHIB', 'AVAX', 'TRX', 'DOT', 'BCH', 'NEAR', 'MATIC', 'ICP', 'UNI7083', 'LTC']\n"
     ]
    }
   ],
   "source": [
    "### 메이저 리스트\n",
    "major_coins = [\n",
    "    'BTC-USD', 'ETH-USD', 'USDT-USD', 'BNB-USD', 'SOL-USD', \n",
    "    'USDC-USD', 'XRP-USD', 'DOGE-USD', 'TON11419-USD', 'ADA-USD',\n",
    "    'SHIB-USD', 'AVAX-USD', 'TRX-USD', 'DOT-USD', 'BCH-USD',\n",
    "    'NEAR-USD', 'MATIC-USD', 'ICP-USD', 'UNI7083-USD', 'LTC-USD'\n",
    "]\n",
    "\n",
    "# 각 문자열에서 '-USD'를 제거하고 test_symbols 리스트에 저장\n",
    "test_symbols = [coin.replace('-USD', '') for coin in major_coins]\n",
    "\n",
    "# 결과 확인\n",
    "print(test_symbols)"
   ]
  },
  {
   "cell_type": "code",
   "execution_count": 15,
   "id": "8c8e5698",
   "metadata": {},
   "outputs": [
    {
     "name": "stdout",
     "output_type": "stream",
     "text": [
      "처리할 암호화폐 수: 20\n",
      "==================================================\n"
     ]
    },
    {
     "name": "stderr",
     "output_type": "stream",
     "text": [
      "데이터 처리 및 라벨링:   0%|          | 0/20 [00:00<?, ?it/s]"
     ]
    },
    {
     "name": "stdout",
     "output_type": "stream",
     "text": [
      "🔍 BTC 데이터 분석:\n",
      "   타입: <class 'pandas.core.frame.DataFrame'>\n",
      "   DataFrame 크기: (3910, 178)\n",
      "   컬럼들: ['Open', 'High', 'Low', 'Close', 'Volume', 'MA_2', 'MA_3', 'MA_4', 'MA_5', 'MA_6']...\n",
      "   라벨 분포: {0: 1760, 1: 390, 2: 1760}\n"
     ]
    },
    {
     "name": "stderr",
     "output_type": "stream",
     "text": [
      "데이터 처리 및 라벨링:   5%|▌         | 1/20 [00:01<00:20,  1.06s/it]"
     ]
    },
    {
     "name": "stdout",
     "output_type": "stream",
     "text": [
      "🔍 ETH 데이터 분석:\n",
      "   타입: <class 'pandas.core.frame.DataFrame'>\n",
      "   DataFrame 크기: (2867, 178)\n",
      "   컬럼들: ['Open', 'High', 'Low', 'Close', 'Volume', 'MA_2', 'MA_3', 'MA_4', 'MA_5', 'MA_6']...\n",
      "   라벨 분포: {0: 1290, 1: 287, 2: 1290}\n"
     ]
    },
    {
     "name": "stderr",
     "output_type": "stream",
     "text": [
      "데이터 처리 및 라벨링:  10%|█         | 2/20 [00:01<00:16,  1.09it/s]"
     ]
    },
    {
     "name": "stdout",
     "output_type": "stream",
     "text": [
      "🔍 USDT 데이터 분석:\n",
      "   타입: <class 'pandas.core.frame.DataFrame'>\n",
      "   DataFrame 크기: (2867, 178)\n",
      "   컬럼들: ['Open', 'High', 'Low', 'Close', 'Volume', 'MA_2', 'MA_3', 'MA_4', 'MA_5', 'MA_6']...\n",
      "   라벨 분포: {0: 1290, 1: 287, 2: 1290}\n"
     ]
    },
    {
     "name": "stderr",
     "output_type": "stream",
     "text": [
      "데이터 처리 및 라벨링:  15%|█▌        | 3/20 [00:02<00:14,  1.14it/s]"
     ]
    },
    {
     "name": "stdout",
     "output_type": "stream",
     "text": [
      "🔍 BNB 데이터 분석:\n",
      "   타입: <class 'pandas.core.frame.DataFrame'>\n",
      "   DataFrame 크기: (2867, 178)\n",
      "   컬럼들: ['Open', 'High', 'Low', 'Close', 'Volume', 'MA_2', 'MA_3', 'MA_4', 'MA_5', 'MA_6']...\n",
      "   라벨 분포: {0: 1290, 1: 287, 2: 1290}\n"
     ]
    },
    {
     "name": "stderr",
     "output_type": "stream",
     "text": [
      "데이터 처리 및 라벨링:  20%|██        | 4/20 [00:03<00:13,  1.18it/s]"
     ]
    },
    {
     "name": "stdout",
     "output_type": "stream",
     "text": [
      "🔍 SOL 데이터 분석:\n",
      "   타입: <class 'pandas.core.frame.DataFrame'>\n",
      "   DataFrame 크기: (1984, 178)\n",
      "   컬럼들: ['Open', 'High', 'Low', 'Close', 'Volume', 'MA_2', 'MA_3', 'MA_4', 'MA_5', 'MA_6']...\n",
      "   라벨 분포: {0: 893, 1: 198, 2: 893}\n"
     ]
    },
    {
     "name": "stderr",
     "output_type": "stream",
     "text": [
      "데이터 처리 및 라벨링:  25%|██▌       | 5/20 [00:04<00:11,  1.34it/s]"
     ]
    },
    {
     "name": "stdout",
     "output_type": "stream",
     "text": [
      "🔍 USDC 데이터 분석:\n",
      "   타입: <class 'pandas.core.frame.DataFrame'>\n",
      "   DataFrame 크기: (2534, 178)\n",
      "   컬럼들: ['Open', 'High', 'Low', 'Close', 'Volume', 'MA_2', 'MA_3', 'MA_4', 'MA_5', 'MA_6']...\n",
      "   라벨 분포: {0: 1140, 1: 254, 2: 1140}\n"
     ]
    },
    {
     "name": "stderr",
     "output_type": "stream",
     "text": [
      "데이터 처리 및 라벨링:  30%|███       | 6/20 [00:04<00:10,  1.35it/s]"
     ]
    },
    {
     "name": "stdout",
     "output_type": "stream",
     "text": [
      "🔍 XRP 데이터 분석:\n",
      "   타입: <class 'pandas.core.frame.DataFrame'>\n",
      "   DataFrame 크기: (2867, 178)\n",
      "   컬럼들: ['Open', 'High', 'Low', 'Close', 'Volume', 'MA_2', 'MA_3', 'MA_4', 'MA_5', 'MA_6']...\n",
      "   라벨 분포: {0: 1290, 1: 287, 2: 1290}\n"
     ]
    },
    {
     "name": "stderr",
     "output_type": "stream",
     "text": [
      "데이터 처리 및 라벨링:  35%|███▌      | 7/20 [00:05<00:09,  1.31it/s]"
     ]
    },
    {
     "name": "stdout",
     "output_type": "stream",
     "text": [
      "🔍 DOGE 데이터 분석:\n",
      "   타입: <class 'pandas.core.frame.DataFrame'>\n",
      "   DataFrame 크기: (2867, 178)\n",
      "   컬럼들: ['Open', 'High', 'Low', 'Close', 'Volume', 'MA_2', 'MA_3', 'MA_4', 'MA_5', 'MA_6']...\n",
      "   라벨 분포: {0: 1290, 1: 287, 2: 1290}\n"
     ]
    },
    {
     "name": "stderr",
     "output_type": "stream",
     "text": [
      "데이터 처리 및 라벨링:  40%|████      | 8/20 [00:06<00:09,  1.28it/s]"
     ]
    },
    {
     "name": "stdout",
     "output_type": "stream",
     "text": [
      "🔍 TON11419 데이터 분석:\n",
      "   타입: <class 'pandas.core.frame.DataFrame'>\n",
      "   DataFrame 크기: (1480, 178)\n",
      "   컬럼들: ['Open', 'High', 'Low', 'Close', 'Volume', 'MA_2', 'MA_3', 'MA_4', 'MA_5', 'MA_6']...\n",
      "   라벨 분포: {0: 666, 1: 148, 2: 666}\n"
     ]
    },
    {
     "name": "stderr",
     "output_type": "stream",
     "text": [
      "데이터 처리 및 라벨링:  45%|████▌     | 9/20 [00:06<00:07,  1.49it/s]"
     ]
    },
    {
     "name": "stdout",
     "output_type": "stream",
     "text": [
      "🔍 ADA 데이터 분석:\n",
      "   타입: <class 'pandas.core.frame.DataFrame'>\n",
      "   DataFrame 크기: (2867, 178)\n",
      "   컬럼들: ['Open', 'High', 'Low', 'Close', 'Volume', 'MA_2', 'MA_3', 'MA_4', 'MA_5', 'MA_6']...\n",
      "   라벨 분포: {0: 1290, 1: 287, 2: 1290}\n"
     ]
    },
    {
     "name": "stderr",
     "output_type": "stream",
     "text": [
      "데이터 처리 및 라벨링:  50%|█████     | 10/20 [00:07<00:07,  1.40it/s]"
     ]
    },
    {
     "name": "stdout",
     "output_type": "stream",
     "text": [
      "🔍 SHIB 데이터 분석:\n",
      "   타입: <class 'pandas.core.frame.DataFrame'>\n",
      "   DataFrame 크기: (1830, 178)\n",
      "   컬럼들: ['Open', 'High', 'Low', 'Close', 'Volume', 'MA_2', 'MA_3', 'MA_4', 'MA_5', 'MA_6']...\n",
      "   라벨 분포: {0: 839, 1: 167, 2: 824}\n"
     ]
    },
    {
     "name": "stderr",
     "output_type": "stream",
     "text": [
      "데이터 처리 및 라벨링:  55%|█████▌    | 11/20 [00:08<00:05,  1.56it/s]"
     ]
    },
    {
     "name": "stdout",
     "output_type": "stream",
     "text": [
      "🔍 AVAX 데이터 분석:\n",
      "   타입: <class 'pandas.core.frame.DataFrame'>\n",
      "   DataFrame 크기: (1821, 178)\n",
      "   컬럼들: ['Open', 'High', 'Low', 'Close', 'Volume', 'MA_2', 'MA_3', 'MA_4', 'MA_5', 'MA_6']...\n",
      "   라벨 분포: {0: 820, 1: 182, 2: 819}\n"
     ]
    },
    {
     "name": "stderr",
     "output_type": "stream",
     "text": [
      "데이터 처리 및 라벨링:  60%|██████    | 12/20 [00:08<00:04,  1.64it/s]"
     ]
    },
    {
     "name": "stdout",
     "output_type": "stream",
     "text": [
      "🔍 TRX 데이터 분석:\n",
      "   타입: <class 'pandas.core.frame.DataFrame'>\n",
      "   DataFrame 크기: (2867, 178)\n",
      "   컬럼들: ['Open', 'High', 'Low', 'Close', 'Volume', 'MA_2', 'MA_3', 'MA_4', 'MA_5', 'MA_6']...\n",
      "   라벨 분포: {0: 1290, 1: 287, 2: 1290}\n"
     ]
    },
    {
     "name": "stderr",
     "output_type": "stream",
     "text": [
      "데이터 처리 및 라벨링:  65%|██████▌   | 13/20 [00:09<00:04,  1.49it/s]"
     ]
    },
    {
     "name": "stdout",
     "output_type": "stream",
     "text": [
      "🔍 DOT 데이터 분석:\n",
      "   타입: <class 'pandas.core.frame.DataFrame'>\n",
      "   DataFrame 크기: (1852, 178)\n",
      "   컬럼들: ['Open', 'High', 'Low', 'Close', 'Volume', 'MA_2', 'MA_3', 'MA_4', 'MA_5', 'MA_6']...\n",
      "   라벨 분포: {0: 833, 1: 186, 2: 833}\n"
     ]
    },
    {
     "name": "stderr",
     "output_type": "stream",
     "text": [
      "데이터 처리 및 라벨링:  70%|███████   | 14/20 [00:10<00:03,  1.60it/s]"
     ]
    },
    {
     "name": "stdout",
     "output_type": "stream",
     "text": [
      "🔍 BCH 데이터 분석:\n",
      "   타입: <class 'pandas.core.frame.DataFrame'>\n",
      "   DataFrame 크기: (2867, 178)\n",
      "   컬럼들: ['Open', 'High', 'Low', 'Close', 'Volume', 'MA_2', 'MA_3', 'MA_4', 'MA_5', 'MA_6']...\n",
      "   라벨 분포: {0: 1290, 1: 287, 2: 1290}\n"
     ]
    },
    {
     "name": "stderr",
     "output_type": "stream",
     "text": [
      "데이터 처리 및 라벨링:  75%|███████▌  | 15/20 [00:10<00:03,  1.50it/s]"
     ]
    },
    {
     "name": "stdout",
     "output_type": "stream",
     "text": [
      "🔍 NEAR 데이터 분석:\n",
      "   타입: <class 'pandas.core.frame.DataFrame'>\n",
      "   DataFrame 크기: (1797, 178)\n",
      "   컬럼들: ['Open', 'High', 'Low', 'Close', 'Volume', 'MA_2', 'MA_3', 'MA_4', 'MA_5', 'MA_6']...\n",
      "   라벨 분포: {0: 809, 1: 179, 2: 809}\n"
     ]
    },
    {
     "name": "stderr",
     "output_type": "stream",
     "text": [
      "데이터 처리 및 라벨링:  80%|████████  | 16/20 [00:11<00:02,  1.62it/s]"
     ]
    },
    {
     "name": "stdout",
     "output_type": "stream",
     "text": [
      "❌ MATIC: 상세 오류 - 'MATIC'\n",
      "🔍 ICP 데이터 분석:\n",
      "   타입: <class 'pandas.core.frame.DataFrame'>\n",
      "   DataFrame 크기: (1589, 178)\n",
      "   컬럼들: ['Open', 'High', 'Low', 'Close', 'Volume', 'MA_2', 'MA_3', 'MA_4', 'MA_5', 'MA_6']...\n",
      "   라벨 분포: {0: 715, 1: 159, 2: 715}\n"
     ]
    },
    {
     "name": "stderr",
     "output_type": "stream",
     "text": [
      "데이터 처리 및 라벨링:  90%|█████████ | 18/20 [00:11<00:00,  2.31it/s]"
     ]
    },
    {
     "name": "stdout",
     "output_type": "stream",
     "text": [
      "🔍 UNI7083 데이터 분석:\n",
      "   타입: <class 'pandas.core.frame.DataFrame'>\n",
      "   DataFrame 크기: (1823, 178)\n",
      "   컬럼들: ['Open', 'High', 'Low', 'Close', 'Volume', 'MA_2', 'MA_3', 'MA_4', 'MA_5', 'MA_6']...\n",
      "   라벨 분포: {0: 820, 1: 183, 2: 820}\n"
     ]
    },
    {
     "name": "stderr",
     "output_type": "stream",
     "text": [
      "데이터 처리 및 라벨링:  95%|█████████▌| 19/20 [00:12<00:00,  2.24it/s]"
     ]
    },
    {
     "name": "stdout",
     "output_type": "stream",
     "text": [
      "🔍 LTC 데이터 분석:\n",
      "   타입: <class 'pandas.core.frame.DataFrame'>\n",
      "   DataFrame 크기: (3910, 178)\n",
      "   컬럼들: ['Open', 'High', 'Low', 'Close', 'Volume', 'MA_2', 'MA_3', 'MA_4', 'MA_5', 'MA_6']...\n",
      "   라벨 분포: {0: 1760, 1: 390, 2: 1760}\n"
     ]
    },
    {
     "name": "stderr",
     "output_type": "stream",
     "text": [
      "데이터 처리 및 라벨링: 100%|██████████| 20/20 [00:13<00:00,  1.51it/s]"
     ]
    },
    {
     "name": "stdout",
     "output_type": "stream",
     "text": [
      "\n",
      "==================================================\n",
      "처리 완료!\n",
      "✅ 성공: 19개\n",
      "❌ 실패: 1개\n",
      "📁 저장 경로: /workspace/AI모델/projects/coin/data/labeling/m_00\n",
      "\n",
      "실패한 심볼들:\n",
      "  - MATIC: 처리 중 오류 - 'MATIC'\n"
     ]
    },
    {
     "name": "stderr",
     "output_type": "stream",
     "text": [
      "\n"
     ]
    }
   ],
   "source": [
    "# n개 종목 테스트\n",
    "# test_symbols = list(stocks.keys())[:5] + list(stocks.keys())[-3:]\n",
    "\n",
    "# save path\n",
    "save_path_1 = \"/workspace/AI모델/projects/coin/data/labeling/m_00\" \n",
    "\n",
    "# run\n",
    "enhanced_stocks = enhance_crypto_data_with_labels(\n",
    "    crypto_data=crypto_data,\n",
    "    test_symbols=test_symbols,  # None이면 전체 종목\n",
    "    save_path=save_path_1,  # 저장 경로\n",
    "    debug_mode=True\n",
    ")"
   ]
  },
  {
   "cell_type": "markdown",
   "id": "b2032f03",
   "metadata": {},
   "source": [
    "# 컨테이너 cpu메모리 비우기"
   ]
  },
  {
   "cell_type": "code",
   "execution_count": 8,
   "id": "8e073a15",
   "metadata": {},
   "outputs": [
    {
     "name": "stdout",
     "output_type": "stream",
     "text": [
      "메모리 정리 완료 - 사용률: 49.6%\n"
     ]
    },
    {
     "ename": "KeyError",
     "evalue": "'_oh'",
     "output_type": "error",
     "traceback": [
      "\u001b[0;31m---------------------------------------------------------------------------\u001b[0m",
      "\u001b[0;31mKeyError\u001b[0m                                  Traceback (most recent call last)",
      "Cell \u001b[0;32mIn[8], line 35\u001b[0m\n\u001b[1;32m     33\u001b[0m \u001b[38;5;66;03m# 6. 강제 메모리 해제 (극단적 방법)\u001b[39;00m\n\u001b[1;32m     34\u001b[0m \u001b[38;5;28;01mimport\u001b[39;00m \u001b[38;5;21;01mctypes\u001b[39;00m\n\u001b[0;32m---> 35\u001b[0m ctypes\u001b[38;5;241m.\u001b[39mCDLL(\u001b[38;5;124m\"\u001b[39m\u001b[38;5;124mlibc.so.6\u001b[39m\u001b[38;5;124m\"\u001b[39m)\u001b[38;5;241m.\u001b[39mmalloc_trim(\u001b[38;5;241m0\u001b[39m)\n",
      "File \u001b[0;32m/opt/conda/lib/python3.10/site-packages/IPython/core/displayhook.py:269\u001b[0m, in \u001b[0;36mDisplayHook.__call__\u001b[0;34m(self, result)\u001b[0m\n\u001b[1;32m    267\u001b[0m \u001b[38;5;28mself\u001b[39m\u001b[38;5;241m.\u001b[39mwrite_output_prompt()\n\u001b[1;32m    268\u001b[0m format_dict, md_dict \u001b[38;5;241m=\u001b[39m \u001b[38;5;28mself\u001b[39m\u001b[38;5;241m.\u001b[39mcompute_format_data(result)\n\u001b[0;32m--> 269\u001b[0m \u001b[38;5;28;43mself\u001b[39;49m\u001b[38;5;241;43m.\u001b[39;49m\u001b[43mupdate_user_ns\u001b[49m\u001b[43m(\u001b[49m\u001b[43mresult\u001b[49m\u001b[43m)\u001b[49m\n\u001b[1;32m    270\u001b[0m \u001b[38;5;28mself\u001b[39m\u001b[38;5;241m.\u001b[39mfill_exec_result(result)\n\u001b[1;32m    271\u001b[0m \u001b[38;5;28;01mif\u001b[39;00m format_dict:\n",
      "File \u001b[0;32m/opt/conda/lib/python3.10/site-packages/IPython/core/displayhook.py:207\u001b[0m, in \u001b[0;36mDisplayHook.update_user_ns\u001b[0;34m(self, result)\u001b[0m\n\u001b[1;32m    204\u001b[0m \u001b[38;5;250m\u001b[39m\u001b[38;5;124;03m\"\"\"Update user_ns with various things like _, __, _1, etc.\"\"\"\u001b[39;00m\n\u001b[1;32m    206\u001b[0m \u001b[38;5;66;03m# Avoid recursive reference when displaying _oh/Out\u001b[39;00m\n\u001b[0;32m--> 207\u001b[0m \u001b[38;5;28;01mif\u001b[39;00m \u001b[38;5;28mself\u001b[39m\u001b[38;5;241m.\u001b[39mcache_size \u001b[38;5;129;01mand\u001b[39;00m result \u001b[38;5;129;01mis\u001b[39;00m \u001b[38;5;129;01mnot\u001b[39;00m \u001b[38;5;28;43mself\u001b[39;49m\u001b[38;5;241;43m.\u001b[39;49m\u001b[43mshell\u001b[49m\u001b[38;5;241;43m.\u001b[39;49m\u001b[43muser_ns\u001b[49m\u001b[43m[\u001b[49m\u001b[38;5;124;43m'\u001b[39;49m\u001b[38;5;124;43m_oh\u001b[39;49m\u001b[38;5;124;43m'\u001b[39;49m\u001b[43m]\u001b[49m:\n\u001b[1;32m    208\u001b[0m     \u001b[38;5;28;01mif\u001b[39;00m \u001b[38;5;28mlen\u001b[39m(\u001b[38;5;28mself\u001b[39m\u001b[38;5;241m.\u001b[39mshell\u001b[38;5;241m.\u001b[39muser_ns[\u001b[38;5;124m'\u001b[39m\u001b[38;5;124m_oh\u001b[39m\u001b[38;5;124m'\u001b[39m]) \u001b[38;5;241m>\u001b[39m\u001b[38;5;241m=\u001b[39m \u001b[38;5;28mself\u001b[39m\u001b[38;5;241m.\u001b[39mcache_size \u001b[38;5;129;01mand\u001b[39;00m \u001b[38;5;28mself\u001b[39m\u001b[38;5;241m.\u001b[39mdo_full_cache:\n\u001b[1;32m    209\u001b[0m         \u001b[38;5;28mself\u001b[39m\u001b[38;5;241m.\u001b[39mcull_cache()\n",
      "\u001b[0;31mKeyError\u001b[0m: '_oh'"
     ]
    }
   ],
   "source": [
    "import gc\n",
    "import torch\n",
    "import sys\n",
    "\n",
    "\n",
    "# 2. 전역 변수 정리\n",
    "globals_to_delete = []\n",
    "for name, obj in list(globals().items()):\n",
    "    if hasattr(obj, '__len__') and len(str(obj)) > 1000:\n",
    "        globals_to_delete.append(name)\n",
    "\n",
    "for name in globals_to_delete:\n",
    "    try:\n",
    "        del globals()[name]\n",
    "    except:\n",
    "        pass\n",
    "\n",
    "# 3. GPU 메모리 완전 정리\n",
    "if torch.cuda.is_available():\n",
    "    torch.cuda.empty_cache()\n",
    "    torch.cuda.synchronize()\n",
    "    torch.cuda.reset_peak_memory_stats()\n",
    "\n",
    "# 4. Python 메모리 강제 정리\n",
    "for i in range(3):\n",
    "    gc.collect()\n",
    "\n",
    "# 5. 메모리 사용량 확인\n",
    "import psutil\n",
    "memory_percent = psutil.virtual_memory().percent\n",
    "print(f\"메모리 정리 완료 - 사용률: {memory_percent:.1f}%\")\n",
    "\n",
    "# 6. 강제 메모리 해제 (극단적 방법)\n",
    "import ctypes\n",
    "ctypes.CDLL(\"libc.so.6\").malloc_trim(0)"
   ]
  }
 ],
 "metadata": {
  "kernelspec": {
   "display_name": "base",
   "language": "python",
   "name": "python3"
  },
  "language_info": {
   "codemirror_mode": {
    "name": "ipython",
    "version": 3
   },
   "file_extension": ".py",
   "mimetype": "text/x-python",
   "name": "python",
   "nbconvert_exporter": "python",
   "pygments_lexer": "ipython3",
   "version": "3.10.11"
  }
 },
 "nbformat": 4,
 "nbformat_minor": 5
}
