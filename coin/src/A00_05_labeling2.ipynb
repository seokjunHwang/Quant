{
 "cells": [
  {
   "cell_type": "markdown",
   "id": "bbcad63b",
   "metadata": {},
   "source": [
    "# labeling 2\n",
    "# 중요 !! : 메이저는 따로 A00_07을 돌려야함!\n",
    "### 1. 백테스팅할때 방식처럼 1번 매수하면 그사이 매수는 무시하고 다음 sell로 넘어가는 1회,1회 매매하는대로 라벨을 선정\n",
    "### 2. 1일 뒤를 기준으로 라벨을 삼는 Future_label 생성\n",
    "- Future_label이 모델학습시 찐라벨이 됨. 실제보다 하루 앞당겨져있음.\n"
   ]
  },
  {
   "cell_type": "code",
   "execution_count": 6,
   "id": "91e6f5f7",
   "metadata": {},
   "outputs": [],
   "source": [
    "import pandas as pd\n",
    "import numpy as np\n",
    "import matplotlib.pyplot as plt\n",
    "import glob\n",
    "import os\n",
    "from tqdm import tqdm\n",
    "import warnings\n",
    "warnings.filterwarnings('ignore')\n"
   ]
  },
  {
   "cell_type": "code",
   "execution_count": 7,
   "id": "a80071b4",
   "metadata": {},
   "outputs": [],
   "source": [
    "import pandas as pd\n",
    "import numpy as np\n",
    "from tqdm import tqdm\n",
    "import os\n",
    "\n",
    "def create_optimized_labels(df, window=5):\n",
    "    \"\"\"\n",
    "    백테스터와 동일한 로직으로 라벨 생성 + 타이밍 최적화\n",
    "    \n",
    "    Parameters:\n",
    "    -----------\n",
    "    df : pd.DataFrame\n",
    "        원본 데이터 (Close, Label 컬럼 필요)\n",
    "    window : int\n",
    "        타이밍 최적화 윈도우 (앞뒤 며칠)\n",
    "    \n",
    "    Returns:\n",
    "    --------\n",
    "    pd.DataFrame : 최적화된 라벨이 추가된 데이터\n",
    "    \"\"\"\n",
    "    \n",
    "    result_df = df.copy()\n",
    "    n = len(df)\n",
    "    \n",
    "    # 원본 라벨\n",
    "    original_labels = df['Label'].values\n",
    "    \n",
    "    # 1단계: 백테스터와 동일한 로직으로 유효한 신호만 추출\n",
    "    valid_signals = []  # (index, signal_type) 형태로 저장\n",
    "    current_position = 'CASH'  # CASH 또는 LONG\n",
    "    \n",
    "    # print(f\"백테스터 로직으로 유효 신호 추출 중...\")\n",
    "    \n",
    "    for i in range(n):\n",
    "        current_label = original_labels[i]\n",
    "        \n",
    "        # 백테스터와 동일한 매매 조건\n",
    "        if current_label == 2 and current_position == 'CASH':  # Buy 가능\n",
    "            valid_signals.append((i, 'BUY'))\n",
    "            current_position = 'LONG'\n",
    "            \n",
    "        elif current_label == 0 and current_position == 'LONG':  # Sell 가능\n",
    "            valid_signals.append((i, 'SELL'))\n",
    "            current_position = 'CASH'\n",
    "    \n",
    "    buy_signals = [idx for idx, signal in valid_signals if signal == 'BUY']\n",
    "    sell_signals = [idx for idx, signal in valid_signals if signal == 'SELL']\n",
    "    \n",
    "    # print(f\"원본 신호: Buy {sum(original_labels == 2)}개, Sell {sum(original_labels == 0)}개\")\n",
    "    # print(f\"유효 신호: Buy {len(buy_signals)}개, Sell {len(sell_signals)}개\")\n",
    "    \n",
    "    # 2단계: 타이밍 최적화\n",
    "    optimized_buy_signals = []\n",
    "    optimized_sell_signals = []\n",
    "    \n",
    "    # Buy 신호 최적화 (앞뒤 window일 중 가장 낮은 가격일)\n",
    "    for buy_idx in buy_signals:\n",
    "        start_idx = max(0, buy_idx - window)\n",
    "        end_idx = min(n - 1, buy_idx + window)\n",
    "        \n",
    "        # 해당 구간의 종가들과 인덱스들\n",
    "        window_section = df.iloc[start_idx:end_idx + 1]\n",
    "        min_price_idx = window_section['Close'].idxmin()\n",
    "        \n",
    "        # DataFrame 인덱스를 정수 인덱스로 변환\n",
    "        best_buy_idx = df.index.get_loc(min_price_idx)\n",
    "        optimized_buy_signals.append(best_buy_idx)\n",
    "    \n",
    "    # Sell 신호 최적화 (앞뒤 window일 중 가장 높은 가격일)\n",
    "    for sell_idx in sell_signals:\n",
    "        start_idx = max(0, sell_idx - window)\n",
    "        end_idx = min(n - 1, sell_idx + window)\n",
    "        \n",
    "        # 해당 구간의 종가들과 인덱스들\n",
    "        window_section = df.iloc[start_idx:end_idx + 1]\n",
    "        max_price_idx = window_section['Close'].idxmax()\n",
    "        \n",
    "        # DataFrame 인덱스를 정수 인덱스로 변환\n",
    "        best_sell_idx = df.index.get_loc(max_price_idx)\n",
    "        optimized_sell_signals.append(best_sell_idx)\n",
    "    \n",
    "    # 3단계: 최적화된 라벨 생성\n",
    "    optimized_labels = np.ones(n, dtype=int)  # 기본값: Hold(1)\n",
    "    \n",
    "    # Buy 신호 적용\n",
    "    for buy_idx in optimized_buy_signals:\n",
    "        if 0 <= buy_idx < n:\n",
    "            optimized_labels[buy_idx] = 2  # Strong_Buy\n",
    "    \n",
    "    # Sell 신호 적용\n",
    "    for sell_idx in optimized_sell_signals:\n",
    "        if 0 <= sell_idx < n:\n",
    "            optimized_labels[sell_idx] = 0  # Strong_Sell\n",
    "    \n",
    "    # 4단계: 최종 검증 (백테스터 로직 재확인)\n",
    "    final_labels = np.ones(n, dtype=int)  # 기본값: Hold(1)\n",
    "    current_position = 'CASH'\n",
    "    \n",
    "    for i in range(n):\n",
    "        current_label = optimized_labels[i]\n",
    "        \n",
    "        if current_label == 2 and current_position == 'CASH':  # Buy 가능\n",
    "            final_labels[i] = 2\n",
    "            current_position = 'LONG'\n",
    "            \n",
    "        elif current_label == 0 and current_position == 'LONG':  # Sell 가능\n",
    "            final_labels[i] = 0\n",
    "            current_position = 'CASH'\n",
    "        \n",
    "        # 나머지는 Hold(1) 유지\n",
    "    \n",
    "    # 결과 저장\n",
    "    result_df['Optimized_Label'] = final_labels\n",
    "    \n",
    "    # 라벨명 추가\n",
    "    label_names = {0: 'Strong_Sell', 1: 'Hold', 2: 'Strong_Buy'}\n",
    "    result_df['Optimized_Label_Name'] = result_df['Optimized_Label'].map(label_names)\n",
    "    \n",
    "    # 최종 통계\n",
    "    final_buy_count = sum(final_labels == 2)\n",
    "    final_sell_count = sum(final_labels == 0)\n",
    "    final_hold_count = sum(final_labels == 1)\n",
    "    \n",
    "    # print(f\"최종 라벨: Buy {final_buy_count}개, Sell {final_sell_count}개, Hold {final_hold_count}개\")\n",
    "    # print(f\"Buy-Sell 균형: {min(final_buy_count, final_sell_count)}/{max(final_buy_count, final_sell_count)}\")\n",
    "    \n",
    "    # 연속 신호 검증\n",
    "    consecutive_issues = 0\n",
    "    for i in range(1, n):\n",
    "        if final_labels[i-1] == 2 and final_labels[i] == 2:  # 연속 Buy\n",
    "            consecutive_issues += 1\n",
    "        elif final_labels[i-1] == 0 and final_labels[i] == 0:  # 연속 Sell\n",
    "            consecutive_issues += 1\n",
    "    \n",
    "    if consecutive_issues == 0:\n",
    "        # print(\"✅ 연속 신호 없음 - 백테스터 호환 완료!\")\n",
    "        pass\n",
    "    else:\n",
    "        print(f\"⚠️ 연속 신호 {consecutive_issues}개 발견\")\n",
    "    \n",
    "    return result_df\n",
    "\n",
    "def create_optimized_labels_for_all_stocks(stocks_data, window=5, save_path=\"optimized_stock_data\"):\n",
    "    \"\"\"\n",
    "    모든 종목에 대해 최적화된 라벨 생성\n",
    "    \n",
    "    Parameters:\n",
    "    -----------\n",
    "    stocks_data : dict\n",
    "        종목별 데이터 딕셔너리\n",
    "    window : int\n",
    "        타이밍 최적화 윈도우\n",
    "    save_path : str\n",
    "        저장 경로\n",
    "    \n",
    "    Returns:\n",
    "    --------\n",
    "    dict : 최적화된 라벨이 포함된 종목 데이터\n",
    "    \"\"\"\n",
    "    \n",
    "    # 저장 경로 생성\n",
    "    os.makedirs(save_path, exist_ok=True)\n",
    "    \n",
    "    optimized_stocks = {}\n",
    "    \n",
    "    print(f\"최적화된 라벨 생성 중... (윈도우: {window}일)\")\n",
    "    print(\"=\"*60)\n",
    "    \n",
    "    for symbol in tqdm(stocks_data.keys(), desc=\"라벨 최적화\"):\n",
    "        try:\n",
    "            df = stocks_data[symbol].copy()\n",
    "            \n",
    "            # 필수 컬럼 확인\n",
    "            if 'Close' not in df.columns or 'Label' not in df.columns:\n",
    "                print(f\"⚠️ {symbol}: 필수 컬럼 누락 (Close, Label)\")\n",
    "                continue\n",
    "            \n",
    "            print(f\"\\n처리 중: {symbol}\")\n",
    "            \n",
    "            # 최적화된 라벨 생성\n",
    "            optimized_df = create_optimized_labels(df, window=window)\n",
    "            \n",
    "            # 결과 저장\n",
    "            optimized_stocks[symbol] = optimized_df\n",
    "            \n",
    "            # CSV 저장\n",
    "            optimized_df.to_csv(f\"{save_path}/{symbol}_optimized.csv\")\n",
    "            \n",
    "            print(f\"✅ {symbol}: 저장 완료\")\n",
    "            \n",
    "        except Exception as e:\n",
    "            print(f\"❌ {symbol}: 오류 발생 - {e}\")\n",
    "            continue\n",
    "    \n",
    "    print(f\"\\n전체 최적화 완료!\")\n",
    "    print(f\"성공: {len(optimized_stocks)}개\")\n",
    "    print(f\"저장 경로: {save_path}\")\n",
    "    \n",
    "    return optimized_stocks\n",
    "\n",
    "def compare_label_performance(df, original_col='Label', optimized_col='Optimized_Label'):\n",
    "    \"\"\"\n",
    "    원본 라벨 vs 최적화된 라벨 성능 비교\n",
    "    \n",
    "    Parameters:\n",
    "    -----------\n",
    "    df : pd.DataFrame\n",
    "        두 라벨이 모두 있는 데이터\n",
    "    original_col : str\n",
    "        원본 라벨 컬럼명\n",
    "    optimized_col : str\n",
    "        최적화된 라벨 컬럼명\n",
    "    \n",
    "    Returns:\n",
    "    --------\n",
    "    dict : 비교 결과\n",
    "    \"\"\"\n",
    "    \n",
    "    result = {}\n",
    "    \n",
    "    # 라벨 분포 비교\n",
    "    original_dist = df[original_col].value_counts().sort_index()\n",
    "    optimized_dist = df[optimized_col].value_counts().sort_index()\n",
    "    \n",
    "    print(\"라벨 분포 비교:\")\n",
    "    print(f\"{'라벨':<15} {'원본':<10} {'최적화':<10} {'변화':<10}\")\n",
    "    print(\"-\" * 45)\n",
    "    \n",
    "    for label in [0, 1, 2]:\n",
    "        orig_count = original_dist.get(label, 0)\n",
    "        opt_count = optimized_dist.get(label, 0)\n",
    "        change = opt_count - orig_count\n",
    "        \n",
    "        label_name = {0: 'Strong_Sell', 1: 'Hold', 2: 'Strong_Buy'}[label]\n",
    "        print(f\"{label_name:<15} {orig_count:<10} {opt_count:<10} {change:+d}\")\n",
    "    \n",
    "    # 신호 간격 분석 (Buy-Sell 패턴)\n",
    "    def analyze_signal_pattern(labels):\n",
    "        buy_indices = np.where(labels == 2)[0]\n",
    "        sell_indices = np.where(labels == 0)[0]\n",
    "        \n",
    "        if len(buy_indices) == 0 or len(sell_indices) == 0:\n",
    "            return {'avg_hold_period': 0, 'num_complete_trades': 0}\n",
    "        \n",
    "        # 완전한 매매 사이클 찾기\n",
    "        complete_trades = 0\n",
    "        hold_periods = []\n",
    "        \n",
    "        current_position = 'CASH'\n",
    "        last_buy_idx = None\n",
    "        \n",
    "        for i in range(len(labels)):\n",
    "            if labels[i] == 2 and current_position == 'CASH':  # Buy\n",
    "                last_buy_idx = i\n",
    "                current_position = 'LONG'\n",
    "            elif labels[i] == 0 and current_position == 'LONG':  # Sell\n",
    "                if last_buy_idx is not None:\n",
    "                    hold_period = i - last_buy_idx\n",
    "                    hold_periods.append(hold_period)\n",
    "                    complete_trades += 1\n",
    "                current_position = 'CASH'\n",
    "        \n",
    "        avg_hold_period = np.mean(hold_periods) if hold_periods else 0\n",
    "        \n",
    "        return {\n",
    "            'avg_hold_period': avg_hold_period,\n",
    "            'num_complete_trades': complete_trades\n",
    "        }\n",
    "    \n",
    "    # 패턴 분석\n",
    "    original_pattern = analyze_signal_pattern(df[original_col].values)\n",
    "    optimized_pattern = analyze_signal_pattern(df[optimized_col].values)\n",
    "    \n",
    "    print(f\"\\n매매 패턴 분석:\")\n",
    "    print(f\"{'지표':<20} {'원본':<15} {'최적화':<15}\")\n",
    "    print(\"-\" * 50)\n",
    "    print(f\"{'완전 매매 횟수':<20} {original_pattern['num_complete_trades']:<15} {optimized_pattern['num_complete_trades']:<15}\")\n",
    "    print(f\"{'평균 보유기간':<20} {original_pattern['avg_hold_period']:.1f}일{'':<8} {optimized_pattern['avg_hold_period']:.1f}일\")\n",
    "    \n",
    "    return {\n",
    "        'original_distribution': original_dist.to_dict(),\n",
    "        'optimized_distribution': optimized_dist.to_dict(),\n",
    "        'original_pattern': original_pattern,\n",
    "        'optimized_pattern': optimized_pattern\n",
    "    }\n",
    "\n",
    "# 메인 실행 함수\n",
    "def process_stocks_with_optimized_labels(input_path, output_path, window=5, test_symbols=None):\n",
    "    \"\"\"\n",
    "    기존 CSV 파일들을 읽어서 최적화된 라벨을 적용하고 새로운 경로에 저장\n",
    "\n",
    "    \"\"\"\n",
    "    \n",
    "    import glob\n",
    "    \n",
    "    print(f\"📁 입력 경로: {input_path}\")\n",
    "    print(f\"📁 출력 경로: {output_path}\")\n",
    "    print(f\"🔧 최적화 윈도우: {window}일\")\n",
    "    print(\"=\"*80)\n",
    "    \n",
    "    # 다양한 CSV 파일 패턴 시도\n",
    "    patterns = [\n",
    "        \"*_enhanced.csv\",    # enhanced 파일들\n",
    "        \"*_cleaned.csv\",     # cleaned 파일들  \n",
    "        \"*.csv\"              # 모든 CSV 파일들\n",
    "    ]\n",
    "    \n",
    "    csv_files = []\n",
    "    used_pattern = None\n",
    "    \n",
    "    for pattern in patterns:\n",
    "        files = glob.glob(os.path.join(input_path, pattern))\n",
    "        if files:\n",
    "            csv_files = files\n",
    "            used_pattern = pattern\n",
    "            print(f\"✅ 파일 패턴 발견: {pattern} ({len(files)}개 파일)\")\n",
    "            break\n",
    "    \n",
    "    if not csv_files:\n",
    "        print(f\"❌ CSV 파일을 찾을 수 없습니다: {input_path}\")\n",
    "        print(f\"   시도한 패턴: {', '.join(patterns)}\")\n",
    "        return None\n",
    "    \n",
    "    # 출력 경로 생성\n",
    "    os.makedirs(output_path, exist_ok=True)\n",
    "    print(f\"📂 출력 디렉토리 생성/확인: {output_path}\")\n",
    "    \n",
    "    # 데이터 로딩\n",
    "    stocks_data = {}\n",
    "    \n",
    "    print(f\"\\n📊 CSV 파일 로딩 중...\")\n",
    "    for file_path in tqdm(csv_files, desc=\"파일 로딩\"):\n",
    "        filename = os.path.basename(file_path)\n",
    "        \n",
    "        # 종목명 추출 (다양한 접미사 제거)\n",
    "        symbol = filename.replace('.csv', '')\n",
    "        for suffix in ['_enhanced', '_cleaned', '_processed', '_features']:\n",
    "            symbol = symbol.replace(suffix, '')\n",
    "        \n",
    "        # 특정 종목만 처리하는 경우\n",
    "        if test_symbols and symbol not in test_symbols:\n",
    "            continue\n",
    "        \n",
    "        try:\n",
    "            # CSV 읽기 (첫 번째 컬럼을 날짜 인덱스로)\n",
    "            df = pd.read_csv(file_path)\n",
    "            \n",
    "            # 날짜 인덱스 설정\n",
    "            if 'Date' in df.columns:\n",
    "                df['Date'] = pd.to_datetime(df['Date'])\n",
    "                df.set_index('Date', inplace=True)\n",
    "            elif 'Unnamed: 0' in df.columns:\n",
    "                df.index = pd.to_datetime(df['Unnamed: 0'])\n",
    "                df.drop('Unnamed: 0', axis=1, inplace=True)\n",
    "            else:\n",
    "                df.index = pd.to_datetime(df.index)\n",
    "            \n",
    "            # 필수 컬럼 확인\n",
    "            if 'Close' not in df.columns:\n",
    "                print(f\"⚠️ {symbol}: Close 컬럼 없음\")\n",
    "                continue\n",
    "                \n",
    "            if 'Label' not in df.columns:\n",
    "                print(f\"⚠️ {symbol}: Label 컬럼 없음\")\n",
    "                continue\n",
    "            \n",
    "            stocks_data[symbol] = df\n",
    "            \n",
    "        except Exception as e:\n",
    "            print(f\"❌ 파일 로딩 실패: {filename} - {e}\")\n",
    "            continue\n",
    "    \n",
    "    print(f\"✅ 로딩 완료: {len(stocks_data)}개 종목\")\n",
    "    \n",
    "    if len(stocks_data) == 0:\n",
    "        print(\"❌ 유효한 데이터가 없습니다.\")\n",
    "        return None\n",
    "    \n",
    "    # 최적화된 라벨 생성 및 저장\n",
    "    print(f\"\\n🔄 최적화된 라벨 생성 중...\")\n",
    "    optimized_stocks = {}\n",
    "    \n",
    "    for symbol in tqdm(stocks_data.keys(), desc=\"라벨 최적화\"):\n",
    "        try:\n",
    "            df = stocks_data[symbol].copy()\n",
    "            \n",
    "            print(f\"\\n🔍 처리 중: {symbol} ({len(df)}행)\")\n",
    "            \n",
    "            # 최적화된 라벨 생성\n",
    "            optimized_df = create_optimized_labels(df, window=window)\n",
    "            \n",
    "            # 결과 저장\n",
    "            optimized_stocks[symbol] = optimized_df\n",
    "            \n",
    "            # CSV 파일로 저장 (원본 파일명 유지하되 경로만 변경)\n",
    "            output_filename = f\"{symbol}_optimized.csv\"\n",
    "            output_file_path = os.path.join(output_path, output_filename)\n",
    "            optimized_df.to_csv(output_file_path)\n",
    "            \n",
    "            print(f\"✅ {symbol}: 저장 완료 → {output_filename}\")\n",
    "            \n",
    "        except Exception as e:\n",
    "            print(f\"❌ {symbol}: 오류 발생 - {e}\")\n",
    "            continue\n",
    "    \n",
    "    # 최종 결과 요약\n",
    "    print(f\"\\n\" + \"=\"*80)\n",
    "    print(f\"🎯 최적화 완료!\")\n",
    "    print(f\"   성공: {len(optimized_stocks)}개 종목\")\n",
    "    print(f\"   실패: {len(stocks_data) - len(optimized_stocks)}개 종목\")\n",
    "    print(f\"   저장 경로: {output_path}\")\n",
    "    print(f\"   파일 형식: [종목명]_optimized.csv\")\n",
    "    \n",
    "    return optimized_stocks\n",
    "\n",
    "# 간편 사용 함수 (기존 함수명 유지)\n",
    "def process_enhanced_stocks_to_optimized(input_path, output_path, window=1, test_symbols=None):\n",
    "    \"\"\"기존 함수명과의 호환성을 위한 래퍼 함수\"\"\"\n",
    "    return process_stocks_with_optimized_labels(input_path, output_path, window, test_symbols)"
   ]
  },
  {
   "cell_type": "markdown",
   "id": "21edff3c",
   "metadata": {},
   "source": [
    "# 실행"
   ]
  },
  {
   "cell_type": "code",
   "execution_count": 8,
   "id": "16a31e78",
   "metadata": {},
   "outputs": [
    {
     "name": "stdout",
     "output_type": "stream",
     "text": [
      "📁 입력 경로: /workspace/AI모델/projects/coin/data/labeling/00\n",
      "📁 출력 경로: /workspace/AI모델/projects/coin/data/labeling/01\n",
      "🔧 최적화 윈도우: 1일\n",
      "================================================================================\n",
      "✅ 파일 패턴 발견: *_enhanced.csv (100개 파일)\n",
      "📂 출력 디렉토리 생성/확인: /workspace/AI모델/projects/coin/data/labeling/01\n",
      "\n",
      "📊 CSV 파일 로딩 중...\n"
     ]
    },
    {
     "name": "stderr",
     "output_type": "stream",
     "text": [
      "파일 로딩:   0%|          | 0/100 [00:00<?, ?it/s]"
     ]
    },
    {
     "name": "stderr",
     "output_type": "stream",
     "text": [
      "파일 로딩: 100%|██████████| 100/100 [00:10<00:00,  9.24it/s]\n"
     ]
    },
    {
     "name": "stdout",
     "output_type": "stream",
     "text": [
      "✅ 로딩 완료: 100개 종목\n",
      "\n",
      "🔄 최적화된 라벨 생성 중...\n"
     ]
    },
    {
     "name": "stderr",
     "output_type": "stream",
     "text": [
      "라벨 최적화:   0%|          | 0/100 [00:00<?, ?it/s]"
     ]
    },
    {
     "name": "stdout",
     "output_type": "stream",
     "text": [
      "\n",
      "🔍 처리 중: 1INCH (1725행)\n"
     ]
    },
    {
     "name": "stderr",
     "output_type": "stream",
     "text": [
      "라벨 최적화:   1%|          | 1/100 [00:00<00:49,  1.98it/s]"
     ]
    },
    {
     "name": "stdout",
     "output_type": "stream",
     "text": [
      "✅ 1INCH: 저장 완료 → 1INCH_optimized.csv\n",
      "\n",
      "🔍 처리 중: AAVE (1809행)\n"
     ]
    },
    {
     "name": "stderr",
     "output_type": "stream",
     "text": [
      "라벨 최적화:   2%|▏         | 2/100 [00:01<00:49,  1.96it/s]"
     ]
    },
    {
     "name": "stdout",
     "output_type": "stream",
     "text": [
      "✅ AAVE: 저장 완료 → AAVE_optimized.csv\n",
      "\n",
      "🔍 처리 중: ADA (2867행)\n"
     ]
    },
    {
     "name": "stderr",
     "output_type": "stream",
     "text": [
      "라벨 최적화:   3%|▎         | 3/100 [00:01<01:02,  1.55it/s]"
     ]
    },
    {
     "name": "stdout",
     "output_type": "stream",
     "text": [
      "✅ ADA: 저장 완료 → ADA_optimized.csv\n",
      "\n",
      "🔍 처리 중: ALGO (2278행)\n"
     ]
    },
    {
     "name": "stderr",
     "output_type": "stream",
     "text": [
      "라벨 최적화:   4%|▍         | 4/100 [00:02<01:02,  1.55it/s]"
     ]
    },
    {
     "name": "stdout",
     "output_type": "stream",
     "text": [
      "✅ ALGO: 저장 완료 → ALGO_optimized.csv\n",
      "\n",
      "🔍 처리 중: ANKR (2385행)\n"
     ]
    },
    {
     "name": "stderr",
     "output_type": "stream",
     "text": [
      "라벨 최적화:   5%|▌         | 5/100 [00:03<01:04,  1.47it/s]"
     ]
    },
    {
     "name": "stdout",
     "output_type": "stream",
     "text": [
      "✅ ANKR: 저장 완료 → ANKR_optimized.csv\n",
      "\n",
      "🔍 처리 중: API3 (1748행)\n"
     ]
    },
    {
     "name": "stderr",
     "output_type": "stream",
     "text": [
      "라벨 최적화:   6%|▌         | 6/100 [00:03<00:58,  1.60it/s]"
     ]
    },
    {
     "name": "stdout",
     "output_type": "stream",
     "text": [
      "✅ API3: 저장 완료 → API3_optimized.csv\n",
      "\n",
      "🔍 처리 중: APT21794 (1062행)\n"
     ]
    },
    {
     "name": "stderr",
     "output_type": "stream",
     "text": [
      "라벨 최적화:   7%|▋         | 7/100 [00:04<00:48,  1.92it/s]"
     ]
    },
    {
     "name": "stdout",
     "output_type": "stream",
     "text": [
      "✅ APT21794: 저장 완료 → APT21794_optimized.csv\n",
      "\n",
      "🔍 처리 중: ARB11841 (907행)\n"
     ]
    },
    {
     "name": "stderr",
     "output_type": "stream",
     "text": [
      "라벨 최적화:   8%|▊         | 8/100 [00:04<00:40,  2.28it/s]"
     ]
    },
    {
     "name": "stdout",
     "output_type": "stream",
     "text": [
      "✅ ARB11841: 저장 완료 → ARB11841_optimized.csv\n",
      "\n",
      "🔍 처리 중: ASTR (1336행)\n"
     ]
    },
    {
     "name": "stderr",
     "output_type": "stream",
     "text": [
      "라벨 최적화:   9%|▉         | 9/100 [00:04<00:38,  2.36it/s]"
     ]
    },
    {
     "name": "stdout",
     "output_type": "stream",
     "text": [
      "✅ ASTR: 저장 완료 → ASTR_optimized.csv\n",
      "\n",
      "🔍 처리 중: ATOM (2377행)\n"
     ]
    },
    {
     "name": "stderr",
     "output_type": "stream",
     "text": [
      "라벨 최적화:  10%|█         | 10/100 [00:05<00:45,  1.97it/s]"
     ]
    },
    {
     "name": "stdout",
     "output_type": "stream",
     "text": [
      "✅ ATOM: 저장 완료 → ATOM_optimized.csv\n",
      "\n",
      "🔍 처리 중: AVAX (1821행)\n"
     ]
    },
    {
     "name": "stderr",
     "output_type": "stream",
     "text": [
      "라벨 최적화:  11%|█         | 11/100 [00:05<00:45,  1.97it/s]"
     ]
    },
    {
     "name": "stdout",
     "output_type": "stream",
     "text": [
      "✅ AVAX: 저장 완료 → AVAX_optimized.csv\n",
      "\n",
      "🔍 처리 중: AXS (1776행)\n"
     ]
    },
    {
     "name": "stderr",
     "output_type": "stream",
     "text": [
      "라벨 최적화:  12%|█▏        | 12/100 [00:06<00:44,  1.97it/s]"
     ]
    },
    {
     "name": "stdout",
     "output_type": "stream",
     "text": [
      "✅ AXS: 저장 완료 → AXS_optimized.csv\n",
      "\n",
      "🔍 처리 중: BAL (1909행)\n"
     ]
    },
    {
     "name": "stderr",
     "output_type": "stream",
     "text": [
      "라벨 최적화:  13%|█▎        | 13/100 [00:06<00:45,  1.93it/s]"
     ]
    },
    {
     "name": "stdout",
     "output_type": "stream",
     "text": [
      "✅ BAL: 저장 완료 → BAL_optimized.csv\n",
      "\n",
      "🔍 처리 중: BAND (2189행)\n"
     ]
    },
    {
     "name": "stderr",
     "output_type": "stream",
     "text": [
      "라벨 최적화:  14%|█▍        | 14/100 [00:07<00:48,  1.76it/s]"
     ]
    },
    {
     "name": "stdout",
     "output_type": "stream",
     "text": [
      "✅ BAND: 저장 완료 → BAND_optimized.csv\n",
      "\n",
      "🔍 처리 중: BAT (2867행)\n"
     ]
    },
    {
     "name": "stderr",
     "output_type": "stream",
     "text": [
      "라벨 최적화:  15%|█▌        | 15/100 [00:08<00:55,  1.53it/s]"
     ]
    },
    {
     "name": "stdout",
     "output_type": "stream",
     "text": [
      "✅ BAT: 저장 완료 → BAT_optimized.csv\n",
      "\n",
      "🔍 처리 중: BCH (2867행)\n"
     ]
    },
    {
     "name": "stderr",
     "output_type": "stream",
     "text": [
      "라벨 최적화:  16%|█▌        | 16/100 [00:09<00:59,  1.41it/s]"
     ]
    },
    {
     "name": "stdout",
     "output_type": "stream",
     "text": [
      "✅ BCH: 저장 완료 → BCH_optimized.csv\n",
      "\n",
      "🔍 처리 중: BNB (2867행)\n"
     ]
    },
    {
     "name": "stderr",
     "output_type": "stream",
     "text": [
      "라벨 최적화:  17%|█▋        | 17/100 [00:10<01:02,  1.34it/s]"
     ]
    },
    {
     "name": "stdout",
     "output_type": "stream",
     "text": [
      "✅ BNB: 저장 완료 → BNB_optimized.csv\n",
      "\n",
      "🔍 처리 중: BNT (2867행)\n"
     ]
    },
    {
     "name": "stderr",
     "output_type": "stream",
     "text": [
      "라벨 최적화:  18%|█▊        | 18/100 [00:11<01:03,  1.28it/s]"
     ]
    },
    {
     "name": "stdout",
     "output_type": "stream",
     "text": [
      "✅ BNT: 저장 완료 → BNT_optimized.csv\n",
      "\n",
      "🔍 처리 중: BSV (2502행)\n"
     ]
    },
    {
     "name": "stderr",
     "output_type": "stream",
     "text": [
      "라벨 최적화:  19%|█▉        | 19/100 [00:11<01:02,  1.30it/s]"
     ]
    },
    {
     "name": "stdout",
     "output_type": "stream",
     "text": [
      "✅ BSV: 저장 완료 → BSV_optimized.csv\n",
      "\n",
      "🔍 처리 중: BTC (3910행)\n"
     ]
    },
    {
     "name": "stderr",
     "output_type": "stream",
     "text": [
      "라벨 최적화:  20%|██        | 20/100 [00:12<01:09,  1.15it/s]"
     ]
    },
    {
     "name": "stdout",
     "output_type": "stream",
     "text": [
      "✅ BTC: 저장 완료 → BTC_optimized.csv\n",
      "\n",
      "🔍 처리 중: CAKE (1812행)\n"
     ]
    },
    {
     "name": "stderr",
     "output_type": "stream",
     "text": [
      "라벨 최적화:  21%|██        | 21/100 [00:13<01:00,  1.30it/s]"
     ]
    },
    {
     "name": "stdout",
     "output_type": "stream",
     "text": [
      "✅ CAKE: 저장 완료 → CAKE_optimized.csv\n",
      "\n",
      "🔍 처리 중: CFG (1523행)\n"
     ]
    },
    {
     "name": "stderr",
     "output_type": "stream",
     "text": [
      "라벨 최적화:  22%|██▏       | 22/100 [00:13<00:52,  1.49it/s]"
     ]
    },
    {
     "name": "stdout",
     "output_type": "stream",
     "text": [
      "✅ CFG: 저장 완료 → CFG_optimized.csv\n",
      "\n",
      "🔍 처리 중: CHZ (2268행)\n"
     ]
    },
    {
     "name": "stderr",
     "output_type": "stream",
     "text": [
      "라벨 최적화:  23%|██▎       | 23/100 [00:14<00:51,  1.49it/s]"
     ]
    },
    {
     "name": "stdout",
     "output_type": "stream",
     "text": [
      "✅ CHZ: 저장 완료 → CHZ_optimized.csv\n",
      "\n",
      "🔍 처리 중: CKB (2127행)\n"
     ]
    },
    {
     "name": "stderr",
     "output_type": "stream",
     "text": [
      "라벨 최적화:  24%|██▍       | 24/100 [00:15<00:49,  1.53it/s]"
     ]
    },
    {
     "name": "stdout",
     "output_type": "stream",
     "text": [
      "✅ CKB: 저장 완료 → CKB_optimized.csv\n",
      "\n",
      "🔍 처리 중: COTI (2295행)\n"
     ]
    },
    {
     "name": "stderr",
     "output_type": "stream",
     "text": [
      "라벨 최적화:  25%|██▌       | 25/100 [00:15<00:49,  1.51it/s]"
     ]
    },
    {
     "name": "stdout",
     "output_type": "stream",
     "text": [
      "✅ COTI: 저장 완료 → COTI_optimized.csv\n",
      "\n",
      "🔍 처리 중: CRO (2467행)\n"
     ]
    },
    {
     "name": "stderr",
     "output_type": "stream",
     "text": [
      "라벨 최적화:  26%|██▌       | 26/100 [00:16<00:50,  1.46it/s]"
     ]
    },
    {
     "name": "stdout",
     "output_type": "stream",
     "text": [
      "✅ CRO: 저장 완료 → CRO_optimized.csv\n",
      "\n",
      "🔍 처리 중: CRV (1858행)\n"
     ]
    },
    {
     "name": "stderr",
     "output_type": "stream",
     "text": [
      "라벨 최적화:  27%|██▋       | 27/100 [00:17<00:46,  1.57it/s]"
     ]
    },
    {
     "name": "stdout",
     "output_type": "stream",
     "text": [
      "✅ CRV: 저장 완료 → CRV_optimized.csv\n",
      "\n",
      "🔍 처리 중: CVC (2867행)\n"
     ]
    },
    {
     "name": "stderr",
     "output_type": "stream",
     "text": [
      "라벨 최적화:  28%|██▊       | 28/100 [00:17<00:49,  1.44it/s]"
     ]
    },
    {
     "name": "stdout",
     "output_type": "stream",
     "text": [
      "✅ CVC: 저장 완료 → CVC_optimized.csv\n",
      "\n",
      "🔍 처리 중: CVX (1581행)\n"
     ]
    },
    {
     "name": "stderr",
     "output_type": "stream",
     "text": [
      "라벨 최적화:  29%|██▉       | 29/100 [00:18<00:44,  1.61it/s]"
     ]
    },
    {
     "name": "stdout",
     "output_type": "stream",
     "text": [
      "✅ CVX: 저장 완료 → CVX_optimized.csv\n",
      "\n",
      "🔍 처리 중: DAI (2124행)\n"
     ]
    },
    {
     "name": "stderr",
     "output_type": "stream",
     "text": [
      "라벨 최적화:  30%|███       | 30/100 [00:19<00:44,  1.56it/s]"
     ]
    },
    {
     "name": "stdout",
     "output_type": "stream",
     "text": [
      "✅ DAI: 저장 완료 → DAI_optimized.csv\n",
      "\n",
      "🔍 처리 중: DASH (2867행)\n"
     ]
    },
    {
     "name": "stderr",
     "output_type": "stream",
     "text": [
      "라벨 최적화:  31%|███       | 31/100 [00:19<00:48,  1.42it/s]"
     ]
    },
    {
     "name": "stdout",
     "output_type": "stream",
     "text": [
      "✅ DASH: 저장 완료 → DASH_optimized.csv\n",
      "\n",
      "🔍 처리 중: DOGE (2867행)\n"
     ]
    },
    {
     "name": "stderr",
     "output_type": "stream",
     "text": [
      "라벨 최적화:  32%|███▏      | 32/100 [00:20<00:50,  1.34it/s]"
     ]
    },
    {
     "name": "stdout",
     "output_type": "stream",
     "text": [
      "✅ DOGE: 저장 완료 → DOGE_optimized.csv\n",
      "\n",
      "🔍 처리 중: DOT (1852행)\n"
     ]
    },
    {
     "name": "stderr",
     "output_type": "stream",
     "text": [
      "라벨 최적화:  33%|███▎      | 33/100 [00:21<00:45,  1.46it/s]"
     ]
    },
    {
     "name": "stdout",
     "output_type": "stream",
     "text": [
      "✅ DOT: 저장 완료 → DOT_optimized.csv\n",
      "\n",
      "🔍 처리 중: DYDX (1426행)\n"
     ]
    },
    {
     "name": "stderr",
     "output_type": "stream",
     "text": [
      "라벨 최적화:  34%|███▍      | 34/100 [00:21<00:39,  1.65it/s]"
     ]
    },
    {
     "name": "stdout",
     "output_type": "stream",
     "text": [
      "✅ DYDX: 저장 완료 → DYDX_optimized.csv\n",
      "\n",
      "🔍 처리 중: EGLD (1837행)\n"
     ]
    },
    {
     "name": "stderr",
     "output_type": "stream",
     "text": [
      "라벨 최적화:  35%|███▌      | 35/100 [00:22<00:37,  1.74it/s]"
     ]
    },
    {
     "name": "stdout",
     "output_type": "stream",
     "text": [
      "✅ EGLD: 저장 완료 → EGLD_optimized.csv\n",
      "\n",
      "🔍 처리 중: ENJ (2867행)\n"
     ]
    },
    {
     "name": "stderr",
     "output_type": "stream",
     "text": [
      "라벨 최적화:  36%|███▌      | 36/100 [00:23<00:42,  1.51it/s]"
     ]
    },
    {
     "name": "stdout",
     "output_type": "stream",
     "text": [
      "✅ ENJ: 저장 완료 → ENJ_optimized.csv\n",
      "\n",
      "🔍 처리 중: ETC (2867행)\n"
     ]
    },
    {
     "name": "stderr",
     "output_type": "stream",
     "text": [
      "라벨 최적화:  37%|███▋      | 37/100 [00:23<00:44,  1.43it/s]"
     ]
    },
    {
     "name": "stdout",
     "output_type": "stream",
     "text": [
      "✅ ETC: 저장 완료 → ETC_optimized.csv\n",
      "\n",
      "🔍 처리 중: ETH (2867행)\n"
     ]
    },
    {
     "name": "stderr",
     "output_type": "stream",
     "text": [
      "라벨 최적화:  38%|███▊      | 38/100 [00:24<00:45,  1.36it/s]"
     ]
    },
    {
     "name": "stdout",
     "output_type": "stream",
     "text": [
      "✅ ETH: 저장 완료 → ETH_optimized.csv\n",
      "\n",
      "🔍 처리 중: FET (2389행)\n"
     ]
    },
    {
     "name": "stderr",
     "output_type": "stream",
     "text": [
      "라벨 최적화:  39%|███▉      | 39/100 [00:25<00:43,  1.40it/s]"
     ]
    },
    {
     "name": "stdout",
     "output_type": "stream",
     "text": [
      "✅ FET: 저장 완료 → FET_optimized.csv\n",
      "\n",
      "🔍 처리 중: FIL (2833행)\n"
     ]
    },
    {
     "name": "stderr",
     "output_type": "stream",
     "text": [
      "라벨 최적화:  40%|████      | 40/100 [00:26<00:44,  1.34it/s]"
     ]
    },
    {
     "name": "stdout",
     "output_type": "stream",
     "text": [
      "✅ FIL: 저장 완료 → FIL_optimized.csv\n",
      "\n",
      "🔍 처리 중: FLOW (1692행)\n"
     ]
    },
    {
     "name": "stderr",
     "output_type": "stream",
     "text": [
      "라벨 최적화:  41%|████      | 41/100 [00:26<00:39,  1.51it/s]"
     ]
    },
    {
     "name": "stdout",
     "output_type": "stream",
     "text": [
      "✅ FLOW: 저장 완료 → FLOW_optimized.csv\n",
      "\n",
      "🔍 처리 중: FTM (2268행)\n"
     ]
    },
    {
     "name": "stderr",
     "output_type": "stream",
     "text": [
      "라벨 최적화:  42%|████▏     | 42/100 [00:27<00:38,  1.52it/s]"
     ]
    },
    {
     "name": "stdout",
     "output_type": "stream",
     "text": [
      "✅ FTM: 저장 완료 → FTM_optimized.csv\n",
      "\n",
      "🔍 처리 중: FXS (1592행)\n"
     ]
    },
    {
     "name": "stderr",
     "output_type": "stream",
     "text": [
      "라벨 최적화:  43%|████▎     | 43/100 [00:27<00:34,  1.67it/s]"
     ]
    },
    {
     "name": "stdout",
     "output_type": "stream",
     "text": [
      "✅ FXS: 저장 완료 → FXS_optimized.csv\n",
      "\n",
      "🔍 처리 중: GNO (2867행)\n"
     ]
    },
    {
     "name": "stderr",
     "output_type": "stream",
     "text": [
      "라벨 최적화:  44%|████▍     | 44/100 [00:28<00:38,  1.47it/s]"
     ]
    },
    {
     "name": "stdout",
     "output_type": "stream",
     "text": [
      "✅ GNO: 저장 완료 → GNO_optimized.csv\n",
      "\n",
      "🔍 처리 중: GRT6719 (1732행)\n"
     ]
    },
    {
     "name": "stderr",
     "output_type": "stream",
     "text": [
      "라벨 최적화:  45%|████▌     | 45/100 [00:29<00:34,  1.59it/s]"
     ]
    },
    {
     "name": "stdout",
     "output_type": "stream",
     "text": [
      "✅ GRT6719: 저장 완료 → GRT6719_optimized.csv\n",
      "\n",
      "🔍 처리 중: HBAR (2190행)\n"
     ]
    },
    {
     "name": "stderr",
     "output_type": "stream",
     "text": [
      "라벨 최적화:  46%|████▌     | 46/100 [00:29<00:33,  1.60it/s]"
     ]
    },
    {
     "name": "stdout",
     "output_type": "stream",
     "text": [
      "✅ HBAR: 저장 완료 → HBAR_optimized.csv\n",
      "\n",
      "🔍 처리 중: ICP (1589행)\n"
     ]
    },
    {
     "name": "stderr",
     "output_type": "stream",
     "text": [
      "라벨 최적화:  47%|████▋     | 47/100 [00:30<00:30,  1.73it/s]"
     ]
    },
    {
     "name": "stdout",
     "output_type": "stream",
     "text": [
      "✅ ICP: 저장 완료 → ICP_optimized.csv\n",
      "\n",
      "🔍 처리 중: IMX10603 (1409행)\n"
     ]
    },
    {
     "name": "stderr",
     "output_type": "stream",
     "text": [
      "라벨 최적화:  48%|████▊     | 48/100 [00:30<00:27,  1.89it/s]"
     ]
    },
    {
     "name": "stdout",
     "output_type": "stream",
     "text": [
      "✅ IMX10603: 저장 완료 → IMX10603_optimized.csv\n",
      "\n",
      "🔍 처리 중: INJ (1790행)\n"
     ]
    },
    {
     "name": "stderr",
     "output_type": "stream",
     "text": [
      "라벨 최적화:  49%|████▉     | 49/100 [00:31<00:26,  1.89it/s]"
     ]
    },
    {
     "name": "stdout",
     "output_type": "stream",
     "text": [
      "✅ INJ: 저장 완료 → INJ_optimized.csv\n",
      "\n",
      "🔍 처리 중: IOTA (716행)\n"
     ]
    },
    {
     "name": "stderr",
     "output_type": "stream",
     "text": [
      "라벨 최적화:  50%|█████     | 50/100 [00:31<00:21,  2.29it/s]"
     ]
    },
    {
     "name": "stdout",
     "output_type": "stream",
     "text": [
      "✅ IOTA: 저장 완료 → IOTA_optimized.csv\n",
      "\n",
      "🔍 처리 중: KCS (2867행)\n"
     ]
    },
    {
     "name": "stderr",
     "output_type": "stream",
     "text": [
      "라벨 최적화:  51%|█████     | 51/100 [00:32<00:26,  1.84it/s]"
     ]
    },
    {
     "name": "stdout",
     "output_type": "stream",
     "text": [
      "✅ KCS: 저장 완료 → KCS_optimized.csv\n",
      "\n",
      "🔍 처리 중: KEEP (1951행)\n"
     ]
    },
    {
     "name": "stderr",
     "output_type": "stream",
     "text": [
      "라벨 최적화:  52%|█████▏    | 52/100 [00:32<00:26,  1.81it/s]"
     ]
    },
    {
     "name": "stdout",
     "output_type": "stream",
     "text": [
      "✅ KEEP: 저장 완료 → KEEP_optimized.csv\n",
      "\n",
      "🔍 처리 중: KNC (1510행)\n"
     ]
    },
    {
     "name": "stderr",
     "output_type": "stream",
     "text": [
      "라벨 최적화:  53%|█████▎    | 53/100 [00:33<00:24,  1.94it/s]"
     ]
    },
    {
     "name": "stdout",
     "output_type": "stream",
     "text": [
      "✅ KNC: 저장 완료 → KNC_optimized.csv\n",
      "\n",
      "🔍 처리 중: LEO (2309행)\n"
     ]
    },
    {
     "name": "stderr",
     "output_type": "stream",
     "text": [
      "라벨 최적화:  54%|█████▍    | 54/100 [00:33<00:25,  1.81it/s]"
     ]
    },
    {
     "name": "stdout",
     "output_type": "stream",
     "text": [
      "✅ LEO: 저장 완료 → LEO_optimized.csv\n",
      "\n",
      "🔍 처리 중: LPT (2462행)\n"
     ]
    },
    {
     "name": "stderr",
     "output_type": "stream",
     "text": [
      "라벨 최적화:  55%|█████▌    | 55/100 [00:34<00:26,  1.68it/s]"
     ]
    },
    {
     "name": "stdout",
     "output_type": "stream",
     "text": [
      "✅ LPT: 저장 완료 → LPT_optimized.csv\n",
      "\n",
      "🔍 처리 중: LRC (2867행)\n"
     ]
    },
    {
     "name": "stderr",
     "output_type": "stream",
     "text": [
      "라벨 최적화:  56%|█████▌    | 56/100 [00:35<00:29,  1.50it/s]"
     ]
    },
    {
     "name": "stdout",
     "output_type": "stream",
     "text": [
      "✅ LRC: 저장 완료 → LRC_optimized.csv\n",
      "\n",
      "🔍 처리 중: LTC (3910행)\n"
     ]
    },
    {
     "name": "stderr",
     "output_type": "stream",
     "text": [
      "라벨 최적화:  57%|█████▋    | 57/100 [00:36<00:34,  1.24it/s]"
     ]
    },
    {
     "name": "stdout",
     "output_type": "stream",
     "text": [
      "✅ LTC: 저장 완료 → LTC_optimized.csv\n",
      "\n",
      "🔍 처리 중: MANA (2867행)\n"
     ]
    },
    {
     "name": "stderr",
     "output_type": "stream",
     "text": [
      "라벨 최적화:  58%|█████▊    | 58/100 [00:37<00:34,  1.22it/s]"
     ]
    },
    {
     "name": "stdout",
     "output_type": "stream",
     "text": [
      "✅ MANA: 저장 완료 → MANA_optimized.csv\n",
      "\n",
      "🔍 처리 중: MNT27075 (788행)\n"
     ]
    },
    {
     "name": "stderr",
     "output_type": "stream",
     "text": [
      "라벨 최적화:  59%|█████▉    | 59/100 [00:37<00:26,  1.55it/s]"
     ]
    },
    {
     "name": "stdout",
     "output_type": "stream",
     "text": [
      "✅ MNT27075: 저장 완료 → MNT27075_optimized.csv\n",
      "\n",
      "🔍 처리 중: NEAR (1797행)\n"
     ]
    },
    {
     "name": "stderr",
     "output_type": "stream",
     "text": [
      "라벨 최적화:  60%|██████    | 60/100 [00:38<00:24,  1.63it/s]"
     ]
    },
    {
     "name": "stdout",
     "output_type": "stream",
     "text": [
      "✅ NEAR: 저장 완료 → NEAR_optimized.csv\n",
      "\n",
      "🔍 처리 중: NEO (2867행)\n"
     ]
    },
    {
     "name": "stderr",
     "output_type": "stream",
     "text": [
      "라벨 최적화:  61%|██████    | 61/100 [00:38<00:26,  1.46it/s]"
     ]
    },
    {
     "name": "stdout",
     "output_type": "stream",
     "text": [
      "✅ NEO: 저장 완료 → NEO_optimized.csv\n",
      "\n",
      "🔍 처리 중: NMR (2867행)\n"
     ]
    },
    {
     "name": "stderr",
     "output_type": "stream",
     "text": [
      "라벨 최적화:  62%|██████▏   | 62/100 [00:39<00:27,  1.36it/s]"
     ]
    },
    {
     "name": "stdout",
     "output_type": "stream",
     "text": [
      "✅ NMR: 저장 완료 → NMR_optimized.csv\n",
      "\n",
      "🔍 처리 중: OKB (2330행)\n"
     ]
    },
    {
     "name": "stderr",
     "output_type": "stream",
     "text": [
      "라벨 최적화:  63%|██████▎   | 63/100 [00:40<00:26,  1.40it/s]"
     ]
    },
    {
     "name": "stdout",
     "output_type": "stream",
     "text": [
      "✅ OKB: 저장 완료 → OKB_optimized.csv\n",
      "\n",
      "🔍 처리 중: OP (1281행)\n"
     ]
    },
    {
     "name": "stderr",
     "output_type": "stream",
     "text": [
      "라벨 최적화:  64%|██████▍   | 64/100 [00:40<00:21,  1.64it/s]"
     ]
    },
    {
     "name": "stdout",
     "output_type": "stream",
     "text": [
      "✅ OP: 저장 완료 → OP_optimized.csv\n",
      "\n",
      "🔍 처리 중: QNT (2593행)\n"
     ]
    },
    {
     "name": "stderr",
     "output_type": "stream",
     "text": [
      "라벨 최적화:  65%|██████▌   | 65/100 [00:41<00:22,  1.55it/s]"
     ]
    },
    {
     "name": "stdout",
     "output_type": "stream",
     "text": [
      "✅ QNT: 저장 완료 → QNT_optimized.csv\n",
      "\n",
      "🔍 처리 중: QTUM (2867행)\n"
     ]
    },
    {
     "name": "stderr",
     "output_type": "stream",
     "text": [
      "라벨 최적화:  66%|██████▌   | 66/100 [00:42<00:23,  1.43it/s]"
     ]
    },
    {
     "name": "stdout",
     "output_type": "stream",
     "text": [
      "✅ QTUM: 저장 완료 → QTUM_optimized.csv\n",
      "\n",
      "🔍 처리 중: REQ (2867행)\n"
     ]
    },
    {
     "name": "stderr",
     "output_type": "stream",
     "text": [
      "라벨 최적화:  67%|██████▋   | 67/100 [00:43<00:24,  1.37it/s]"
     ]
    },
    {
     "name": "stdout",
     "output_type": "stream",
     "text": [
      "✅ REQ: 저장 완료 → REQ_optimized.csv\n",
      "\n",
      "🔍 처리 중: RLC (2867행)\n"
     ]
    },
    {
     "name": "stderr",
     "output_type": "stream",
     "text": [
      "라벨 최적화:  68%|██████▊   | 68/100 [00:43<00:24,  1.31it/s]"
     ]
    },
    {
     "name": "stdout",
     "output_type": "stream",
     "text": [
      "✅ RLC: 저장 완료 → RLC_optimized.csv\n",
      "\n",
      "🔍 처리 중: RNDR (1502행)\n"
     ]
    },
    {
     "name": "stderr",
     "output_type": "stream",
     "text": [
      "라벨 최적화:  69%|██████▉   | 69/100 [00:44<00:20,  1.51it/s]"
     ]
    },
    {
     "name": "stdout",
     "output_type": "stream",
     "text": [
      "✅ RNDR: 저장 완료 → RNDR_optimized.csv\n",
      "\n",
      "🔍 처리 중: RSR (2306행)\n"
     ]
    },
    {
     "name": "stderr",
     "output_type": "stream",
     "text": [
      "라벨 최적화:  70%|███████   | 70/100 [00:45<00:20,  1.50it/s]"
     ]
    },
    {
     "name": "stdout",
     "output_type": "stream",
     "text": [
      "✅ RSR: 저장 완료 → RSR_optimized.csv\n",
      "\n",
      "🔍 처리 중: RUNE (2246행)\n"
     ]
    },
    {
     "name": "stderr",
     "output_type": "stream",
     "text": [
      "라벨 최적화:  71%|███████   | 71/100 [00:45<00:19,  1.50it/s]"
     ]
    },
    {
     "name": "stdout",
     "output_type": "stream",
     "text": [
      "✅ RUNE: 저장 완료 → RUNE_optimized.csv\n",
      "\n",
      "🔍 처리 중: SAND (1858행)\n"
     ]
    },
    {
     "name": "stderr",
     "output_type": "stream",
     "text": [
      "라벨 최적화:  72%|███████▏  | 72/100 [00:46<00:17,  1.61it/s]"
     ]
    },
    {
     "name": "stdout",
     "output_type": "stream",
     "text": [
      "✅ SAND: 저장 완료 → SAND_optimized.csv\n",
      "\n",
      "🔍 처리 중: SHIB (1830행)\n"
     ]
    },
    {
     "name": "stderr",
     "output_type": "stream",
     "text": [
      "라벨 최적화:  73%|███████▎  | 73/100 [00:46<00:15,  1.73it/s]"
     ]
    },
    {
     "name": "stdout",
     "output_type": "stream",
     "text": [
      "✅ SHIB: 저장 완료 → SHIB_optimized.csv\n",
      "\n",
      "🔍 처리 중: SNX (2742행)\n"
     ]
    },
    {
     "name": "stderr",
     "output_type": "stream",
     "text": [
      "라벨 최적화:  74%|███████▍  | 74/100 [00:47<00:16,  1.56it/s]"
     ]
    },
    {
     "name": "stdout",
     "output_type": "stream",
     "text": [
      "✅ SNX: 저장 완료 → SNX_optimized.csv\n",
      "\n",
      "🔍 처리 중: SOL (1984행)\n"
     ]
    },
    {
     "name": "stderr",
     "output_type": "stream",
     "text": [
      "라벨 최적화:  75%|███████▌  | 75/100 [00:48<00:15,  1.60it/s]"
     ]
    },
    {
     "name": "stdout",
     "output_type": "stream",
     "text": [
      "✅ SOL: 저장 완료 → SOL_optimized.csv\n",
      "\n",
      "🔍 처리 중: SPELL (1490행)\n"
     ]
    },
    {
     "name": "stderr",
     "output_type": "stream",
     "text": [
      "라벨 최적화:  76%|███████▌  | 76/100 [00:48<00:13,  1.76it/s]"
     ]
    },
    {
     "name": "stdout",
     "output_type": "stream",
     "text": [
      "✅ SPELL: 저장 완료 → SPELL_optimized.csv\n",
      "\n",
      "🔍 처리 중: STORJ (2867행)\n"
     ]
    },
    {
     "name": "stderr",
     "output_type": "stream",
     "text": [
      "라벨 최적화:  77%|███████▋  | 77/100 [00:49<00:14,  1.57it/s]"
     ]
    },
    {
     "name": "stdout",
     "output_type": "stream",
     "text": [
      "✅ STORJ: 저장 완료 → STORJ_optimized.csv\n",
      "\n",
      "🔍 처리 중: STX4847 (2148행)\n"
     ]
    },
    {
     "name": "stderr",
     "output_type": "stream",
     "text": [
      "라벨 최적화:  78%|███████▊  | 78/100 [00:50<00:14,  1.56it/s]"
     ]
    },
    {
     "name": "stdout",
     "output_type": "stream",
     "text": [
      "✅ STX4847: 저장 완료 → STX4847_optimized.csv\n",
      "\n",
      "🔍 처리 중: SUI20947 (866행)\n"
     ]
    },
    {
     "name": "stderr",
     "output_type": "stream",
     "text": [
      "라벨 최적화:  79%|███████▉  | 79/100 [00:50<00:11,  1.91it/s]"
     ]
    },
    {
     "name": "stdout",
     "output_type": "stream",
     "text": [
      "✅ SUI20947: 저장 완료 → SUI20947_optimized.csv\n",
      "\n",
      "🔍 처리 중: SUSHI (1844행)\n"
     ]
    },
    {
     "name": "stderr",
     "output_type": "stream",
     "text": [
      "라벨 최적화:  80%|████████  | 80/100 [00:50<00:10,  1.89it/s]"
     ]
    },
    {
     "name": "stdout",
     "output_type": "stream",
     "text": [
      "✅ SUSHI: 저장 완료 → SUSHI_optimized.csv\n",
      "\n",
      "🔍 처리 중: THETA (2798행)\n"
     ]
    },
    {
     "name": "stderr",
     "output_type": "stream",
     "text": [
      "라벨 최적화:  81%|████████  | 81/100 [00:51<00:11,  1.63it/s]"
     ]
    },
    {
     "name": "stdout",
     "output_type": "stream",
     "text": [
      "✅ THETA: 저장 완료 → THETA_optimized.csv\n",
      "\n",
      "🔍 처리 중: TON11419 (1480행)\n"
     ]
    },
    {
     "name": "stderr",
     "output_type": "stream",
     "text": [
      "라벨 최적화:  82%|████████▏ | 82/100 [00:52<00:10,  1.78it/s]"
     ]
    },
    {
     "name": "stdout",
     "output_type": "stream",
     "text": [
      "✅ TON11419: 저장 완료 → TON11419_optimized.csv\n",
      "\n",
      "🔍 처리 중: TORN (1679행)\n"
     ]
    },
    {
     "name": "stderr",
     "output_type": "stream",
     "text": [
      "라벨 최적화:  83%|████████▎ | 83/100 [00:52<00:09,  1.85it/s]"
     ]
    },
    {
     "name": "stdout",
     "output_type": "stream",
     "text": [
      "✅ TORN: 저장 완료 → TORN_optimized.csv\n",
      "\n",
      "🔍 처리 중: TRAC (2790행)\n"
     ]
    },
    {
     "name": "stderr",
     "output_type": "stream",
     "text": [
      "라벨 최적화:  84%|████████▍ | 84/100 [00:53<00:09,  1.64it/s]"
     ]
    },
    {
     "name": "stdout",
     "output_type": "stream",
     "text": [
      "✅ TRAC: 저장 완료 → TRAC_optimized.csv\n",
      "\n",
      "🔍 처리 중: TRX (2867행)\n"
     ]
    },
    {
     "name": "stderr",
     "output_type": "stream",
     "text": [
      "라벨 최적화:  85%|████████▌ | 85/100 [00:54<00:10,  1.48it/s]"
     ]
    },
    {
     "name": "stdout",
     "output_type": "stream",
     "text": [
      "✅ TRX: 저장 완료 → TRX_optimized.csv\n",
      "\n",
      "🔍 처리 중: UMA (1939행)\n"
     ]
    },
    {
     "name": "stderr",
     "output_type": "stream",
     "text": [
      "라벨 최적화:  86%|████████▌ | 86/100 [00:54<00:09,  1.56it/s]"
     ]
    },
    {
     "name": "stdout",
     "output_type": "stream",
     "text": [
      "✅ UMA: 저장 완료 → UMA_optimized.csv\n",
      "\n",
      "🔍 처리 중: UNI7083 (1823행)\n"
     ]
    },
    {
     "name": "stderr",
     "output_type": "stream",
     "text": [
      "라벨 최적화:  87%|████████▋ | 87/100 [00:55<00:07,  1.65it/s]"
     ]
    },
    {
     "name": "stdout",
     "output_type": "stream",
     "text": [
      "✅ UNI7083: 저장 완료 → UNI7083_optimized.csv\n",
      "\n",
      "🔍 처리 중: USDC (2534행)\n"
     ]
    },
    {
     "name": "stderr",
     "output_type": "stream",
     "text": [
      "라벨 최적화:  88%|████████▊ | 88/100 [00:56<00:08,  1.49it/s]"
     ]
    },
    {
     "name": "stdout",
     "output_type": "stream",
     "text": [
      "✅ USDC: 저장 완료 → USDC_optimized.csv\n",
      "\n",
      "🔍 처리 중: USDT (2867행)\n"
     ]
    },
    {
     "name": "stderr",
     "output_type": "stream",
     "text": [
      "라벨 최적화:  89%|████████▉ | 89/100 [00:56<00:08,  1.36it/s]"
     ]
    },
    {
     "name": "stdout",
     "output_type": "stream",
     "text": [
      "✅ USDT: 저장 완료 → USDT_optimized.csv\n",
      "\n",
      "🔍 처리 중: VET (2600행)\n"
     ]
    },
    {
     "name": "stderr",
     "output_type": "stream",
     "text": [
      "라벨 최적화:  90%|█████████ | 90/100 [00:57<00:07,  1.36it/s]"
     ]
    },
    {
     "name": "stdout",
     "output_type": "stream",
     "text": [
      "✅ VET: 저장 완료 → VET_optimized.csv\n",
      "\n",
      "🔍 처리 중: WAVES (2867행)\n"
     ]
    },
    {
     "name": "stderr",
     "output_type": "stream",
     "text": [
      "라벨 최적화:  91%|█████████ | 91/100 [00:58<00:06,  1.33it/s]"
     ]
    },
    {
     "name": "stdout",
     "output_type": "stream",
     "text": [
      "✅ WAVES: 저장 완료 → WAVES_optimized.csv\n",
      "\n",
      "🔍 처리 중: XLM (2867행)\n"
     ]
    },
    {
     "name": "stderr",
     "output_type": "stream",
     "text": [
      "라벨 최적화:  92%|█████████▏| 92/100 [00:59<00:06,  1.32it/s]"
     ]
    },
    {
     "name": "stdout",
     "output_type": "stream",
     "text": [
      "✅ XLM: 저장 완료 → XLM_optimized.csv\n",
      "\n",
      "🔍 처리 중: XMR (2867행)\n"
     ]
    },
    {
     "name": "stderr",
     "output_type": "stream",
     "text": [
      "라벨 최적화:  93%|█████████▎| 93/100 [01:00<00:05,  1.28it/s]"
     ]
    },
    {
     "name": "stdout",
     "output_type": "stream",
     "text": [
      "✅ XMR: 저장 완료 → XMR_optimized.csv\n",
      "\n",
      "🔍 처리 중: XRP (2867행)\n"
     ]
    },
    {
     "name": "stderr",
     "output_type": "stream",
     "text": [
      "라벨 최적화:  94%|█████████▍| 94/100 [01:00<00:04,  1.26it/s]"
     ]
    },
    {
     "name": "stdout",
     "output_type": "stream",
     "text": [
      "✅ XRP: 저장 완료 → XRP_optimized.csv\n",
      "\n",
      "🔍 처리 중: XTZ (2867행)\n"
     ]
    },
    {
     "name": "stderr",
     "output_type": "stream",
     "text": [
      "라벨 최적화:  95%|█████████▌| 95/100 [01:01<00:04,  1.25it/s]"
     ]
    },
    {
     "name": "stdout",
     "output_type": "stream",
     "text": [
      "✅ XTZ: 저장 완료 → XTZ_optimized.csv\n",
      "\n",
      "🔍 처리 중: XYO (2673행)\n"
     ]
    },
    {
     "name": "stderr",
     "output_type": "stream",
     "text": [
      "라벨 최적화:  96%|█████████▌| 96/100 [01:02<00:03,  1.26it/s]"
     ]
    },
    {
     "name": "stdout",
     "output_type": "stream",
     "text": [
      "✅ XYO: 저장 완료 → XYO_optimized.csv\n",
      "\n",
      "🔍 처리 중: YFI (1883행)\n"
     ]
    },
    {
     "name": "stderr",
     "output_type": "stream",
     "text": [
      "라벨 최적화:  97%|█████████▋| 97/100 [01:03<00:02,  1.39it/s]"
     ]
    },
    {
     "name": "stdout",
     "output_type": "stream",
     "text": [
      "✅ YFI: 저장 완료 → YFI_optimized.csv\n",
      "\n",
      "🔍 처리 중: ZEC (2867행)\n"
     ]
    },
    {
     "name": "stderr",
     "output_type": "stream",
     "text": [
      "라벨 최적화:  98%|█████████▊| 98/100 [01:03<00:01,  1.33it/s]"
     ]
    },
    {
     "name": "stdout",
     "output_type": "stream",
     "text": [
      "✅ ZEC: 저장 완료 → ZEC_optimized.csv\n",
      "\n",
      "🔍 처리 중: ZIL (2790행)\n"
     ]
    },
    {
     "name": "stderr",
     "output_type": "stream",
     "text": [
      "라벨 최적화:  99%|█████████▉| 99/100 [01:04<00:00,  1.32it/s]"
     ]
    },
    {
     "name": "stdout",
     "output_type": "stream",
     "text": [
      "✅ ZIL: 저장 완료 → ZIL_optimized.csv\n",
      "\n",
      "🔍 처리 중: ZRX (2867행)\n"
     ]
    },
    {
     "name": "stderr",
     "output_type": "stream",
     "text": [
      "라벨 최적화: 100%|██████████| 100/100 [01:05<00:00,  1.53it/s]"
     ]
    },
    {
     "name": "stdout",
     "output_type": "stream",
     "text": [
      "✅ ZRX: 저장 완료 → ZRX_optimized.csv\n",
      "\n",
      "================================================================================\n",
      "🎯 최적화 완료!\n",
      "   성공: 100개 종목\n",
      "   실패: 0개 종목\n",
      "   저장 경로: /workspace/AI모델/projects/coin/data/labeling/01\n",
      "   파일 형식: [종목명]_optimized.csv\n"
     ]
    },
    {
     "name": "stderr",
     "output_type": "stream",
     "text": [
      "\n"
     ]
    }
   ],
   "source": [
    "# 여러분의 경로로 실행\n",
    "input_path = \"/workspace/AI모델/projects/coin/data/labeling/00\" \n",
    "output_path = \"/workspace/AI모델/projects/coin/data/labeling/01\" \n",
    "\n",
    "# 전체 종목 처리\n",
    "optimized_stocks = process_stocks_with_optimized_labels(\n",
    "    input_path=input_path,\n",
    "    output_path=output_path,\n",
    "    window=1  # 앞뒤 5일 윈도우\n",
    ")\n",
    "\n",
    "# # 특정 종목만 테스트하고 싶다면\n",
    "# test_stocks = process_stocks_with_optimized_labels(\n",
    "#     input_path=input_path,\n",
    "#     output_path=output_path,\n",
    "#     window=5\n",
    "#     # test_symbols=['AAPL', 'MSFT', 'GOOGL']  # 특정 종목들만\n",
    "# )"
   ]
  },
  {
   "cell_type": "code",
   "execution_count": null,
   "id": "acc2142e",
   "metadata": {},
   "outputs": [],
   "source": []
  }
 ],
 "metadata": {
  "kernelspec": {
   "display_name": "base",
   "language": "python",
   "name": "python3"
  },
  "language_info": {
   "codemirror_mode": {
    "name": "ipython",
    "version": 3
   },
   "file_extension": ".py",
   "mimetype": "text/x-python",
   "name": "python",
   "nbconvert_exporter": "python",
   "pygments_lexer": "ipython3",
   "version": "3.10.11"
  }
 },
 "nbformat": 4,
 "nbformat_minor": 5
}
