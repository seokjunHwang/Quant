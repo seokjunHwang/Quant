{
 "cells": [
  {
   "cell_type": "markdown",
   "id": "32b534e7",
   "metadata": {},
   "source": [
    "# Data load"
   ]
  },
  {
   "cell_type": "code",
   "execution_count": null,
   "id": "62447829",
   "metadata": {},
   "outputs": [],
   "source": [
    "# pip install yfinance pandas requests beautifulsoup4"
   ]
  },
  {
   "cell_type": "markdown",
   "id": "104cfaeb",
   "metadata": {},
   "source": [
    "# 종목 list"
   ]
  },
  {
   "cell_type": "code",
   "execution_count": 2,
   "id": "c4c1ad37",
   "metadata": {},
   "outputs": [],
   "source": [
    "import yfinance as yf\n",
    "import pandas as pd\n",
    "import numpy as np\n",
    "from tqdm import tqdm\n",
    "import time\n",
    "import os\n",
    "from datetime import datetime, timedelta\n",
    "import warnings\n",
    "warnings.filterwarnings('ignore')\n",
    "\n",
    "class SimpleCryptoDownloader:\n",
    "    def __init__(self, start_date=\"2015-01-01\", end_date=\"2025-12-30\", output=\"/workspace/AI모델/projects/crypto-prediction/crypto-prediction/data\", top_n=150):\n",
    "        self.top_n = top_n\n",
    "        self.start_date = start_date\n",
    "        self.end_date = end_date\n",
    "        self.output = output\n",
    "        self.symbols = []\n",
    "        self.crypto_data = {}\n",
    "        self.crypto_info = {}\n",
    "        self.failed_symbols = []\n",
    "        \n",
    "    def get_top_crypto_symbols(self):\n",
    "        \"\"\"야후 파이낸스에서 시가총액 기준 상위 코인 티커 가져오기\"\"\"\n",
    "        print(f\"🔍 시가총액 기준 상위 {self.top_n}개 코인 티커 검색 중...\")\n",
    "        \n",
    "        # 주요 코인들의 야후 파이낸스 티커 (USD 기준)\n",
    "        major_cryptos = [\n",
    "            'BTC-USD', 'ETH-USD', 'USDT-USD', 'BNB-USD', 'SOL-USD', \n",
    "            'USDC-USD', 'XRP-USD', 'DOGE-USD', 'TON11419-USD', 'ADA-USD',\n",
    "            'SHIB-USD', 'AVAX-USD', 'TRX-USD', 'DOT-USD', 'BCH-USD',\n",
    "            'NEAR-USD', 'MATIC-USD', 'ICP-USD', 'UNI7083-USD', 'LTC-USD',\n",
    "            'DAI-USD', 'LEO-USD', 'ETC-USD', 'APT21794-USD', 'STX4847-USD',\n",
    "            'CRO-USD', 'OKB-USD', 'ATOM-USD', 'FIL-USD', 'IMX10603-USD',\n",
    "            'VET-USD', 'MNT27075-USD', 'ARB11841-USD', 'HBAR-USD', 'OP-USD',\n",
    "            'MKR-USD', 'AAVE-USD', 'GRT6719-USD', 'SEI23149-USD', 'SUI20947-USD',\n",
    "            'THETA-USD', 'RUNE-USD', 'FTM-USD', 'ALGO-USD', 'FLOW-USD',\n",
    "            'SAND-USD', 'XLM-USD', 'AXS-USD', 'MANA-USD', 'CHZ-USD',\n",
    "            'EGLD-USD', 'KCS-USD', 'XTZ-USD', 'EOS-USD', 'CAKE-USD',\n",
    "            'QNT-USD', 'ASTR-USD', 'FEI-USD', 'KLAY-USD', 'NEO-USD',\n",
    "            'IOTA-USD', 'BSV-USD', 'XMR-USD', 'COMP-USD', 'ZEC-USD',\n",
    "            'DASH-USD', 'WAVES-USD', 'QTUM-USD', 'BAT-USD', 'DYDX-USD',\n",
    "            'CRV-USD', 'ENJ-USD', '1INCH-USD', 'ZIL-USD', 'SUSHI-USD',\n",
    "            'YFI-USD', 'REN-USD', 'BNT-USD', 'SNX-USD', 'UMA-USD',\n",
    "            'STORJ-USD', 'BAL-USD', 'NMR-USD', 'LRC-USD', 'KNC-USD',\n",
    "            'BAND-USD', 'RSR-USD', 'RLC-USD', 'REP-USD', 'ZRX-USD',\n",
    "            'OXT-USD', 'MLN-USD', 'FARM-USD', 'BADGER-USD', 'PICKLE-USD',\n",
    "            'ALPHA-USD', 'CREAM-USD', 'TORN-USD', 'COVER-USD', 'INDEX-USD',\n",
    "            'DPI-USD', 'PERP-USD', 'API3-USD', 'KEEP-USD', 'NU-USD',\n",
    "            'MASK-USD', 'TRU-USD', 'RAD-USD', 'CTX-USD', 'BOND-USD',\n",
    "            'POOL-USD', 'FOX-USD', 'TRIBE-USD', 'RALLY-USD', 'XYO-USD',\n",
    "            'REQ-USD', 'POLY-USD', 'PRQ-USD', 'REEF-USD', 'POLS-USD',\n",
    "            'OGN-USD', 'NKN-USD', 'LPT-USD', 'RGT-USD', 'PPAY-USD',\n",
    "            'ANKR-USD', 'CVC-USD', 'GNO-USD', 'MPH-USD', 'RARI-USD',\n",
    "            'TOKE-USD', 'ALCX-USD', 'FXS-USD', 'CVX-USD', 'SPELL-USD',\n",
    "            'JPEG-USD', 'TRIBE-USD', 'VISR-USD', 'TRAC-USD', 'QSP-USD',\n",
    "            'RBN-USD', 'OCEAN-USD', 'FET-USD', 'AGIX-USD', 'RNDR-USD',\n",
    "            'INJ-USD', 'CFG-USD', 'COTI-USD', 'ERG-USD', 'CKB-USD'\n",
    "        ]\n",
    "        \n",
    "        # 시가총액 정보를 가져와서 정렬\n",
    "        valid_symbols = []\n",
    "        market_caps = {}\n",
    "        \n",
    "        print(\"📊 각 코인의 시가총액 정보 수집 중...\")\n",
    "        for symbol in tqdm(major_cryptos[:200], desc=\"시가총액 조회\"):\n",
    "            try:\n",
    "                ticker = yf.Ticker(symbol)\n",
    "                info = ticker.info\n",
    "                market_cap = info.get('marketCap', 0)\n",
    "                \n",
    "                if market_cap and market_cap > 0:\n",
    "                    market_caps[symbol] = market_cap\n",
    "                    valid_symbols.append(symbol)\n",
    "                \n",
    "                time.sleep(0.05)\n",
    "                \n",
    "            except Exception as e:\n",
    "                continue\n",
    "        \n",
    "        # 시가총액 순으로 정렬하여 상위 N개 선택\n",
    "        sorted_symbols = sorted(valid_symbols, key=lambda x: market_caps.get(x, 0), reverse=True)\n",
    "        self.symbols = sorted_symbols[:self.top_n]\n",
    "        \n",
    "        print(f\"✅ 상위 {len(self.symbols)}개 코인 티커 선정 완료\")\n",
    "        print(f\"📈 Top 10 코인:\")\n",
    "        for i, symbol in enumerate(self.symbols[:10]):\n",
    "            market_cap_b = market_caps[symbol] / 1e9\n",
    "            print(f\"   {i+1:2d}. {symbol:<12} (시총: ${market_cap_b:.1f}B)\")\n",
    "        \n",
    "        return self.symbols\n",
    "        \n",
    "    def download_basic_data(self, chunk_size=20):\n",
    "        \"\"\"기본 OHLCV 데이터만 다운로드\"\"\"\n",
    "        print(\"📈 기본 OHLCV 데이터 다운로드 중...\")\n",
    "        \n",
    "        for i in tqdm(range(0, len(self.symbols), chunk_size), desc=\"기본 데이터\"):\n",
    "            chunk = self.symbols[i:i+chunk_size]\n",
    "            chunk_str = \" \".join(chunk)\n",
    "            \n",
    "            try:\n",
    "                data = yf.download(\n",
    "                    chunk_str, \n",
    "                    start=self.start_date, \n",
    "                    end=self.end_date,\n",
    "                    progress=False,\n",
    "                    group_by='ticker',\n",
    "                    auto_adjust=True,\n",
    "                    prepost=False,\n",
    "                    threads=True\n",
    "                )\n",
    "                \n",
    "                # 개별 코인별로 분리 및 정리\n",
    "                for symbol in chunk:\n",
    "                    try:\n",
    "                        if len(chunk) == 1:\n",
    "                            coin_data = data.copy()\n",
    "                        else:\n",
    "                            if symbol in data.columns.levels[0]:\n",
    "                                coin_data = data[symbol].copy()\n",
    "                            else:\n",
    "                                self.failed_symbols.append(symbol)\n",
    "                                continue\n",
    "                        \n",
    "                        # 데이터 정리: 기본 OHLCV 컬럼만 유지\n",
    "                        if not coin_data.empty:\n",
    "                            # 컬럼명 표준화\n",
    "                            required_columns = ['Open', 'High', 'Low', 'Close', 'Volume']\n",
    "                            available_columns = [col for col in required_columns if col in coin_data.columns]\n",
    "                            \n",
    "                            if len(available_columns) >= 4:  # OHLC는 최소한 있어야 함\n",
    "                                clean_data = coin_data[available_columns].copy()\n",
    "                                clean_data = clean_data.dropna(how='all')  # 모든 값이 NaN인 행 제거\n",
    "                                \n",
    "                                if len(clean_data) > 0:\n",
    "                                    self.crypto_data[symbol] = clean_data\n",
    "                                else:\n",
    "                                    self.failed_symbols.append(symbol)\n",
    "                            else:\n",
    "                                self.failed_symbols.append(symbol)\n",
    "                        else:\n",
    "                            self.failed_symbols.append(symbol)\n",
    "                            \n",
    "                    except Exception as e:\n",
    "                        self.failed_symbols.append(symbol)\n",
    "                        print(f\"⚠️ {symbol} 데이터 분리 실패: {e}\")\n",
    "                        \n",
    "            except Exception as e:\n",
    "                print(f\"⚠️ 청크 다운로드 실패: {e}\")\n",
    "                self.failed_symbols.extend(chunk)\n",
    "            \n",
    "            time.sleep(0.5)\n",
    "    \n",
    "    def save_basic_data(self):\n",
    "        \"\"\"기본 OHLCV 데이터를 CSV로 저장\"\"\"\n",
    "        print(\"💾 기본 데이터 CSV 파일 저장 중...\")\n",
    "        \n",
    "        # 출력 디렉토리 생성\n",
    "        os.makedirs(self.output, exist_ok=True)\n",
    "        os.makedirs(f\"{self.output}/raw_data\", exist_ok=True)\n",
    "        \n",
    "        # 개별 코인 CSV 저장\n",
    "        saved_count = 0\n",
    "        for symbol, data in tqdm(self.crypto_data.items(), desc=\"CSV 저장\"):\n",
    "            if not data.empty:\n",
    "                # 파일명에서 특수문자 제거\n",
    "                safe_symbol = symbol.replace('-USD', '').replace('/', '_')\n",
    "                filename = f\"{self.output}/raw_data/{safe_symbol}.csv\"\n",
    "                \n",
    "                # Date 컬럼 추가 (인덱스를 컬럼으로)\n",
    "                data_to_save = data.copy()\n",
    "                data_to_save.reset_index(inplace=True)\n",
    "                data_to_save.rename(columns={'Date': 'Date'}, inplace=True)\n",
    "                \n",
    "                data_to_save.to_csv(filename, index=False)\n",
    "                saved_count += 1\n",
    "        \n",
    "        # 다운로드 요약 정보\n",
    "        summary = {\n",
    "            'total_symbols': len(self.symbols),\n",
    "            'successful_downloads': saved_count,\n",
    "            'failed_downloads': len(self.failed_symbols),\n",
    "            'failed_symbols': self.failed_symbols,\n",
    "            'download_date': datetime.now().strftime('%Y-%m-%d %H:%M:%S'),\n",
    "            'date_range': f\"{self.start_date} to {self.end_date}\",\n",
    "            'data_type': 'Basic OHLCV only'\n",
    "        }\n",
    "        \n",
    "        summary_df = pd.DataFrame([summary])\n",
    "        summary_df.to_csv(f\"{self.output}/download_summary.csv\", index=False)\n",
    "        \n",
    "        # 성공한 심볼 리스트 저장\n",
    "        if saved_count > 0:\n",
    "            success_symbols = [symbol for symbol in self.crypto_data.keys() if not self.crypto_data[symbol].empty]\n",
    "            symbols_df = pd.DataFrame({'Symbol': success_symbols})\n",
    "            symbols_df.to_csv(f\"{self.output}/successful_symbols.csv\", index=False)\n",
    "        \n",
    "        print(f\"✅ 기본 데이터 저장 완료!\")\n",
    "        print(f\"📁 저장 위치: {self.output}/raw_data/\")\n",
    "        print(f\"✅ 성공: {saved_count}개\")\n",
    "        print(f\"❌ 실패: {len(self.failed_symbols)}개\")\n",
    "        if self.failed_symbols:\n",
    "            print(f\"실패 종목: {', '.join(self.failed_symbols[:10])}{'...' if len(self.failed_symbols) > 10 else ''}\")\n",
    "    \n",
    "    def run_download(self):\n",
    "        \"\"\"기본 데이터 다운로드 프로세스 실행\"\"\"\n",
    "        print(\"🚀 암호화폐 기본 데이터 다운로드 시작!\")\n",
    "        print(f\"🪙 대상: 시가총액 상위 {self.top_n}개 코인\")\n",
    "        print(f\"📅 기간: {self.start_date} ~ {self.end_date}\")\n",
    "        print(\"=\"*50)\n",
    "        \n",
    "        # 1. 상위 코인 티커 가져오기\n",
    "        self.get_top_crypto_symbols()\n",
    "        \n",
    "        # 2. 기본 데이터 다운로드\n",
    "        self.download_basic_data()\n",
    "        \n",
    "        # 3. CSV 저장\n",
    "        self.save_basic_data()\n",
    "        \n",
    "        print(\"=\"*50)\n",
    "        print(\"🎉 기본 데이터 다운로드 완료!\")\n",
    "        \n",
    "        return self.crypto_data\n"
   ]
  },
  {
   "cell_type": "code",
   "execution_count": 3,
   "id": "ad9e009e",
   "metadata": {},
   "outputs": [
    {
     "name": "stdout",
     "output_type": "stream",
     "text": [
      "🚀 암호화폐 기본 데이터 다운로드 시작!\n",
      "🪙 대상: 시가총액 상위 100개 코인\n",
      "📅 기간: 2015-01-01 ~ 2025-09-15\n",
      "==================================================\n",
      "🔍 시가총액 기준 상위 100개 코인 티커 검색 중...\n",
      "📊 각 코인의 시가총액 정보 수집 중...\n"
     ]
    },
    {
     "name": "stderr",
     "output_type": "stream",
     "text": [
      "시가총액 조회:  25%|██▌       | 38/150 [00:21<01:00,  1.86it/s]HTTP Error 404: \n",
      "시가총액 조회: 100%|██████████| 150/150 [01:22<00:00,  1.82it/s]\n"
     ]
    },
    {
     "name": "stdout",
     "output_type": "stream",
     "text": [
      "✅ 상위 100개 코인 티커 선정 완료\n",
      "📈 Top 10 코인:\n",
      "    1. BTC-USD      (시총: $2337.1B)\n",
      "    2. ETH-USD      (시총: $555.2B)\n",
      "    3. XRP-USD      (시총: $185.7B)\n",
      "    4. USDT-USD     (시총: $171.2B)\n",
      "    5. BNB-USD      (시총: $138.7B)\n",
      "    6. SOL-USD      (시총: $133.9B)\n",
      "    7. USDC-USD     (시총: $73.6B)\n",
      "    8. DOGE-USD     (시총: $42.4B)\n",
      "    9. ADA-USD      (시총: $32.9B)\n",
      "   10. TRX-USD      (시총: $32.7B)\n",
      "📈 기본 OHLCV 데이터 다운로드 중...\n"
     ]
    },
    {
     "name": "stderr",
     "output_type": "stream",
     "text": [
      "기본 데이터: 100%|██████████| 5/5 [00:13<00:00,  2.71s/it]\n"
     ]
    },
    {
     "name": "stdout",
     "output_type": "stream",
     "text": [
      "💾 기본 데이터 CSV 파일 저장 중...\n"
     ]
    },
    {
     "name": "stderr",
     "output_type": "stream",
     "text": [
      "CSV 저장: 100%|██████████| 100/100 [00:03<00:00, 29.74it/s]\n"
     ]
    },
    {
     "name": "stdout",
     "output_type": "stream",
     "text": [
      "✅ 기본 데이터 저장 완료!\n",
      "📁 저장 위치: /workspace/AI모델/projects/coin/data/raw_data/\n",
      "✅ 성공: 100개\n",
      "❌ 실패: 0개\n",
      "==================================================\n",
      "🎉 기본 데이터 다운로드 완료!\n",
      "\n",
      "📋 다운로드된 코인 수: 100\n",
      "🪙 샘플 데이터 (BTC-USD):\n",
      "   - 기간: 2015-01-01 00:00:00 ~ 2025-09-14 00:00:00\n",
      "   - 행 수: 3910\n",
      "   - 컬럼: ['Open', 'High', 'Low', 'Close', 'Volume']\n",
      "   - 첫 3행:\n",
      "Price             Open        High         Low       Close    Volume\n",
      "Date                                                                \n",
      "2015-01-01  320.434998  320.434998  314.002991  314.248993   8036550\n",
      "2015-01-02  314.079010  315.838989  313.565002  315.032013   7860650\n",
      "2015-01-03  314.846008  315.149994  281.082001  281.082001  33054400\n"
     ]
    }
   ],
   "source": [
    "# 사용 예시\n",
    "if __name__ == \"__main__\":\n",
    "    # 다운로더 인스턴스 생성\n",
    "    downloader = SimpleCryptoDownloader(\n",
    "        start_date=\"2015-01-01\", \n",
    "        end_date=\"2025-09-15\",\n",
    "        output=\"/workspace/AI모델/projects/coin/data\",\n",
    "        top_n=100  # 상위 100개만\n",
    "    )\n",
    "    \n",
    "    # 기본 데이터 다운로드 실행\n",
    "    crypto_data = downloader.run_download()\n",
    "    \n",
    "    print(f\"\\n📋 다운로드된 코인 수: {len(crypto_data)}\")\n",
    "    if crypto_data:\n",
    "        sample_symbol = list(crypto_data.keys())[0]\n",
    "        sample_data = crypto_data[sample_symbol]\n",
    "        print(f\"🪙 샘플 데이터 ({sample_symbol}):\")\n",
    "        print(f\"   - 기간: {sample_data.index[0]} ~ {sample_data.index[-1]}\")\n",
    "        print(f\"   - 행 수: {len(sample_data)}\")\n",
    "        print(f\"   - 컬럼: {list(sample_data.columns)}\")\n",
    "        print(f\"   - 첫 3행:\\n{sample_data.head(3)}\")"
   ]
  },
  {
   "cell_type": "markdown",
   "id": "cb22b038",
   "metadata": {},
   "source": [
    "# 지표코드"
   ]
  },
  {
   "cell_type": "code",
   "execution_count": 3,
   "id": "4b142527",
   "metadata": {},
   "outputs": [],
   "source": [
    "import pandas as pd\n",
    "import numpy as np\n",
    "import os\n",
    "from tqdm import tqdm\n",
    "import warnings\n",
    "from datetime import datetime, timedelta\n",
    "warnings.filterwarnings('ignore')\n",
    "\n",
    "class CryptoTechnicalIndicators:\n",
    "    def __init__(self, input_folder, output_folder, start_date=None, end_date=None):\n",
    "        \"\"\"\n",
    "        기술지표 계산기 초기화\n",
    "        \n",
    "        Parameters:\n",
    "        input_folder: 원본 CSV 파일들이 있는 폴더 경로\n",
    "        output_folder: 기술지표가 추가된 CSV를 저장할 폴더 경로\n",
    "        start_date: 계산 시작 날짜 (없으면 전체 기간)\n",
    "        end_date: 계산 종료 날짜 (없으면 전체 기간)\n",
    "        \"\"\"\n",
    "        self.input_folder = input_folder\n",
    "        self.output_folder = output_folder\n",
    "        self.start_date = start_date\n",
    "        self.end_date = end_date\n",
    "        self.processed_data = {}\n",
    "        self.failed_symbols = []\n",
    "        \n",
    "    def load_crypto_data(self, symbol_file):\n",
    "        \"\"\"개별 코인 CSV 파일 로드\"\"\"\n",
    "        try:\n",
    "            df = pd.read_csv(symbol_file)\n",
    "            \n",
    "            # Date 컬럼을 datetime으로 변환하고 인덱스로 설정\n",
    "            if 'Date' in df.columns:\n",
    "                df['Date'] = pd.to_datetime(df['Date'])\n",
    "                df.set_index('Date', inplace=True)\n",
    "            else:\n",
    "                # 첫 번째 컬럼이 날짜일 가능성\n",
    "                df.iloc[:, 0] = pd.to_datetime(df.iloc[:, 0])\n",
    "                df.set_index(df.columns[0], inplace=True)\n",
    "            \n",
    "            # 기간 필터링\n",
    "            if self.start_date:\n",
    "                df = df[df.index >= self.start_date]\n",
    "            if self.end_date:\n",
    "                df = df[df.index <= self.end_date]\n",
    "            \n",
    "            # 필수 컬럼 확인\n",
    "            required_columns = ['Open', 'High', 'Low', 'Close']\n",
    "            if not all(col in df.columns for col in required_columns):\n",
    "                return None\n",
    "            \n",
    "            # 데이터 정렬 (날짜순)\n",
    "            df = df.sort_index()\n",
    "            \n",
    "            return df\n",
    "            \n",
    "        except Exception as e:\n",
    "            print(f\"⚠️ 파일 로드 실패 {symbol_file}: {e}\")\n",
    "            return None\n",
    "    \n",
    "    def calculate_moving_averages(self, df):\n",
    "        \"\"\"이동평균 계산 - 전략에 필요한 추가 기간 포함\"\"\"\n",
    "        try:\n",
    "            # 단순 이동평균 (전략에서 요구하는 모든 기간)\n",
    "            periods = [2, 3, 4, 5, 6, 7, 8, 10, 13, 16, 20, 25, 29, 50, 60, 100, 120, 200]\n",
    "            for period in periods:\n",
    "                if len(df) >= period:\n",
    "                    df[f'MA_{period}'] = df['Close'].rolling(window=period, min_periods=period).mean()\n",
    "            \n",
    "            # 지수이동평균 (전략 필요 기간)\n",
    "            ema_periods = [3, 4, 5, 6, 7, 10, 12, 20, 24, 26, 50]\n",
    "            for period in ema_periods:\n",
    "                if len(df) >= period:\n",
    "                    df[f'EMA_{period}'] = df['Close'].ewm(span=period, min_periods=period).mean()\n",
    "            \n",
    "        except Exception as e:\n",
    "            print(f\"⚠️ 이동평균 계산 실패: {e}\")\n",
    "        \n",
    "        return df\n",
    "        \n",
    "    def calculate_macd_variations(self, df):\n",
    "        \"\"\"다양한 MACD 변형 계산\"\"\"\n",
    "        try:\n",
    "            # 기본 MACD (12,26,9)\n",
    "            if 'EMA_12' in df.columns and 'EMA_26' in df.columns:\n",
    "                df['MACD'] = df['EMA_12'] - df['EMA_26']\n",
    "                df['MACD_Signal'] = df['MACD'].ewm(span=9, min_periods=9).mean()\n",
    "                df['MACD_Histogram'] = df['MACD'] - df['MACD_Signal']\n",
    "            \n",
    "            # MACD (10,20,9) - 메모 1-58번용\n",
    "            if len(df) >= 20:\n",
    "                ema_10 = df['Close'].ewm(span=10, min_periods=10).mean()\n",
    "                ema_20_macd = df['Close'].ewm(span=20, min_periods=20).mean()\n",
    "                df['MACD_10_20'] = ema_10 - ema_20_macd\n",
    "                df['MACD_10_20_Signal'] = df['MACD_10_20'].ewm(span=9, min_periods=9).mean()\n",
    "            \n",
    "            # MACD (15,26,9) - 메모 1-144번용\n",
    "            if len(df) >= 26:\n",
    "                ema_15 = df['Close'].ewm(span=15, min_periods=15).mean()\n",
    "                if 'EMA_26' in df.columns:\n",
    "                    df['MACD_15_26'] = ema_15 - df['EMA_26']\n",
    "                    df['MACD_15_26_Signal'] = df['MACD_15_26'].ewm(span=9, min_periods=9).mean()\n",
    "            \n",
    "            # MACD (5,27,9) - 메모 3-292번용\n",
    "            if len(df) >= 27:\n",
    "                ema_5_macd = df['Close'].ewm(span=5, min_periods=5).mean()\n",
    "                ema_27 = df['Close'].ewm(span=27, min_periods=27).mean()\n",
    "                df['MACD_5_27'] = ema_5_macd - ema_27\n",
    "                df['MACD_5_27_Signal'] = df['MACD_5_27'].ewm(span=9, min_periods=9).mean()\n",
    "                \n",
    "        except Exception as e:\n",
    "            print(f\"⚠️ MACD 변형 계산 실패: {e}\")\n",
    "        \n",
    "        return df\n",
    "    \n",
    "    def calculate_rsi_variations(self, df):\n",
    "        \"\"\"다양한 RSI 기간 계산\"\"\"\n",
    "        try:\n",
    "            # 전략에서 필요한 모든 RSI 기간\n",
    "            rsi_periods = [4, 5, 6, 7, 12, 14, 20, 21]\n",
    "            \n",
    "            for period in rsi_periods:\n",
    "                if len(df) >= period + 1:\n",
    "                    delta = df['Close'].diff()\n",
    "                    gain = (delta.where(delta > 0, 0)).rolling(window=period, min_periods=period).mean()\n",
    "                    loss = (-delta.where(delta < 0, 0)).rolling(window=period, min_periods=period).mean()\n",
    "                    \n",
    "                    rs = np.where(loss > 0, gain / loss, 0)\n",
    "                    df[f'RSI_{period}'] = 100 - (100 / (1 + rs))\n",
    "                    \n",
    "        except Exception as e:\n",
    "            print(f\"⚠️ RSI 변형 계산 실패: {e}\")\n",
    "        \n",
    "        return df\n",
    "    \n",
    "    def calculate_bollinger_bands(self, df, period=20, std_mult=2):\n",
    "        \"\"\"볼린저 밴드 계산\"\"\"\n",
    "        try:\n",
    "            if len(df) >= period:\n",
    "                df[f'BB_Middle_{period}'] = df['Close'].rolling(window=period, min_periods=period).mean()\n",
    "                bb_std = df['Close'].rolling(window=period, min_periods=period).std()\n",
    "                df[f'BB_Upper_{period}'] = df[f'BB_Middle_{period}'] + (bb_std * std_mult)\n",
    "                df[f'BB_Lower_{period}'] = df[f'BB_Middle_{period}'] - (bb_std * std_mult)\n",
    "                df[f'BB_Width_{period}'] = df[f'BB_Upper_{period}'] - df[f'BB_Lower_{period}']\n",
    "                \n",
    "                # BB Position (0~1 사이의 값)\n",
    "                df[f'BB_Position_{period}'] = np.where(\n",
    "                    df[f'BB_Width_{period}'] > 0,\n",
    "                    (df['Close'] - df[f'BB_Lower_{period}']) / df[f'BB_Width_{period}'],\n",
    "                    0.5\n",
    "                )\n",
    "        except Exception as e:\n",
    "            print(f\"⚠️ 볼린저 밴드 계산 실패: {e}\")\n",
    "        \n",
    "        return df\n",
    "    \n",
    "    def calculate_returns(self, df):\n",
    "        \"\"\"수익률 계산\"\"\"\n",
    "        try:\n",
    "            # 다양한 기간의 수익률\n",
    "            periods = [1, 3, 7, 14, 30, 90, 180, 365]\n",
    "            \n",
    "            # 일일 수익률\n",
    "            df['Return_1d'] = df['Close'].pct_change(periods=1)\n",
    "            \n",
    "            # 다기간 수익률\n",
    "            for period in periods[1:]:  # 1일 제외\n",
    "                if len(df) > period:\n",
    "                    df[f'Return_{period}d'] = df['Close'] / df['Close'].shift(period) - 1\n",
    "            \n",
    "            # 누적 수익률\n",
    "            df['Cumulative_Return'] = (1 + df['Return_1d'].fillna(0)).cumprod() - 1\n",
    "            \n",
    "        except Exception as e:\n",
    "            print(f\"⚠️ 수익률 계산 실패: {e}\")\n",
    "        \n",
    "        return df\n",
    "    \n",
    "    def calculate_volatility(self, df):\n",
    "        \"\"\"변동성 계산\"\"\"\n",
    "        try:\n",
    "            periods = [7, 14, 30, 90]\n",
    "            \n",
    "            for period in periods:\n",
    "                if len(df) >= period and 'Return_1d' in df.columns:\n",
    "                    df[f'Volatility_{period}d'] = df['Return_1d'].rolling(\n",
    "                        window=period, min_periods=period\n",
    "                    ).std() * np.sqrt(365)  # 연간화\n",
    "                    \n",
    "        except Exception as e:\n",
    "            print(f\"⚠️ 변동성 계산 실패: {e}\")\n",
    "        \n",
    "        return df\n",
    "    \n",
    "    def calculate_volume_indicators(self, df):\n",
    "        \"\"\"거래량 지표 계산\"\"\"\n",
    "        try:\n",
    "            if 'Volume' in df.columns:\n",
    "                # 거래량 이동평균\n",
    "                periods = [7, 20, 50]\n",
    "                for period in periods:\n",
    "                    if len(df) >= period:\n",
    "                        df[f'Volume_MA_{period}'] = df['Volume'].rolling(\n",
    "                            window=period, min_periods=period\n",
    "                        ).mean()\n",
    "                \n",
    "                # 거래량 비율\n",
    "                if 'Volume_MA_20' in df.columns:\n",
    "                    df['Volume_Ratio'] = np.where(\n",
    "                        df['Volume_MA_20'] > 0,\n",
    "                        df['Volume'] / df['Volume_MA_20'],\n",
    "                        1\n",
    "                    )\n",
    "                \n",
    "                # 거래량-가격 트렌드\n",
    "                df['Volume_Price_Trend'] = df['Volume'] * df['Close']\n",
    "                \n",
    "        except Exception as e:\n",
    "            print(f\"⚠️ 거래량 지표 계산 실패: {e}\")\n",
    "        \n",
    "        return df\n",
    "    \n",
    "    def calculate_atr(self, df, period=14):\n",
    "        \"\"\"ATR (Average True Range) 계산\"\"\"\n",
    "        try:\n",
    "            if len(df) >= 2:\n",
    "                # True Range 계산\n",
    "                df['True_Range'] = np.maximum(\n",
    "                    df['High'] - df['Low'],\n",
    "                    np.maximum(\n",
    "                        abs(df['High'] - df['Close'].shift(1)),\n",
    "                        abs(df['Low'] - df['Close'].shift(1))\n",
    "                    )\n",
    "                )\n",
    "                \n",
    "                if len(df) >= period:\n",
    "                    df[f'ATR_{period}'] = df['True_Range'].rolling(\n",
    "                        window=period, min_periods=period\n",
    "                    ).mean()\n",
    "                    \n",
    "                    # ATR 퍼센트\n",
    "                    df[f'ATR_Percent_{period}'] = np.where(\n",
    "                        df['Close'] > 0,\n",
    "                        df[f'ATR_{period}'] / df['Close'] * 100,\n",
    "                        0\n",
    "                    )\n",
    "                    \n",
    "        except Exception as e:\n",
    "            print(f\"⚠️ ATR 계산 실패: {e}\")\n",
    "        \n",
    "        return df\n",
    "    \n",
    "    def calculate_stochastic_variations(self, df):\n",
    "        \"\"\"다양한 스토캐스틱 기간 계산\"\"\"\n",
    "        try:\n",
    "            # 전략에서 필요한 스토캐스틱 조합들\n",
    "            stoch_configs = [\n",
    "                (1, 3),    # 메모 8-432, 10-120번용\n",
    "                (3, 3),    # 메모 3-231번용\n",
    "                (4, 2),    # 메모 2-249번용\n",
    "                (5, 3),    # 메모 7-248번용\n",
    "                (6, 2),    # 메모 7-369번용\n",
    "                (14, 3)    # 기본\n",
    "            ]\n",
    "            \n",
    "            for k_period, d_period in stoch_configs:\n",
    "                if len(df) >= k_period:\n",
    "                    low_k = df['Low'].rolling(window=k_period, min_periods=k_period).min()\n",
    "                    high_k = df['High'].rolling(window=k_period, min_periods=k_period).max()\n",
    "                    range_k = high_k - low_k\n",
    "                    \n",
    "                    df[f'Stoch_K_{k_period}'] = np.where(\n",
    "                        range_k > 0,\n",
    "                        100 * ((df['Close'] - low_k) / range_k),\n",
    "                        50\n",
    "                    )\n",
    "                    \n",
    "                    if len(df) >= k_period + d_period - 1:\n",
    "                        df[f'Stoch_D_{k_period}'] = df[f'Stoch_K_{k_period}'].rolling(\n",
    "                            window=d_period, min_periods=d_period\n",
    "                        ).mean()\n",
    "                        \n",
    "        except Exception as e:\n",
    "            print(f\"⚠️ 스토캐스틱 변형 계산 실패: {e}\")\n",
    "        \n",
    "        return df\n",
    "\n",
    "    def calculate_williams_r_variations(self, df):\n",
    "        \"\"\"다양한 Williams %R 기간 계산\"\"\"\n",
    "        try:\n",
    "            # 전략에서 필요한 Williams %R 기간들\n",
    "            wr_periods = [1, 8, 10, 14]\n",
    "            \n",
    "            for period in wr_periods:\n",
    "                if len(df) >= period:\n",
    "                    low_period = df['Low'].rolling(window=period, min_periods=period).min()\n",
    "                    high_period = df['High'].rolling(window=period, min_periods=period).max()\n",
    "                    range_period = high_period - low_period\n",
    "                    \n",
    "                    df[f'Williams_R_{period}'] = np.where(\n",
    "                        range_period > 0,\n",
    "                        -100 * (high_period - df['Close']) / range_period,\n",
    "                        -50\n",
    "                    )\n",
    "            \n",
    "            # 기본 Williams %R도 유지 (14일 기준)\n",
    "            if 'Williams_R_14' in df.columns:\n",
    "                df['Williams_R'] = df['Williams_R_14']\n",
    "                    \n",
    "        except Exception as e:\n",
    "            print(f\"⚠️ Williams %R 변형 계산 실패: {e}\")\n",
    "        \n",
    "        return df\n",
    "\n",
    "    def calculate_cci_variations(self, df):\n",
    "        \"\"\"다양한 CCI 기간 계산\"\"\"\n",
    "        try:\n",
    "            # 전략에서 필요한 CCI 기간들\n",
    "            cci_periods = [3, 4, 10, 17, 20]\n",
    "            \n",
    "            for period in cci_periods:\n",
    "                if len(df) >= period:\n",
    "                    tp = (df['High'] + df['Low'] + df['Close']) / 3\n",
    "                    cci_ma = tp.rolling(window=period, min_periods=period).mean()\n",
    "                    cci_mad = tp.rolling(window=period, min_periods=period).apply(\n",
    "                        lambda x: np.mean(np.abs(x - np.mean(x))), raw=True\n",
    "                    )\n",
    "                    \n",
    "                    df[f'CCI_{period}'] = np.where(\n",
    "                        cci_mad > 0,\n",
    "                        (tp - cci_ma) / (0.015 * cci_mad),\n",
    "                        0\n",
    "                    )\n",
    "            \n",
    "            # 기본 CCI도 유지 (20일 기준)\n",
    "            if 'CCI_20' in df.columns:\n",
    "                df['CCI'] = df['CCI_20']\n",
    "                \n",
    "        except Exception as e:\n",
    "            print(f\"⚠️ CCI 변형 계산 실패: {e}\")\n",
    "        \n",
    "        return df\n",
    "\n",
    "    def calculate_mfi_variations(self, df):\n",
    "        \"\"\"다양한 MFI 기간 계산\"\"\"\n",
    "        try:\n",
    "            if 'Volume' not in df.columns:\n",
    "                return df\n",
    "                \n",
    "            # 전략에서 필요한 MFI 기간들\n",
    "            mfi_periods = [11, 14]\n",
    "            \n",
    "            for period in mfi_periods:\n",
    "                if len(df) >= period:\n",
    "                    typical_price = (df['High'] + df['Low'] + df['Close']) / 3\n",
    "                    money_flow = typical_price * df['Volume']\n",
    "                    mf_sign = np.where(typical_price > typical_price.shift(1), 1, -1)\n",
    "                    mf_signed = money_flow * mf_sign\n",
    "                    \n",
    "                    mf_pos = mf_signed.where(mf_signed > 0, 0).rolling(period, min_periods=period).sum()\n",
    "                    mf_neg = -mf_signed.where(mf_signed < 0, 0).rolling(period, min_periods=period).sum()\n",
    "                    \n",
    "                    df[f'MFI_{period}'] = np.where(\n",
    "                        mf_neg > 0,\n",
    "                        100 - (100 / (1 + mf_pos / mf_neg)),\n",
    "                        50\n",
    "                    )\n",
    "            \n",
    "            # 기본 MFI도 유지 (14일 기준)\n",
    "            if 'MFI_14' in df.columns:\n",
    "                df['MFI'] = df['MFI_14']\n",
    "                \n",
    "        except Exception as e:\n",
    "            print(f\"⚠️ MFI 변형 계산 실패: {e}\")\n",
    "        \n",
    "        return df\n",
    "\n",
    "    def calculate_price_oscillator(self, df):\n",
    "        \"\"\"Price Oscillator 계산 (5차 전략용)\"\"\"\n",
    "        try:\n",
    "            # 전략에서 필요한 Price Oscillator 조합들\n",
    "            oscp_configs = [\n",
    "                (11, 36),  # 메모 5차 전략용\n",
    "                (18, 19),  # 메모 5차 전략용  \n",
    "                (19, 20)   # 메모 5차 전략용\n",
    "            ]\n",
    "            \n",
    "            for short, long in oscp_configs:\n",
    "                if len(df) >= long:\n",
    "                    short_ma = df['Close'].rolling(window=short, min_periods=short).mean()\n",
    "                    long_ma = df['Close'].rolling(window=long, min_periods=long).mean()\n",
    "                    \n",
    "                    df[f'OSCP_{short}_{long}'] = np.where(\n",
    "                        long_ma > 0,\n",
    "                        ((short_ma - long_ma) / long_ma) * 100,\n",
    "                        0\n",
    "                    )\n",
    "                    \n",
    "        except Exception as e:\n",
    "            print(f\"⚠️ Price Oscillator 계산 실패: {e}\")\n",
    "        \n",
    "        return df\n",
    "\n",
    "    def calculate_dmi_adx(self, df):\n",
    "        \"\"\"DMI와 ADX 계산\"\"\"\n",
    "        try:\n",
    "            period = 21  # 메모 1-116번용\n",
    "            \n",
    "            if len(df) >= period + 1:\n",
    "                # True Range 계산\n",
    "                df['TR'] = np.maximum(\n",
    "                    df['High'] - df['Low'],\n",
    "                    np.maximum(\n",
    "                        abs(df['High'] - df['Close'].shift(1)),\n",
    "                        abs(df['Low'] - df['Close'].shift(1))\n",
    "                    )\n",
    "                )\n",
    "                \n",
    "                # Directional Movement 계산\n",
    "                df['DM_Plus'] = np.where(\n",
    "                    (df['High'] - df['High'].shift(1)) > (df['Low'].shift(1) - df['Low']),\n",
    "                    np.maximum(df['High'] - df['High'].shift(1), 0),\n",
    "                    0\n",
    "                )\n",
    "                \n",
    "                df['DM_Minus'] = np.where(\n",
    "                    (df['Low'].shift(1) - df['Low']) > (df['High'] - df['High'].shift(1)),\n",
    "                    np.maximum(df['Low'].shift(1) - df['Low'], 0),\n",
    "                    0\n",
    "                )\n",
    "                \n",
    "                # Smoothed values\n",
    "                tr_smooth = df['TR'].rolling(window=period, min_periods=period).mean()\n",
    "                dm_plus_smooth = df['DM_Plus'].rolling(window=period, min_periods=period).mean()\n",
    "                dm_minus_smooth = df['DM_Minus'].rolling(window=period, min_periods=period).mean()\n",
    "                \n",
    "                # DI+ and DI-\n",
    "                df[f'DI_Plus_{period}'] = np.where(tr_smooth > 0, 100 * dm_plus_smooth / tr_smooth, 0)\n",
    "                df[f'DI_Minus_{period}'] = np.where(tr_smooth > 0, 100 * dm_minus_smooth / tr_smooth, 0)\n",
    "                \n",
    "                # ADX\n",
    "                dx = np.where(\n",
    "                    (df[f'DI_Plus_{period}'] + df[f'DI_Minus_{period}']) > 0,\n",
    "                    100 * abs(df[f'DI_Plus_{period}'] - df[f'DI_Minus_{period}']) / (df[f'DI_Plus_{period}'] + df[f'DI_Minus_{period}']),\n",
    "                    0\n",
    "                )\n",
    "                df[f'ADX_{period}'] = pd.Series(dx).rolling(window=period, min_periods=period).mean()\n",
    "                \n",
    "        except Exception as e:\n",
    "            print(f\"⚠️ DMI/ADX 계산 실패: {e}\")\n",
    "        \n",
    "        return df\n",
    "\n",
    "    def calculate_price_roc(self, df):\n",
    "        \"\"\"Price Rate of Change 계산\"\"\"\n",
    "        try:\n",
    "            # 전략에서 필요한 ROC 기간들\n",
    "            roc_periods = [3]  # 메모 10-540번용\n",
    "            \n",
    "            for period in roc_periods:\n",
    "                if len(df) >= period + 1:\n",
    "                    df[f'Price_ROC_{period}'] = ((df['Close'] / df['Close'].shift(period)) - 1) * 100\n",
    "                    \n",
    "        except Exception as e:\n",
    "            print(f\"⚠️ Price ROC 계산 실패: {e}\")\n",
    "        \n",
    "        return df\n",
    "\n",
    "    def calculate_standard_deviation(self, df):\n",
    "        \"\"\"표준편차 계산 (5차 전략용)\"\"\"\n",
    "        try:\n",
    "            periods = [1, 20]  # 전략에서 사용하는 기간들\n",
    "            \n",
    "            for period in periods:\n",
    "                if len(df) >= period:\n",
    "                    df[f'STD_{period}'] = df['Close'].rolling(window=period, min_periods=period).std()\n",
    "                    \n",
    "        except Exception as e:\n",
    "            print(f\"⚠️ 표준편차 계산 실패: {e}\")\n",
    "        \n",
    "        return df\n",
    "\n",
    "    def calculate_highest_lowest(self, df):\n",
    "        \"\"\"최고가/최저가 계산 (전략용)\"\"\"\n",
    "        try:\n",
    "            # 전략에서 필요한 기간들\n",
    "            periods = [3, 7, 8, 10, 11, 16, 17, 28]\n",
    "            \n",
    "            for period in periods:\n",
    "                if len(df) >= period:\n",
    "                    df[f'Highest_{period}'] = df['Close'].rolling(window=period, min_periods=period).max()\n",
    "                    df[f'Lowest_{period}'] = df['Close'].rolling(window=period, min_periods=period).min()\n",
    "                    \n",
    "        except Exception as e:\n",
    "            print(f\"⚠️ 최고가/최저가 계산 실패: {e}\")\n",
    "        \n",
    "        return df\n",
    "\n",
    "    def calculate_advanced_indicators(self, df):\n",
    "        \"\"\"고급 지표들 계산 - 통합된 함수\"\"\"\n",
    "        try:\n",
    "            # 기존 지표들 유지 (기본 Williams %R, CCI, MFI)\n",
    "            \n",
    "            # Williams %R (기본 14일)\n",
    "            if len(df) >= 14:\n",
    "                low_14 = df['Low'].rolling(window=14, min_periods=14).min()\n",
    "                high_14 = df['High'].rolling(window=14, min_periods=14).max()\n",
    "                range_14 = high_14 - low_14\n",
    "                \n",
    "                df['Williams_R'] = np.where(\n",
    "                    range_14 > 0,\n",
    "                    -100 * (high_14 - df['Close']) / range_14,\n",
    "                    -50\n",
    "                )\n",
    "            \n",
    "            # CCI (기본 20일)\n",
    "            if len(df) >= 20:\n",
    "                tp = (df['High'] + df['Low'] + df['Close']) / 3\n",
    "                cci_ma = tp.rolling(window=20, min_periods=20).mean()\n",
    "                cci_mad = tp.rolling(window=20, min_periods=20).apply(\n",
    "                    lambda x: np.mean(np.abs(x - np.mean(x))), raw=True\n",
    "                )\n",
    "                \n",
    "                df['CCI'] = np.where(\n",
    "                    cci_mad > 0,\n",
    "                    (tp - cci_ma) / (0.015 * cci_mad),\n",
    "                    0\n",
    "                )\n",
    "            \n",
    "            # MFI (기본 14일)\n",
    "            if len(df) >= 14 and 'Volume' in df.columns:\n",
    "                typical_price = (df['High'] + df['Low'] + df['Close']) / 3\n",
    "                money_flow = typical_price * df['Volume']\n",
    "                mf_sign = np.where(typical_price > typical_price.shift(1), 1, -1)\n",
    "                mf_signed = money_flow * mf_sign\n",
    "                \n",
    "                mf_pos = mf_signed.where(mf_signed > 0, 0).rolling(14, min_periods=14).sum()\n",
    "                mf_neg = -mf_signed.where(mf_signed < 0, 0).rolling(14, min_periods=14).sum()\n",
    "                \n",
    "                df['MFI'] = np.where(\n",
    "                    mf_neg > 0,\n",
    "                    100 - (100 / (1 + mf_pos / mf_neg)),\n",
    "                    50\n",
    "                )\n",
    "                \n",
    "        except Exception as e:\n",
    "            print(f\"⚠️ 고급지표 계산 실패: {e}\")\n",
    "        \n",
    "        return df\n",
    "    \n",
    "    def calculate_price_ratios(self, df):\n",
    "        \"\"\"가격 비율 지표 계산\"\"\"\n",
    "        try:\n",
    "            # 이동평균 대비 가격 비율\n",
    "            ma_periods = [7, 20, 50, 100, 200]\n",
    "            for period in ma_periods:\n",
    "                ma_col = f'MA_{period}'\n",
    "                if ma_col in df.columns:\n",
    "                    df[f'Price_vs_MA{period}'] = np.where(\n",
    "                        df[ma_col] > 0,\n",
    "                        df['Close'] / df[ma_col] - 1,\n",
    "                        0\n",
    "                    )\n",
    "            \n",
    "            # 고점/저점 대비 현재가 위치\n",
    "            periods = [52, 200]  # 52일, 200일\n",
    "            for period in periods:\n",
    "                if len(df) >= period:\n",
    "                    rolling_high = df['High'].rolling(window=period, min_periods=period).max()\n",
    "                    rolling_low = df['Low'].rolling(window=period, min_periods=period).min()\n",
    "                    range_hl = rolling_high - rolling_low\n",
    "                    \n",
    "                    df[f'HighLow_Position_{period}d'] = np.where(\n",
    "                        range_hl > 0,\n",
    "                        (df['Close'] - rolling_low) / range_hl,\n",
    "                        0.5\n",
    "                    )\n",
    "                    \n",
    "        except Exception as e:\n",
    "            print(f\"⚠️ 가격비율 계산 실패: {e}\")\n",
    "        \n",
    "        return df\n",
    "    \n",
    "    def process_single_crypto(self, csv_file):\n",
    "            \"\"\"개별 코인 파일 처리 - 향상된 버전\"\"\"\n",
    "            symbol = os.path.basename(csv_file).replace('.csv', '')\n",
    "            \n",
    "            try:\n",
    "                print(f\"📊 {symbol} 처리 중...\")\n",
    "                \n",
    "                # 1. 데이터 로드\n",
    "                df = self.load_crypto_data(csv_file)\n",
    "                if df is None or len(df) < 30:  # 최소 데이터 요구량 증가\n",
    "                    self.failed_symbols.append(symbol)\n",
    "                    return None\n",
    "                \n",
    "                print(f\"   - 데이터 기간: {df.index[0]} ~ {df.index[-1]} ({len(df)}일)\")\n",
    "                \n",
    "                # 2. 기본 기술지표 계산\n",
    "                df = self.calculate_moving_averages(df)\n",
    "                df = self.calculate_macd_variations(df)  # 수정된 함수\n",
    "                df = self.calculate_rsi_variations(df)   # 수정된 함수\n",
    "                df = self.calculate_bollinger_bands(df)\n",
    "                df = self.calculate_returns(df)\n",
    "                df = self.calculate_volatility(df)\n",
    "                df = self.calculate_volume_indicators(df)\n",
    "                df = self.calculate_atr(df)\n",
    "                \n",
    "                # 3. 전략용 추가 지표 계산\n",
    "                df = self.calculate_stochastic_variations(df)  # 새로 추가\n",
    "                df = self.calculate_williams_r_variations(df)  # 새로 추가\n",
    "                df = self.calculate_cci_variations(df)         # 새로 추가\n",
    "                df = self.calculate_mfi_variations(df)         # 새로 추가\n",
    "                df = self.calculate_price_oscillator(df)       # 새로 추가\n",
    "                df = self.calculate_dmi_adx(df)               # 새로 추가\n",
    "                df = self.calculate_price_roc(df)             # 새로 추가\n",
    "                df = self.calculate_standard_deviation(df)     # 새로 추가\n",
    "                df = self.calculate_highest_lowest(df)        # 새로 추가\n",
    "                df = self.calculate_advanced_indicators(df)\n",
    "                df = self.calculate_price_ratios(df)\n",
    "                \n",
    "                # 4. 무한값, NaN 처리\n",
    "                df = df.replace([np.inf, -np.inf], np.nan)\n",
    "                \n",
    "                # 5. 결과 저장\n",
    "                self.processed_data[symbol] = df\n",
    "                \n",
    "                print(f\"   - 최종 컬럼 수: {len(df.columns)}\")\n",
    "                \n",
    "                return df\n",
    "                \n",
    "            except Exception as e:\n",
    "                print(f\"⚠️ {symbol} 처리 실패: {e}\")\n",
    "                self.failed_symbols.append(symbol)\n",
    "                return None\n",
    "    \n",
    "    def process_all_cryptos(self):\n",
    "        \"\"\"모든 코인 파일 처리\"\"\"\n",
    "        print(\"🚀 기술지표 계산 시작!\")\n",
    "        print(f\"📁 입력 폴더: {self.input_folder}\")\n",
    "        print(f\"📅 기간: {self.start_date or '전체'} ~ {self.end_date or '전체'}\")\n",
    "        print(\"=\"*50)\n",
    "        \n",
    "        # CSV 파일 목록 가져오기\n",
    "        csv_files = [f for f in os.listdir(self.input_folder) if f.endswith('.csv')]\n",
    "        \n",
    "        if not csv_files:\n",
    "            print(\"❌ CSV 파일을 찾을 수 없습니다!\")\n",
    "            return\n",
    "        \n",
    "        print(f\"📊 총 {len(csv_files)}개 파일 발견\")\n",
    "        \n",
    "        # 각 파일 처리\n",
    "        for csv_file in tqdm(csv_files, desc=\"기술지표 계산\"):\n",
    "            file_path = os.path.join(self.input_folder, csv_file)\n",
    "            self.process_single_crypto(file_path)\n",
    "        \n",
    "        print(\"=\"*50)\n",
    "        print(f\"✅ 성공: {len(self.processed_data)}개\")\n",
    "        print(f\"❌ 실패: {len(self.failed_symbols)}개\")\n",
    "        if self.failed_symbols:\n",
    "            print(f\"실패 종목: {', '.join(self.failed_symbols[:10])}{'...' if len(self.failed_symbols) > 10 else ''}\")\n",
    "    \n",
    "    def save_processed_data(self):\n",
    "        \"\"\"처리된 데이터 저장\"\"\"\n",
    "        print(\"💾 기술지표 추가된 데이터 저장 중...\")\n",
    "        \n",
    "        # 출력 폴더 생성\n",
    "        os.makedirs(self.output_folder, exist_ok=True)\n",
    "        os.makedirs(f\"{self.output_folder}/with_indicators\", exist_ok=True)\n",
    "        \n",
    "        saved_count = 0\n",
    "        \n",
    "        # 개별 파일 저장\n",
    "        for symbol, df in tqdm(self.processed_data.items(), desc=\"저장\"):\n",
    "            try:\n",
    "                # Date를 첫 번째 컬럼으로 복원\n",
    "                df_to_save = df.copy()\n",
    "                df_to_save.reset_index(inplace=True)\n",
    "                \n",
    "                filename = f\"{self.output_folder}/with_indicators/{symbol}.csv\"\n",
    "                df_to_save.to_csv(filename, index=False)\n",
    "                saved_count += 1\n",
    "                \n",
    "            except Exception as e:\n",
    "                print(f\"⚠️ {symbol} 저장 실패: {e}\")\n",
    "        \n",
    "        # 통합 데이터셋 생성 (선택적)\n",
    "        if self.processed_data:\n",
    "            self.create_combined_dataset()\n",
    "        \n",
    "        # 처리 요약 저장\n",
    "        summary = {\n",
    "            'total_processed': len(self.processed_data),\n",
    "            'total_failed': len(self.failed_symbols),\n",
    "            'failed_symbols': self.failed_symbols,\n",
    "            'processing_date': datetime.now().strftime('%Y-%m-%d %H:%M:%S'),\n",
    "            'period_filter': f\"{self.start_date or 'None'} to {self.end_date or 'None'}\"\n",
    "        }\n",
    "        \n",
    "        summary_df = pd.DataFrame([summary])\n",
    "        summary_df.to_csv(f\"{self.output_folder}/processing_summary.csv\", index=False)\n",
    "        \n",
    "        print(f\"✅ 기술지표 데이터 저장 완료!\")\n",
    "        print(f\"📁 저장 위치: {self.output_folder}/with_indicators/\")\n",
    "        print(f\"✅ 저장 완료: {saved_count}개\")\n",
    "    \n",
    "    def create_combined_dataset(self):\n",
    "        \"\"\"통합 데이터셋 생성\"\"\"\n",
    "        try:\n",
    "            print(\"📊 통합 데이터셋 생성 중...\")\n",
    "            \n",
    "            # 주요 컬럼만 선별\n",
    "            main_columns = [\n",
    "                'Open', 'High', 'Low', 'Close', 'Volume',\n",
    "                'Return_1d', 'Return_7d', 'Return_30d',\n",
    "                'MA_7', 'MA_20', 'MA_50',\n",
    "                'EMA_12', 'EMA_26',\n",
    "                'RSI_14', 'RSI_7',\n",
    "                'MACD', 'MACD_Signal',\n",
    "                'BB_Position_20',\n",
    "                'Volatility_30d',\n",
    "                'ATR_14', 'ATR_Percent_14',\n",
    "                'Volume_Ratio',\n",
    "                'Williams_R', 'MFI'\n",
    "            ]\n",
    "            \n",
    "            combined_data = []\n",
    "            \n",
    "            for symbol, df in self.processed_data.items():\n",
    "                if not df.empty:\n",
    "                    # 사용 가능한 컬럼만 선택\n",
    "                    available_columns = [col for col in main_columns if col in df.columns]\n",
    "                    \n",
    "                    if len(available_columns) >= 10:  # 최소 10개 컬럼은 있어야 함\n",
    "                        temp_df = df[available_columns].copy()\n",
    "                        temp_df['Symbol'] = symbol\n",
    "                        temp_df['Date'] = temp_df.index\n",
    "                        combined_data.append(temp_df)\n",
    "            \n",
    "            if combined_data:\n",
    "                combined_df = pd.concat(combined_data, ignore_index=True)\n",
    "                combined_df.to_csv(f\"{self.output_folder}/combined_crypto_indicators.csv\", index=False)\n",
    "                print(f\"📊 통합 데이터셋 저장 완료: {len(combined_df)}행\")\n",
    "            \n",
    "        except Exception as e:\n",
    "            print(f\"⚠️ 통합 데이터셋 생성 실패: {e}\")\n",
    "    \n",
    "    def get_indicator_summary(self):\n",
    "        \"\"\"계산된 지표 요약 정보\"\"\"\n",
    "        if not self.processed_data:\n",
    "            return \"처리된 데이터가 없습니다.\"\n",
    "        \n",
    "        sample_symbol = list(self.processed_data.keys())[0]\n",
    "        sample_df = self.processed_data[sample_symbol]\n",
    "        \n",
    "        # 지표별 그룹화\n",
    "        indicator_groups = {\n",
    "            '이동평균': [col for col in sample_df.columns if 'MA_' in col or 'EMA_' in col],\n",
    "            'MACD': [col for col in sample_df.columns if 'MACD' in col],\n",
    "            'RSI': [col for col in sample_df.columns if 'RSI' in col],\n",
    "            '스토캐스틱': [col for col in sample_df.columns if 'Stoch' in col],\n",
    "            'Williams %R': [col for col in sample_df.columns if 'Williams' in col],\n",
    "            'CCI': [col for col in sample_df.columns if 'CCI' in col],\n",
    "            'MFI': [col for col in sample_df.columns if 'MFI' in col],\n",
    "            '수익률': [col for col in sample_df.columns if 'Return' in col],\n",
    "            '변동성': [col for col in sample_df.columns if 'Volatility' in col or 'ATR' in col or 'BB_' in col],\n",
    "            '거래량': [col for col in sample_df.columns if 'Volume' in col],\n",
    "            '기타': [col for col in sample_df.columns if any(x in col for x in ['OSCP', 'DI_', 'ADX', 'Price_ROC', 'STD', 'Highest', 'Lowest'])]\n",
    "        }\n",
    "        \n",
    "        summary = f\"\\n📊 계산된 기술지표 요약 ({sample_symbol} 기준)\\n\"\n",
    "        summary += \"=\"*50 + \"\\n\"\n",
    "        \n",
    "        total_indicators = 0\n",
    "        for group, indicators in indicator_groups.items():\n",
    "            if indicators:\n",
    "                summary += f\"{group}: {len(indicators)}개\\n\"\n",
    "                for indicator in indicators[:5]:  # 처음 5개만 표시\n",
    "                    summary += f\"  - {indicator}\\n\"\n",
    "                if len(indicators) > 5:\n",
    "                    summary += f\"  ... 외 {len(indicators)-5}개 더\\n\"\n",
    "                summary += \"\\n\"\n",
    "                total_indicators += len(indicators)\n",
    "        \n",
    "        summary += f\"총 지표 수: {total_indicators}개\\n\"\n",
    "        summary += f\"처리된 코인 수: {len(self.processed_data)}개\\n\"\n",
    "        \n",
    "        return summary\n",
    "    \n",
    "    def run_technical_analysis(self):\n",
    "        \"\"\"전체 기술분석 프로세스 실행\"\"\"\n",
    "        # 1. 모든 코인 처리\n",
    "        self.process_all_cryptos()\n",
    "        \n",
    "        # 2. 결과 저장\n",
    "        if self.processed_data:\n",
    "            self.save_processed_data()\n",
    "            \n",
    "            # 3. 요약 정보 출력\n",
    "            print(self.get_indicator_summary())\n",
    "        else:\n",
    "            print(\"❌ 처리된 데이터가 없습니다!\")\n",
    "        \n",
    "        return self.processed_data"
   ]
  },
  {
   "cell_type": "code",
   "execution_count": 4,
   "id": "64aea920",
   "metadata": {},
   "outputs": [
    {
     "name": "stdout",
     "output_type": "stream",
     "text": [
      "🚀 기술지표 계산 시작!\n",
      "📁 입력 폴더: /workspace/AI모델/projects/coin/data/raw_data\n",
      "📅 기간: 2015-01-01 ~ 2025-09-15\n",
      "==================================================\n",
      "📊 총 100개 파일 발견\n"
     ]
    },
    {
     "name": "stderr",
     "output_type": "stream",
     "text": [
      "기술지표 계산:   0%|          | 0/100 [00:00<?, ?it/s]"
     ]
    },
    {
     "name": "stdout",
     "output_type": "stream",
     "text": [
      "📊 1INCH 처리 중...\n",
      "   - 데이터 기간: 2020-12-25 00:00:00 ~ 2025-09-14 00:00:00 (1725일)\n"
     ]
    },
    {
     "name": "stderr",
     "output_type": "stream",
     "text": [
      "기술지표 계산:   1%|          | 1/100 [00:00<00:23,  4.26it/s]"
     ]
    },
    {
     "name": "stdout",
     "output_type": "stream",
     "text": [
      "   - 최종 컬럼 수: 138\n",
      "📊 AAVE 처리 중...\n",
      "   - 데이터 기간: 2020-10-02 00:00:00 ~ 2025-09-14 00:00:00 (1809일)\n"
     ]
    },
    {
     "name": "stderr",
     "output_type": "stream",
     "text": [
      "기술지표 계산:   2%|▏         | 2/100 [00:00<00:22,  4.37it/s]"
     ]
    },
    {
     "name": "stdout",
     "output_type": "stream",
     "text": [
      "   - 최종 컬럼 수: 138\n",
      "📊 ADA 처리 중...\n",
      "   - 데이터 기간: 2017-11-09 00:00:00 ~ 2025-09-14 00:00:00 (2867일)\n"
     ]
    },
    {
     "name": "stderr",
     "output_type": "stream",
     "text": [
      "기술지표 계산:   3%|▎         | 3/100 [00:00<00:25,  3.87it/s]"
     ]
    },
    {
     "name": "stdout",
     "output_type": "stream",
     "text": [
      "   - 최종 컬럼 수: 138\n",
      "📊 ALGO 처리 중...\n",
      "   - 데이터 기간: 2019-06-21 00:00:00 ~ 2025-09-14 00:00:00 (2278일)\n"
     ]
    },
    {
     "name": "stderr",
     "output_type": "stream",
     "text": [
      "기술지표 계산:   4%|▍         | 4/100 [00:01<00:24,  3.92it/s]"
     ]
    },
    {
     "name": "stdout",
     "output_type": "stream",
     "text": [
      "   - 최종 컬럼 수: 138\n",
      "📊 ANKR 처리 중...\n",
      "   - 데이터 기간: 2019-03-06 00:00:00 ~ 2025-09-14 00:00:00 (2385일)\n"
     ]
    },
    {
     "name": "stderr",
     "output_type": "stream",
     "text": [
      "기술지표 계산:   5%|▌         | 5/100 [00:01<00:24,  3.92it/s]"
     ]
    },
    {
     "name": "stdout",
     "output_type": "stream",
     "text": [
      "   - 최종 컬럼 수: 138\n",
      "📊 API3 처리 중...\n",
      "   - 데이터 기간: 2020-12-02 00:00:00 ~ 2025-09-14 00:00:00 (1748일)\n"
     ]
    },
    {
     "name": "stderr",
     "output_type": "stream",
     "text": [
      "기술지표 계산:   7%|▋         | 7/100 [00:01<00:21,  4.29it/s]"
     ]
    },
    {
     "name": "stdout",
     "output_type": "stream",
     "text": [
      "   - 최종 컬럼 수: 138\n",
      "📊 APT21794 처리 중...\n",
      "   - 데이터 기간: 2022-10-19 00:00:00 ~ 2025-09-14 00:00:00 (1062일)\n",
      "   - 최종 컬럼 수: 138\n",
      "📊 ARB11841 처리 중...\n",
      "   - 데이터 기간: 2023-03-23 00:00:00 ~ 2025-09-14 00:00:00 (907일)\n"
     ]
    },
    {
     "name": "stderr",
     "output_type": "stream",
     "text": [
      "기술지표 계산:   9%|▉         | 9/100 [00:02<00:18,  4.83it/s]"
     ]
    },
    {
     "name": "stdout",
     "output_type": "stream",
     "text": [
      "   - 최종 컬럼 수: 138\n",
      "📊 ASTR 처리 중...\n",
      "   - 데이터 기간: 2022-01-18 00:00:00 ~ 2025-09-14 00:00:00 (1336일)\n",
      "   - 최종 컬럼 수: 138\n",
      "📊 ATOM 처리 중...\n",
      "   - 데이터 기간: 2019-03-14 00:00:00 ~ 2025-09-14 00:00:00 (2377일)\n"
     ]
    },
    {
     "name": "stderr",
     "output_type": "stream",
     "text": [
      "기술지표 계산:  10%|█         | 10/100 [00:02<00:19,  4.52it/s]"
     ]
    },
    {
     "name": "stdout",
     "output_type": "stream",
     "text": [
      "   - 최종 컬럼 수: 138\n",
      "📊 AVAX 처리 중...\n",
      "   - 데이터 기간: 2020-07-13 00:00:00 ~ 2025-09-14 00:00:00 (1821일)\n"
     ]
    },
    {
     "name": "stderr",
     "output_type": "stream",
     "text": [
      "기술지표 계산:  11%|█         | 11/100 [00:02<00:19,  4.52it/s]"
     ]
    },
    {
     "name": "stdout",
     "output_type": "stream",
     "text": [
      "   - 최종 컬럼 수: 138\n",
      "📊 AXS 처리 중...\n",
      "   - 데이터 기간: 2020-11-04 00:00:00 ~ 2025-09-14 00:00:00 (1776일)\n"
     ]
    },
    {
     "name": "stderr",
     "output_type": "stream",
     "text": [
      "기술지표 계산:  12%|█▏        | 12/100 [00:02<00:19,  4.56it/s]"
     ]
    },
    {
     "name": "stdout",
     "output_type": "stream",
     "text": [
      "   - 최종 컬럼 수: 138\n",
      "📊 BAL 처리 중...\n",
      "   - 데이터 기간: 2020-06-24 00:00:00 ~ 2025-09-14 00:00:00 (1909일)\n"
     ]
    },
    {
     "name": "stderr",
     "output_type": "stream",
     "text": [
      "기술지표 계산:  13%|█▎        | 13/100 [00:02<00:19,  4.52it/s]"
     ]
    },
    {
     "name": "stdout",
     "output_type": "stream",
     "text": [
      "   - 최종 컬럼 수: 138\n",
      "📊 BAND 처리 중...\n",
      "   - 데이터 기간: 2019-09-18 00:00:00 ~ 2025-09-14 00:00:00 (2189일)\n"
     ]
    },
    {
     "name": "stderr",
     "output_type": "stream",
     "text": [
      "기술지표 계산:  14%|█▍        | 14/100 [00:03<00:19,  4.36it/s]"
     ]
    },
    {
     "name": "stdout",
     "output_type": "stream",
     "text": [
      "   - 최종 컬럼 수: 138\n",
      "📊 BAT 처리 중...\n",
      "   - 데이터 기간: 2017-11-09 00:00:00 ~ 2025-09-14 00:00:00 (2867일)\n"
     ]
    },
    {
     "name": "stderr",
     "output_type": "stream",
     "text": [
      "기술지표 계산:  15%|█▌        | 15/100 [00:03<00:20,  4.05it/s]"
     ]
    },
    {
     "name": "stdout",
     "output_type": "stream",
     "text": [
      "   - 최종 컬럼 수: 138\n",
      "📊 BCH 처리 중...\n",
      "   - 데이터 기간: 2017-11-09 00:00:00 ~ 2025-09-14 00:00:00 (2867일)\n"
     ]
    },
    {
     "name": "stderr",
     "output_type": "stream",
     "text": [
      "기술지표 계산:  16%|█▌        | 16/100 [00:03<00:21,  3.87it/s]"
     ]
    },
    {
     "name": "stdout",
     "output_type": "stream",
     "text": [
      "   - 최종 컬럼 수: 138\n",
      "📊 BNB 처리 중...\n",
      "   - 데이터 기간: 2017-11-09 00:00:00 ~ 2025-09-14 00:00:00 (2867일)\n"
     ]
    },
    {
     "name": "stderr",
     "output_type": "stream",
     "text": [
      "기술지표 계산:  17%|█▋        | 17/100 [00:04<00:22,  3.70it/s]"
     ]
    },
    {
     "name": "stdout",
     "output_type": "stream",
     "text": [
      "   - 최종 컬럼 수: 138\n",
      "📊 BNT 처리 중...\n",
      "   - 데이터 기간: 2017-11-09 00:00:00 ~ 2025-09-14 00:00:00 (2867일)\n"
     ]
    },
    {
     "name": "stderr",
     "output_type": "stream",
     "text": [
      "기술지표 계산:  18%|█▊        | 18/100 [00:04<00:22,  3.64it/s]"
     ]
    },
    {
     "name": "stdout",
     "output_type": "stream",
     "text": [
      "   - 최종 컬럼 수: 138\n",
      "📊 BSV 처리 중...\n",
      "   - 데이터 기간: 2018-11-09 00:00:00 ~ 2025-09-14 00:00:00 (2502일)\n"
     ]
    },
    {
     "name": "stderr",
     "output_type": "stream",
     "text": [
      "기술지표 계산:  19%|█▉        | 19/100 [00:04<00:22,  3.67it/s]"
     ]
    },
    {
     "name": "stdout",
     "output_type": "stream",
     "text": [
      "   - 최종 컬럼 수: 138\n",
      "📊 BTC 처리 중...\n",
      "   - 데이터 기간: 2015-01-01 00:00:00 ~ 2025-09-14 00:00:00 (3910일)\n"
     ]
    },
    {
     "name": "stderr",
     "output_type": "stream",
     "text": [
      "기술지표 계산:  20%|██        | 20/100 [00:05<00:23,  3.38it/s]"
     ]
    },
    {
     "name": "stdout",
     "output_type": "stream",
     "text": [
      "   - 최종 컬럼 수: 138\n",
      "📊 CAKE 처리 중...\n",
      "   - 데이터 기간: 2020-09-29 00:00:00 ~ 2025-09-14 00:00:00 (1812일)\n"
     ]
    },
    {
     "name": "stderr",
     "output_type": "stream",
     "text": [
      "기술지표 계산:  22%|██▏       | 22/100 [00:05<00:19,  4.05it/s]"
     ]
    },
    {
     "name": "stdout",
     "output_type": "stream",
     "text": [
      "   - 최종 컬럼 수: 138\n",
      "📊 CFG 처리 중...\n",
      "   - 데이터 기간: 2021-07-15 00:00:00 ~ 2025-09-14 00:00:00 (1523일)\n",
      "   - 최종 컬럼 수: 138\n",
      "📊 CHZ 처리 중...\n",
      "   - 데이터 기간: 2019-07-01 00:00:00 ~ 2025-09-14 00:00:00 (2268일)\n"
     ]
    },
    {
     "name": "stderr",
     "output_type": "stream",
     "text": [
      "기술지표 계산:  23%|██▎       | 23/100 [00:05<00:19,  4.02it/s]"
     ]
    },
    {
     "name": "stdout",
     "output_type": "stream",
     "text": [
      "   - 최종 컬럼 수: 138\n",
      "📊 CKB 처리 중...\n",
      "   - 데이터 기간: 2019-11-19 00:00:00 ~ 2025-09-14 00:00:00 (2127일)\n"
     ]
    },
    {
     "name": "stderr",
     "output_type": "stream",
     "text": [
      "기술지표 계산:  24%|██▍       | 24/100 [00:05<00:18,  4.07it/s]"
     ]
    },
    {
     "name": "stdout",
     "output_type": "stream",
     "text": [
      "   - 최종 컬럼 수: 138\n",
      "📊 COTI 처리 중...\n",
      "   - 데이터 기간: 2019-06-04 00:00:00 ~ 2025-09-14 00:00:00 (2295일)\n"
     ]
    },
    {
     "name": "stderr",
     "output_type": "stream",
     "text": [
      "기술지표 계산:  25%|██▌       | 25/100 [00:06<00:18,  4.05it/s]"
     ]
    },
    {
     "name": "stdout",
     "output_type": "stream",
     "text": [
      "   - 최종 컬럼 수: 138\n",
      "📊 CRO 처리 중...\n",
      "   - 데이터 기간: 2018-12-14 00:00:00 ~ 2025-09-14 00:00:00 (2467일)\n"
     ]
    },
    {
     "name": "stderr",
     "output_type": "stream",
     "text": [
      "기술지표 계산:  26%|██▌       | 26/100 [00:06<00:18,  3.93it/s]"
     ]
    },
    {
     "name": "stdout",
     "output_type": "stream",
     "text": [
      "   - 최종 컬럼 수: 138\n",
      "📊 CRV 처리 중...\n",
      "   - 데이터 기간: 2020-08-14 00:00:00 ~ 2025-09-14 00:00:00 (1858일)\n"
     ]
    },
    {
     "name": "stderr",
     "output_type": "stream",
     "text": [
      "기술지표 계산:  27%|██▋       | 27/100 [00:06<00:17,  4.11it/s]"
     ]
    },
    {
     "name": "stdout",
     "output_type": "stream",
     "text": [
      "   - 최종 컬럼 수: 138\n",
      "📊 CVC 처리 중...\n",
      "   - 데이터 기간: 2017-11-09 00:00:00 ~ 2025-09-14 00:00:00 (2867일)\n"
     ]
    },
    {
     "name": "stderr",
     "output_type": "stream",
     "text": [
      "기술지표 계산:  29%|██▉       | 29/100 [00:07<00:16,  4.18it/s]"
     ]
    },
    {
     "name": "stdout",
     "output_type": "stream",
     "text": [
      "   - 최종 컬럼 수: 138\n",
      "📊 CVX 처리 중...\n",
      "   - 데이터 기간: 2021-05-18 00:00:00 ~ 2025-09-14 00:00:00 (1581일)\n",
      "   - 최종 컬럼 수: 138\n",
      "📊 DAI 처리 중...\n",
      "   - 데이터 기간: 2019-11-22 00:00:00 ~ 2025-09-14 00:00:00 (2124일)\n"
     ]
    },
    {
     "name": "stderr",
     "output_type": "stream",
     "text": [
      "기술지표 계산:  30%|███       | 30/100 [00:07<00:16,  4.16it/s]"
     ]
    },
    {
     "name": "stdout",
     "output_type": "stream",
     "text": [
      "   - 최종 컬럼 수: 138\n",
      "📊 DASH 처리 중...\n",
      "   - 데이터 기간: 2017-11-09 00:00:00 ~ 2025-09-14 00:00:00 (2867일)\n"
     ]
    },
    {
     "name": "stderr",
     "output_type": "stream",
     "text": [
      "기술지표 계산:  31%|███       | 31/100 [00:07<00:17,  3.88it/s]"
     ]
    },
    {
     "name": "stdout",
     "output_type": "stream",
     "text": [
      "   - 최종 컬럼 수: 138\n",
      "📊 DOGE 처리 중...\n",
      "   - 데이터 기간: 2017-11-09 00:00:00 ~ 2025-09-14 00:00:00 (2867일)\n"
     ]
    },
    {
     "name": "stderr",
     "output_type": "stream",
     "text": [
      "기술지표 계산:  32%|███▏      | 32/100 [00:07<00:18,  3.74it/s]"
     ]
    },
    {
     "name": "stdout",
     "output_type": "stream",
     "text": [
      "   - 최종 컬럼 수: 138\n",
      "📊 DOT 처리 중...\n",
      "   - 데이터 기간: 2020-08-20 00:00:00 ~ 2025-09-14 00:00:00 (1852일)\n"
     ]
    },
    {
     "name": "stderr",
     "output_type": "stream",
     "text": [
      "기술지표 계산:  34%|███▍      | 34/100 [00:08<00:15,  4.29it/s]"
     ]
    },
    {
     "name": "stdout",
     "output_type": "stream",
     "text": [
      "   - 최종 컬럼 수: 138\n",
      "📊 DYDX 처리 중...\n",
      "   - 데이터 기간: 2021-09-08 00:00:00 ~ 2025-09-14 00:00:00 (1426일)\n",
      "   - 최종 컬럼 수: 138\n",
      "📊 EGLD 처리 중...\n",
      "   - 데이터 기간: 2020-09-04 00:00:00 ~ 2025-09-14 00:00:00 (1837일)\n"
     ]
    },
    {
     "name": "stderr",
     "output_type": "stream",
     "text": [
      "기술지표 계산:  35%|███▌      | 35/100 [00:08<00:14,  4.36it/s]"
     ]
    },
    {
     "name": "stdout",
     "output_type": "stream",
     "text": [
      "   - 최종 컬럼 수: 138\n",
      "📊 ENJ 처리 중...\n",
      "   - 데이터 기간: 2017-11-09 00:00:00 ~ 2025-09-14 00:00:00 (2867일)\n"
     ]
    },
    {
     "name": "stderr",
     "output_type": "stream",
     "text": [
      "기술지표 계산:  36%|███▌      | 36/100 [00:08<00:15,  4.07it/s]"
     ]
    },
    {
     "name": "stdout",
     "output_type": "stream",
     "text": [
      "   - 최종 컬럼 수: 138\n",
      "📊 ETC 처리 중...\n",
      "   - 데이터 기간: 2017-11-09 00:00:00 ~ 2025-09-14 00:00:00 (2867일)\n"
     ]
    },
    {
     "name": "stderr",
     "output_type": "stream",
     "text": [
      "기술지표 계산:  37%|███▋      | 37/100 [00:09<00:16,  3.86it/s]"
     ]
    },
    {
     "name": "stdout",
     "output_type": "stream",
     "text": [
      "   - 최종 컬럼 수: 138\n",
      "📊 ETH 처리 중...\n",
      "   - 데이터 기간: 2017-11-09 00:00:00 ~ 2025-09-14 00:00:00 (2867일)\n"
     ]
    },
    {
     "name": "stderr",
     "output_type": "stream",
     "text": [
      "기술지표 계산:  38%|███▊      | 38/100 [00:09<00:16,  3.70it/s]"
     ]
    },
    {
     "name": "stdout",
     "output_type": "stream",
     "text": [
      "   - 최종 컬럼 수: 138\n",
      "📊 FET 처리 중...\n",
      "   - 데이터 기간: 2019-03-02 00:00:00 ~ 2025-09-14 00:00:00 (2389일)\n"
     ]
    },
    {
     "name": "stderr",
     "output_type": "stream",
     "text": [
      "기술지표 계산:  39%|███▉      | 39/100 [00:09<00:16,  3.74it/s]"
     ]
    },
    {
     "name": "stdout",
     "output_type": "stream",
     "text": [
      "   - 최종 컬럼 수: 138\n",
      "📊 FIL 처리 중...\n",
      "   - 데이터 기간: 2017-12-13 00:00:00 ~ 2025-09-14 00:00:00 (2833일)\n"
     ]
    },
    {
     "name": "stderr",
     "output_type": "stream",
     "text": [
      "기술지표 계산:  40%|████      | 40/100 [00:10<00:16,  3.65it/s]"
     ]
    },
    {
     "name": "stdout",
     "output_type": "stream",
     "text": [
      "   - 최종 컬럼 수: 138\n",
      "📊 FLOW 처리 중...\n",
      "   - 데이터 기간: 2021-01-27 00:00:00 ~ 2025-09-14 00:00:00 (1692일)\n"
     ]
    },
    {
     "name": "stderr",
     "output_type": "stream",
     "text": [
      "기술지표 계산:  41%|████      | 41/100 [00:10<00:15,  3.90it/s]"
     ]
    },
    {
     "name": "stdout",
     "output_type": "stream",
     "text": [
      "   - 최종 컬럼 수: 138\n",
      "📊 FTM 처리 중...\n",
      "   - 데이터 기간: 2018-10-30 00:00:00 ~ 2025-01-13 00:00:00 (2268일)\n"
     ]
    },
    {
     "name": "stderr",
     "output_type": "stream",
     "text": [
      "기술지표 계산:  43%|████▎     | 43/100 [00:10<00:13,  4.17it/s]"
     ]
    },
    {
     "name": "stdout",
     "output_type": "stream",
     "text": [
      "   - 최종 컬럼 수: 138\n",
      "📊 FXS 처리 중...\n",
      "   - 데이터 기간: 2020-12-27 00:00:00 ~ 2025-05-06 00:00:00 (1592일)\n",
      "   - 최종 컬럼 수: 138\n",
      "📊 GNO 처리 중...\n",
      "   - 데이터 기간: 2017-11-09 00:00:00 ~ 2025-09-14 00:00:00 (2867일)\n"
     ]
    },
    {
     "name": "stderr",
     "output_type": "stream",
     "text": [
      "기술지표 계산:  44%|████▍     | 44/100 [00:10<00:14,  3.93it/s]"
     ]
    },
    {
     "name": "stdout",
     "output_type": "stream",
     "text": [
      "   - 최종 컬럼 수: 138\n",
      "📊 GRT6719 처리 중...\n",
      "   - 데이터 기간: 2020-12-18 00:00:00 ~ 2025-09-14 00:00:00 (1732일)\n"
     ]
    },
    {
     "name": "stderr",
     "output_type": "stream",
     "text": [
      "기술지표 계산:  45%|████▌     | 45/100 [00:11<00:13,  4.17it/s]"
     ]
    },
    {
     "name": "stdout",
     "output_type": "stream",
     "text": [
      "   - 최종 컬럼 수: 138\n",
      "📊 HBAR 처리 중...\n",
      "   - 데이터 기간: 2019-09-17 00:00:00 ~ 2025-09-14 00:00:00 (2190일)\n"
     ]
    },
    {
     "name": "stderr",
     "output_type": "stream",
     "text": [
      "기술지표 계산:  46%|████▌     | 46/100 [00:11<00:12,  4.16it/s]"
     ]
    },
    {
     "name": "stdout",
     "output_type": "stream",
     "text": [
      "   - 최종 컬럼 수: 138\n",
      "📊 ICP 처리 중...\n",
      "   - 데이터 기간: 2021-05-10 00:00:00 ~ 2025-09-14 00:00:00 (1589일)\n"
     ]
    },
    {
     "name": "stderr",
     "output_type": "stream",
     "text": [
      "기술지표 계산:  48%|████▊     | 48/100 [00:11<00:11,  4.42it/s]"
     ]
    },
    {
     "name": "stdout",
     "output_type": "stream",
     "text": [
      "   - 최종 컬럼 수: 138\n",
      "📊 IMX10603 처리 중...\n",
      "   - 데이터 기간: 2021-11-06 00:00:00 ~ 2025-09-14 00:00:00 (1409일)\n",
      "   - 최종 컬럼 수: 138\n",
      "📊 INJ 처리 중...\n",
      "   - 데이터 기간: 2020-10-21 00:00:00 ~ 2025-09-14 00:00:00 (1790일)\n"
     ]
    },
    {
     "name": "stderr",
     "output_type": "stream",
     "text": [
      "기술지표 계산:  50%|█████     | 50/100 [00:12<00:10,  4.96it/s]"
     ]
    },
    {
     "name": "stdout",
     "output_type": "stream",
     "text": [
      "   - 최종 컬럼 수: 138\n",
      "📊 IOTA 처리 중...\n",
      "   - 데이터 기간: 2023-09-30 00:00:00 ~ 2025-09-14 00:00:00 (716일)\n",
      "   - 최종 컬럼 수: 138\n",
      "📊 KCS 처리 중...\n",
      "   - 데이터 기간: 2017-11-09 00:00:00 ~ 2025-09-14 00:00:00 (2867일)\n"
     ]
    },
    {
     "name": "stderr",
     "output_type": "stream",
     "text": [
      "기술지표 계산:  51%|█████     | 51/100 [00:12<00:11,  4.40it/s]"
     ]
    },
    {
     "name": "stdout",
     "output_type": "stream",
     "text": [
      "   - 최종 컬럼 수: 138\n",
      "📊 KEEP 처리 중...\n",
      "   - 데이터 기간: 2020-05-13 00:00:00 ~ 2025-09-14 00:00:00 (1951일)\n"
     ]
    },
    {
     "name": "stderr",
     "output_type": "stream",
     "text": [
      "기술지표 계산:  53%|█████▎    | 53/100 [00:12<00:10,  4.58it/s]"
     ]
    },
    {
     "name": "stdout",
     "output_type": "stream",
     "text": [
      "   - 최종 컬럼 수: 138\n",
      "📊 KNC 처리 중...\n",
      "   - 데이터 기간: 2021-07-28 00:00:00 ~ 2025-09-14 00:00:00 (1510일)\n",
      "   - 최종 컬럼 수: 138\n",
      "📊 LEO 처리 중...\n",
      "   - 데이터 기간: 2019-05-21 00:00:00 ~ 2025-09-14 00:00:00 (2309일)\n"
     ]
    },
    {
     "name": "stderr",
     "output_type": "stream",
     "text": [
      "기술지표 계산:  54%|█████▍    | 54/100 [00:13<00:10,  4.38it/s]"
     ]
    },
    {
     "name": "stdout",
     "output_type": "stream",
     "text": [
      "   - 최종 컬럼 수: 138\n",
      "📊 LPT 처리 중...\n",
      "   - 데이터 기간: 2018-12-19 00:00:00 ~ 2025-09-14 00:00:00 (2462일)\n"
     ]
    },
    {
     "name": "stderr",
     "output_type": "stream",
     "text": [
      "기술지표 계산:  55%|█████▌    | 55/100 [00:13<00:11,  4.06it/s]"
     ]
    },
    {
     "name": "stdout",
     "output_type": "stream",
     "text": [
      "   - 최종 컬럼 수: 138\n",
      "📊 LRC 처리 중...\n",
      "   - 데이터 기간: 2017-11-09 00:00:00 ~ 2025-09-14 00:00:00 (2867일)\n"
     ]
    },
    {
     "name": "stderr",
     "output_type": "stream",
     "text": [
      "기술지표 계산:  56%|█████▌    | 56/100 [00:13<00:11,  3.84it/s]"
     ]
    },
    {
     "name": "stdout",
     "output_type": "stream",
     "text": [
      "   - 최종 컬럼 수: 138\n",
      "📊 LTC 처리 중...\n",
      "   - 데이터 기간: 2015-01-01 00:00:00 ~ 2025-09-14 00:00:00 (3910일)\n"
     ]
    },
    {
     "name": "stderr",
     "output_type": "stream",
     "text": [
      "기술지표 계산:  57%|█████▋    | 57/100 [00:14<00:12,  3.49it/s]"
     ]
    },
    {
     "name": "stdout",
     "output_type": "stream",
     "text": [
      "   - 최종 컬럼 수: 138\n",
      "📊 MANA 처리 중...\n",
      "   - 데이터 기간: 2017-11-09 00:00:00 ~ 2025-09-14 00:00:00 (2867일)\n"
     ]
    },
    {
     "name": "stderr",
     "output_type": "stream",
     "text": [
      "기술지표 계산:  59%|█████▉    | 59/100 [00:14<00:10,  4.05it/s]"
     ]
    },
    {
     "name": "stdout",
     "output_type": "stream",
     "text": [
      "   - 최종 컬럼 수: 138\n",
      "📊 MNT27075 처리 중...\n",
      "   - 데이터 기간: 2023-07-17 00:00:00 ~ 2025-09-14 00:00:00 (788일)\n",
      "   - 최종 컬럼 수: 138\n",
      "📊 NEAR 처리 중...\n",
      "   - 데이터 기간: 2020-10-14 00:00:00 ~ 2025-09-14 00:00:00 (1797일)\n"
     ]
    },
    {
     "name": "stderr",
     "output_type": "stream",
     "text": [
      "기술지표 계산:  60%|██████    | 60/100 [00:14<00:09,  4.21it/s]"
     ]
    },
    {
     "name": "stdout",
     "output_type": "stream",
     "text": [
      "   - 최종 컬럼 수: 138\n",
      "📊 NEO 처리 중...\n",
      "   - 데이터 기간: 2017-11-09 00:00:00 ~ 2025-09-14 00:00:00 (2867일)\n"
     ]
    },
    {
     "name": "stderr",
     "output_type": "stream",
     "text": [
      "기술지표 계산:  61%|██████    | 61/100 [00:15<00:09,  3.97it/s]"
     ]
    },
    {
     "name": "stdout",
     "output_type": "stream",
     "text": [
      "   - 최종 컬럼 수: 138\n",
      "📊 NMR 처리 중...\n",
      "   - 데이터 기간: 2017-11-09 00:00:00 ~ 2025-09-14 00:00:00 (2867일)\n"
     ]
    },
    {
     "name": "stderr",
     "output_type": "stream",
     "text": [
      "기술지표 계산:  62%|██████▏   | 62/100 [00:15<00:09,  3.82it/s]"
     ]
    },
    {
     "name": "stdout",
     "output_type": "stream",
     "text": [
      "   - 최종 컬럼 수: 138\n",
      "📊 OKB 처리 중...\n",
      "   - 데이터 기간: 2019-04-30 00:00:00 ~ 2025-09-14 00:00:00 (2330일)\n"
     ]
    },
    {
     "name": "stderr",
     "output_type": "stream",
     "text": [
      "기술지표 계산:  64%|██████▍   | 64/100 [00:15<00:08,  4.22it/s]"
     ]
    },
    {
     "name": "stdout",
     "output_type": "stream",
     "text": [
      "   - 최종 컬럼 수: 138\n",
      "📊 OP 처리 중...\n",
      "   - 데이터 기간: 2022-03-14 00:00:00 ~ 2025-09-14 00:00:00 (1281일)\n",
      "   - 최종 컬럼 수: 138\n",
      "📊 QNT 처리 중...\n",
      "   - 데이터 기간: 2018-08-10 00:00:00 ~ 2025-09-14 00:00:00 (2593일)\n"
     ]
    },
    {
     "name": "stderr",
     "output_type": "stream",
     "text": [
      "기술지표 계산:  65%|██████▌   | 65/100 [00:16<00:08,  4.01it/s]"
     ]
    },
    {
     "name": "stdout",
     "output_type": "stream",
     "text": [
      "   - 최종 컬럼 수: 138\n",
      "📊 QTUM 처리 중...\n",
      "   - 데이터 기간: 2017-11-09 00:00:00 ~ 2025-09-14 00:00:00 (2867일)\n"
     ]
    },
    {
     "name": "stderr",
     "output_type": "stream",
     "text": [
      "기술지표 계산:  66%|██████▌   | 66/100 [00:16<00:08,  3.84it/s]"
     ]
    },
    {
     "name": "stdout",
     "output_type": "stream",
     "text": [
      "   - 최종 컬럼 수: 138\n",
      "📊 REQ 처리 중...\n",
      "   - 데이터 기간: 2017-11-09 00:00:00 ~ 2025-09-14 00:00:00 (2867일)\n"
     ]
    },
    {
     "name": "stderr",
     "output_type": "stream",
     "text": [
      "기술지표 계산:  67%|██████▋   | 67/100 [00:16<00:09,  3.65it/s]"
     ]
    },
    {
     "name": "stdout",
     "output_type": "stream",
     "text": [
      "   - 최종 컬럼 수: 138\n",
      "📊 RLC 처리 중...\n",
      "   - 데이터 기간: 2017-11-09 00:00:00 ~ 2025-09-14 00:00:00 (2867일)\n"
     ]
    },
    {
     "name": "stderr",
     "output_type": "stream",
     "text": [
      "기술지표 계산:  69%|██████▉   | 69/100 [00:17<00:07,  3.90it/s]"
     ]
    },
    {
     "name": "stdout",
     "output_type": "stream",
     "text": [
      "   - 최종 컬럼 수: 138\n",
      "📊 RNDR 처리 중...\n",
      "   - 데이터 기간: 2020-06-11 00:00:00 ~ 2024-07-21 00:00:00 (1502일)\n",
      "   - 최종 컬럼 수: 138\n",
      "📊 RSR 처리 중...\n",
      "   - 데이터 기간: 2019-05-24 00:00:00 ~ 2025-09-14 00:00:00 (2306일)\n"
     ]
    },
    {
     "name": "stderr",
     "output_type": "stream",
     "text": [
      "기술지표 계산:  70%|███████   | 70/100 [00:17<00:07,  3.93it/s]"
     ]
    },
    {
     "name": "stdout",
     "output_type": "stream",
     "text": [
      "   - 최종 컬럼 수: 138\n",
      "📊 RUNE 처리 중...\n",
      "   - 데이터 기간: 2019-07-23 00:00:00 ~ 2025-09-14 00:00:00 (2246일)\n"
     ]
    },
    {
     "name": "stderr",
     "output_type": "stream",
     "text": [
      "기술지표 계산:  71%|███████   | 71/100 [00:17<00:07,  3.94it/s]"
     ]
    },
    {
     "name": "stdout",
     "output_type": "stream",
     "text": [
      "   - 최종 컬럼 수: 138\n",
      "📊 SAND 처리 중...\n",
      "   - 데이터 기간: 2020-08-14 00:00:00 ~ 2025-09-14 00:00:00 (1858일)\n"
     ]
    },
    {
     "name": "stderr",
     "output_type": "stream",
     "text": [
      "기술지표 계산:  72%|███████▏  | 72/100 [00:17<00:06,  4.07it/s]"
     ]
    },
    {
     "name": "stdout",
     "output_type": "stream",
     "text": [
      "   - 최종 컬럼 수: 138\n",
      "📊 SHIB 처리 중...\n",
      "   - 데이터 기간: 2020-08-01 00:00:00 ~ 2025-09-14 00:00:00 (1830일)\n"
     ]
    },
    {
     "name": "stderr",
     "output_type": "stream",
     "text": [
      "기술지표 계산:  73%|███████▎  | 73/100 [00:18<00:06,  4.09it/s]"
     ]
    },
    {
     "name": "stdout",
     "output_type": "stream",
     "text": [
      "   - 최종 컬럼 수: 138\n",
      "📊 SNX 처리 중...\n",
      "   - 데이터 기간: 2018-03-14 00:00:00 ~ 2025-09-14 00:00:00 (2742일)\n"
     ]
    },
    {
     "name": "stderr",
     "output_type": "stream",
     "text": [
      "기술지표 계산:  74%|███████▍  | 74/100 [00:18<00:06,  3.85it/s]"
     ]
    },
    {
     "name": "stdout",
     "output_type": "stream",
     "text": [
      "   - 최종 컬럼 수: 138\n",
      "📊 SOL 처리 중...\n",
      "   - 데이터 기간: 2020-04-10 00:00:00 ~ 2025-09-14 00:00:00 (1984일)\n"
     ]
    },
    {
     "name": "stderr",
     "output_type": "stream",
     "text": [
      "기술지표 계산:  76%|███████▌  | 76/100 [00:18<00:05,  4.29it/s]"
     ]
    },
    {
     "name": "stdout",
     "output_type": "stream",
     "text": [
      "   - 최종 컬럼 수: 138\n",
      "📊 SPELL 처리 중...\n",
      "   - 데이터 기간: 2021-08-17 00:00:00 ~ 2025-09-14 00:00:00 (1490일)\n",
      "   - 최종 컬럼 수: 138\n",
      "📊 STORJ 처리 중...\n",
      "   - 데이터 기간: 2017-11-09 00:00:00 ~ 2025-09-14 00:00:00 (2867일)\n"
     ]
    },
    {
     "name": "stderr",
     "output_type": "stream",
     "text": [
      "기술지표 계산:  77%|███████▋  | 77/100 [00:19<00:05,  3.98it/s]"
     ]
    },
    {
     "name": "stdout",
     "output_type": "stream",
     "text": [
      "   - 최종 컬럼 수: 138\n",
      "📊 STX4847 처리 중...\n",
      "   - 데이터 기간: 2019-10-29 00:00:00 ~ 2025-09-14 00:00:00 (2148일)\n"
     ]
    },
    {
     "name": "stderr",
     "output_type": "stream",
     "text": [
      "기술지표 계산:  79%|███████▉  | 79/100 [00:19<00:04,  4.59it/s]"
     ]
    },
    {
     "name": "stdout",
     "output_type": "stream",
     "text": [
      "   - 최종 컬럼 수: 138\n",
      "📊 SUI20947 처리 중...\n",
      "   - 데이터 기간: 2023-05-03 00:00:00 ~ 2025-09-14 00:00:00 (866일)\n",
      "   - 최종 컬럼 수: 138\n",
      "📊 SUSHI 처리 중...\n",
      "   - 데이터 기간: 2020-08-28 00:00:00 ~ 2025-09-14 00:00:00 (1844일)\n"
     ]
    },
    {
     "name": "stderr",
     "output_type": "stream",
     "text": [
      "기술지표 계산:  80%|████████  | 80/100 [00:19<00:04,  4.60it/s]"
     ]
    },
    {
     "name": "stdout",
     "output_type": "stream",
     "text": [
      "   - 최종 컬럼 수: 138\n",
      "📊 THETA 처리 중...\n",
      "   - 데이터 기간: 2018-01-17 00:00:00 ~ 2025-09-14 00:00:00 (2798일)\n"
     ]
    },
    {
     "name": "stderr",
     "output_type": "stream",
     "text": [
      "기술지표 계산:  82%|████████▏ | 82/100 [00:20<00:04,  4.45it/s]"
     ]
    },
    {
     "name": "stdout",
     "output_type": "stream",
     "text": [
      "   - 최종 컬럼 수: 138\n",
      "📊 TON11419 처리 중...\n",
      "   - 데이터 기간: 2021-08-27 00:00:00 ~ 2025-09-14 00:00:00 (1480일)\n",
      "   - 최종 컬럼 수: 138\n",
      "📊 TORN 처리 중...\n"
     ]
    },
    {
     "name": "stderr",
     "output_type": "stream",
     "text": [
      "기술지표 계산:  83%|████████▎ | 83/100 [00:20<00:03,  4.59it/s]"
     ]
    },
    {
     "name": "stdout",
     "output_type": "stream",
     "text": [
      "   - 데이터 기간: 2021-02-09 00:00:00 ~ 2025-09-14 00:00:00 (1679일)\n",
      "   - 최종 컬럼 수: 138\n",
      "📊 TRAC 처리 중...\n",
      "   - 데이터 기간: 2018-01-25 00:00:00 ~ 2025-09-14 00:00:00 (2790일)\n"
     ]
    },
    {
     "name": "stderr",
     "output_type": "stream",
     "text": [
      "기술지표 계산:  84%|████████▍ | 84/100 [00:20<00:03,  4.20it/s]"
     ]
    },
    {
     "name": "stdout",
     "output_type": "stream",
     "text": [
      "   - 최종 컬럼 수: 138\n",
      "📊 TRX 처리 중...\n",
      "   - 데이터 기간: 2017-11-09 00:00:00 ~ 2025-09-14 00:00:00 (2867일)\n"
     ]
    },
    {
     "name": "stderr",
     "output_type": "stream",
     "text": [
      "기술지표 계산:  85%|████████▌ | 85/100 [00:20<00:03,  3.94it/s]"
     ]
    },
    {
     "name": "stdout",
     "output_type": "stream",
     "text": [
      "   - 최종 컬럼 수: 138\n",
      "📊 UMA 처리 중...\n",
      "   - 데이터 기간: 2020-05-25 00:00:00 ~ 2025-09-14 00:00:00 (1939일)\n"
     ]
    },
    {
     "name": "stderr",
     "output_type": "stream",
     "text": [
      "기술지표 계산:  86%|████████▌ | 86/100 [00:21<00:03,  4.10it/s]"
     ]
    },
    {
     "name": "stdout",
     "output_type": "stream",
     "text": [
      "   - 최종 컬럼 수: 138\n",
      "📊 UNI7083 처리 중...\n",
      "   - 데이터 기간: 2020-09-18 00:00:00 ~ 2025-09-14 00:00:00 (1823일)\n"
     ]
    },
    {
     "name": "stderr",
     "output_type": "stream",
     "text": [
      "기술지표 계산:  87%|████████▋ | 87/100 [00:21<00:03,  4.25it/s]"
     ]
    },
    {
     "name": "stdout",
     "output_type": "stream",
     "text": [
      "   - 최종 컬럼 수: 138\n",
      "📊 USDC 처리 중...\n",
      "   - 데이터 기간: 2018-10-08 00:00:00 ~ 2025-09-14 00:00:00 (2534일)\n"
     ]
    },
    {
     "name": "stderr",
     "output_type": "stream",
     "text": [
      "기술지표 계산:  88%|████████▊ | 88/100 [00:21<00:03,  3.91it/s]"
     ]
    },
    {
     "name": "stdout",
     "output_type": "stream",
     "text": [
      "   - 최종 컬럼 수: 138\n",
      "📊 USDT 처리 중...\n",
      "   - 데이터 기간: 2017-11-09 00:00:00 ~ 2025-09-14 00:00:00 (2867일)\n"
     ]
    },
    {
     "name": "stderr",
     "output_type": "stream",
     "text": [
      "기술지표 계산:  89%|████████▉ | 89/100 [00:22<00:03,  3.56it/s]"
     ]
    },
    {
     "name": "stdout",
     "output_type": "stream",
     "text": [
      "   - 최종 컬럼 수: 138\n",
      "📊 VET 처리 중...\n",
      "   - 데이터 기간: 2018-08-03 00:00:00 ~ 2025-09-14 00:00:00 (2600일)\n"
     ]
    },
    {
     "name": "stderr",
     "output_type": "stream",
     "text": [
      "기술지표 계산:  90%|█████████ | 90/100 [00:22<00:02,  3.46it/s]"
     ]
    },
    {
     "name": "stdout",
     "output_type": "stream",
     "text": [
      "   - 최종 컬럼 수: 138\n",
      "📊 WAVES 처리 중...\n",
      "   - 데이터 기간: 2017-11-09 00:00:00 ~ 2025-09-14 00:00:00 (2867일)\n"
     ]
    },
    {
     "name": "stderr",
     "output_type": "stream",
     "text": [
      "기술지표 계산:  91%|█████████ | 91/100 [00:22<00:02,  3.36it/s]"
     ]
    },
    {
     "name": "stdout",
     "output_type": "stream",
     "text": [
      "   - 최종 컬럼 수: 138\n",
      "📊 XLM 처리 중...\n",
      "   - 데이터 기간: 2017-11-09 00:00:00 ~ 2025-09-14 00:00:00 (2867일)\n"
     ]
    },
    {
     "name": "stderr",
     "output_type": "stream",
     "text": [
      "기술지표 계산:  92%|█████████▏| 92/100 [00:22<00:02,  3.35it/s]"
     ]
    },
    {
     "name": "stdout",
     "output_type": "stream",
     "text": [
      "   - 최종 컬럼 수: 138\n",
      "📊 XMR 처리 중...\n",
      "   - 데이터 기간: 2017-11-09 00:00:00 ~ 2025-09-14 00:00:00 (2867일)\n"
     ]
    },
    {
     "name": "stderr",
     "output_type": "stream",
     "text": [
      "기술지표 계산:  93%|█████████▎| 93/100 [00:23<00:02,  3.36it/s]"
     ]
    },
    {
     "name": "stdout",
     "output_type": "stream",
     "text": [
      "   - 최종 컬럼 수: 138\n",
      "📊 XRP 처리 중...\n",
      "   - 데이터 기간: 2017-11-09 00:00:00 ~ 2025-09-14 00:00:00 (2867일)\n"
     ]
    },
    {
     "name": "stderr",
     "output_type": "stream",
     "text": [
      "기술지표 계산:  94%|█████████▍| 94/100 [00:23<00:01,  3.35it/s]"
     ]
    },
    {
     "name": "stdout",
     "output_type": "stream",
     "text": [
      "   - 최종 컬럼 수: 138\n",
      "📊 XTZ 처리 중...\n",
      "   - 데이터 기간: 2017-11-09 00:00:00 ~ 2025-09-14 00:00:00 (2867일)\n"
     ]
    },
    {
     "name": "stderr",
     "output_type": "stream",
     "text": [
      "기술지표 계산:  95%|█████████▌| 95/100 [00:23<00:01,  3.35it/s]"
     ]
    },
    {
     "name": "stdout",
     "output_type": "stream",
     "text": [
      "   - 최종 컬럼 수: 138\n",
      "📊 XYO 처리 중...\n",
      "   - 데이터 기간: 2018-05-22 00:00:00 ~ 2025-09-14 00:00:00 (2673일)\n"
     ]
    },
    {
     "name": "stderr",
     "output_type": "stream",
     "text": [
      "기술지표 계산:  96%|█████████▌| 96/100 [00:24<00:01,  3.37it/s]"
     ]
    },
    {
     "name": "stdout",
     "output_type": "stream",
     "text": [
      "   - 최종 컬럼 수: 138\n",
      "📊 YFI 처리 중...\n",
      "   - 데이터 기간: 2020-07-20 00:00:00 ~ 2025-09-14 00:00:00 (1883일)\n"
     ]
    },
    {
     "name": "stderr",
     "output_type": "stream",
     "text": [
      "기술지표 계산:  97%|█████████▋| 97/100 [00:24<00:00,  3.47it/s]"
     ]
    },
    {
     "name": "stdout",
     "output_type": "stream",
     "text": [
      "   - 최종 컬럼 수: 138\n",
      "📊 ZEC 처리 중...\n",
      "   - 데이터 기간: 2017-11-09 00:00:00 ~ 2025-09-14 00:00:00 (2867일)\n"
     ]
    },
    {
     "name": "stderr",
     "output_type": "stream",
     "text": [
      "기술지표 계산:  98%|█████████▊| 98/100 [00:24<00:00,  3.24it/s]"
     ]
    },
    {
     "name": "stdout",
     "output_type": "stream",
     "text": [
      "   - 최종 컬럼 수: 138\n",
      "📊 ZIL 처리 중...\n",
      "   - 데이터 기간: 2018-01-25 00:00:00 ~ 2025-09-14 00:00:00 (2790일)\n"
     ]
    },
    {
     "name": "stderr",
     "output_type": "stream",
     "text": [
      "기술지표 계산:  99%|█████████▉| 99/100 [00:25<00:00,  3.29it/s]"
     ]
    },
    {
     "name": "stdout",
     "output_type": "stream",
     "text": [
      "   - 최종 컬럼 수: 138\n",
      "📊 ZRX 처리 중...\n",
      "   - 데이터 기간: 2017-11-09 00:00:00 ~ 2025-09-14 00:00:00 (2867일)\n"
     ]
    },
    {
     "name": "stderr",
     "output_type": "stream",
     "text": [
      "기술지표 계산: 100%|██████████| 100/100 [00:25<00:00,  3.93it/s]\n"
     ]
    },
    {
     "name": "stdout",
     "output_type": "stream",
     "text": [
      "   - 최종 컬럼 수: 138\n",
      "==================================================\n",
      "✅ 성공: 100개\n",
      "❌ 실패: 0개\n",
      "💾 기술지표 추가된 데이터 저장 중...\n"
     ]
    },
    {
     "name": "stderr",
     "output_type": "stream",
     "text": [
      "저장: 100%|██████████| 100/100 [00:46<00:00,  2.17it/s]\n"
     ]
    },
    {
     "name": "stdout",
     "output_type": "stream",
     "text": [
      "📊 통합 데이터셋 생성 중...\n",
      "📊 통합 데이터셋 저장 완료: 225850행\n",
      "✅ 기술지표 데이터 저장 완료!\n",
      "📁 저장 위치: /workspace/AI모델/projects/coin/data/processed/with_indicators/\n",
      "✅ 저장 완료: 100개\n",
      "\n",
      "📊 계산된 기술지표 요약 (1INCH 기준)\n",
      "==================================================\n",
      "이동평균: 32개\n",
      "  - MA_2\n",
      "  - MA_3\n",
      "  - MA_4\n",
      "  - MA_5\n",
      "  - MA_6\n",
      "  ... 외 27개 더\n",
      "\n",
      "MACD: 9개\n",
      "  - MACD\n",
      "  - MACD_Signal\n",
      "  - MACD_Histogram\n",
      "  - MACD_10_20\n",
      "  - MACD_10_20_Signal\n",
      "  ... 외 4개 더\n",
      "\n",
      "RSI: 8개\n",
      "  - RSI_4\n",
      "  - RSI_5\n",
      "  - RSI_6\n",
      "  - RSI_7\n",
      "  - RSI_12\n",
      "  ... 외 3개 더\n",
      "\n",
      "스토캐스틱: 12개\n",
      "  - Stoch_K_1\n",
      "  - Stoch_D_1\n",
      "  - Stoch_K_3\n",
      "  - Stoch_D_3\n",
      "  - Stoch_K_4\n",
      "  ... 외 7개 더\n",
      "\n",
      "Williams %R: 5개\n",
      "  - Williams_R_1\n",
      "  - Williams_R_8\n",
      "  - Williams_R_10\n",
      "  - Williams_R_14\n",
      "  - Williams_R\n",
      "\n",
      "CCI: 6개\n",
      "  - CCI_3\n",
      "  - CCI_4\n",
      "  - CCI_10\n",
      "  - CCI_17\n",
      "  - CCI_20\n",
      "  ... 외 1개 더\n",
      "\n",
      "MFI: 3개\n",
      "  - MFI_11\n",
      "  - MFI_14\n",
      "  - MFI\n",
      "\n",
      "수익률: 9개\n",
      "  - Return_1d\n",
      "  - Return_3d\n",
      "  - Return_7d\n",
      "  - Return_14d\n",
      "  - Return_30d\n",
      "  ... 외 4개 더\n",
      "\n",
      "변동성: 11개\n",
      "  - BB_Middle_20\n",
      "  - BB_Upper_20\n",
      "  - BB_Lower_20\n",
      "  - BB_Width_20\n",
      "  - BB_Position_20\n",
      "  ... 외 6개 더\n",
      "\n",
      "거래량: 6개\n",
      "  - Volume\n",
      "  - Volume_MA_7\n",
      "  - Volume_MA_20\n",
      "  - Volume_MA_50\n",
      "  - Volume_Ratio\n",
      "  ... 외 1개 더\n",
      "\n",
      "기타: 25개\n",
      "  - OSCP_11_36\n",
      "  - OSCP_18_19\n",
      "  - OSCP_19_20\n",
      "  - DI_Plus_21\n",
      "  - DI_Minus_21\n",
      "  ... 외 20개 더\n",
      "\n",
      "총 지표 수: 126개\n",
      "처리된 코인 수: 100개\n",
      "\n",
      "\n",
      "🎉 기술분석 완료!\n",
      "📊 처리된 코인: 100개\n",
      "\n",
      "📋 샘플 데이터 (1INCH):\n",
      "   - 데이터 기간: 2020-12-25 00:00:00 ~ 2025-09-14 00:00:00\n",
      "   - 총 컬럼 수: 138\n",
      "   - 최근 3일 데이터:\n",
      "             Close   MA_20   RSI_14    MACD  Volume_Ratio\n",
      "Date                                                     \n",
      "2025-09-12  0.2722  0.2499  70.4206  0.0012        0.8493\n",
      "2025-09-13  0.2737  0.2506  70.0980  0.0025        0.9375\n",
      "2025-09-14  0.2639  0.2518  65.2083  0.0028        0.7821\n"
     ]
    }
   ],
   "source": [
    "# 사용 예시\n",
    "if __name__ == \"__main__\":\n",
    "    # 기술지표 계산기 인스턴스 생성\n",
    "    indicator_calculator = CryptoTechnicalIndicators(\n",
    "        input_folder=\"/workspace/AI모델/projects/coin/data/raw_data\",\n",
    "        output_folder=\"/workspace/AI모델/projects/coin/data/processed\",\n",
    "        start_date=\"2015-01-01\",  # 선택적: 계산 시작일\n",
    "        end_date=\"2025-09-15\"     # 선택적: 계산 종료일\n",
    "    )\n",
    "    \n",
    "    # 기술분석 실행\n",
    "    processed_data = indicator_calculator.run_technical_analysis()\n",
    "    \n",
    "    # 결과 확인\n",
    "    if processed_data:\n",
    "        print(f\"\\n🎉 기술분석 완료!\")\n",
    "        print(f\"📊 처리된 코인: {len(processed_data)}개\")\n",
    "        \n",
    "        # 샘플 데이터 미리보기\n",
    "        sample_symbol = list(processed_data.keys())[0]\n",
    "        sample_df = processed_data[sample_symbol]\n",
    "        print(f\"\\n📋 샘플 데이터 ({sample_symbol}):\")\n",
    "        print(f\"   - 데이터 기간: {sample_df.index[0]} ~ {sample_df.index[-1]}\")\n",
    "        print(f\"   - 총 컬럼 수: {len(sample_df.columns)}\")\n",
    "        print(f\"   - 최근 3일 데이터:\")\n",
    "        print(sample_df.tail(3)[['Close', 'MA_20', 'RSI_14', 'MACD', 'Volume_Ratio']].round(4))"
   ]
  },
  {
   "cell_type": "markdown",
   "id": "04e50429",
   "metadata": {},
   "source": [
    "# 퀀트전략지표 추가"
   ]
  },
  {
   "cell_type": "code",
   "execution_count": 4,
   "id": "584be226",
   "metadata": {},
   "outputs": [],
   "source": [
    "import pandas as pd\n",
    "import numpy as np\n",
    "import os\n",
    "from tqdm import tqdm\n",
    "import warnings\n",
    "from datetime import datetime\n",
    "warnings.filterwarnings('ignore')\n",
    "\n",
    "class QuantStrategySignals:\n",
    "    def __init__(self, input_folder, output_folder):\n",
    "        \"\"\"\n",
    "        퀀트 전략 시그널 생성기\n",
    "        \n",
    "        Parameters:\n",
    "        input_folder: 기술지표가 포함된 CSV 파일들 폴더\n",
    "        output_folder: 전략 시그널이 추가된 CSV 저장 폴더\n",
    "        \"\"\"\n",
    "        self.input_folder = input_folder\n",
    "        self.output_folder = output_folder\n",
    "        self.processed_data = {}\n",
    "        self.failed_symbols = []\n",
    "        \n",
    "    def load_crypto_data(self, csv_file):\n",
    "        \"\"\"CSV 파일 로드\"\"\"\n",
    "        try:\n",
    "            df = pd.read_csv(csv_file)\n",
    "            \n",
    "            if 'Date' in df.columns:\n",
    "                df['Date'] = pd.to_datetime(df['Date'])\n",
    "                df.set_index('Date', inplace=True)\n",
    "            \n",
    "            return df.sort_index()\n",
    "            \n",
    "        except Exception as e:\n",
    "            print(f\"파일 로드 실패 {csv_file}: {e}\")\n",
    "            return None\n",
    "    \n",
    "    def calculate_ma_cross_strategies(self, df):\n",
    "        \"\"\"이동평균 교차 전략들 - 메모 기반 수정\"\"\"\n",
    "        try:\n",
    "            # MA_Cross_3_25 - 메모 1-028번\n",
    "            if 'MA_3' in df.columns and 'MA_25' in df.columns:\n",
    "                df['MA_Cross_3_25_Signal'] = 1\n",
    "                cross_up = (df['MA_3'] > df['MA_25']) & (df['MA_3'].shift(1) <= df['MA_25'].shift(1))\n",
    "                cross_down = (df['MA_3'] < df['MA_25']) & (df['MA_3'].shift(1) >= df['MA_25'].shift(1))\n",
    "                df.loc[cross_up, 'MA_Cross_3_25_Signal'] = 2\n",
    "                df.loc[cross_down, 'MA_Cross_3_25_Signal'] = 0\n",
    "            \n",
    "            # MA_Trend_20_60_120 - 메모 1-019번\n",
    "            if all(col in df.columns for col in ['MA_20', 'MA_60', 'MA_120']):\n",
    "                uptrend = (df['MA_20'] > df['MA_60']) & (df['MA_60'] > df['MA_120'])\n",
    "                downtrend = (df['MA_20'] < df['MA_60']) & (df['MA_60'] < df['MA_120'])\n",
    "                df['MA_Trend_Signal'] = 1\n",
    "                df.loc[uptrend, 'MA_Trend_Signal'] = 2\n",
    "                df.loc[downtrend, 'MA_Trend_Signal'] = 0\n",
    "            \n",
    "            # EMA_Cross_5_20 - 메모 2-114번\n",
    "            if 'EMA_5' in df.columns and 'EMA_20' in df.columns:\n",
    "                df['EMA_Cross_5_20_Signal'] = 1\n",
    "                cross_up = (df['EMA_5'] > df['EMA_20']) & (df['EMA_5'].shift(1) <= df['EMA_20'].shift(1))\n",
    "                cross_down = (df['EMA_5'] < df['EMA_20']) & (df['EMA_5'].shift(1) >= df['EMA_20'].shift(1))\n",
    "                df.loc[cross_up, 'EMA_Cross_5_20_Signal'] = 2\n",
    "                df.loc[cross_down, 'EMA_Cross_5_20_Signal'] = 0\n",
    "            \n",
    "            # EMA_Cross_6_24 - 메모 3-253번 골든크로스\n",
    "            if 'EMA_6' in df.columns and 'EMA_24' in df.columns:\n",
    "                df['EMA_Cross_6_24_Signal'] = 1\n",
    "                cross_up = (df['EMA_6'] > df['EMA_24']) & (df['EMA_6'].shift(1) <= df['EMA_24'].shift(1))\n",
    "                cross_down = (df['EMA_6'] < df['EMA_24']) & (df['EMA_6'].shift(1) >= df['EMA_24'].shift(1))\n",
    "                df.loc[cross_up, 'EMA_Cross_6_24_Signal'] = 2\n",
    "                df.loc[cross_down, 'EMA_Cross_6_24_Signal'] = 0\n",
    "            \n",
    "            # 정진 전략 - 메모 1-135번\n",
    "            if 'MA_2' in df.columns and 'MA_29' in df.columns:\n",
    "                df['Jungjin_Signal'] = 1\n",
    "                # 당일 종가가 2일전의 2일/29일 이평선보다 클 때\n",
    "                ma2_2days_ago = df['MA_2'].shift(2)\n",
    "                ma29_2days_ago = df['MA_29'].shift(2)\n",
    "                buy_condition = (df['Close'] > ma2_2days_ago) & (df['Close'] > ma29_2days_ago)\n",
    "                sell_condition = (df['Close'] < ma2_2days_ago) & (df['Close'] < ma29_2days_ago)\n",
    "                df.loc[buy_condition, 'Jungjin_Signal'] = 2\n",
    "                df.loc[sell_condition, 'Jungjin_Signal'] = 0\n",
    "                \n",
    "        except Exception as e:\n",
    "            print(f\"이동평균 전략 계산 실패: {e}\")\n",
    "\n",
    "    def calculate_macd_strategies(self, df):\n",
    "        \"\"\"MACD 기반 전략들 - 다양한 매개변수 버전 추가\"\"\"\n",
    "        try:\n",
    "            # 기본 MACD_Zero_Cross (12,26)\n",
    "            if 'MACD' in df.columns:\n",
    "                df['MACD_Zero_Cross_Signal'] = 1\n",
    "                zero_cross_up = (df['MACD'] > 0) & (df['MACD'].shift(1) <= 0)\n",
    "                zero_cross_down = (df['MACD'] < 0) & (df['MACD'].shift(1) >= 0)\n",
    "                df.loc[zero_cross_up, 'MACD_Zero_Cross_Signal'] = 2\n",
    "                df.loc[zero_cross_down, 'MACD_Zero_Cross_Signal'] = 0\n",
    "            \n",
    "            # MACD (10,20) 변형 - 메모 1-58번 전략\n",
    "            if 'MACD_10_20' in df.columns:\n",
    "                df['MACD_10_20_Signal'] = 1\n",
    "                zero_cross_up_10_20 = (df['MACD_10_20'] > 0) & (df['MACD_10_20'].shift(1) <= 0)\n",
    "                zero_cross_down_10_20 = (df['MACD_10_20'] < 0) & (df['MACD_10_20'].shift(1) >= 0)\n",
    "                df.loc[zero_cross_up_10_20, 'MACD_10_20_Signal'] = 2\n",
    "                df.loc[zero_cross_down_10_20, 'MACD_10_20_Signal'] = 0\n",
    "            \n",
    "            # MACD (15,26) 변형 - 메모 1-144번 전략\n",
    "            if 'MACD_15_26' in df.columns:\n",
    "                df['MACD_15_26_Signal'] = 1\n",
    "                zero_cross_up_15_26 = (df['MACD_15_26'] > 0) & (df['MACD_15_26'].shift(1) <= 0)\n",
    "                zero_cross_down_15_26 = (df['MACD_15_26'] < 0) & (df['MACD_15_26'].shift(1) >= 0)\n",
    "                df.loc[zero_cross_up_15_26, 'MACD_15_26_Signal'] = 2\n",
    "                df.loc[zero_cross_down_15_26, 'MACD_15_26_Signal'] = 0\n",
    "            \n",
    "            # MACD (5,27) 변형 - 메모 3-292번 전략\n",
    "            if 'MACD_5_27' in df.columns:\n",
    "                df['MACD_5_27_Signal'] = 1\n",
    "                zero_cross_up_5_27 = (df['MACD_5_27'] > 0) & (df['MACD_5_27'].shift(1) <= 0)\n",
    "                zero_cross_down_5_27 = (df['MACD_5_27'] < 0) & (df['MACD_5_27'].shift(1) >= 0)\n",
    "                df.loc[zero_cross_up_5_27, 'MACD_5_27_Signal'] = 2\n",
    "                df.loc[zero_cross_down_5_27, 'MACD_5_27_Signal'] = 0\n",
    "            \n",
    "            # MACD 시그널 교차\n",
    "            if 'MACD' in df.columns and 'MACD_Signal' in df.columns:\n",
    "                df['MACD_Signal_Cross'] = 1\n",
    "                signal_cross_up = (df['MACD'] > df['MACD_Signal']) & (df['MACD'].shift(1) <= df['MACD_Signal'].shift(1))\n",
    "                signal_cross_down = (df['MACD'] < df['MACD_Signal']) & (df['MACD'].shift(1) >= df['MACD_Signal'].shift(1))\n",
    "                df.loc[signal_cross_up, 'MACD_Signal_Cross'] = 2\n",
    "                df.loc[signal_cross_down, 'MACD_Signal_Cross'] = 0\n",
    "            \n",
    "            # Bad Market3 전략 (2-114): EMA + MACD 조합\n",
    "            if all(col in df.columns for col in ['EMA_5', 'EMA_20', 'MACD', 'MACD_Signal']):\n",
    "                df['Bad_Market3_Signal'] = 1\n",
    "                \n",
    "                # EMA 상향돌파 & MACD 시그널 상향돌파\n",
    "                ema_cross_up = (df['EMA_5'] > df['EMA_20']) & (df['EMA_5'].shift(1) <= df['EMA_20'].shift(1))\n",
    "                macd_signal_up = (df['MACD'] > df['MACD_Signal']) & (df['MACD'].shift(1) <= df['MACD_Signal'].shift(1))\n",
    "                buy_condition = ema_cross_up & macd_signal_up\n",
    "                \n",
    "                # EMA 하향돌파 & MACD 시그널 하향돌파  \n",
    "                if 'EMA_10' in df.columns:\n",
    "                    ema_cross_down = (df['EMA_5'] < df['EMA_10']) & (df['EMA_5'].shift(1) >= df['EMA_10'].shift(1))\n",
    "                    macd_signal_down = (df['MACD'] < df['MACD_Signal']) & (df['MACD'].shift(1) >= df['MACD_Signal'].shift(1))\n",
    "                    sell_condition = ema_cross_down & macd_signal_down\n",
    "                    df.loc[sell_condition, 'Bad_Market3_Signal'] = 0\n",
    "                \n",
    "                df.loc[buy_condition, 'Bad_Market3_Signal'] = 2\n",
    "                \n",
    "        except Exception as e:\n",
    "            print(f\"MACD 전략 계산 실패: {e}\")\n",
    "\n",
    "    def calculate_rsi_strategies(self, df):\n",
    "        \"\"\"RSI 기반 전략들 - 다양한 매개변수와 임계값\"\"\"\n",
    "        try:\n",
    "            # 기본 RSI_Reversal (30/70)\n",
    "            if 'RSI_14' in df.columns:\n",
    "                df['RSI_Reversal_Signal'] = 1\n",
    "                oversold_bounce = (df['RSI_14'] > 30) & (df['RSI_14'].shift(1) <= 30)\n",
    "                overbought_drop = (df['RSI_14'] < 70) & (df['RSI_14'].shift(1) >= 70)\n",
    "                df.loc[oversold_bounce, 'RSI_Reversal_Signal'] = 2\n",
    "                df.loc[overbought_drop, 'RSI_Reversal_Signal'] = 0\n",
    "            \n",
    "            # RSI_Extreme (20/80)\n",
    "            if 'RSI_14' in df.columns:\n",
    "                df['RSI_Extreme_Signal'] = 1\n",
    "                extreme_oversold = (df['RSI_14'] > 20) & (df['RSI_14'].shift(1) <= 20)\n",
    "                extreme_overbought = (df['RSI_14'] < 80) & (df['RSI_14'].shift(1) >= 80)\n",
    "                df.loc[extreme_oversold, 'RSI_Extreme_Signal'] = 2\n",
    "                df.loc[extreme_overbought, 'RSI_Extreme_Signal'] = 0\n",
    "            \n",
    "            # 리버스 RSI (25/64) - 메모 1-178번\n",
    "            if 'RSI_14' in df.columns:\n",
    "                df['RSI_Reverse_Signal'] = 1\n",
    "                reverse_buy = (df['RSI_14'] > 25) & (df['RSI_14'].shift(1) <= 25)\n",
    "                reverse_sell = (df['RSI_14'] < 64) & (df['RSI_14'].shift(1) >= 64)\n",
    "                df.loc[reverse_buy, 'RSI_Reverse_Signal'] = 2\n",
    "                df.loc[reverse_sell, 'RSI_Reverse_Signal'] = 0\n",
    "            \n",
    "            # RSI (20/75) - 메모 3-326번\n",
    "            if 'RSI_21' in df.columns:\n",
    "                df['RSI_20_75_Signal'] = 1\n",
    "                rsi_20_buy = (df['RSI_21'] > 20) & (df['RSI_21'].shift(1) <= 20)\n",
    "                rsi_75_sell = (df['RSI_21'] < 75) & (df['RSI_21'].shift(1) >= 75)\n",
    "                df.loc[rsi_20_buy, 'RSI_20_75_Signal'] = 2\n",
    "                df.loc[rsi_75_sell, 'RSI_20_75_Signal'] = 0\n",
    "            \n",
    "            # RSI (22/78) - 메모 3-143번\n",
    "            if 'RSI_20' in df.columns:\n",
    "                df['RSI_22_78_Signal'] = 1\n",
    "                rsi_22_buy = (df['RSI_20'] > 22) & (df['RSI_20'].shift(1) <= 22)\n",
    "                rsi_78_sell = (df['RSI_20'] < 78) & (df['RSI_20'].shift(1) >= 78)\n",
    "                df.loc[rsi_22_buy, 'RSI_22_78_Signal'] = 2\n",
    "                df.loc[rsi_78_sell, 'RSI_22_78_Signal'] = 0\n",
    "            \n",
    "            # RSI (30/65) - 메모 4-304번\n",
    "            if 'RSI_4' in df.columns:\n",
    "                df['RSI_30_65_Signal'] = 1\n",
    "                rsi_30_buy = (df['RSI_4'] > 30) & (df['RSI_4'].shift(1) <= 30)\n",
    "                rsi_65_sell = (df['RSI_4'] < 65) & (df['RSI_4'].shift(1) >= 65)\n",
    "                df.loc[rsi_30_buy, 'RSI_30_65_Signal'] = 2\n",
    "                df.loc[rsi_65_sell, 'RSI_30_65_Signal'] = 0\n",
    "            \n",
    "            # RSI (12/50) - 메모 9-583번\n",
    "            if 'RSI_12' in df.columns:\n",
    "                df['RSI_12_50_Signal'] = 1\n",
    "                rsi_12_buy = (df['RSI_12'] > 12) & (df['RSI_12'].shift(1) <= 12)\n",
    "                rsi_50_sell = (df['RSI_12'] < 50) & (df['RSI_12'].shift(1) >= 50)\n",
    "                df.loc[rsi_12_buy, 'RSI_12_50_Signal'] = 2\n",
    "                df.loc[rsi_50_sell, 'RSI_12_50_Signal'] = 0\n",
    "                \n",
    "        except Exception as e:\n",
    "            print(f\"RSI 전략 계산 실패: {e}\")\n",
    "\n",
    "    def calculate_oscillator_strategies(self, df):\n",
    "        \"\"\"오실레이터 복합 전략들 - 메모 기반 수정\"\"\"\n",
    "        try:\n",
    "            # Williams_CCI_Combo - 메모 3-191번 기반\n",
    "            if 'Williams_R_10' in df.columns and 'CCI_10' in df.columns:\n",
    "                df['Williams_CCI_Signal'] = 1\n",
    "                \n",
    "                # W%R -96 돌파 & CCI -137 돌파\n",
    "                williams_buy = (df['Williams_R_10'] > -96) & (df['Williams_R_10'].shift(1) <= -96)\n",
    "                cci_buy = (df['CCI_10'] > -137) & (df['CCI_10'].shift(1) <= -137)\n",
    "                combo_buy = williams_buy & cci_buy\n",
    "                \n",
    "                # W%R -32 하향돌파 & CCI 63 하향돌파\n",
    "                williams_sell = (df['Williams_R_10'] < -32) & (df['Williams_R_10'].shift(1) >= -32)\n",
    "                cci_sell = (df['CCI_10'] < 63) & (df['CCI_10'].shift(1) >= 63)\n",
    "                combo_sell = williams_sell & cci_sell\n",
    "                \n",
    "                df.loc[combo_buy, 'Williams_CCI_Signal'] = 2\n",
    "                df.loc[combo_sell, 'Williams_CCI_Signal'] = 0\n",
    "            \n",
    "            # CCI 과매도/과매수 - 메모 3-026번\n",
    "            if 'CCI_17' in df.columns: # CCI_3 조건은 제거해도 무방\n",
    "                df['CCI_Oversold_Signal'] = 1\n",
    "                # CCI_17을 기준으로 통일\n",
    "                cci_buy = (df['CCI_17'] > -100) & (df['CCI_17'].shift(1) <= -100)\n",
    "                cci_sell = (df['CCI_17'] < 100) & (df['CCI_17'].shift(1) >= 100)\n",
    "                df.loc[cci_buy, 'CCI_Oversold_Signal'] = 2\n",
    "                df.loc[cci_sell, 'CCI_Oversold_Signal'] = 0\n",
    "            \n",
    "            # CCI (3) -160/120 - 메모 4-362번\n",
    "            if 'CCI_3' in df.columns:\n",
    "                df['CCI_3_Signal'] = 1\n",
    "                cci_3_buy = (df['CCI_3'] > -160) & (df['CCI_3'].shift(1) <= -160)\n",
    "                cci_3_sell = (df['CCI_3'] < 120) & (df['CCI_3'].shift(1) >= 120)\n",
    "                df.loc[cci_3_buy, 'CCI_3_Signal'] = 2\n",
    "                df.loc[cci_3_sell, 'CCI_3_Signal'] = 0\n",
    "            \n",
    "            # Stoch_RSI_Combo - 메모 2-249번 기반\n",
    "            if all(col in df.columns for col in ['Stoch_K_4', 'Stoch_D_4', 'RSI_5']):\n",
    "                df['Stoch_RSI_Combo_Signal'] = 1\n",
    "                \n",
    "                # %K가 %D 상향돌파 & RSI 15 상향돌파\n",
    "                stoch_cross_up = (df['Stoch_K_4'] > df['Stoch_D_4']) & (df['Stoch_K_4'].shift(1) <= df['Stoch_D_4'].shift(1))\n",
    "                rsi_bounce = (df['RSI_5'] > 15) & (df['RSI_5'].shift(1) <= 15)\n",
    "                buy_condition = stoch_cross_up & rsi_bounce\n",
    "                \n",
    "                # %K가 %D 하향돌파 & RSI 65 하향돌파\n",
    "                stoch_cross_down = (df['Stoch_K_4'] < df['Stoch_D_4']) & (df['Stoch_K_4'].shift(1) >= df['Stoch_D_4'].shift(1))\n",
    "                rsi_drop = (df['RSI_5'] < 65) & (df['RSI_5'].shift(1) >= 65)\n",
    "                sell_condition = stoch_cross_down & rsi_drop\n",
    "                \n",
    "                df.loc[buy_condition, 'Stoch_RSI_Combo_Signal'] = 2\n",
    "                df.loc[sell_condition, 'Stoch_RSI_Combo_Signal'] = 0\n",
    "            \n",
    "            # 스토캐스틱 단독 전략들\n",
    "            # 스토캐스틱 10/72 - 메모 3-231번\n",
    "            if 'Stoch_K_3' in df.columns:\n",
    "                df['Stoch_10_72_Signal'] = 1\n",
    "                stoch_10_buy = (df['Stoch_K_3'] > 10) & (df['Stoch_K_3'].shift(1) <= 10)\n",
    "                stoch_72_sell = (df['Stoch_K_3'] < 72) & (df['Stoch_K_3'].shift(1) >= 72)\n",
    "                df.loc[stoch_10_buy, 'Stoch_10_72_Signal'] = 2\n",
    "                df.loc[stoch_72_sell, 'Stoch_10_72_Signal'] = 0\n",
    "            \n",
    "            # 스토캐스틱 71/31 - 메모 8-432번\n",
    "            if 'Stoch_K_1' in df.columns:\n",
    "                df['Stoch_71_31_Signal'] = 1\n",
    "                stoch_71_buy = (df['Stoch_K_1'] > 71) & (df['Stoch_K_1'].shift(1) <= 71)\n",
    "                stoch_31_sell = (df['Stoch_K_1'] < 31) & (df['Stoch_K_1'].shift(1) >= 31)\n",
    "                df.loc[stoch_71_buy, 'Stoch_71_31_Signal'] = 0\n",
    "                df.loc[stoch_31_sell, 'Stoch_71_31_Signal'] = 2\n",
    "                \n",
    "        except Exception as e:\n",
    "            print(f\"오실레이터 전략 계산 실패: {e}\")\n",
    "\n",
    "    def calculate_price_pattern_strategies(self, df):\n",
    "        \"\"\"가격 패턴 기반 전략들\"\"\"\n",
    "        try:\n",
    "            if all(col in df.columns for col in ['Open', 'High', 'Low', 'Close']):\n",
    "                # 기본 캔들스틱 패턴\n",
    "                bullish_candle = (df['Close'] > df['Open']) & \\\n",
    "                               (abs(df['Close'] - df['Open']) > 0.01) & \\\n",
    "                               (abs(df['Close'] - df['Open']) < 0.05)\n",
    "                bearish_candle = (df['Close'] < df['Open']) & \\\n",
    "                               (abs(df['Close'] - df['Open']) < 0.05)\n",
    "                \n",
    "                df['Candlestick_Signal'] = 1\n",
    "                df.loc[bullish_candle, 'Candlestick_Signal'] = 2\n",
    "                df.loc[bearish_candle, 'Candlestick_Signal'] = 0\n",
    "                \n",
    "                # 수식3 전략 - 메모 7-334번\n",
    "                df['Formula3_Signal'] = 1\n",
    "                formula3_buy = (df['Close'] > df['Open']) & \\\n",
    "                              (abs(df['Close'] - df['Open']) > 0.03) & \\\n",
    "                              (abs(df['Close'] - df['Open']) < 0.5)\n",
    "                formula3_sell = (df['Close'] < df['Open']) & \\\n",
    "                               (abs(df['Close'] - df['Open']) < 0.5)\n",
    "                \n",
    "                df.loc[formula3_buy, 'Formula3_Signal'] = 2\n",
    "                df.loc[formula3_sell, 'Formula3_Signal'] = 0\n",
    "                \n",
    "                # Shadow Analysis\n",
    "                upper_shadow = np.where(df['Close'] > df['Open'], \n",
    "                                      df['High'] - df['Close'], \n",
    "                                      df['High'] - df['Open'])\n",
    "                lower_shadow = np.where(df['Close'] > df['Open'], \n",
    "                                      df['Open'] - df['Low'], \n",
    "                                      df['Close'] - df['Low'])\n",
    "                \n",
    "                long_lower_shadow = lower_shadow > upper_shadow * 2\n",
    "                long_upper_shadow = upper_shadow > lower_shadow * 2\n",
    "                \n",
    "                df['Shadow_Analysis_Signal'] = 1\n",
    "                df.loc[long_lower_shadow, 'Shadow_Analysis_Signal'] = 2\n",
    "                df.loc[long_upper_shadow, 'Shadow_Analysis_Signal'] = 0\n",
    "                \n",
    "        except Exception as e:\n",
    "            print(f\"가격 패턴 전략 계산 실패: {e}\")\n",
    "    \n",
    "    def calculate_pivot_strategy(self, df):\n",
    "        \"\"\"피봇 지지/저항 전략\"\"\"\n",
    "        try:\n",
    "            if all(col in df.columns for col in ['High', 'Low', 'Close']):\n",
    "                # 피봇 포인트 계산\n",
    "                df['Pivot'] = (df['High'] + df['Low'] + df['Close']) / 3\n",
    "                df['Support1'] = 2 * df['Pivot'] - df['High']\n",
    "                df['Resistance1'] = 2 * df['Pivot'] - df['Low']\n",
    "                \n",
    "                # 지지선 돌파 (상향)\n",
    "                support_breakout = (df['Close'] > df['Support1']) & (df['Open'] <= df['Support1'])\n",
    "                # 저항선 이탈 (하향)\n",
    "                resistance_breakdown = (df['Close'] < df['Resistance1']) & (df['Open'] >= df['Resistance1'])\n",
    "                \n",
    "                df['Pivot_Strategy_Signal'] = 1\n",
    "                df.loc[support_breakout, 'Pivot_Strategy_Signal'] = 2\n",
    "                df.loc[resistance_breakdown, 'Pivot_Strategy_Signal'] = 0\n",
    "                \n",
    "        except Exception as e:\n",
    "            print(f\"피봇 전략 계산 실패: {e}\")\n",
    "    \n",
    "    def calculate_volume_strategies(self, df):\n",
    "        \"\"\"거래량 기반 전략들 - MFI 전략 세분화\"\"\"\n",
    "        try:\n",
    "            # 기본 MFI_Strategy (20/80)\n",
    "            if 'MFI' in df.columns:\n",
    "                df['MFI_Strategy_Signal'] = 1\n",
    "                mfi_oversold = (df['MFI'] > 20) & (df['MFI'].shift(1) <= 20)\n",
    "                mfi_overbought = (df['MFI'] < 80) & (df['MFI'].shift(1) >= 80)\n",
    "                df.loc[mfi_oversold, 'MFI_Strategy_Signal'] = 2\n",
    "                df.loc[mfi_overbought, 'MFI_Strategy_Signal'] = 0\n",
    "            \n",
    "            # MFI (25/50) - 메모 3-131번\n",
    "            if 'MFI_11' in df.columns:\n",
    "                df['MFI_25_50_Signal'] = 1\n",
    "                mfi_25_buy = (df['MFI_11'] > 25) & (df['MFI_11'].shift(1) <= 25)\n",
    "                mfi_50_sell = (df['MFI_11'] < 50) & (df['MFI_11'].shift(1) >= 50)\n",
    "                df.loc[mfi_25_buy, 'MFI_25_50_Signal'] = 2\n",
    "                df.loc[mfi_50_sell, 'MFI_25_50_Signal'] = 0\n",
    "            \n",
    "            # Money Flow Index 극값 - 메모 4-363번\n",
    "            if 'MFI_11' in df.columns:\n",
    "                df['MFI_Extreme_Signal'] = 1\n",
    "                df.loc[df['MFI_11'] <= 15, 'MFI_Extreme_Signal'] = 2\n",
    "                df.loc[df['MFI_11'] >= 85, 'MFI_Extreme_Signal'] = 0\n",
    "            \n",
    "            # Volume_Breakout\n",
    "            if 'Volume_Ratio' in df.columns:\n",
    "                df['Volume_Breakout_Signal'] = 1\n",
    "                volume_surge = (df['Volume_Ratio'] > 2.0) & (df['Volume_Ratio'].shift(1) <= 2.0)\n",
    "                volume_dry = (df['Volume_Ratio'] < 0.5) & (df['Volume_Ratio'].shift(1) >= 0.5)\n",
    "                df.loc[volume_surge, 'Volume_Breakout_Signal'] = 2\n",
    "                df.loc[volume_dry, 'Volume_Breakout_Signal'] = 0\n",
    "                \n",
    "        except Exception as e:\n",
    "            print(f\"거래량 전략 계산 실패: {e}\")\n",
    "\n",
    "    def calculate_momentum_strategies(self, df):\n",
    "        \"\"\"모멘텀 전략들 - Price ROC 추가\"\"\"\n",
    "        try:\n",
    "            # 기존 Price_ROC (Return_7d 기반)\n",
    "            if 'Return_7d' in df.columns:\n",
    "                df['Momentum_Signal'] = 1\n",
    "                strong_momentum_up = (df['Return_7d'] > 0.1) & (df['Return_7d'].shift(1) <= 0.1)\n",
    "                strong_momentum_down = (df['Return_7d'] < -0.1) & (df['Return_7d'].shift(1) >= -0.1)\n",
    "                df.loc[strong_momentum_up, 'Momentum_Signal'] = 2\n",
    "                df.loc[strong_momentum_down, 'Momentum_Signal'] = 0\n",
    "            \n",
    "            # Price ROC (3) - 메모 10-540번\n",
    "            if 'Price_ROC_3' in df.columns:\n",
    "                df['Price_ROC_3_Signal'] = 1\n",
    "                roc_up = (df['Price_ROC_3'] > 0) & (df['Price_ROC_3'].shift(1) <= 0)\n",
    "                roc_down = (df['Price_ROC_3'] < 0) & (df['Price_ROC_3'].shift(1) >= 0)\n",
    "                df.loc[roc_up, 'Price_ROC_3_Signal'] = 2\n",
    "                df.loc[roc_down, 'Price_ROC_3_Signal'] = 0\n",
    "            \n",
    "            # Volatility_Breakout\n",
    "            if 'ATR_Percent_14' in df.columns:\n",
    "                high_volatility = df['ATR_Percent_14'] > df['ATR_Percent_14'].rolling(20).quantile(0.8)\n",
    "                low_volatility = df['ATR_Percent_14'] < df['ATR_Percent_14'].rolling(20).quantile(0.2)\n",
    "                df['Volatility_Signal'] = 1\n",
    "                df.loc[high_volatility, 'Volatility_Signal'] = 2\n",
    "                df.loc[low_volatility, 'Volatility_Signal'] = 0\n",
    "                \n",
    "        except Exception as e:\n",
    "            print(f\"모멘텀 전략 계산 실패: {e}\")\n",
    "    \n",
    "    def calculate_composite_signals(self, df):\n",
    "        \"\"\"복합 시그널 계산\"\"\"\n",
    "        try:\n",
    "            # 모든 전략 시그널 컬럼 찾기\n",
    "            signal_columns = [col for col in df.columns if '_Signal' in col and col.endswith('_Signal')]\n",
    "            \n",
    "            if len(signal_columns) > 0:\n",
    "                # 평균 시그널 강도\n",
    "                df['Composite_Signal_Avg'] = df[signal_columns].mean(axis=1)\n",
    "                \n",
    "                # 매수 시그널 개수\n",
    "                buy_signals = (df[signal_columns] == 2).sum(axis=1)\n",
    "                sell_signals = (df[signal_columns] == 0).sum(axis=1)\n",
    "                \n",
    "                df['Buy_Signal_Count'] = buy_signals\n",
    "                df['Sell_Signal_Count'] = sell_signals\n",
    "                df['Net_Signal_Score'] = buy_signals - sell_signals\n",
    "                \n",
    "                # 최종 복합 시그널\n",
    "                df['Final_Composite_Signal'] = 1  # 기본 HOLD\n",
    "                df.loc[df['Net_Signal_Score'] >= 2, 'Final_Composite_Signal'] = 2  # 강한 매수\n",
    "                df.loc[df['Net_Signal_Score'] <= -2, 'Final_Composite_Signal'] = 0  # 강한 매도\n",
    "                \n",
    "        except Exception as e:\n",
    "            print(f\"복합 시그널 계산 실패: {e}\")\n",
    "    \n",
    "    def process_single_crypto(self, csv_file):\n",
    "        \"\"\"개별 코인 처리\"\"\"\n",
    "        symbol = os.path.basename(csv_file).replace('.csv', '')\n",
    "        \n",
    "        try:\n",
    "            print(f\"전략 시그널 생성: {symbol}\")\n",
    "            \n",
    "            df = self.load_crypto_data(csv_file)\n",
    "            if df is None or len(df) < 50:\n",
    "                self.failed_symbols.append(symbol)\n",
    "                return None\n",
    "            \n",
    "            print(f\"   - 데이터 기간: {df.index[0]} ~ {df.index[-1]} ({len(df)}일)\")\n",
    "            \n",
    "            # 각 전략 계산\n",
    "            self.calculate_ma_cross_strategies(df)\n",
    "            self.calculate_macd_strategies(df)\n",
    "            self.calculate_rsi_strategies(df)\n",
    "            self.calculate_oscillator_strategies(df)\n",
    "            self.calculate_price_pattern_strategies(df)\n",
    "            self.calculate_pivot_strategy(df)\n",
    "            self.calculate_volume_strategies(df)\n",
    "            self.calculate_momentum_strategies(df)\n",
    "            \n",
    "            # 복합 시그널 계산\n",
    "            self.calculate_composite_signals(df)\n",
    "            \n",
    "            # 결과 저장\n",
    "            self.processed_data[symbol] = df\n",
    "            \n",
    "            # 새로 추가된 시그널 컬럼 수 계산\n",
    "            signal_columns = [col for col in df.columns if '_Signal' in col]\n",
    "            print(f\"   - 생성된 전략 시그널: {len(signal_columns)}개\")\n",
    "            \n",
    "            return df\n",
    "            \n",
    "        except Exception as e:\n",
    "            print(f\"⚠️ {symbol} 처리 실패: {e}\")\n",
    "            self.failed_symbols.append(symbol)\n",
    "            return None\n",
    "    \n",
    "    def process_all_cryptos(self):\n",
    "        \"\"\"모든 코인 처리\"\"\"\n",
    "        print(\"🚀 퀀트 전략 시그널 생성 시작!\")\n",
    "        print(f\"📁 입력 폴더: {self.input_folder}\")\n",
    "        print(\"=\"*50)\n",
    "        \n",
    "        csv_files = [f for f in os.listdir(self.input_folder) if f.endswith('.csv')]\n",
    "        \n",
    "        if not csv_files:\n",
    "            print(\"❌ CSV 파일을 찾을 수 없습니다!\")\n",
    "            return\n",
    "        \n",
    "        print(f\"📊 총 {len(csv_files)}개 파일 발견\")\n",
    "        \n",
    "        for csv_file in tqdm(csv_files, desc=\"전략 시그널 생성\"):\n",
    "            file_path = os.path.join(self.input_folder, csv_file)\n",
    "            self.process_single_crypto(file_path)\n",
    "        \n",
    "        print(\"=\"*50)\n",
    "        print(f\"✅ 성공: {len(self.processed_data)}개\")\n",
    "        print(f\"❌ 실패: {len(self.failed_symbols)}개\")\n",
    "    \n",
    "    def save_strategy_data(self):\n",
    "        \"\"\"전략 시그널 데이터 저장\"\"\"\n",
    "        print(\"💾 전략 시그널 데이터 저장 중...\")\n",
    "        \n",
    "        os.makedirs(self.output_folder, exist_ok=True)\n",
    "        os.makedirs(f\"{self.output_folder}/with_strategies\", exist_ok=True)\n",
    "        \n",
    "        saved_count = 0\n",
    "        \n",
    "        for symbol, df in tqdm(self.processed_data.items(), desc=\"저장\"):\n",
    "            try:\n",
    "                df_to_save = df.copy()\n",
    "                df_to_save.reset_index(inplace=True)\n",
    "                \n",
    "                filename = f\"{self.output_folder}/with_strategies/{symbol}.csv\"\n",
    "                df_to_save.to_csv(filename, index=False)\n",
    "                saved_count += 1\n",
    "                \n",
    "            except Exception as e:\n",
    "                print(f\"⚠️ {symbol} 저장 실패: {e}\")\n",
    "        \n",
    "        # 통합 데이터셋 생성\n",
    "        if self.processed_data:\n",
    "            self.create_ml_dataset()\n",
    "        \n",
    "        # 요약 저장\n",
    "        summary = {\n",
    "            'total_processed': len(self.processed_data),\n",
    "            'total_failed': len(self.failed_symbols),\n",
    "            'failed_symbols': self.failed_symbols,\n",
    "            'processing_date': datetime.now().strftime('%Y-%m-%d %H:%M:%S')\n",
    "        }\n",
    "        \n",
    "        summary_df = pd.DataFrame([summary])\n",
    "        summary_df.to_csv(f\"{self.output_folder}/strategy_summary.csv\", index=False)\n",
    "        \n",
    "        print(f\"✅ 전략 시그널 데이터 저장 완료!\")\n",
    "        print(f\"📁 저장 위치: {self.output_folder}/with_strategies/\")\n",
    "        print(f\"✅ 저장 완료: {saved_count}개\")\n",
    "    \n",
    "    def create_ml_dataset(self):\n",
    "        \"\"\"머신러닝용 통합 데이터셋 생성 - 수정 버전\"\"\"\n",
    "        try:\n",
    "            print(\"🤖 머신러닝용 데이터셋 생성 중...\")\n",
    "            \n",
    "            # 머신러닝용 주요 컬럼 선별\n",
    "            ml_columns = [\n",
    "                # 기본 가격 데이터\n",
    "                'Open', 'High', 'Low', 'Close', 'Volume',\n",
    "                \n",
    "                # 기술지표\n",
    "                'MA_7', 'MA_20', 'MA_50', 'EMA_12', 'EMA_26',\n",
    "                'RSI_14', 'RSI_7', 'MACD', 'MACD_Signal',\n",
    "                'BB_Position_20', 'Volatility_30d', 'ATR_Percent_14',\n",
    "                'Volume_Ratio', 'Williams_R', 'MFI',\n",
    "                \n",
    "                # 수익률\n",
    "                'Return_1d', 'Return_7d', 'Return_30d',\n",
    "                \n",
    "                # 전략 시그널들 (실제 생성된 컬럼명에 맞춰 수정)\n",
    "                'MA_Cross_3_25_Signal', 'MA_Trend_Signal', 'EMA_Cross_5_20_Signal',\n",
    "                'MACD_Zero_Cross_Signal', 'MACD_Signal_Cross',\n",
    "                'RSI_Reversal_Signal', 'RSI_Extreme_Signal',\n",
    "                'Williams_CCI_Signal', 'Stoch_RSI_Combo_Signal',\n",
    "                'Candlestick_Signal', 'Shadow_Analysis_Signal',\n",
    "                'Pivot_Strategy_Signal', 'MFI_Strategy_Signal',\n",
    "                'Volume_Breakout_Signal', 'Momentum_Signal',\n",
    "                'Volatility_Signal', 'Final_Composite_Signal',\n",
    "                \n",
    "                # 메타 정보\n",
    "                'Buy_Signal_Count', 'Sell_Signal_Count', 'Net_Signal_Score'\n",
    "            ]\n",
    "            \n",
    "            combined_data = []\n",
    "            \n",
    "            for symbol, df in self.processed_data.items():\n",
    "                if not df.empty:\n",
    "                    # 사용 가능한 컬럼만 선택\n",
    "                    available_columns = [col for col in ml_columns if col in df.columns]\n",
    "                    \n",
    "                    if len(available_columns) >= 20:  # 최소 20개 특성은 있어야 함\n",
    "                        temp_df = df[available_columns].copy()\n",
    "                        temp_df['Symbol'] = symbol\n",
    "                        temp_df['Date'] = temp_df.index\n",
    "                        \n",
    "                        # NaN 값 처리\n",
    "                        temp_df = temp_df.dropna()\n",
    "                        \n",
    "                        if len(temp_df) > 100:  # 충분한 데이터가 있는 경우만\n",
    "                            combined_data.append(temp_df)\n",
    "            \n",
    "            if combined_data:\n",
    "                combined_df = pd.concat(combined_data, ignore_index=True)\n",
    "                \n",
    "                # ✅ 올바른 미래 수익률 계산\n",
    "                combined_df = combined_df.sort_values(['Symbol', 'Date'])\n",
    "                \n",
    "                # 방법 1: 7일 후 종가를 먼저 계산\n",
    "                combined_df['Future_Close_7d'] = combined_df.groupby('Symbol')['Close'].shift(-7)\n",
    "                \n",
    "                # 미래 수익률 계산: (미래가격 / 현재가격) - 1\n",
    "                combined_df['Future_Return_7d'] = (combined_df['Future_Close_7d'] / combined_df['Close']) - 1\n",
    "                \n",
    "                # 타겟 라벨 생성 (0: SELL, 1: HOLD, 2: BUY)\n",
    "                combined_df['Target_Label'] = 1  # 기본값: 보합 (HOLD)\n",
    "                combined_df.loc[combined_df['Future_Return_7d'] > 0.05, 'Target_Label'] = 2   # 5% 이상 상승 -> BUY\n",
    "                combined_df.loc[combined_df['Future_Return_7d'] < -0.05, 'Target_Label'] = 0  # 5% 이상 하락 -> SELL\n",
    "                \n",
    "                # NaN 제거 (마지막 7일치는 미래값이 없으므로 제거)\n",
    "                combined_df = combined_df.dropna(subset=['Future_Return_7d', 'Target_Label'])\n",
    "                \n",
    "                # Future_Close_7d 컬럼은 제거 (학습에 사용하면 안 됨 - 미래 정보 누수)\n",
    "                combined_df = combined_df.drop(columns=['Future_Close_7d'])\n",
    "                \n",
    "                # 저장\n",
    "                combined_df.to_csv(f\"{self.output_folder}/ml_dataset_with_strategies.csv\", index=False)\n",
    "                print(f\"🤖 머신러닝 데이터셋 저장 완료: {len(combined_df)}행, {len(combined_df.columns)}개 특성\")\n",
    "                \n",
    "                # 타겟 분포 출력\n",
    "                target_dist = combined_df['Target_Label'].value_counts().sort_index()\n",
    "                print(f\"   📊 타겟 분포 - SELL(0): {target_dist.get(0, 0)}, HOLD(1): {target_dist.get(1, 0)}, BUY(2): {target_dist.get(2, 0)}\")\n",
    "                \n",
    "                # 추가: 타겟 라벨 검증 정보 출력\n",
    "                if len(combined_df) > 0:\n",
    "                    sample_idx = len(combined_df) // 2  # 중간 샘플 확인\n",
    "                    print(f\"   🔍 검증 샘플:\")\n",
    "                    print(f\"      - 현재가: {combined_df.iloc[sample_idx]['Close']:.2f}\")\n",
    "                    print(f\"      - 미래 수익률: {combined_df.iloc[sample_idx]['Future_Return_7d']*100:.2f}%\")\n",
    "                    print(f\"      - 타겟 라벨: {combined_df.iloc[sample_idx]['Target_Label']} ({['SELL', 'HOLD', 'BUY'][int(combined_df.iloc[sample_idx]['Target_Label'])]})\")\n",
    "            \n",
    "        except Exception as e:\n",
    "            print(f\"⚠️ ML 데이터셋 생성 실패: {e}\")\n",
    "        \n",
    "    def get_strategy_summary(self):\n",
    "        \"\"\"전략 요약 정보\"\"\"\n",
    "        if not self.processed_data:\n",
    "            return \"처리된 데이터가 없습니다.\"\n",
    "        \n",
    "        sample_symbol = list(self.processed_data.keys())[0]\n",
    "        sample_df = self.processed_data[sample_symbol]\n",
    "        \n",
    "        strategy_columns = [col for col in sample_df.columns if '_Signal' in col]\n",
    "        \n",
    "        summary = f\"\\n📊 생성된 퀀트 전략 시그널 요약 ({sample_symbol} 기준)\\n\"\n",
    "        summary += \"=\"*50 + \"\\n\"\n",
    "        \n",
    "        strategy_groups = {\n",
    "            '이동평균 전략': [col for col in strategy_columns if 'MA_' in col or 'EMA_' in col],\n",
    "            'MACD 전략': [col for col in strategy_columns if 'MACD' in col],\n",
    "            'RSI 전략': [col for col in strategy_columns if 'RSI' in col],\n",
    "            '오실레이터 전략': [col for col in strategy_columns if any(x in col for x in ['Williams', 'CCI', 'Stoch'])],\n",
    "            '가격패턴 전략': [col for col in strategy_columns if any(x in col for x in ['Candlestick', 'Shadow', 'Pivot', 'Formula'])],\n",
    "            '거래량 전략': [col for col in strategy_columns if any(x in col for x in ['MFI', 'Volume'])],\n",
    "            '모멘텀 전략': [col for col in strategy_columns if any(x in col for x in ['Momentum', 'Volatility', 'ROC'])],\n",
    "            '복합 전략': [col for col in strategy_columns if 'Composite' in col or 'Final' in col]\n",
    "        }\n",
    "        \n",
    "        for group, strategies in strategy_groups.items():\n",
    "            if strategies:\n",
    "                summary += f\"{group}: {len(strategies)}개\\n\"\n",
    "                for strategy in strategies:\n",
    "                    # 각 시그널의 분포 계산\n",
    "                    if strategy in sample_df.columns:\n",
    "                        signal_dist = sample_df[strategy].value_counts().sort_index()\n",
    "                        buy_pct = (signal_dist.get(2, 0) / len(sample_df) * 100) if len(sample_df) > 0 else 0\n",
    "                        sell_pct = (signal_dist.get(0, 0) / len(sample_df) * 100) if len(sample_df) > 0 else 0\n",
    "                        hold_pct = (signal_dist.get(1, 0) / len(sample_df) * 100) if len(sample_df) > 0 else 0\n",
    "                        summary += f\"  - {strategy}: BUY {buy_pct:.1f}%, HOLD {hold_pct:.1f}%, SELL {sell_pct:.1f}%\\n\"\n",
    "                summary += \"\\n\"\n",
    "        \n",
    "        summary += f\"총 전략 시그널: {len(strategy_columns)}개\\n\"\n",
    "        summary += f\"처리된 코인 수: {len(self.processed_data)}개\\n\"\n",
    "        \n",
    "        return summary\n",
    "    \n",
    "    def run_strategy_analysis(self):\n",
    "        \"\"\"전체 전략 분석 프로세스 실행\"\"\"\n",
    "        # 1. 모든 코인 처리\n",
    "        self.process_all_cryptos()\n",
    "        \n",
    "        # 2. 결과 저장\n",
    "        if self.processed_data:\n",
    "            self.save_strategy_data()\n",
    "            \n",
    "            # 3. 요약 정보 출력\n",
    "            print(self.get_strategy_summary())\n",
    "        else:\n",
    "            print(\"❌ 처리된 데이터가 없습니다!\")\n",
    "        \n",
    "        return self.processed_data"
   ]
  },
  {
   "cell_type": "code",
   "execution_count": 5,
   "id": "c3327792",
   "metadata": {},
   "outputs": [
    {
     "name": "stdout",
     "output_type": "stream",
     "text": [
      "🚀 퀀트 전략 시그널 생성 시작!\n",
      "📁 입력 폴더: /workspace/AI모델/projects/coin/data/processed/with_indicators\n",
      "==================================================\n",
      "📊 총 100개 파일 발견\n"
     ]
    },
    {
     "name": "stderr",
     "output_type": "stream",
     "text": [
      "전략 시그널 생성:   1%|          | 1/100 [00:00<00:13,  7.09it/s]"
     ]
    },
    {
     "name": "stdout",
     "output_type": "stream",
     "text": [
      "전략 시그널 생성: 1INCH\n",
      "   - 데이터 기간: 2020-12-25 00:00:00 ~ 2025-09-14 00:00:00 (1725일)\n",
      "   - 생성된 전략 시그널: 41개\n",
      "전략 시그널 생성: AAVE\n"
     ]
    },
    {
     "name": "stderr",
     "output_type": "stream",
     "text": [
      "전략 시그널 생성:   2%|▏         | 2/100 [00:00<00:13,  7.15it/s]"
     ]
    },
    {
     "name": "stdout",
     "output_type": "stream",
     "text": [
      "   - 데이터 기간: 2020-10-02 00:00:00 ~ 2025-09-14 00:00:00 (1809일)\n",
      "   - 생성된 전략 시그널: 41개\n",
      "전략 시그널 생성: ADA\n",
      "   - 데이터 기간: 2017-11-09 00:00:00 ~ 2025-09-14 00:00:00 (2867일)\n"
     ]
    },
    {
     "name": "stderr",
     "output_type": "stream",
     "text": [
      "전략 시그널 생성:   4%|▍         | 4/100 [00:00<00:15,  6.38it/s]"
     ]
    },
    {
     "name": "stdout",
     "output_type": "stream",
     "text": [
      "   - 생성된 전략 시그널: 41개\n",
      "전략 시그널 생성: ALGO\n",
      "   - 데이터 기간: 2019-06-21 00:00:00 ~ 2025-09-14 00:00:00 (2278일)\n",
      "   - 생성된 전략 시그널: 41개\n",
      "전략 시그널 생성: ANKR\n"
     ]
    },
    {
     "name": "stderr",
     "output_type": "stream",
     "text": [
      "전략 시그널 생성:   6%|▌         | 6/100 [00:00<00:14,  6.58it/s]"
     ]
    },
    {
     "name": "stdout",
     "output_type": "stream",
     "text": [
      "   - 데이터 기간: 2019-03-06 00:00:00 ~ 2025-09-14 00:00:00 (2385일)\n",
      "   - 생성된 전략 시그널: 41개\n",
      "전략 시그널 생성: API3\n",
      "   - 데이터 기간: 2020-12-02 00:00:00 ~ 2025-09-14 00:00:00 (1748일)\n",
      "   - 생성된 전략 시그널: 41개\n",
      "전략 시그널 생성: APT21794\n"
     ]
    },
    {
     "name": "stderr",
     "output_type": "stream",
     "text": [
      "전략 시그널 생성:   7%|▋         | 7/100 [00:01<00:12,  7.21it/s]"
     ]
    },
    {
     "name": "stdout",
     "output_type": "stream",
     "text": [
      "   - 데이터 기간: 2022-10-19 00:00:00 ~ 2025-09-14 00:00:00 (1062일)\n",
      "   - 생성된 전략 시그널: 41개\n",
      "전략 시그널 생성: ARB11841\n",
      "   - 데이터 기간: 2023-03-23 00:00:00 ~ 2025-09-14 00:00:00 (907일)\n",
      "   - 생성된 전략 시그널: 41개\n",
      "전략 시그널 생성: ASTR\n"
     ]
    },
    {
     "name": "stderr",
     "output_type": "stream",
     "text": [
      "전략 시그널 생성:  10%|█         | 10/100 [00:01<00:12,  7.35it/s]"
     ]
    },
    {
     "name": "stdout",
     "output_type": "stream",
     "text": [
      "   - 데이터 기간: 2022-01-18 00:00:00 ~ 2025-09-14 00:00:00 (1336일)\n",
      "   - 생성된 전략 시그널: 41개\n",
      "전략 시그널 생성: ATOM\n",
      "   - 데이터 기간: 2019-03-14 00:00:00 ~ 2025-09-14 00:00:00 (2377일)\n",
      "   - 생성된 전략 시그널: 41개\n",
      "전략 시그널 생성: AVAX\n"
     ]
    },
    {
     "name": "stderr",
     "output_type": "stream",
     "text": [
      "전략 시그널 생성:  12%|█▏        | 12/100 [00:01<00:12,  7.33it/s]"
     ]
    },
    {
     "name": "stdout",
     "output_type": "stream",
     "text": [
      "   - 데이터 기간: 2020-07-13 00:00:00 ~ 2025-09-14 00:00:00 (1821일)\n",
      "   - 생성된 전략 시그널: 41개\n",
      "전략 시그널 생성: AXS\n",
      "   - 데이터 기간: 2020-11-04 00:00:00 ~ 2025-09-14 00:00:00 (1776일)\n",
      "   - 생성된 전략 시그널: 41개\n",
      "전략 시그널 생성: BAL\n"
     ]
    },
    {
     "name": "stderr",
     "output_type": "stream",
     "text": [
      "전략 시그널 생성:  14%|█▍        | 14/100 [00:01<00:12,  7.02it/s]"
     ]
    },
    {
     "name": "stdout",
     "output_type": "stream",
     "text": [
      "   - 데이터 기간: 2020-06-24 00:00:00 ~ 2025-09-14 00:00:00 (1909일)\n",
      "   - 생성된 전략 시그널: 41개\n",
      "전략 시그널 생성: BAND\n",
      "   - 데이터 기간: 2019-09-18 00:00:00 ~ 2025-09-14 00:00:00 (2189일)\n",
      "   - 생성된 전략 시그널: 41개\n",
      "전략 시그널 생성: BAT\n"
     ]
    },
    {
     "name": "stderr",
     "output_type": "stream",
     "text": [
      "전략 시그널 생성:  15%|█▌        | 15/100 [00:02<00:13,  6.50it/s]"
     ]
    },
    {
     "name": "stdout",
     "output_type": "stream",
     "text": [
      "   - 데이터 기간: 2017-11-09 00:00:00 ~ 2025-09-14 00:00:00 (2867일)\n",
      "   - 생성된 전략 시그널: 41개\n",
      "전략 시그널 생성: BCH\n",
      "   - 데이터 기간: 2017-11-09 00:00:00 ~ 2025-09-14 00:00:00 (2867일)\n"
     ]
    },
    {
     "name": "stderr",
     "output_type": "stream",
     "text": [
      "전략 시그널 생성:  17%|█▋        | 17/100 [00:02<00:13,  6.00it/s]"
     ]
    },
    {
     "name": "stdout",
     "output_type": "stream",
     "text": [
      "   - 생성된 전략 시그널: 41개\n",
      "전략 시그널 생성: BNB\n",
      "   - 데이터 기간: 2017-11-09 00:00:00 ~ 2025-09-14 00:00:00 (2867일)\n",
      "   - 생성된 전략 시그널: 41개\n",
      "전략 시그널 생성: BNT\n"
     ]
    },
    {
     "name": "stderr",
     "output_type": "stream",
     "text": [
      "전략 시그널 생성:  18%|█▊        | 18/100 [00:02<00:13,  5.88it/s]"
     ]
    },
    {
     "name": "stdout",
     "output_type": "stream",
     "text": [
      "   - 데이터 기간: 2017-11-09 00:00:00 ~ 2025-09-14 00:00:00 (2867일)\n",
      "   - 생성된 전략 시그널: 41개\n",
      "전략 시그널 생성: BSV\n",
      "   - 데이터 기간: 2018-11-09 00:00:00 ~ 2025-09-14 00:00:00 (2502일)\n"
     ]
    },
    {
     "name": "stderr",
     "output_type": "stream",
     "text": [
      "전략 시그널 생성:  19%|█▉        | 19/100 [00:02<00:13,  5.96it/s]"
     ]
    },
    {
     "name": "stdout",
     "output_type": "stream",
     "text": [
      "   - 생성된 전략 시그널: 41개\n",
      "전략 시그널 생성: BTC\n",
      "   - 데이터 기간: 2015-01-01 00:00:00 ~ 2025-09-14 00:00:00 (3910일)\n"
     ]
    },
    {
     "name": "stderr",
     "output_type": "stream",
     "text": [
      "전략 시그널 생성:  21%|██        | 21/100 [00:03<00:13,  5.91it/s]"
     ]
    },
    {
     "name": "stdout",
     "output_type": "stream",
     "text": [
      "   - 생성된 전략 시그널: 41개\n",
      "전략 시그널 생성: CAKE\n",
      "   - 데이터 기간: 2020-09-29 00:00:00 ~ 2025-09-14 00:00:00 (1812일)\n",
      "   - 생성된 전략 시그널: 41개\n",
      "전략 시그널 생성: CFG\n"
     ]
    },
    {
     "name": "stderr",
     "output_type": "stream",
     "text": [
      "전략 시그널 생성:  22%|██▏       | 22/100 [00:03<00:12,  6.33it/s]"
     ]
    },
    {
     "name": "stdout",
     "output_type": "stream",
     "text": [
      "   - 데이터 기간: 2021-07-15 00:00:00 ~ 2025-09-14 00:00:00 (1523일)\n",
      "   - 생성된 전략 시그널: 41개\n",
      "전략 시그널 생성: CHZ\n",
      "   - 데이터 기간: 2019-07-01 00:00:00 ~ 2025-09-14 00:00:00 (2268일)\n"
     ]
    },
    {
     "name": "stderr",
     "output_type": "stream",
     "text": [
      "전략 시그널 생성:  24%|██▍       | 24/100 [00:03<00:11,  6.51it/s]"
     ]
    },
    {
     "name": "stdout",
     "output_type": "stream",
     "text": [
      "   - 생성된 전략 시그널: 41개\n",
      "전략 시그널 생성: CKB\n",
      "   - 데이터 기간: 2019-11-19 00:00:00 ~ 2025-09-14 00:00:00 (2127일)\n",
      "   - 생성된 전략 시그널: 41개\n",
      "전략 시그널 생성: COTI\n"
     ]
    },
    {
     "name": "stderr",
     "output_type": "stream",
     "text": [
      "전략 시그널 생성:  26%|██▌       | 26/100 [00:03<00:11,  6.30it/s]"
     ]
    },
    {
     "name": "stdout",
     "output_type": "stream",
     "text": [
      "   - 데이터 기간: 2019-06-04 00:00:00 ~ 2025-09-14 00:00:00 (2295일)\n",
      "   - 생성된 전략 시그널: 41개\n",
      "전략 시그널 생성: CRO\n",
      "   - 데이터 기간: 2018-12-14 00:00:00 ~ 2025-09-14 00:00:00 (2467일)\n",
      "   - 생성된 전략 시그널: 41개\n",
      "전략 시그널 생성: CRV\n"
     ]
    },
    {
     "name": "stderr",
     "output_type": "stream",
     "text": [
      "전략 시그널 생성:  27%|██▋       | 27/100 [00:04<00:11,  6.52it/s]"
     ]
    },
    {
     "name": "stdout",
     "output_type": "stream",
     "text": [
      "   - 데이터 기간: 2020-08-14 00:00:00 ~ 2025-09-14 00:00:00 (1858일)\n",
      "   - 생성된 전략 시그널: 41개\n",
      "전략 시그널 생성: CVC\n",
      "   - 데이터 기간: 2017-11-09 00:00:00 ~ 2025-09-14 00:00:00 (2867일)\n"
     ]
    },
    {
     "name": "stderr",
     "output_type": "stream",
     "text": [
      "전략 시그널 생성:  29%|██▉       | 29/100 [00:04<00:10,  6.55it/s]"
     ]
    },
    {
     "name": "stdout",
     "output_type": "stream",
     "text": [
      "   - 생성된 전략 시그널: 41개\n",
      "전략 시그널 생성: CVX\n",
      "   - 데이터 기간: 2021-05-18 00:00:00 ~ 2025-09-14 00:00:00 (1581일)\n",
      "   - 생성된 전략 시그널: 41개\n",
      "전략 시그널 생성: DAI\n"
     ]
    },
    {
     "name": "stderr",
     "output_type": "stream",
     "text": [
      "전략 시그널 생성:  30%|███       | 30/100 [00:04<00:10,  6.45it/s]"
     ]
    },
    {
     "name": "stdout",
     "output_type": "stream",
     "text": [
      "   - 데이터 기간: 2019-11-22 00:00:00 ~ 2025-09-14 00:00:00 (2124일)\n",
      "   - 생성된 전략 시그널: 41개\n",
      "전략 시그널 생성: DASH\n",
      "   - 데이터 기간: 2017-11-09 00:00:00 ~ 2025-09-14 00:00:00 (2867일)\n"
     ]
    },
    {
     "name": "stderr",
     "output_type": "stream",
     "text": [
      "전략 시그널 생성:  32%|███▏      | 32/100 [00:04<00:11,  5.89it/s]"
     ]
    },
    {
     "name": "stdout",
     "output_type": "stream",
     "text": [
      "   - 생성된 전략 시그널: 41개\n",
      "전략 시그널 생성: DOGE\n",
      "   - 데이터 기간: 2017-11-09 00:00:00 ~ 2025-09-14 00:00:00 (2867일)\n",
      "   - 생성된 전략 시그널: 41개\n",
      "전략 시그널 생성: DOT\n"
     ]
    },
    {
     "name": "stderr",
     "output_type": "stream",
     "text": [
      "전략 시그널 생성:  34%|███▍      | 34/100 [00:05<00:09,  6.78it/s]"
     ]
    },
    {
     "name": "stdout",
     "output_type": "stream",
     "text": [
      "   - 데이터 기간: 2020-08-20 00:00:00 ~ 2025-09-14 00:00:00 (1852일)\n",
      "   - 생성된 전략 시그널: 41개\n",
      "전략 시그널 생성: DYDX\n",
      "   - 데이터 기간: 2021-09-08 00:00:00 ~ 2025-09-14 00:00:00 (1426일)\n",
      "   - 생성된 전략 시그널: 41개\n",
      "전략 시그널 생성: EGLD\n"
     ]
    },
    {
     "name": "stderr",
     "output_type": "stream",
     "text": [
      "전략 시그널 생성:  35%|███▌      | 35/100 [00:05<00:09,  6.80it/s]"
     ]
    },
    {
     "name": "stdout",
     "output_type": "stream",
     "text": [
      "   - 데이터 기간: 2020-09-04 00:00:00 ~ 2025-09-14 00:00:00 (1837일)\n",
      "   - 생성된 전략 시그널: 41개\n",
      "전략 시그널 생성: ENJ\n",
      "   - 데이터 기간: 2017-11-09 00:00:00 ~ 2025-09-14 00:00:00 (2867일)\n"
     ]
    },
    {
     "name": "stderr",
     "output_type": "stream",
     "text": [
      "전략 시그널 생성:  37%|███▋      | 37/100 [00:05<00:10,  6.07it/s]"
     ]
    },
    {
     "name": "stdout",
     "output_type": "stream",
     "text": [
      "   - 생성된 전략 시그널: 41개\n",
      "전략 시그널 생성: ETC\n",
      "   - 데이터 기간: 2017-11-09 00:00:00 ~ 2025-09-14 00:00:00 (2867일)\n",
      "   - 생성된 전략 시그널: 41개\n",
      "전략 시그널 생성: ETH\n"
     ]
    },
    {
     "name": "stderr",
     "output_type": "stream",
     "text": [
      "전략 시그널 생성:  39%|███▉      | 39/100 [00:06<00:10,  6.02it/s]"
     ]
    },
    {
     "name": "stdout",
     "output_type": "stream",
     "text": [
      "   - 데이터 기간: 2017-11-09 00:00:00 ~ 2025-09-14 00:00:00 (2867일)\n",
      "   - 생성된 전략 시그널: 41개\n",
      "전략 시그널 생성: FET\n",
      "   - 데이터 기간: 2019-03-02 00:00:00 ~ 2025-09-14 00:00:00 (2389일)\n",
      "   - 생성된 전략 시그널: 41개\n",
      "전략 시그널 생성: FIL\n"
     ]
    },
    {
     "name": "stderr",
     "output_type": "stream",
     "text": [
      "전략 시그널 생성:  41%|████      | 41/100 [00:06<00:09,  6.31it/s]"
     ]
    },
    {
     "name": "stdout",
     "output_type": "stream",
     "text": [
      "   - 데이터 기간: 2017-12-13 00:00:00 ~ 2025-09-14 00:00:00 (2833일)\n",
      "   - 생성된 전략 시그널: 41개\n",
      "전략 시그널 생성: FLOW\n",
      "   - 데이터 기간: 2021-01-27 00:00:00 ~ 2025-09-14 00:00:00 (1692일)\n",
      "   - 생성된 전략 시그널: 41개\n",
      "전략 시그널 생성: FTM\n"
     ]
    },
    {
     "name": "stderr",
     "output_type": "stream",
     "text": [
      "전략 시그널 생성:  42%|████▏     | 42/100 [00:06<00:09,  6.28it/s]"
     ]
    },
    {
     "name": "stdout",
     "output_type": "stream",
     "text": [
      "   - 데이터 기간: 2018-10-30 00:00:00 ~ 2025-01-13 00:00:00 (2268일)\n",
      "   - 생성된 전략 시그널: 41개\n",
      "전략 시그널 생성: FXS\n",
      "   - 데이터 기간: 2020-12-27 00:00:00 ~ 2025-05-06 00:00:00 (1592일)\n"
     ]
    },
    {
     "name": "stderr",
     "output_type": "stream",
     "text": [
      "전략 시그널 생성:  44%|████▍     | 44/100 [00:06<00:09,  6.05it/s]"
     ]
    },
    {
     "name": "stdout",
     "output_type": "stream",
     "text": [
      "   - 생성된 전략 시그널: 41개\n",
      "전략 시그널 생성: GNO\n",
      "   - 데이터 기간: 2017-11-09 00:00:00 ~ 2025-09-14 00:00:00 (2867일)\n",
      "   - 생성된 전략 시그널: 41개\n",
      "전략 시그널 생성: GRT6719\n"
     ]
    },
    {
     "name": "stderr",
     "output_type": "stream",
     "text": [
      "전략 시그널 생성:  46%|████▌     | 46/100 [00:07<00:08,  6.43it/s]"
     ]
    },
    {
     "name": "stdout",
     "output_type": "stream",
     "text": [
      "   - 데이터 기간: 2020-12-18 00:00:00 ~ 2025-09-14 00:00:00 (1732일)\n",
      "   - 생성된 전략 시그널: 41개\n",
      "전략 시그널 생성: HBAR\n",
      "   - 데이터 기간: 2019-09-17 00:00:00 ~ 2025-09-14 00:00:00 (2190일)\n",
      "   - 생성된 전략 시그널: 41개\n",
      "전략 시그널 생성: ICP\n"
     ]
    },
    {
     "name": "stderr",
     "output_type": "stream",
     "text": [
      "전략 시그널 생성:  48%|████▊     | 48/100 [00:07<00:07,  7.05it/s]"
     ]
    },
    {
     "name": "stdout",
     "output_type": "stream",
     "text": [
      "   - 데이터 기간: 2021-05-10 00:00:00 ~ 2025-09-14 00:00:00 (1589일)\n",
      "   - 생성된 전략 시그널: 41개\n",
      "전략 시그널 생성: IMX10603\n",
      "   - 데이터 기간: 2021-11-06 00:00:00 ~ 2025-09-14 00:00:00 (1409일)\n",
      "   - 생성된 전략 시그널: 41개\n",
      "전략 시그널 생성: INJ\n"
     ]
    },
    {
     "name": "stderr",
     "output_type": "stream",
     "text": [
      "전략 시그널 생성:  49%|████▉     | 49/100 [00:07<00:07,  7.11it/s]"
     ]
    },
    {
     "name": "stdout",
     "output_type": "stream",
     "text": [
      "   - 데이터 기간: 2020-10-21 00:00:00 ~ 2025-09-14 00:00:00 (1790일)\n",
      "   - 생성된 전략 시그널: 41개\n",
      "전략 시그널 생성: IOTA\n",
      "   - 데이터 기간: 2023-09-30 00:00:00 ~ 2025-09-14 00:00:00 (716일)\n",
      "   - 생성된 전략 시그널: 41개\n",
      "전략 시그널 생성: KCS\n"
     ]
    },
    {
     "name": "stderr",
     "output_type": "stream",
     "text": [
      "전략 시그널 생성:  51%|█████     | 51/100 [00:07<00:06,  7.12it/s]"
     ]
    },
    {
     "name": "stdout",
     "output_type": "stream",
     "text": [
      "   - 데이터 기간: 2017-11-09 00:00:00 ~ 2025-09-14 00:00:00 (2867일)\n",
      "   - 생성된 전략 시그널: 41개\n",
      "전략 시그널 생성: KEEP\n",
      "   - 데이터 기간: 2020-05-13 00:00:00 ~ 2025-09-14 00:00:00 (1951일)\n"
     ]
    },
    {
     "name": "stderr",
     "output_type": "stream",
     "text": [
      "전략 시그널 생성:  53%|█████▎    | 53/100 [00:08<00:06,  7.23it/s]"
     ]
    },
    {
     "name": "stdout",
     "output_type": "stream",
     "text": [
      "   - 생성된 전략 시그널: 41개\n",
      "전략 시그널 생성: KNC\n",
      "   - 데이터 기간: 2021-07-28 00:00:00 ~ 2025-09-14 00:00:00 (1510일)\n",
      "   - 생성된 전략 시그널: 41개\n",
      "전략 시그널 생성: LEO\n"
     ]
    },
    {
     "name": "stderr",
     "output_type": "stream",
     "text": [
      "전략 시그널 생성:  55%|█████▌    | 55/100 [00:08<00:06,  6.66it/s]"
     ]
    },
    {
     "name": "stdout",
     "output_type": "stream",
     "text": [
      "   - 데이터 기간: 2019-05-21 00:00:00 ~ 2025-09-14 00:00:00 (2309일)\n",
      "   - 생성된 전략 시그널: 41개\n",
      "전략 시그널 생성: LPT\n",
      "   - 데이터 기간: 2018-12-19 00:00:00 ~ 2025-09-14 00:00:00 (2462일)\n",
      "   - 생성된 전략 시그널: 41개\n",
      "전략 시그널 생성: LRC\n"
     ]
    },
    {
     "name": "stderr",
     "output_type": "stream",
     "text": [
      "전략 시그널 생성:  56%|█████▌    | 56/100 [00:08<00:07,  5.98it/s]"
     ]
    },
    {
     "name": "stdout",
     "output_type": "stream",
     "text": [
      "   - 데이터 기간: 2017-11-09 00:00:00 ~ 2025-09-14 00:00:00 (2867일)\n",
      "   - 생성된 전략 시그널: 41개\n",
      "전략 시그널 생성: LTC\n"
     ]
    },
    {
     "name": "stderr",
     "output_type": "stream",
     "text": [
      "전략 시그널 생성:  57%|█████▋    | 57/100 [00:08<00:08,  5.28it/s]"
     ]
    },
    {
     "name": "stdout",
     "output_type": "stream",
     "text": [
      "   - 데이터 기간: 2015-01-01 00:00:00 ~ 2025-09-14 00:00:00 (3910일)\n",
      "   - 생성된 전략 시그널: 41개\n",
      "전략 시그널 생성: MANA\n",
      "   - 데이터 기간: 2017-11-09 00:00:00 ~ 2025-09-14 00:00:00 (2867일)\n"
     ]
    },
    {
     "name": "stderr",
     "output_type": "stream",
     "text": [
      "전략 시그널 생성:  58%|█████▊    | 58/100 [00:09<00:07,  5.29it/s]"
     ]
    },
    {
     "name": "stdout",
     "output_type": "stream",
     "text": [
      "   - 생성된 전략 시그널: 41개\n",
      "전략 시그널 생성: MNT27075\n",
      "   - 데이터 기간: 2023-07-17 00:00:00 ~ 2025-09-14 00:00:00 (788일)\n",
      "   - 생성된 전략 시그널: 41개\n",
      "전략 시그널 생성: NEAR\n",
      "   - 데이터 기간: 2020-10-14 00:00:00 ~ 2025-09-14 00:00:00 (1797일)\n"
     ]
    },
    {
     "name": "stderr",
     "output_type": "stream",
     "text": [
      "전략 시그널 생성:  61%|██████    | 61/100 [00:09<00:06,  6.28it/s]"
     ]
    },
    {
     "name": "stdout",
     "output_type": "stream",
     "text": [
      "   - 생성된 전략 시그널: 41개\n",
      "전략 시그널 생성: NEO\n",
      "   - 데이터 기간: 2017-11-09 00:00:00 ~ 2025-09-14 00:00:00 (2867일)\n",
      "   - 생성된 전략 시그널: 41개\n",
      "전략 시그널 생성: NMR\n"
     ]
    },
    {
     "name": "stderr",
     "output_type": "stream",
     "text": [
      "전략 시그널 생성:  63%|██████▎   | 63/100 [00:09<00:06,  6.10it/s]"
     ]
    },
    {
     "name": "stdout",
     "output_type": "stream",
     "text": [
      "   - 데이터 기간: 2017-11-09 00:00:00 ~ 2025-09-14 00:00:00 (2867일)\n",
      "   - 생성된 전략 시그널: 41개\n",
      "전략 시그널 생성: OKB\n",
      "   - 데이터 기간: 2019-04-30 00:00:00 ~ 2025-09-14 00:00:00 (2330일)\n",
      "   - 생성된 전략 시그널: 41개\n",
      "전략 시그널 생성: OP\n"
     ]
    },
    {
     "name": "stderr",
     "output_type": "stream",
     "text": [
      "전략 시그널 생성:  65%|██████▌   | 65/100 [00:10<00:05,  6.39it/s]"
     ]
    },
    {
     "name": "stdout",
     "output_type": "stream",
     "text": [
      "   - 데이터 기간: 2022-03-14 00:00:00 ~ 2025-09-14 00:00:00 (1281일)\n",
      "   - 생성된 전략 시그널: 41개\n",
      "전략 시그널 생성: QNT\n",
      "   - 데이터 기간: 2018-08-10 00:00:00 ~ 2025-09-14 00:00:00 (2593일)\n",
      "   - 생성된 전략 시그널: 41개\n",
      "전략 시그널 생성: QTUM\n"
     ]
    },
    {
     "name": "stderr",
     "output_type": "stream",
     "text": [
      "전략 시그널 생성:  66%|██████▌   | 66/100 [00:10<00:05,  6.14it/s]"
     ]
    },
    {
     "name": "stdout",
     "output_type": "stream",
     "text": [
      "   - 데이터 기간: 2017-11-09 00:00:00 ~ 2025-09-14 00:00:00 (2867일)\n",
      "   - 생성된 전략 시그널: 41개\n",
      "전략 시그널 생성: REQ\n",
      "   - 데이터 기간: 2017-11-09 00:00:00 ~ 2025-09-14 00:00:00 (2867일)\n"
     ]
    },
    {
     "name": "stderr",
     "output_type": "stream",
     "text": [
      "전략 시그널 생성:  68%|██████▊   | 68/100 [00:10<00:05,  5.80it/s]"
     ]
    },
    {
     "name": "stdout",
     "output_type": "stream",
     "text": [
      "   - 생성된 전략 시그널: 41개\n",
      "전략 시그널 생성: RLC\n",
      "   - 데이터 기간: 2017-11-09 00:00:00 ~ 2025-09-14 00:00:00 (2867일)\n",
      "   - 생성된 전략 시그널: 41개\n",
      "전략 시그널 생성: RNDR\n"
     ]
    },
    {
     "name": "stderr",
     "output_type": "stream",
     "text": [
      "전략 시그널 생성:  70%|███████   | 70/100 [00:10<00:04,  6.40it/s]"
     ]
    },
    {
     "name": "stdout",
     "output_type": "stream",
     "text": [
      "   - 데이터 기간: 2020-06-11 00:00:00 ~ 2024-07-21 00:00:00 (1502일)\n",
      "   - 생성된 전략 시그널: 41개\n",
      "전략 시그널 생성: RSR\n",
      "   - 데이터 기간: 2019-05-24 00:00:00 ~ 2025-09-14 00:00:00 (2306일)\n",
      "   - 생성된 전략 시그널: 41개\n",
      "전략 시그널 생성: RUNE\n"
     ]
    },
    {
     "name": "stderr",
     "output_type": "stream",
     "text": [
      "전략 시그널 생성:  72%|███████▏  | 72/100 [00:11<00:04,  6.63it/s]"
     ]
    },
    {
     "name": "stdout",
     "output_type": "stream",
     "text": [
      "   - 데이터 기간: 2019-07-23 00:00:00 ~ 2025-09-14 00:00:00 (2246일)\n",
      "   - 생성된 전략 시그널: 41개\n",
      "전략 시그널 생성: SAND\n",
      "   - 데이터 기간: 2020-08-14 00:00:00 ~ 2025-09-14 00:00:00 (1858일)\n",
      "   - 생성된 전략 시그널: 41개\n",
      "전략 시그널 생성: SHIB\n"
     ]
    },
    {
     "name": "stderr",
     "output_type": "stream",
     "text": [
      "전략 시그널 생성:  73%|███████▎  | 73/100 [00:11<00:03,  6.76it/s]"
     ]
    },
    {
     "name": "stdout",
     "output_type": "stream",
     "text": [
      "   - 데이터 기간: 2020-08-01 00:00:00 ~ 2025-09-14 00:00:00 (1830일)\n",
      "   - 생성된 전략 시그널: 41개\n",
      "전략 시그널 생성: SNX\n",
      "   - 데이터 기간: 2018-03-14 00:00:00 ~ 2025-09-14 00:00:00 (2742일)\n"
     ]
    },
    {
     "name": "stderr",
     "output_type": "stream",
     "text": [
      "전략 시그널 생성:  75%|███████▌  | 75/100 [00:11<00:03,  6.54it/s]"
     ]
    },
    {
     "name": "stdout",
     "output_type": "stream",
     "text": [
      "   - 생성된 전략 시그널: 41개\n",
      "전략 시그널 생성: SOL\n",
      "   - 데이터 기간: 2020-04-10 00:00:00 ~ 2025-09-14 00:00:00 (1984일)\n",
      "   - 생성된 전략 시그널: 41개\n",
      "전략 시그널 생성: SPELL\n"
     ]
    },
    {
     "name": "stderr",
     "output_type": "stream",
     "text": [
      "전략 시그널 생성:  76%|███████▌  | 76/100 [00:11<00:03,  6.77it/s]"
     ]
    },
    {
     "name": "stdout",
     "output_type": "stream",
     "text": [
      "   - 데이터 기간: 2021-08-17 00:00:00 ~ 2025-09-14 00:00:00 (1490일)\n",
      "   - 생성된 전략 시그널: 41개\n",
      "전략 시그널 생성: STORJ\n",
      "   - 데이터 기간: 2017-11-09 00:00:00 ~ 2025-09-14 00:00:00 (2867일)\n"
     ]
    },
    {
     "name": "stderr",
     "output_type": "stream",
     "text": [
      "전략 시그널 생성:  78%|███████▊  | 78/100 [00:12<00:03,  6.26it/s]"
     ]
    },
    {
     "name": "stdout",
     "output_type": "stream",
     "text": [
      "   - 생성된 전략 시그널: 41개\n",
      "전략 시그널 생성: STX4847\n",
      "   - 데이터 기간: 2019-10-29 00:00:00 ~ 2025-09-14 00:00:00 (2148일)\n",
      "   - 생성된 전략 시그널: 41개\n",
      "전략 시그널 생성: SUI20947\n",
      "   - 데이터 기간: 2023-05-03 00:00:00 ~ 2025-09-14 00:00:00 (866일)\n"
     ]
    },
    {
     "name": "stderr",
     "output_type": "stream",
     "text": [
      "전략 시그널 생성:  80%|████████  | 80/100 [00:12<00:02,  7.04it/s]"
     ]
    },
    {
     "name": "stdout",
     "output_type": "stream",
     "text": [
      "   - 생성된 전략 시그널: 41개\n",
      "전략 시그널 생성: SUSHI\n",
      "   - 데이터 기간: 2020-08-28 00:00:00 ~ 2025-09-14 00:00:00 (1844일)\n",
      "   - 생성된 전략 시그널: 41개\n",
      "전략 시그널 생성: THETA\n"
     ]
    },
    {
     "name": "stderr",
     "output_type": "stream",
     "text": [
      "전략 시그널 생성:  82%|████████▏ | 82/100 [00:12<00:02,  7.03it/s]"
     ]
    },
    {
     "name": "stdout",
     "output_type": "stream",
     "text": [
      "   - 데이터 기간: 2018-01-17 00:00:00 ~ 2025-09-14 00:00:00 (2798일)\n",
      "   - 생성된 전략 시그널: 41개\n",
      "전략 시그널 생성: TON11419\n",
      "   - 데이터 기간: 2021-08-27 00:00:00 ~ 2025-09-14 00:00:00 (1480일)\n",
      "   - 생성된 전략 시그널: 41개\n",
      "전략 시그널 생성: TORN\n"
     ]
    },
    {
     "name": "stderr",
     "output_type": "stream",
     "text": [
      "전략 시그널 생성:  83%|████████▎ | 83/100 [00:12<00:02,  7.00it/s]"
     ]
    },
    {
     "name": "stdout",
     "output_type": "stream",
     "text": [
      "   - 데이터 기간: 2021-02-09 00:00:00 ~ 2025-09-14 00:00:00 (1679일)\n",
      "   - 생성된 전략 시그널: 41개\n",
      "전략 시그널 생성: TRAC\n",
      "   - 데이터 기간: 2018-01-25 00:00:00 ~ 2025-09-14 00:00:00 (2790일)\n"
     ]
    },
    {
     "name": "stderr",
     "output_type": "stream",
     "text": [
      "전략 시그널 생성:  85%|████████▌ | 85/100 [00:13<00:02,  6.07it/s]"
     ]
    },
    {
     "name": "stdout",
     "output_type": "stream",
     "text": [
      "   - 생성된 전략 시그널: 41개\n",
      "전략 시그널 생성: TRX\n",
      "   - 데이터 기간: 2017-11-09 00:00:00 ~ 2025-09-14 00:00:00 (2867일)\n",
      "   - 생성된 전략 시그널: 41개\n",
      "전략 시그널 생성: UMA\n"
     ]
    },
    {
     "name": "stderr",
     "output_type": "stream",
     "text": [
      "전략 시그널 생성:  86%|████████▌ | 86/100 [00:13<00:02,  5.91it/s]"
     ]
    },
    {
     "name": "stdout",
     "output_type": "stream",
     "text": [
      "   - 데이터 기간: 2020-05-25 00:00:00 ~ 2025-09-14 00:00:00 (1939일)\n",
      "   - 생성된 전략 시그널: 41개\n",
      "전략 시그널 생성: UNI7083\n",
      "   - 데이터 기간: 2020-09-18 00:00:00 ~ 2025-09-14 00:00:00 (1823일)\n"
     ]
    },
    {
     "name": "stderr",
     "output_type": "stream",
     "text": [
      "전략 시그널 생성:  88%|████████▊ | 88/100 [00:13<00:01,  6.14it/s]"
     ]
    },
    {
     "name": "stdout",
     "output_type": "stream",
     "text": [
      "   - 생성된 전략 시그널: 41개\n",
      "전략 시그널 생성: USDC\n",
      "   - 데이터 기간: 2018-10-08 00:00:00 ~ 2025-09-14 00:00:00 (2534일)\n",
      "   - 생성된 전략 시그널: 41개\n",
      "전략 시그널 생성: USDT\n"
     ]
    },
    {
     "name": "stderr",
     "output_type": "stream",
     "text": [
      "전략 시그널 생성:  89%|████████▉ | 89/100 [00:13<00:01,  6.07it/s]"
     ]
    },
    {
     "name": "stdout",
     "output_type": "stream",
     "text": [
      "   - 데이터 기간: 2017-11-09 00:00:00 ~ 2025-09-14 00:00:00 (2867일)\n",
      "   - 생성된 전략 시그널: 41개\n",
      "전략 시그널 생성: VET\n",
      "   - 데이터 기간: 2018-08-03 00:00:00 ~ 2025-09-14 00:00:00 (2600일)\n"
     ]
    },
    {
     "name": "stderr",
     "output_type": "stream",
     "text": [
      "전략 시그널 생성:  91%|█████████ | 91/100 [00:14<00:01,  5.75it/s]"
     ]
    },
    {
     "name": "stdout",
     "output_type": "stream",
     "text": [
      "   - 생성된 전략 시그널: 41개\n",
      "전략 시그널 생성: WAVES\n",
      "   - 데이터 기간: 2017-11-09 00:00:00 ~ 2025-09-14 00:00:00 (2867일)\n",
      "   - 생성된 전략 시그널: 41개\n",
      "전략 시그널 생성: XLM\n"
     ]
    },
    {
     "name": "stderr",
     "output_type": "stream",
     "text": [
      "전략 시그널 생성:  92%|█████████▏| 92/100 [00:14<00:01,  5.56it/s]"
     ]
    },
    {
     "name": "stdout",
     "output_type": "stream",
     "text": [
      "   - 데이터 기간: 2017-11-09 00:00:00 ~ 2025-09-14 00:00:00 (2867일)\n",
      "   - 생성된 전략 시그널: 41개\n",
      "전략 시그널 생성: XMR\n",
      "   - 데이터 기간: 2017-11-09 00:00:00 ~ 2025-09-14 00:00:00 (2867일)\n"
     ]
    },
    {
     "name": "stderr",
     "output_type": "stream",
     "text": [
      "전략 시그널 생성:  94%|█████████▍| 94/100 [00:14<00:01,  5.61it/s]"
     ]
    },
    {
     "name": "stdout",
     "output_type": "stream",
     "text": [
      "   - 생성된 전략 시그널: 41개\n",
      "전략 시그널 생성: XRP\n",
      "   - 데이터 기간: 2017-11-09 00:00:00 ~ 2025-09-14 00:00:00 (2867일)\n",
      "   - 생성된 전략 시그널: 41개\n",
      "전략 시그널 생성: XTZ\n"
     ]
    },
    {
     "name": "stderr",
     "output_type": "stream",
     "text": [
      "전략 시그널 생성:  96%|█████████▌| 96/100 [00:15<00:00,  5.75it/s]"
     ]
    },
    {
     "name": "stdout",
     "output_type": "stream",
     "text": [
      "   - 데이터 기간: 2017-11-09 00:00:00 ~ 2025-09-14 00:00:00 (2867일)\n",
      "   - 생성된 전략 시그널: 41개\n",
      "전략 시그널 생성: XYO\n",
      "   - 데이터 기간: 2018-05-22 00:00:00 ~ 2025-09-14 00:00:00 (2673일)\n",
      "   - 생성된 전략 시그널: 41개\n"
     ]
    },
    {
     "name": "stderr",
     "output_type": "stream",
     "text": [
      "전략 시그널 생성:  97%|█████████▋| 97/100 [00:15<00:00,  6.14it/s]"
     ]
    },
    {
     "name": "stdout",
     "output_type": "stream",
     "text": [
      "전략 시그널 생성: YFI\n",
      "   - 데이터 기간: 2020-07-20 00:00:00 ~ 2025-09-14 00:00:00 (1883일)\n",
      "   - 생성된 전략 시그널: 41개\n",
      "전략 시그널 생성: ZEC\n"
     ]
    },
    {
     "name": "stderr",
     "output_type": "stream",
     "text": [
      "전략 시그널 생성:  98%|█████████▊| 98/100 [00:15<00:00,  5.87it/s]"
     ]
    },
    {
     "name": "stdout",
     "output_type": "stream",
     "text": [
      "   - 데이터 기간: 2017-11-09 00:00:00 ~ 2025-09-14 00:00:00 (2867일)\n",
      "   - 생성된 전략 시그널: 41개\n",
      "전략 시그널 생성: ZIL\n",
      "   - 데이터 기간: 2018-01-25 00:00:00 ~ 2025-09-14 00:00:00 (2790일)\n"
     ]
    },
    {
     "name": "stderr",
     "output_type": "stream",
     "text": [
      "전략 시그널 생성: 100%|██████████| 100/100 [00:15<00:00,  6.30it/s]\n"
     ]
    },
    {
     "name": "stdout",
     "output_type": "stream",
     "text": [
      "   - 생성된 전략 시그널: 41개\n",
      "전략 시그널 생성: ZRX\n",
      "   - 데이터 기간: 2017-11-09 00:00:00 ~ 2025-09-14 00:00:00 (2867일)\n",
      "   - 생성된 전략 시그널: 41개\n",
      "==================================================\n",
      "✅ 성공: 100개\n",
      "❌ 실패: 0개\n",
      "💾 전략 시그널 데이터 저장 중...\n"
     ]
    },
    {
     "name": "stderr",
     "output_type": "stream",
     "text": [
      "저장: 100%|██████████| 100/100 [00:47<00:00,  2.12it/s]\n"
     ]
    },
    {
     "name": "stdout",
     "output_type": "stream",
     "text": [
      "🤖 머신러닝용 데이터셋 생성 중...\n",
      "🤖 머신러닝 데이터셋 저장 완료: 220052행, 47개 특성\n",
      "   📊 타겟 분포 - SELL(0): 70207, HOLD(1): 82407, BUY(2): 67438\n",
      "   🔍 검증 샘플:\n",
      "      - 현재가: 0.62\n",
      "      - 미래 수익률: -0.80%\n",
      "      - 타겟 라벨: 1 (HOLD)\n",
      "✅ 전략 시그널 데이터 저장 완료!\n",
      "📁 저장 위치: /workspace/AI모델/projects/coin/data/final/with_strategies/\n",
      "✅ 저장 완료: 100개\n",
      "\n",
      "📊 생성된 퀀트 전략 시그널 요약 (1INCH 기준)\n",
      "==================================================\n",
      "이동평균 전략: 4개\n",
      "  - MA_Cross_3_25_Signal: BUY 3.2%, HOLD 93.5%, SELL 3.2%\n",
      "  - MA_Trend_Signal: BUY 19.6%, HOLD 38.2%, SELL 42.2%\n",
      "  - EMA_Cross_5_20_Signal: BUY 2.3%, HOLD 95.4%, SELL 2.3%\n",
      "  - EMA_Cross_6_24_Signal: BUY 1.9%, HOLD 96.2%, SELL 1.9%\n",
      "\n",
      "MACD 전략: 6개\n",
      "  - MACD_Signal: BUY 0.0%, HOLD 0.0%, SELL 0.0%\n",
      "  - MACD_10_20_Signal: BUY 1.6%, HOLD 96.8%, SELL 1.6%\n",
      "  - MACD_15_26_Signal: BUY 1.3%, HOLD 97.3%, SELL 1.3%\n",
      "  - MACD_5_27_Signal: BUY 1.9%, HOLD 96.2%, SELL 1.9%\n",
      "  - MACD_Zero_Cross_Signal: BUY 1.4%, HOLD 97.1%, SELL 1.4%\n",
      "  - MACD_Signal_Cross: BUY 3.3%, HOLD 93.4%, SELL 3.3%\n",
      "\n",
      "RSI 전략: 8개\n",
      "  - RSI_Reversal_Signal: BUY 3.9%, HOLD 92.6%, SELL 3.5%\n",
      "  - RSI_Extreme_Signal: BUY 1.6%, HOLD 97.2%, SELL 1.2%\n",
      "  - RSI_Reverse_Signal: BUY 2.8%, HOLD 93.4%, SELL 3.8%\n",
      "  - RSI_20_75_Signal: BUY 0.6%, HOLD 98.3%, SELL 1.2%\n",
      "  - RSI_22_78_Signal: BUY 1.0%, HOLD 98.2%, SELL 0.8%\n",
      "  - RSI_30_65_Signal: BUY 13.2%, HOLD 74.6%, SELL 12.2%\n",
      "  - RSI_12_50_Signal: BUY 0.7%, HOLD 93.3%, SELL 6.0%\n",
      "  - Stoch_RSI_Combo_Signal: BUY 2.0%, HOLD 94.1%, SELL 3.8%\n",
      "\n",
      "오실레이터 전략: 6개\n",
      "  - Williams_CCI_Signal: BUY 0.7%, HOLD 95.5%, SELL 3.8%\n",
      "  - CCI_Oversold_Signal: BUY 5.6%, HOLD 90.3%, SELL 4.1%\n",
      "  - CCI_3_Signal: BUY 0.0%, HOLD 100.0%, SELL 0.0%\n",
      "  - Stoch_RSI_Combo_Signal: BUY 2.0%, HOLD 94.1%, SELL 3.8%\n",
      "  - Stoch_10_72_Signal: BUY 8.4%, HOLD 76.6%, SELL 15.0%\n",
      "  - Stoch_71_31_Signal: BUY 22.1%, HOLD 55.0%, SELL 22.9%\n",
      "\n",
      "가격패턴 전략: 4개\n",
      "  - Candlestick_Signal: BUY 18.4%, HOLD 44.5%, SELL 37.2%\n",
      "  - Formula3_Signal: BUY 13.6%, HOLD 37.9%, SELL 48.5%\n",
      "  - Shadow_Analysis_Signal: BUY 37.6%, HOLD 31.8%, SELL 30.6%\n",
      "  - Pivot_Strategy_Signal: BUY 18.6%, HOLD 62.4%, SELL 19.1%\n",
      "\n",
      "거래량 전략: 4개\n",
      "  - MFI_Strategy_Signal: BUY 1.0%, HOLD 97.4%, SELL 1.6%\n",
      "  - MFI_25_50_Signal: BUY 2.4%, HOLD 91.9%, SELL 5.6%\n",
      "  - MFI_Extreme_Signal: BUY 1.6%, HOLD 95.4%, SELL 3.0%\n",
      "  - Volume_Breakout_Signal: BUY 3.4%, HOLD 92.5%, SELL 4.1%\n",
      "\n",
      "모멘텀 전략: 3개\n",
      "  - Momentum_Signal: BUY 5.3%, HOLD 88.6%, SELL 6.1%\n",
      "  - Price_ROC_3_Signal: BUY 13.5%, HOLD 73.0%, SELL 13.5%\n",
      "  - Volatility_Signal: BUY 26.8%, HOLD 42.4%, SELL 30.8%\n",
      "\n",
      "복합 전략: 2개\n",
      "  - Composite_Signal_Avg: BUY 0.0%, HOLD 0.3%, SELL 0.0%\n",
      "  - Final_Composite_Signal: BUY 22.4%, HOLD 31.1%, SELL 46.6%\n",
      "\n",
      "총 전략 시그널: 41개\n",
      "처리된 코인 수: 100개\n",
      "\n",
      "\n",
      "🎉 퀀트 전략 시그널 생성 완료!\n",
      "📊 처리된 코인: 100개\n",
      "\n",
      "📋 샘플 데이터 (1INCH):\n",
      "   - 데이터 기간: 2020-12-25 00:00:00 ~ 2025-09-14 00:00:00\n",
      "   - 총 컬럼 수: 178\n",
      "   - 전략 시그널 수: 41\n",
      "\n",
      "📊 최근 5일 주요 시그널:\n",
      "             Close  Final_Composite_Signal  Buy_Signal_Count  \\\n",
      "Date                                                           \n",
      "2025-09-10  0.2599                       2                 4   \n",
      "2025-09-11  0.2668                       2                 4   \n",
      "2025-09-12  0.2722                       2                 4   \n",
      "2025-09-13  0.2737                       0                 1   \n",
      "2025-09-14  0.2639                       0                 3   \n",
      "\n",
      "            Sell_Signal_Count  Net_Signal_Score  \n",
      "Date                                             \n",
      "2025-09-10                  2                 2  \n",
      "2025-09-11                  2                 2  \n",
      "2025-09-12                  1                 3  \n",
      "2025-09-13                  3                -2  \n",
      "2025-09-14                  7                -4  \n",
      "\n",
      "💡 머신러닝 데이터셋도 생성되었습니다!\n",
      "   파일: /final/ml_dataset_with_strategies.csv\n"
     ]
    }
   ],
   "source": [
    "\n",
    "\n",
    "# 사용 예시\n",
    "if __name__ == \"__main__\":\n",
    "    # 퀀트 전략 시그널 생성기 인스턴스 생성\n",
    "    strategy_generator = QuantStrategySignals(\n",
    "        input_folder=\"/workspace/AI모델/projects/coin/data/processed/with_indicators\",\n",
    "        output_folder=\"/workspace/AI모델/projects/coin/data/final\"\n",
    "    )\n",
    "    \n",
    "    # 전략 분석 실행\n",
    "    processed_data = strategy_generator.run_strategy_analysis()\n",
    "    \n",
    "    # 결과 확인\n",
    "    if processed_data:\n",
    "        print(f\"\\n🎉 퀀트 전략 시그널 생성 완료!\")\n",
    "        print(f\"📊 처리된 코인: {len(processed_data)}개\")\n",
    "        \n",
    "        # 샘플 데이터 미리보기\n",
    "        sample_symbol = list(processed_data.keys())[0]\n",
    "        sample_df = processed_data[sample_symbol]\n",
    "        \n",
    "        # 전략 시그널 컬럼들\n",
    "        signal_columns = [col for col in sample_df.columns if '_Signal' in col]\n",
    "        \n",
    "        print(f\"\\n📋 샘플 데이터 ({sample_symbol}):\")\n",
    "        print(f\"   - 데이터 기간: {sample_df.index[0]} ~ {sample_df.index[-1]}\")\n",
    "        print(f\"   - 총 컬럼 수: {len(sample_df.columns)}\")\n",
    "        print(f\"   - 전략 시그널 수: {len(signal_columns)}\")\n",
    "        \n",
    "        print(f\"\\n📊 최근 5일 주요 시그널:\")\n",
    "        display_columns = ['Close', 'Final_Composite_Signal', 'Buy_Signal_Count', 'Sell_Signal_Count', 'Net_Signal_Score']\n",
    "        available_display = [col for col in display_columns if col in sample_df.columns]\n",
    "        \n",
    "        if available_display:\n",
    "            print(sample_df.tail(5)[available_display].round(4))\n",
    "        \n",
    "        print(f\"\\n💡 머신러닝 데이터셋도 생성되었습니다!\")\n",
    "        print(f\"   파일: /final/ml_dataset_with_strategies.csv\")"
   ]
  },
  {
   "cell_type": "code",
   "execution_count": null,
   "id": "65914842",
   "metadata": {},
   "outputs": [],
   "source": []
  }
 ],
 "metadata": {
  "kernelspec": {
   "display_name": "base",
   "language": "python",
   "name": "python3"
  },
  "language_info": {
   "codemirror_mode": {
    "name": "ipython",
    "version": 3
   },
   "file_extension": ".py",
   "mimetype": "text/x-python",
   "name": "python",
   "nbconvert_exporter": "python",
   "pygments_lexer": "ipython3",
   "version": "3.10.11"
  }
 },
 "nbformat": 4,
 "nbformat_minor": 5
}
