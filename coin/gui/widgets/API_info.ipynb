{
 "cells": [
  {
   "cell_type": "markdown",
   "id": "f1e9270d",
   "metadata": {},
   "source": [
    "# API 호출주기 정보"
   ]
  },
  {
   "cell_type": "markdown",
   "id": "4b63c92f",
   "metadata": {},
   "source": [
    "- 계좌정보: 5초, account_widget.py, get_account_info()\n",
    "\n",
    "- 포지션: 10초, position_widget.py, get_positions()\n",
    "\n",
    "- 호가창(호가): 2초, orderbook_widget.py, get_orderbook()\n",
    "\n",
    "- 호가창(티커): 5초, orderbook_widget.py, get_ticker()\n",
    "\n",
    "- 주문대기열: 5초, order_queue_widget.py, get_open_orders()\n",
    "\n",
    "- 거래위젯: 30초, trading_widget.py, get_ticker()"
   ]
  }
 ],
 "metadata": {
  "language_info": {
   "name": "python"
  }
 },
 "nbformat": 4,
 "nbformat_minor": 5
}
